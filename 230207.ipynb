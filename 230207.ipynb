{
 "cells": [
  {
   "cell_type": "code",
   "execution_count": 1,
   "id": "a7f9ff1e",
   "metadata": {},
   "outputs": [],
   "source": [
    "import numpy as np\n",
    "\n",
    "from sklearn.model_selection import train_test_split\n",
    "from sklearn import datasets"
   ]
  },
  {
   "cell_type": "code",
   "execution_count": 2,
   "id": "7fd0eaf0",
   "metadata": {},
   "outputs": [
    {
     "data": {
      "text/plain": [
       "((150, 4), (150,))"
      ]
     },
     "execution_count": 2,
     "metadata": {},
     "output_type": "execute_result"
    }
   ],
   "source": [
    "iris = datasets.load_iris()\n",
    "X = iris.data\n",
    "y = iris.target\n",
    "\n",
    "X.shape, y.shape"
   ]
  },
  {
   "cell_type": "code",
   "execution_count": 3,
   "id": "3ef60715",
   "metadata": {},
   "outputs": [],
   "source": [
    "X_tr, X_te, y_tr, y_te = train_test_split(X, y, test_size = 0.4, random_state=0)"
   ]
  },
  {
   "cell_type": "code",
   "execution_count": 5,
   "id": "297234b4",
   "metadata": {},
   "outputs": [
    {
     "data": {
      "text/plain": [
       "((90, 4), (60, 4), (90,), (60,))"
      ]
     },
     "execution_count": 5,
     "metadata": {},
     "output_type": "execute_result"
    }
   ],
   "source": [
    "X_tr.shape, X_te.shape, y_tr.shape, y_te.shape"
   ]
  },
  {
   "cell_type": "code",
   "execution_count": 6,
   "id": "866f996f",
   "metadata": {},
   "outputs": [],
   "source": [
    "from sklearn import svm"
   ]
  },
  {
   "cell_type": "code",
   "execution_count": 7,
   "id": "d47bddae",
   "metadata": {},
   "outputs": [
    {
     "data": {
      "text/html": [
       "<style>#sk-container-id-1 {color: black;background-color: white;}#sk-container-id-1 pre{padding: 0;}#sk-container-id-1 div.sk-toggleable {background-color: white;}#sk-container-id-1 label.sk-toggleable__label {cursor: pointer;display: block;width: 100%;margin-bottom: 0;padding: 0.3em;box-sizing: border-box;text-align: center;}#sk-container-id-1 label.sk-toggleable__label-arrow:before {content: \"▸\";float: left;margin-right: 0.25em;color: #696969;}#sk-container-id-1 label.sk-toggleable__label-arrow:hover:before {color: black;}#sk-container-id-1 div.sk-estimator:hover label.sk-toggleable__label-arrow:before {color: black;}#sk-container-id-1 div.sk-toggleable__content {max-height: 0;max-width: 0;overflow: hidden;text-align: left;background-color: #f0f8ff;}#sk-container-id-1 div.sk-toggleable__content pre {margin: 0.2em;color: black;border-radius: 0.25em;background-color: #f0f8ff;}#sk-container-id-1 input.sk-toggleable__control:checked~div.sk-toggleable__content {max-height: 200px;max-width: 100%;overflow: auto;}#sk-container-id-1 input.sk-toggleable__control:checked~label.sk-toggleable__label-arrow:before {content: \"▾\";}#sk-container-id-1 div.sk-estimator input.sk-toggleable__control:checked~label.sk-toggleable__label {background-color: #d4ebff;}#sk-container-id-1 div.sk-label input.sk-toggleable__control:checked~label.sk-toggleable__label {background-color: #d4ebff;}#sk-container-id-1 input.sk-hidden--visually {border: 0;clip: rect(1px 1px 1px 1px);clip: rect(1px, 1px, 1px, 1px);height: 1px;margin: -1px;overflow: hidden;padding: 0;position: absolute;width: 1px;}#sk-container-id-1 div.sk-estimator {font-family: monospace;background-color: #f0f8ff;border: 1px dotted black;border-radius: 0.25em;box-sizing: border-box;margin-bottom: 0.5em;}#sk-container-id-1 div.sk-estimator:hover {background-color: #d4ebff;}#sk-container-id-1 div.sk-parallel-item::after {content: \"\";width: 100%;border-bottom: 1px solid gray;flex-grow: 1;}#sk-container-id-1 div.sk-label:hover label.sk-toggleable__label {background-color: #d4ebff;}#sk-container-id-1 div.sk-serial::before {content: \"\";position: absolute;border-left: 1px solid gray;box-sizing: border-box;top: 0;bottom: 0;left: 50%;z-index: 0;}#sk-container-id-1 div.sk-serial {display: flex;flex-direction: column;align-items: center;background-color: white;padding-right: 0.2em;padding-left: 0.2em;position: relative;}#sk-container-id-1 div.sk-item {position: relative;z-index: 1;}#sk-container-id-1 div.sk-parallel {display: flex;align-items: stretch;justify-content: center;background-color: white;position: relative;}#sk-container-id-1 div.sk-item::before, #sk-container-id-1 div.sk-parallel-item::before {content: \"\";position: absolute;border-left: 1px solid gray;box-sizing: border-box;top: 0;bottom: 0;left: 50%;z-index: -1;}#sk-container-id-1 div.sk-parallel-item {display: flex;flex-direction: column;z-index: 1;position: relative;background-color: white;}#sk-container-id-1 div.sk-parallel-item:first-child::after {align-self: flex-end;width: 50%;}#sk-container-id-1 div.sk-parallel-item:last-child::after {align-self: flex-start;width: 50%;}#sk-container-id-1 div.sk-parallel-item:only-child::after {width: 0;}#sk-container-id-1 div.sk-dashed-wrapped {border: 1px dashed gray;margin: 0 0.4em 0.5em 0.4em;box-sizing: border-box;padding-bottom: 0.4em;background-color: white;}#sk-container-id-1 div.sk-label label {font-family: monospace;font-weight: bold;display: inline-block;line-height: 1.2em;}#sk-container-id-1 div.sk-label-container {text-align: center;}#sk-container-id-1 div.sk-container {/* jupyter's `normalize.less` sets `[hidden] { display: none; }` but bootstrap.min.css set `[hidden] { display: none !important; }` so we also need the `!important` here to be able to override the default hidden behavior on the sphinx rendered scikit-learn.org. See: https://github.com/scikit-learn/scikit-learn/issues/21755 */display: inline-block !important;position: relative;}#sk-container-id-1 div.sk-text-repr-fallback {display: none;}</style><div id=\"sk-container-id-1\" class=\"sk-top-container\"><div class=\"sk-text-repr-fallback\"><pre>SVC(C=1, kernel=&#x27;linear&#x27;)</pre><b>In a Jupyter environment, please rerun this cell to show the HTML representation or trust the notebook. <br />On GitHub, the HTML representation is unable to render, please try loading this page with nbviewer.org.</b></div><div class=\"sk-container\" hidden><div class=\"sk-item\"><div class=\"sk-estimator sk-toggleable\"><input class=\"sk-toggleable__control sk-hidden--visually\" id=\"sk-estimator-id-1\" type=\"checkbox\" checked><label for=\"sk-estimator-id-1\" class=\"sk-toggleable__label sk-toggleable__label-arrow\">SVC</label><div class=\"sk-toggleable__content\"><pre>SVC(C=1, kernel=&#x27;linear&#x27;)</pre></div></div></div></div></div>"
      ],
      "text/plain": [
       "SVC(C=1, kernel='linear')"
      ]
     },
     "execution_count": 7,
     "metadata": {},
     "output_type": "execute_result"
    }
   ],
   "source": [
    "clf = svm.SVC(kernel='linear', C=1)\n",
    "clf.fit(X_tr, y_tr)"
   ]
  },
  {
   "cell_type": "code",
   "execution_count": 8,
   "id": "a3938a3b",
   "metadata": {},
   "outputs": [
    {
     "data": {
      "text/plain": [
       "0.9666666666666667"
      ]
     },
     "execution_count": 8,
     "metadata": {},
     "output_type": "execute_result"
    }
   ],
   "source": [
    "clf.score(X_te, y_te)"
   ]
  },
  {
   "cell_type": "markdown",
   "id": "4c0adfbd",
   "metadata": {},
   "source": [
    "==="
   ]
  },
  {
   "cell_type": "code",
   "execution_count": 9,
   "id": "4d442673",
   "metadata": {},
   "outputs": [],
   "source": [
    "from sklearn.model_selection import KFold\n",
    "from sklearn.metrics import accuracy_score"
   ]
  },
  {
   "cell_type": "code",
   "execution_count": 10,
   "id": "c37d90ad",
   "metadata": {},
   "outputs": [],
   "source": [
    "# 모델 정의\n",
    "clf = svm.SVC(kernel='linear', C=1)"
   ]
  },
  {
   "cell_type": "code",
   "execution_count": 11,
   "id": "da5f4fe0",
   "metadata": {},
   "outputs": [],
   "source": [
    "# 교차 검증\n",
    "kf = KFold(n_splits=5, shuffle=True, random_state=0)"
   ]
  },
  {
   "cell_type": "code",
   "execution_count": 36,
   "id": "54f2325e",
   "metadata": {},
   "outputs": [
    {
     "name": "stdout",
     "output_type": "stream",
     "text": [
      "X_tr counts : 90\n",
      "train_index = [ 0  1  3  4  5  6  9 10 11 12 14 15 17 18 19 20 21 22 23 25 27 28 29 31\n",
      " 32 34 35 36 37 38 39 40 42 44 46 47 48 49 50 51 52 54 55 57 58 59 60 61\n",
      " 62 64 65 67 68 69 70 71 72 73 74 75 76 77 79 80 81 82 83 84 85 86 87 88]\n",
      "valid_index = [ 2  7  8 13 16 24 26 30 33 41 43 45 53 56 63 66 78 89]\n"
     ]
    }
   ],
   "source": [
    "print(f\"X_tr counts : {len(X_tr)}\")\n",
    "\n",
    "for train_index, valid_index in kf.split(X_tr):\n",
    "    print(f\"train_index = {train_index}\")\n",
    "    print(f\"valid_index = {valid_index}\")\n",
    "    break"
   ]
  },
  {
   "cell_type": "code",
   "execution_count": 35,
   "id": "04c85550",
   "metadata": {},
   "outputs": [
    {
     "name": "stdout",
     "output_type": "stream",
     "text": [
      "[ 0  1  3  4  5  6  9 10 11 12 14 15 17 18 19 20 21 22 23 25 27 28 29 31\n",
      " 32 34 35 36 37 38 39 40 42 44 46 47 48 49 50 51 52 54 55 57 58 59 60 61\n",
      " 62 64 65 67 68 69 70 71 72 73 74 75 76 77 79 80 81 82 83 84 85 86 87 88] [ 2  7  8 13 16 24 26 30 33 41 43 45 53 56 63 66 78 89]\n",
      "1 번째 K-fold 정확도: 1.0, 학습데이터 크기: (72, 4), 검증데이터 크기: (18, 4)\n",
      "[ 0  1  2  4  5  7  8  9 10 11 12 13 14 15 16 17 19 20 21 23 24 25 26 28\n",
      " 29 30 31 32 33 34 35 36 37 38 39 40 41 43 44 45 46 47 49 52 53 55 56 57\n",
      " 58 59 60 63 64 65 66 67 68 69 70 71 72 74 76 78 81 83 84 85 86 87 88 89] [ 3  6 18 22 27 42 48 50 51 54 61 62 73 75 77 79 80 82]\n",
      "2 번째 K-fold 정확도: 0.9444, 학습데이터 크기: (72, 4), 검증데이터 크기: (18, 4)\n",
      "[ 1  2  3  6  7  8  9 10 12 13 14 16 18 19 20 21 22 24 25 26 27 29 30 31\n",
      " 32 33 36 37 39 41 42 43 44 45 46 47 48 49 50 51 53 54 56 57 58 60 61 62\n",
      " 63 64 65 66 67 69 70 71 72 73 75 76 77 78 79 80 82 83 84 85 86 87 88 89] [ 0  4  5 11 15 17 23 28 34 35 38 40 52 55 59 68 74 81]\n",
      "3 번째 K-fold 정확도: 0.9444, 학습데이터 크기: (72, 4), 검증데이터 크기: (18, 4)\n",
      "[ 0  2  3  4  5  6  7  8  9 11 12 13 15 16 17 18 21 22 23 24 25 26 27 28\n",
      " 30 33 34 35 36 37 38 39 40 41 42 43 44 45 46 47 48 50 51 52 53 54 55 56\n",
      " 58 59 61 62 63 64 65 66 67 68 70 72 73 74 75 77 78 79 80 81 82 83 86 89] [ 1 10 14 19 20 29 31 32 49 57 60 69 71 76 84 85 87 88]\n",
      "4 번째 K-fold 정확도: 1.0, 학습데이터 크기: (72, 4), 검증데이터 크기: (18, 4)\n",
      "[ 0  1  2  3  4  5  6  7  8 10 11 13 14 15 16 17 18 19 20 22 23 24 26 27\n",
      " 28 29 30 31 32 33 34 35 38 40 41 42 43 45 48 49 50 51 52 53 54 55 56 57\n",
      " 59 60 61 62 63 66 68 69 71 73 74 75 76 77 78 79 80 81 82 84 85 87 88 89] [ 9 12 21 25 36 37 39 44 46 47 58 64 65 67 70 72 83 86]\n",
      "5 번째 K-fold 정확도: 1.0, 학습데이터 크기: (72, 4), 검증데이터 크기: (18, 4)\n",
      "--------------------------------------------------\n",
      "교차 검증 정확도: 0.97776 / 모델 평가: 0.9666666666666667\n"
     ]
    }
   ],
   "source": [
    "n_iter = 0\n",
    "accuracy_lst = []\n",
    "\n",
    "for train_index, valid_index in kf.split(X_tr):\n",
    "    print(train_index, valid_index)\n",
    "    n_iter += 1\n",
    "    # 학습용, 검증용 데이터 구성\n",
    "    train_x, valid_x = X_tr[train_index], X_tr[valid_index]\n",
    "    train_y, valid_y = y_tr[train_index], y_tr[valid_index]\n",
    "    # 학습\n",
    "    clf.fit(train_x, train_y)\n",
    "    # 예측\n",
    "    pred = clf.predict(valid_x)\n",
    "    # 평가\n",
    "    accuracy = np.round(accuracy_score(valid_y, pred), 4)\n",
    "    accuracy_lst.append(accuracy)\n",
    "    print(f'{n_iter} 번째 K-fold 정확도: {accuracy}, 학습데이터 크기: {train_x.shape}, 검증데이터 크기: {valid_x.shape}')\n",
    "\n",
    "# 최종 평가\n",
    "print('-'*50)\n",
    "print(f'교차 검증 정확도: {np.mean(accuracy_lst)} / 모델 평가: {clf.score(X_te, y_te)}')"
   ]
  },
  {
   "cell_type": "code",
   "execution_count": 37,
   "id": "1b4cc2f3",
   "metadata": {},
   "outputs": [],
   "source": [
    "from sklearn.model_selection import StratifiedKFold\n",
    "\n",
    "import pandas as pd"
   ]
  },
  {
   "cell_type": "code",
   "execution_count": 39,
   "id": "65f7a2f2",
   "metadata": {},
   "outputs": [
    {
     "data": {
      "text/plain": [
       "(90, 5)"
      ]
     },
     "execution_count": 39,
     "metadata": {},
     "output_type": "execute_result"
    }
   ],
   "source": [
    "df_train = pd.DataFrame(data=X_tr, columns=iris.feature_names)\n",
    "df_train['label'] = y_tr\n",
    "df_train.shape "
   ]
  },
  {
   "cell_type": "code",
   "execution_count": 40,
   "id": "d58edb9b",
   "metadata": {},
   "outputs": [],
   "source": [
    "# 모델 정의\n",
    "clf = svm.SVC(kernel='linear', C=1)"
   ]
  },
  {
   "cell_type": "code",
   "execution_count": 41,
   "id": "860609d6",
   "metadata": {},
   "outputs": [],
   "source": [
    "# 교차 검증\n",
    "skf = StratifiedKFold(n_splits=5, shuffle=True, random_state=0)"
   ]
  },
  {
   "cell_type": "code",
   "execution_count": 44,
   "id": "bb0fe7ed",
   "metadata": {},
   "outputs": [
    {
     "name": "stdout",
     "output_type": "stream",
     "text": [
      "1 번째 Stratified Stratified K-Fold 정확도: 1.0, 학습데이터 label 분포: 0    27\n",
      "2    24\n",
      "1    21\n",
      "Name: label, dtype: int64, 검증데이터 label 분포: 0    7\n",
      "1    6\n",
      "2    5\n",
      "Name: label, dtype: int64\n",
      "2 번째 Stratified Stratified K-Fold 정확도: 1.0, 학습데이터 label 분포: 0    28\n",
      "2    23\n",
      "1    21\n",
      "Name: label, dtype: int64, 검증데이터 label 분포: 1    6\n",
      "0    6\n",
      "2    6\n",
      "Name: label, dtype: int64\n",
      "3 번째 Stratified Stratified K-Fold 정확도: 1.0, 학습데이터 label 분포: 0    27\n",
      "2    23\n",
      "1    22\n",
      "Name: label, dtype: int64, 검증데이터 label 분포: 0    7\n",
      "2    6\n",
      "1    5\n",
      "Name: label, dtype: int64\n",
      "4 번째 Stratified Stratified K-Fold 정확도: 0.9444, 학습데이터 label 분포: 0    27\n",
      "2    23\n",
      "1    22\n",
      "Name: label, dtype: int64, 검증데이터 label 분포: 0    7\n",
      "2    6\n",
      "1    5\n",
      "Name: label, dtype: int64\n",
      "5 번째 Stratified Stratified K-Fold 정확도: 1.0, 학습데이터 label 분포: 0    27\n",
      "2    23\n",
      "1    22\n",
      "Name: label, dtype: int64, 검증데이터 label 분포: 0    7\n",
      "2    6\n",
      "1    5\n",
      "Name: label, dtype: int64\n",
      "--------------------------------------------------\n",
      "교차 검증 정확도: 0.98888 / 모델 평가: 0.8833333333333333\n"
     ]
    }
   ],
   "source": [
    "n_iter = 0\n",
    "accuracy_lst = []\n",
    "\n",
    "for train_index, valid_index in skf.split(df_train, df_train['label']):\n",
    "    n_iter += 1\n",
    "    # 학습용, 검증용 데이터 구성\n",
    "    label_train = df_train['label'].iloc[train_index]\n",
    "    label_valid = df_train['label'].iloc[valid_index]\n",
    "\n",
    "    train_x, valid_x = X_tr[train_index], X_tr[valid_index]\n",
    "    train_y, valid_y = y_tr[train_index], y_tr[valid_index]\n",
    "    # 학습\n",
    "    clf.fit(train_x, train_y)\n",
    "    # 예측\n",
    "    pred = clf.predict(valid_x)\n",
    "    # 평가\n",
    "    accuracy = np.round(accuracy_score(valid_y, pred), 4)\n",
    "    accuracy_lst.append(accuracy)\n",
    "    print(f'{n_iter} 번째 Stratified Stratified K-Fold 정확도: {accuracy}, 학습데이터 label 분포: {label_train.value_counts()}, 검증데이터 label 분포: {label_valid.value_counts()}')\n",
    "\n",
    "# 최종 평가\n",
    "print('-'*50)\n",
    "print(f'교차 검증 정확도: {np.mean(accuracy_lst)} / 모델 평가: {clf.score(X_te, y_te)}')"
   ]
  },
  {
   "cell_type": "code",
   "execution_count": 45,
   "id": "1593bd42",
   "metadata": {},
   "outputs": [],
   "source": [
    "from sklearn.model_selection import cross_val_predict"
   ]
  },
  {
   "cell_type": "code",
   "execution_count": 47,
   "id": "ca465eb2",
   "metadata": {},
   "outputs": [
    {
     "name": "stdout",
     "output_type": "stream",
     "text": [
      "각 예측 결과과: \n",
      ":0     1\n",
      "1     0\n",
      "2     2\n",
      "3     1\n",
      "4     1\n",
      "     ..\n",
      "85    0\n",
      "86    2\n",
      "87    1\n",
      "88    2\n",
      "89    0\n",
      "Length: 90, dtype: int64\n"
     ]
    }
   ],
   "source": [
    "# 모델 정의\n",
    "clf = svm.SVC(kernel='linear', C=1)\n",
    "# 교차 검증\n",
    "predicts = cross_val_predict(clf, X_tr, y_tr, cv=5)\n",
    "print(f'각 예측 결과과: \\n:{pd.Series(predicts)}')"
   ]
  },
  {
   "cell_type": "code",
   "execution_count": 48,
   "id": "90548c83",
   "metadata": {},
   "outputs": [],
   "source": [
    "from sklearn.model_selection import cross_val_score"
   ]
  },
  {
   "cell_type": "code",
   "execution_count": 49,
   "id": "89ebc4de",
   "metadata": {},
   "outputs": [
    {
     "name": "stdout",
     "output_type": "stream",
     "text": [
      "각 검증 별 점수: \n",
      "0    1.000000\n",
      "1    1.000000\n",
      "2    1.000000\n",
      "3    1.000000\n",
      "4    0.944444\n",
      "dtype: float64\n",
      "교차 검증 평균 점수: 0.9888888888888889\n"
     ]
    }
   ],
   "source": [
    "# 모델 정의\n",
    "clf = svm.SVC(kernel='linear', C=1)\n",
    "# 교차 검증\n",
    "scores = cross_val_score(clf, X_tr, y_tr, scoring='accuracy', cv=5)\n",
    "print(f'각 검증 별 점수: \\n{pd.Series(scores)}')\n",
    "print(f'교차 검증 평균 점수: {np.mean(scores)}')"
   ]
  }
 ],
 "metadata": {
  "kernelspec": {
   "display_name": "Python 3 (ipykernel)",
   "language": "python",
   "name": "python3"
  },
  "language_info": {
   "codemirror_mode": {
    "name": "ipython",
    "version": 3
   },
   "file_extension": ".py",
   "mimetype": "text/x-python",
   "name": "python",
   "nbconvert_exporter": "python",
   "pygments_lexer": "ipython3",
   "version": "3.11.2"
  },
  "toc": {
   "base_numbering": 1,
   "nav_menu": {},
   "number_sections": true,
   "sideBar": true,
   "skip_h1_title": false,
   "title_cell": "Table of Contents",
   "title_sidebar": "Contents",
   "toc_cell": false,
   "toc_position": {},
   "toc_section_display": true,
   "toc_window_display": false
  }
 },
 "nbformat": 4,
 "nbformat_minor": 5
}
