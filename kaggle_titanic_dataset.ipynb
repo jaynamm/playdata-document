{
 "cells": [
  {
   "cell_type": "markdown",
   "id": "03a9d5f3",
   "metadata": {
    "heading_collapsed": true
   },
   "source": [
    "# Kaggle Titanic Dataset"
   ]
  },
  {
   "cell_type": "markdown",
   "id": "acf881ef",
   "metadata": {
    "heading_collapsed": true,
    "hidden": true
   },
   "source": [
    "## 데이터 세부사항 (Data Description)"
   ]
  },
  {
   "cell_type": "markdown",
   "id": "759070cb",
   "metadata": {
    "hidden": true
   },
   "source": [
    "passengerid: 탑승자 아이디  \n",
    "survived:0=사망, 1=생존  \n",
    "pclass: 1=1등석, 2=2등석, 3=3등석  \n",
    "name: 탑승자 이름  \n",
    "gender:male=남성, female=여성  \n",
    "age: 나이  \n",
    "sibsp: 타이타닉 호에 동승한 자매/배우자의 수  \n",
    "parch: 타이타닉 호에 동승한 부모/자식의 수  \n",
    "ticket: 티켓 번호  \n",
    "fare: 승객 요금  \n",
    "cabin: 방 호수  \n",
    "embarked: 탑승지; C=셰르부르, Q=퀴즈타운, S=사우샘프턴  "
   ]
  },
  {
   "cell_type": "markdown",
   "id": "0ef059c1",
   "metadata": {
    "heading_collapsed": true
   },
   "source": [
    "# 전역 변수 설정 (Global Variables)"
   ]
  },
  {
   "cell_type": "markdown",
   "id": "37e97b61",
   "metadata": {
    "heading_collapsed": true,
    "hidden": true
   },
   "source": [
    "## import library"
   ]
  },
  {
   "cell_type": "code",
   "execution_count": 25,
   "id": "66d8f5ab",
   "metadata": {
    "hidden": true
   },
   "outputs": [],
   "source": [
    "import pandas as pd\n",
    "import numpy as np\n",
    "\n",
    "import seaborn as sns\n",
    "import matplotlib.pyplot as plt\n",
    "\n",
    "plt.style.use('fivethirtyeight')\n",
    "plt.ion()\n",
    "\n",
    "import warnings\n",
    "warnings.filterwarnings('ignore')\n",
    "%matplotlib inline"
   ]
  },
  {
   "cell_type": "markdown",
   "id": "396dab06",
   "metadata": {
    "heading_collapsed": true,
    "hidden": true
   },
   "source": [
    "## path"
   ]
  },
  {
   "cell_type": "code",
   "execution_count": 5,
   "id": "ac413391",
   "metadata": {
    "hidden": true
   },
   "outputs": [],
   "source": [
    "import easydict\n",
    "import json\n",
    "args = easydict.EasyDict()\n",
    "\n",
    "# Dataset 기본 디렉토리 경로 설정\n",
    "args.default_path = '/Users/jhnam/workspace/playdata/encore21titanic/'\n",
    "\n",
    "# get train and test dataset path\n",
    "args.train_csv = args.default_path+'train.csv'\n",
    "args.test_csv = args.default_path+'test.csv'\n",
    "\n",
    "# get submission path\n",
    "args.submission_csv = args.default_path+\"submission.csv\"\n",
    "\n",
    "# 데이터 분석을 위한 변수들\n",
    "# random state\n",
    "args.random_state = 21"
   ]
  },
  {
   "cell_type": "markdown",
   "id": "e7bd2209",
   "metadata": {
    "heading_collapsed": true
   },
   "source": [
    "# 데이터 불러오기 (Load Titanic Dataset)"
   ]
  },
  {
   "cell_type": "code",
   "execution_count": 14,
   "id": "89fbb6bb",
   "metadata": {
    "hidden": true
   },
   "outputs": [],
   "source": [
    "org_train = pd.read_csv(args.train_csv)\n",
    "org_test = pd.read_csv(args.test_csv)"
   ]
  },
  {
   "cell_type": "markdown",
   "id": "a0b17046",
   "metadata": {
    "hidden": true
   },
   "source": [
    "##### train"
   ]
  },
  {
   "cell_type": "code",
   "execution_count": 15,
   "id": "26c1d4af",
   "metadata": {
    "hidden": true,
    "scrolled": true
   },
   "outputs": [
    {
     "name": "stdout",
     "output_type": "stream",
     "text": [
      "<class 'pandas.core.frame.DataFrame'>\n",
      "RangeIndex: 916 entries, 0 to 915\n",
      "Data columns (total 12 columns):\n",
      " #   Column       Non-Null Count  Dtype  \n",
      "---  ------       --------------  -----  \n",
      " 0   passengerid  916 non-null    int64  \n",
      " 1   survived     916 non-null    int64  \n",
      " 2   pclass       916 non-null    int64  \n",
      " 3   name         916 non-null    object \n",
      " 4   gender       916 non-null    object \n",
      " 5   age          736 non-null    float64\n",
      " 6   sibsp        916 non-null    int64  \n",
      " 7   parch        916 non-null    int64  \n",
      " 8   ticket       916 non-null    object \n",
      " 9   fare         916 non-null    float64\n",
      " 10  cabin        198 non-null    object \n",
      " 11  embarked     915 non-null    object \n",
      "dtypes: float64(2), int64(5), object(5)\n",
      "memory usage: 86.0+ KB\n"
     ]
    }
   ],
   "source": [
    "org_train.info()"
   ]
  },
  {
   "cell_type": "markdown",
   "id": "db329ff4",
   "metadata": {
    "hidden": true
   },
   "source": [
    "##### test"
   ]
  },
  {
   "cell_type": "code",
   "execution_count": 16,
   "id": "6e5f2f9c",
   "metadata": {
    "hidden": true,
    "scrolled": true
   },
   "outputs": [
    {
     "name": "stdout",
     "output_type": "stream",
     "text": [
      "<class 'pandas.core.frame.DataFrame'>\n",
      "RangeIndex: 393 entries, 0 to 392\n",
      "Data columns (total 11 columns):\n",
      " #   Column       Non-Null Count  Dtype  \n",
      "---  ------       --------------  -----  \n",
      " 0   passengerid  393 non-null    int64  \n",
      " 1   pclass       393 non-null    int64  \n",
      " 2   name         393 non-null    object \n",
      " 3   gender       393 non-null    object \n",
      " 4   age          310 non-null    float64\n",
      " 5   sibsp        393 non-null    int64  \n",
      " 6   parch        393 non-null    int64  \n",
      " 7   ticket       393 non-null    object \n",
      " 8   fare         392 non-null    float64\n",
      " 9   cabin        97 non-null     object \n",
      " 10  embarked     392 non-null    object \n",
      "dtypes: float64(2), int64(4), object(5)\n",
      "memory usage: 33.9+ KB\n"
     ]
    }
   ],
   "source": [
    "org_test.info()"
   ]
  },
  {
   "cell_type": "markdown",
   "id": "7ac488b2",
   "metadata": {
    "hidden": true
   },
   "source": [
    "##### passengerid 중복 확인"
   ]
  },
  {
   "cell_type": "markdown",
   "id": "f2a8522f",
   "metadata": {
    "hidden": true
   },
   "source": [
    "- passengerid 의 중복값이 없는 것 확인"
   ]
  },
  {
   "cell_type": "code",
   "execution_count": 17,
   "id": "3d685ccb",
   "metadata": {
    "hidden": true
   },
   "outputs": [
    {
     "data": {
      "text/plain": [
       "(916, 916)"
      ]
     },
     "execution_count": 17,
     "metadata": {},
     "output_type": "execute_result"
    }
   ],
   "source": [
    "org_train['passengerid'].nunique(), org_train.shape[0]"
   ]
  },
  {
   "cell_type": "markdown",
   "id": "91688816",
   "metadata": {
    "hidden": true
   },
   "source": [
    "##### drop passengerid"
   ]
  },
  {
   "cell_type": "code",
   "execution_count": 18,
   "id": "43be9209",
   "metadata": {
    "hidden": true
   },
   "outputs": [
    {
     "data": {
      "text/plain": [
       "(916, 11)"
      ]
     },
     "execution_count": 18,
     "metadata": {},
     "output_type": "execute_result"
    }
   ],
   "source": [
    "org_train.drop('passengerid', axis=1, inplace=True)\n",
    "org_train.shape"
   ]
  },
  {
   "cell_type": "markdown",
   "id": "0f79c455",
   "metadata": {
    "hidden": true
   },
   "source": [
    "##### set index passengerid to org_test"
   ]
  },
  {
   "cell_type": "code",
   "execution_count": 19,
   "id": "b9154200",
   "metadata": {
    "hidden": true
   },
   "outputs": [
    {
     "data": {
      "text/plain": [
       "(393, 10)"
      ]
     },
     "execution_count": 19,
     "metadata": {},
     "output_type": "execute_result"
    }
   ],
   "source": [
    "org_test.set_index(['passengerid'], inplace=True)\n",
    "org_test.shape"
   ]
  },
  {
   "cell_type": "markdown",
   "id": "4c8a032b",
   "metadata": {
    "heading_collapsed": true
   },
   "source": [
    "# 타겟 데이터 확인"
   ]
  },
  {
   "cell_type": "markdown",
   "id": "554b5355",
   "metadata": {
    "hidden": true
   },
   "source": [
    "## survived"
   ]
  },
  {
   "cell_type": "code",
   "execution_count": 20,
   "id": "65652c1e",
   "metadata": {
    "hidden": true
   },
   "outputs": [
    {
     "data": {
      "text/html": [
       "<div>\n",
       "<style scoped>\n",
       "    .dataframe tbody tr th:only-of-type {\n",
       "        vertical-align: middle;\n",
       "    }\n",
       "\n",
       "    .dataframe tbody tr th {\n",
       "        vertical-align: top;\n",
       "    }\n",
       "\n",
       "    .dataframe thead th {\n",
       "        text-align: right;\n",
       "    }\n",
       "</style>\n",
       "<table border=\"1\" class=\"dataframe\">\n",
       "  <thead>\n",
       "    <tr style=\"text-align: right;\">\n",
       "      <th></th>\n",
       "      <th>counts</th>\n",
       "      <th>freqs</th>\n",
       "    </tr>\n",
       "    <tr>\n",
       "      <th>categories</th>\n",
       "      <th></th>\n",
       "      <th></th>\n",
       "    </tr>\n",
       "  </thead>\n",
       "  <tbody>\n",
       "    <tr>\n",
       "      <th>Died</th>\n",
       "      <td>570</td>\n",
       "      <td>0.622271</td>\n",
       "    </tr>\n",
       "    <tr>\n",
       "      <th>Survived</th>\n",
       "      <td>346</td>\n",
       "      <td>0.377729</td>\n",
       "    </tr>\n",
       "  </tbody>\n",
       "</table>\n",
       "</div>"
      ],
      "text/plain": [
       "            counts     freqs\n",
       "categories                  \n",
       "Died           570  0.622271\n",
       "Survived       346  0.377729"
      ]
     },
     "execution_count": 20,
     "metadata": {},
     "output_type": "execute_result"
    }
   ],
   "source": [
    "target = pd.Categorical(org_train['survived'])\n",
    "target = target.rename_categories(['Died', 'Survived'])\n",
    "\n",
    "target.describe()"
   ]
  },
  {
   "cell_type": "markdown",
   "id": "b3b8e3e6",
   "metadata": {
    "hidden": true
   },
   "source": [
    "죽은 사람과 산 사람의 비율이 대략 2:1 인 것을 확인할 수 있다."
   ]
  },
  {
   "cell_type": "markdown",
   "id": "1436e857",
   "metadata": {},
   "source": [
    "# EDA"
   ]
  },
  {
   "cell_type": "markdown",
   "id": "013c0acc",
   "metadata": {
    "heading_collapsed": true
   },
   "source": [
    "## 데이터 확인"
   ]
  },
  {
   "cell_type": "code",
   "execution_count": 21,
   "id": "12c96a76",
   "metadata": {
    "hidden": true
   },
   "outputs": [
    {
     "data": {
      "text/html": [
       "<div>\n",
       "<style scoped>\n",
       "    .dataframe tbody tr th:only-of-type {\n",
       "        vertical-align: middle;\n",
       "    }\n",
       "\n",
       "    .dataframe tbody tr th {\n",
       "        vertical-align: top;\n",
       "    }\n",
       "\n",
       "    .dataframe thead th {\n",
       "        text-align: right;\n",
       "    }\n",
       "</style>\n",
       "<table border=\"1\" class=\"dataframe\">\n",
       "  <thead>\n",
       "    <tr style=\"text-align: right;\">\n",
       "      <th></th>\n",
       "      <th>survived</th>\n",
       "      <th>pclass</th>\n",
       "      <th>name</th>\n",
       "      <th>gender</th>\n",
       "      <th>age</th>\n",
       "      <th>sibsp</th>\n",
       "      <th>parch</th>\n",
       "      <th>ticket</th>\n",
       "      <th>fare</th>\n",
       "      <th>cabin</th>\n",
       "      <th>embarked</th>\n",
       "    </tr>\n",
       "  </thead>\n",
       "  <tbody>\n",
       "    <tr>\n",
       "      <th>0</th>\n",
       "      <td>0</td>\n",
       "      <td>2</td>\n",
       "      <td>Wheeler, Mr. Edwin Frederick\"\"</td>\n",
       "      <td>male</td>\n",
       "      <td>NaN</td>\n",
       "      <td>0</td>\n",
       "      <td>0</td>\n",
       "      <td>SC/PARIS 2159</td>\n",
       "      <td>12.8750</td>\n",
       "      <td>NaN</td>\n",
       "      <td>S</td>\n",
       "    </tr>\n",
       "    <tr>\n",
       "      <th>1</th>\n",
       "      <td>0</td>\n",
       "      <td>3</td>\n",
       "      <td>Henry, Miss. Delia</td>\n",
       "      <td>female</td>\n",
       "      <td>NaN</td>\n",
       "      <td>0</td>\n",
       "      <td>0</td>\n",
       "      <td>382649</td>\n",
       "      <td>7.7500</td>\n",
       "      <td>NaN</td>\n",
       "      <td>Q</td>\n",
       "    </tr>\n",
       "    <tr>\n",
       "      <th>2</th>\n",
       "      <td>1</td>\n",
       "      <td>1</td>\n",
       "      <td>Hays, Mrs. Charles Melville (Clara Jennings Gr...</td>\n",
       "      <td>female</td>\n",
       "      <td>52.0</td>\n",
       "      <td>1</td>\n",
       "      <td>1</td>\n",
       "      <td>12749</td>\n",
       "      <td>93.5000</td>\n",
       "      <td>B69</td>\n",
       "      <td>S</td>\n",
       "    </tr>\n",
       "    <tr>\n",
       "      <th>3</th>\n",
       "      <td>1</td>\n",
       "      <td>3</td>\n",
       "      <td>Andersson, Mr. August Edvard (\"Wennerstrom\")</td>\n",
       "      <td>male</td>\n",
       "      <td>27.0</td>\n",
       "      <td>0</td>\n",
       "      <td>0</td>\n",
       "      <td>350043</td>\n",
       "      <td>7.7958</td>\n",
       "      <td>NaN</td>\n",
       "      <td>S</td>\n",
       "    </tr>\n",
       "    <tr>\n",
       "      <th>4</th>\n",
       "      <td>0</td>\n",
       "      <td>2</td>\n",
       "      <td>Hold, Mr. Stephen</td>\n",
       "      <td>male</td>\n",
       "      <td>44.0</td>\n",
       "      <td>1</td>\n",
       "      <td>0</td>\n",
       "      <td>26707</td>\n",
       "      <td>26.0000</td>\n",
       "      <td>NaN</td>\n",
       "      <td>S</td>\n",
       "    </tr>\n",
       "  </tbody>\n",
       "</table>\n",
       "</div>"
      ],
      "text/plain": [
       "   survived  pclass                                               name  \\\n",
       "0         0       2                     Wheeler, Mr. Edwin Frederick\"\"   \n",
       "1         0       3                                 Henry, Miss. Delia   \n",
       "2         1       1  Hays, Mrs. Charles Melville (Clara Jennings Gr...   \n",
       "3         1       3       Andersson, Mr. August Edvard (\"Wennerstrom\")   \n",
       "4         0       2                                  Hold, Mr. Stephen   \n",
       "\n",
       "   gender   age  sibsp  parch         ticket     fare cabin embarked  \n",
       "0    male   NaN      0      0  SC/PARIS 2159  12.8750   NaN        S  \n",
       "1  female   NaN      0      0         382649   7.7500   NaN        Q  \n",
       "2  female  52.0      1      1          12749  93.5000   B69        S  \n",
       "3    male  27.0      0      0         350043   7.7958   NaN        S  \n",
       "4    male  44.0      1      0          26707  26.0000   NaN        S  "
      ]
     },
     "execution_count": 21,
     "metadata": {},
     "output_type": "execute_result"
    }
   ],
   "source": [
    "org_train.head()"
   ]
  },
  {
   "cell_type": "code",
   "execution_count": 22,
   "id": "5706b9bb",
   "metadata": {
    "hidden": true
   },
   "outputs": [
    {
     "data": {
      "text/html": [
       "<div>\n",
       "<style scoped>\n",
       "    .dataframe tbody tr th:only-of-type {\n",
       "        vertical-align: middle;\n",
       "    }\n",
       "\n",
       "    .dataframe tbody tr th {\n",
       "        vertical-align: top;\n",
       "    }\n",
       "\n",
       "    .dataframe thead th {\n",
       "        text-align: right;\n",
       "    }\n",
       "</style>\n",
       "<table border=\"1\" class=\"dataframe\">\n",
       "  <thead>\n",
       "    <tr style=\"text-align: right;\">\n",
       "      <th></th>\n",
       "      <th>pclass</th>\n",
       "      <th>name</th>\n",
       "      <th>gender</th>\n",
       "      <th>age</th>\n",
       "      <th>sibsp</th>\n",
       "      <th>parch</th>\n",
       "      <th>ticket</th>\n",
       "      <th>fare</th>\n",
       "      <th>cabin</th>\n",
       "      <th>embarked</th>\n",
       "    </tr>\n",
       "    <tr>\n",
       "      <th>passengerid</th>\n",
       "      <th></th>\n",
       "      <th></th>\n",
       "      <th></th>\n",
       "      <th></th>\n",
       "      <th></th>\n",
       "      <th></th>\n",
       "      <th></th>\n",
       "      <th></th>\n",
       "      <th></th>\n",
       "      <th></th>\n",
       "    </tr>\n",
       "  </thead>\n",
       "  <tbody>\n",
       "    <tr>\n",
       "      <th>916</th>\n",
       "      <td>3</td>\n",
       "      <td>McGowan, Miss. Anna \"Annie\"</td>\n",
       "      <td>female</td>\n",
       "      <td>15.0</td>\n",
       "      <td>0</td>\n",
       "      <td>0</td>\n",
       "      <td>330923</td>\n",
       "      <td>8.0292</td>\n",
       "      <td>NaN</td>\n",
       "      <td>Q</td>\n",
       "    </tr>\n",
       "    <tr>\n",
       "      <th>917</th>\n",
       "      <td>2</td>\n",
       "      <td>Pinsky, Mrs. (Rosa)</td>\n",
       "      <td>female</td>\n",
       "      <td>32.0</td>\n",
       "      <td>0</td>\n",
       "      <td>0</td>\n",
       "      <td>234604</td>\n",
       "      <td>13.0000</td>\n",
       "      <td>NaN</td>\n",
       "      <td>S</td>\n",
       "    </tr>\n",
       "    <tr>\n",
       "      <th>918</th>\n",
       "      <td>3</td>\n",
       "      <td>McCarthy, Miss. Catherine Katie\"\"</td>\n",
       "      <td>female</td>\n",
       "      <td>NaN</td>\n",
       "      <td>0</td>\n",
       "      <td>0</td>\n",
       "      <td>383123</td>\n",
       "      <td>7.7500</td>\n",
       "      <td>NaN</td>\n",
       "      <td>Q</td>\n",
       "    </tr>\n",
       "    <tr>\n",
       "      <th>919</th>\n",
       "      <td>3</td>\n",
       "      <td>Franklin, Mr. Charles (Charles Fardon)</td>\n",
       "      <td>male</td>\n",
       "      <td>NaN</td>\n",
       "      <td>0</td>\n",
       "      <td>0</td>\n",
       "      <td>SOTON/O.Q. 3101314</td>\n",
       "      <td>7.2500</td>\n",
       "      <td>NaN</td>\n",
       "      <td>S</td>\n",
       "    </tr>\n",
       "    <tr>\n",
       "      <th>920</th>\n",
       "      <td>1</td>\n",
       "      <td>Wick, Mrs. George Dennick (Mary Hitchcock)</td>\n",
       "      <td>female</td>\n",
       "      <td>45.0</td>\n",
       "      <td>1</td>\n",
       "      <td>1</td>\n",
       "      <td>36928</td>\n",
       "      <td>164.8667</td>\n",
       "      <td>NaN</td>\n",
       "      <td>S</td>\n",
       "    </tr>\n",
       "  </tbody>\n",
       "</table>\n",
       "</div>"
      ],
      "text/plain": [
       "             pclass                                        name  gender   age  \\\n",
       "passengerid                                                                     \n",
       "916               3                 McGowan, Miss. Anna \"Annie\"  female  15.0   \n",
       "917               2                         Pinsky, Mrs. (Rosa)  female  32.0   \n",
       "918               3           McCarthy, Miss. Catherine Katie\"\"  female   NaN   \n",
       "919               3      Franklin, Mr. Charles (Charles Fardon)    male   NaN   \n",
       "920               1  Wick, Mrs. George Dennick (Mary Hitchcock)  female  45.0   \n",
       "\n",
       "             sibsp  parch              ticket      fare cabin embarked  \n",
       "passengerid                                                             \n",
       "916              0      0              330923    8.0292   NaN        Q  \n",
       "917              0      0              234604   13.0000   NaN        S  \n",
       "918              0      0              383123    7.7500   NaN        Q  \n",
       "919              0      0  SOTON/O.Q. 3101314    7.2500   NaN        S  \n",
       "920              1      1               36928  164.8667   NaN        S  "
      ]
     },
     "execution_count": 22,
     "metadata": {},
     "output_type": "execute_result"
    }
   ],
   "source": [
    "org_test.head()"
   ]
  },
  {
   "cell_type": "markdown",
   "id": "c7223054",
   "metadata": {},
   "source": [
    "## 수치형 데이터 분석"
   ]
  },
  {
   "cell_type": "markdown",
   "id": "ea0bb8f0",
   "metadata": {
    "heading_collapsed": true
   },
   "source": [
    "### 수치형 데이터 확인"
   ]
  },
  {
   "cell_type": "code",
   "execution_count": 37,
   "id": "3784535b",
   "metadata": {
    "hidden": true
   },
   "outputs": [
    {
     "name": "stdout",
     "output_type": "stream",
     "text": [
      "<class 'pandas.core.frame.DataFrame'>\n",
      "RangeIndex: 916 entries, 0 to 915\n",
      "Data columns (total 6 columns):\n",
      " #   Column    Non-Null Count  Dtype  \n",
      "---  ------    --------------  -----  \n",
      " 0   survived  916 non-null    int64  \n",
      " 1   pclass    916 non-null    int64  \n",
      " 2   age       736 non-null    float64\n",
      " 3   sibsp     916 non-null    int64  \n",
      " 4   parch     916 non-null    int64  \n",
      " 5   fare      916 non-null    float64\n",
      "dtypes: float64(2), int64(4)\n",
      "memory usage: 43.1 KB\n"
     ]
    }
   ],
   "source": [
    "df_number = org_train.select_dtypes(include=np.number)\n",
    "df_number.info()"
   ]
  },
  {
   "cell_type": "code",
   "execution_count": 38,
   "id": "a7d0c01f",
   "metadata": {
    "hidden": true
   },
   "outputs": [
    {
     "data": {
      "text/html": [
       "<div>\n",
       "<style scoped>\n",
       "    .dataframe tbody tr th:only-of-type {\n",
       "        vertical-align: middle;\n",
       "    }\n",
       "\n",
       "    .dataframe tbody tr th {\n",
       "        vertical-align: top;\n",
       "    }\n",
       "\n",
       "    .dataframe thead th {\n",
       "        text-align: right;\n",
       "    }\n",
       "</style>\n",
       "<table border=\"1\" class=\"dataframe\">\n",
       "  <thead>\n",
       "    <tr style=\"text-align: right;\">\n",
       "      <th></th>\n",
       "      <th>survived</th>\n",
       "      <th>pclass</th>\n",
       "      <th>age</th>\n",
       "      <th>sibsp</th>\n",
       "      <th>parch</th>\n",
       "      <th>fare</th>\n",
       "    </tr>\n",
       "  </thead>\n",
       "  <tbody>\n",
       "    <tr>\n",
       "      <th>0</th>\n",
       "      <td>0</td>\n",
       "      <td>2</td>\n",
       "      <td>NaN</td>\n",
       "      <td>0</td>\n",
       "      <td>0</td>\n",
       "      <td>12.8750</td>\n",
       "    </tr>\n",
       "    <tr>\n",
       "      <th>1</th>\n",
       "      <td>0</td>\n",
       "      <td>3</td>\n",
       "      <td>NaN</td>\n",
       "      <td>0</td>\n",
       "      <td>0</td>\n",
       "      <td>7.7500</td>\n",
       "    </tr>\n",
       "    <tr>\n",
       "      <th>2</th>\n",
       "      <td>1</td>\n",
       "      <td>1</td>\n",
       "      <td>52.0</td>\n",
       "      <td>1</td>\n",
       "      <td>1</td>\n",
       "      <td>93.5000</td>\n",
       "    </tr>\n",
       "    <tr>\n",
       "      <th>3</th>\n",
       "      <td>1</td>\n",
       "      <td>3</td>\n",
       "      <td>27.0</td>\n",
       "      <td>0</td>\n",
       "      <td>0</td>\n",
       "      <td>7.7958</td>\n",
       "    </tr>\n",
       "    <tr>\n",
       "      <th>4</th>\n",
       "      <td>0</td>\n",
       "      <td>2</td>\n",
       "      <td>44.0</td>\n",
       "      <td>1</td>\n",
       "      <td>0</td>\n",
       "      <td>26.0000</td>\n",
       "    </tr>\n",
       "  </tbody>\n",
       "</table>\n",
       "</div>"
      ],
      "text/plain": [
       "   survived  pclass   age  sibsp  parch     fare\n",
       "0         0       2   NaN      0      0  12.8750\n",
       "1         0       3   NaN      0      0   7.7500\n",
       "2         1       1  52.0      1      1  93.5000\n",
       "3         1       3  27.0      0      0   7.7958\n",
       "4         0       2  44.0      1      0  26.0000"
      ]
     },
     "execution_count": 38,
     "metadata": {},
     "output_type": "execute_result"
    }
   ],
   "source": [
    "df_number.head()"
   ]
  },
  {
   "cell_type": "markdown",
   "id": "5f7561ec",
   "metadata": {
    "heading_collapsed": true
   },
   "source": [
    "### 통계적 분석"
   ]
  },
  {
   "cell_type": "code",
   "execution_count": 39,
   "id": "e0c2e86e",
   "metadata": {
    "hidden": true
   },
   "outputs": [
    {
     "data": {
      "text/html": [
       "<div>\n",
       "<style scoped>\n",
       "    .dataframe tbody tr th:only-of-type {\n",
       "        vertical-align: middle;\n",
       "    }\n",
       "\n",
       "    .dataframe tbody tr th {\n",
       "        vertical-align: top;\n",
       "    }\n",
       "\n",
       "    .dataframe thead th {\n",
       "        text-align: right;\n",
       "    }\n",
       "</style>\n",
       "<table border=\"1\" class=\"dataframe\">\n",
       "  <thead>\n",
       "    <tr style=\"text-align: right;\">\n",
       "      <th></th>\n",
       "      <th>survived</th>\n",
       "      <th>pclass</th>\n",
       "      <th>age</th>\n",
       "      <th>sibsp</th>\n",
       "      <th>parch</th>\n",
       "      <th>fare</th>\n",
       "    </tr>\n",
       "  </thead>\n",
       "  <tbody>\n",
       "    <tr>\n",
       "      <th>count</th>\n",
       "      <td>916.000000</td>\n",
       "      <td>916.000000</td>\n",
       "      <td>736.000000</td>\n",
       "      <td>916.000000</td>\n",
       "      <td>916.000000</td>\n",
       "      <td>916.000000</td>\n",
       "    </tr>\n",
       "    <tr>\n",
       "      <th>mean</th>\n",
       "      <td>0.377729</td>\n",
       "      <td>2.292576</td>\n",
       "      <td>29.698370</td>\n",
       "      <td>0.507642</td>\n",
       "      <td>0.361354</td>\n",
       "      <td>32.402710</td>\n",
       "    </tr>\n",
       "    <tr>\n",
       "      <th>std</th>\n",
       "      <td>0.485084</td>\n",
       "      <td>0.838675</td>\n",
       "      <td>14.185627</td>\n",
       "      <td>1.044866</td>\n",
       "      <td>0.828054</td>\n",
       "      <td>50.506411</td>\n",
       "    </tr>\n",
       "    <tr>\n",
       "      <th>min</th>\n",
       "      <td>0.000000</td>\n",
       "      <td>1.000000</td>\n",
       "      <td>0.170000</td>\n",
       "      <td>0.000000</td>\n",
       "      <td>0.000000</td>\n",
       "      <td>0.000000</td>\n",
       "    </tr>\n",
       "    <tr>\n",
       "      <th>25%</th>\n",
       "      <td>0.000000</td>\n",
       "      <td>2.000000</td>\n",
       "      <td>21.000000</td>\n",
       "      <td>0.000000</td>\n",
       "      <td>0.000000</td>\n",
       "      <td>7.895800</td>\n",
       "    </tr>\n",
       "    <tr>\n",
       "      <th>50%</th>\n",
       "      <td>0.000000</td>\n",
       "      <td>3.000000</td>\n",
       "      <td>28.000000</td>\n",
       "      <td>0.000000</td>\n",
       "      <td>0.000000</td>\n",
       "      <td>14.458300</td>\n",
       "    </tr>\n",
       "    <tr>\n",
       "      <th>75%</th>\n",
       "      <td>1.000000</td>\n",
       "      <td>3.000000</td>\n",
       "      <td>38.000000</td>\n",
       "      <td>1.000000</td>\n",
       "      <td>0.000000</td>\n",
       "      <td>30.017700</td>\n",
       "    </tr>\n",
       "    <tr>\n",
       "      <th>max</th>\n",
       "      <td>1.000000</td>\n",
       "      <td>3.000000</td>\n",
       "      <td>80.000000</td>\n",
       "      <td>8.000000</td>\n",
       "      <td>9.000000</td>\n",
       "      <td>512.329200</td>\n",
       "    </tr>\n",
       "  </tbody>\n",
       "</table>\n",
       "</div>"
      ],
      "text/plain": [
       "         survived      pclass         age       sibsp       parch        fare\n",
       "count  916.000000  916.000000  736.000000  916.000000  916.000000  916.000000\n",
       "mean     0.377729    2.292576   29.698370    0.507642    0.361354   32.402710\n",
       "std      0.485084    0.838675   14.185627    1.044866    0.828054   50.506411\n",
       "min      0.000000    1.000000    0.170000    0.000000    0.000000    0.000000\n",
       "25%      0.000000    2.000000   21.000000    0.000000    0.000000    7.895800\n",
       "50%      0.000000    3.000000   28.000000    0.000000    0.000000   14.458300\n",
       "75%      1.000000    3.000000   38.000000    1.000000    0.000000   30.017700\n",
       "max      1.000000    3.000000   80.000000    8.000000    9.000000  512.329200"
      ]
     },
     "execution_count": 39,
     "metadata": {},
     "output_type": "execute_result"
    }
   ],
   "source": [
    "df_number.describe()"
   ]
  },
  {
   "cell_type": "markdown",
   "id": "699af277",
   "metadata": {
    "hidden": true
   },
   "source": [
    "#### age"
   ]
  },
  {
   "cell_type": "code",
   "execution_count": 55,
   "id": "b53c3eb0",
   "metadata": {
    "hidden": true
   },
   "outputs": [
    {
     "name": "stdout",
     "output_type": "stream",
     "text": [
      "** df_number - age 통계적 분석 **\n",
      "총 합계 : 21858.0\n",
      "평균 : 29.69836956521739\n",
      "중앙값 : 28.0\n",
      "분산 : 201.23202237207926\n",
      "표준편차 : 14.185627316833022\n",
      "최솟값 : 0.17\n",
      "최댓값 : 80.0\n",
      "분위수 계산\n",
      "0.25    21.0\n",
      "0.50    28.0\n",
      "0.75    38.0\n",
      "Name: age, dtype: float64\n"
     ]
    }
   ],
   "source": [
    "print(\"** df_number - age 통계적 분석 **\")\n",
    "\n",
    "print(f\"총 합계 : {df_number['age'].sum()}\")\n",
    "print(f\"평균 : {df_number['age'].mean()}\")\n",
    "print(f\"중앙값 : {df_number['age'].median()}\")\n",
    "print(f\"분산 : {df_number['age'].var()}\")\n",
    "print(f\"표준편차 : {df_number['age'].std()}\")\n",
    "print(f\"최솟값 : {df_number['age'].min()}\")\n",
    "print(f\"최댓값 : {df_number['age'].max()}\")\n",
    "print(f\"분위수 계산\\n{df_number['age'].quantile([0.25, 0.5, 0.75])}\")"
   ]
  },
  {
   "cell_type": "markdown",
   "id": "c961bd5c",
   "metadata": {
    "heading_collapsed": true
   },
   "source": [
    "### 왜도 분석"
   ]
  },
  {
   "cell_type": "markdown",
   "id": "5f16698f",
   "metadata": {
    "hidden": true
   },
   "source": [
    "#### fare"
   ]
  },
  {
   "cell_type": "code",
   "execution_count": 57,
   "id": "7b39b6b8",
   "metadata": {
    "hidden": true
   },
   "outputs": [
    {
     "data": {
      "text/plain": [
       "31.16578434563386"
      ]
     },
     "execution_count": 57,
     "metadata": {},
     "output_type": "execute_result"
    }
   ],
   "source": [
    "# 첨도 분석\n",
    "df_number['fare'].kurt()"
   ]
  },
  {
   "cell_type": "code",
   "execution_count": 58,
   "id": "6246ba16",
   "metadata": {
    "hidden": true
   },
   "outputs": [
    {
     "data": {
      "text/plain": [
       "<Axes: ylabel='Frequency'>"
      ]
     },
     "execution_count": 58,
     "metadata": {},
     "output_type": "execute_result"
    },
    {
     "data": {
      "image/png": "[encoded data removed]",
      "text/plain": [
       "<Figure size 640x480 with 1 Axes>"
      ]
     },
     "metadata": {},
     "output_type": "display_data"
    }
   ],
   "source": [
    "df_number['fare'].plot.hist(bins=50)"
   ]
  },
  {
   "cell_type": "code",
   "execution_count": 60,
   "id": "92e00557",
   "metadata": {
    "hidden": true
   },
   "outputs": [
    {
     "data": {
      "text/plain": [
       "<Axes: >"
      ]
     },
     "execution_count": 60,
     "metadata": {},
     "output_type": "execute_result"
    },
    {
     "data": {
      "image/png": "[encoded data removed]",
      "text/plain": [
       "<Figure size 640x480 with 1 Axes>"
      ]
     },
     "metadata": {},
     "output_type": "display_data"
    }
   ],
   "source": [
    "# diff(): 한 객체 내에서 열과 열 / 행과 행의 차이를 출력하는 메서드 입니다.\n",
    "df_number['fare'].diff().hist(bins=50)"
   ]
  },
  {
   "cell_type": "markdown",
   "id": "793a0aa5",
   "metadata": {
    "heading_collapsed": true
   },
   "source": [
    "### 첨도 분석"
   ]
  },
  {
   "cell_type": "markdown",
   "id": "0fa2e303",
   "metadata": {
    "hidden": true
   },
   "source": [
    "##### fare"
   ]
  },
  {
   "cell_type": "code",
   "execution_count": 64,
   "id": "db9b9c6a",
   "metadata": {
    "hidden": true
   },
   "outputs": [
    {
     "data": {
      "text/plain": [
       "(32.40271048034934, 14.4583, 13.0)"
      ]
     },
     "execution_count": 64,
     "metadata": {},
     "output_type": "execute_result"
    }
   ],
   "source": [
    "df_number['fare'].mean(), df_number['fare'].median(), df_number['fare'].mode().values[0]"
   ]
  },
  {
   "cell_type": "code",
   "execution_count": 65,
   "id": "12f43b59",
   "metadata": {
    "hidden": true
   },
   "outputs": [
    {
     "data": {
      "text/plain": [
       "<Axes: ylabel='Frequency'>"
      ]
     },
     "execution_count": 65,
     "metadata": {},
     "output_type": "execute_result"
    },
    {
     "data": {
      "image/png": "[encoded data removed]",
      "text/plain": [
       "<Figure size 640x480 with 1 Axes>"
      ]
     },
     "metadata": {},
     "output_type": "display_data"
    }
   ],
   "source": [
    "df_number['fare'].plot.hist(bins=20)"
   ]
  },
  {
   "cell_type": "code",
   "execution_count": 66,
   "id": "c1575450",
   "metadata": {
    "hidden": true
   },
   "outputs": [
    {
     "data": {
      "text/plain": [
       "<Axes: >"
      ]
     },
     "execution_count": 66,
     "metadata": {},
     "output_type": "execute_result"
    },
    {
     "data": {
      "image/png": "[encoded data removed]",
      "text/plain": [
       "<Figure size 640x480 with 1 Axes>"
      ]
     },
     "metadata": {},
     "output_type": "display_data"
    }
   ],
   "source": [
    "df_number['fare'].diff().hist(bins=20)"
   ]
  },
  {
   "cell_type": "markdown",
   "id": "652a78a0",
   "metadata": {
    "heading_collapsed": true
   },
   "source": [
    "### 이상치 분석"
   ]
  },
  {
   "cell_type": "code",
   "execution_count": 68,
   "id": "1351fb17",
   "metadata": {
    "hidden": true
   },
   "outputs": [
    {
     "data": {
      "text/plain": [
       "<Axes: ylabel='age'>"
      ]
     },
     "execution_count": 68,
     "metadata": {},
     "output_type": "execute_result"
    },
    {
     "data": {
      "image/png": "[encoded data removed]",
      "text/plain": [
       "<Figure size 640x480 with 1 Axes>"
      ]
     },
     "metadata": {},
     "output_type": "display_data"
    }
   ],
   "source": [
    "sns.boxplot(y=df_number['age'], data=org_train)"
   ]
  },
  {
   "cell_type": "code",
   "execution_count": 71,
   "id": "4c9c515e",
   "metadata": {
    "hidden": true
   },
   "outputs": [
    {
     "data": {
      "text/plain": [
       "<Axes: xlabel='survived', ylabel='age'>"
      ]
     },
     "execution_count": 71,
     "metadata": {},
     "output_type": "execute_result"
    },
    {
     "data": {
      "image/png": "[encoded data removed]",
      "text/plain": [
       "<Figure size 640x480 with 1 Axes>"
      ]
     },
     "metadata": {},
     "output_type": "display_data"
    }
   ],
   "source": [
    "sns.boxplot(x=org_train['survived'], y=org_train['age'], data=org_train)"
   ]
  },
  {
   "cell_type": "markdown",
   "id": "f8645f7e",
   "metadata": {
    "heading_collapsed": true
   },
   "source": [
    "### 상관 관계 확인 - heatmap"
   ]
  },
  {
   "cell_type": "markdown",
   "id": "8e7f4410",
   "metadata": {
    "hidden": true
   },
   "source": [
    "heatmap 분석 방법  \n",
    "\n",
    "- 주로 수치형 데이터를 분석할 때 사용한다.  \n",
    "\n",
    "\n",
    "- corr() 함수는 Pearson Correlation Coefficient 를 구하는 함수  \n",
    "  보통 절댓값이 0.4 이상이면 상관 관계를 갖는다고 본다.\n",
    "\n",
    "\n",
    "- annot=True  \n",
    "  직접적인 수치를 확인할 수 있다.\n",
    "  \n",
    "\n",
    "- mask 설정을 통해 반만 잘라서 확인할 수 있다.  \n",
    "\n",
    "\n",
    "- 두 상관 관계가 높다는 것이고 서로 영향을 준다는 의미일 뿐  \n",
    "  하나가 증가하면 반드시 다른 하나가 증가하는 것은 아니다.  "
   ]
  },
  {
   "cell_type": "code",
   "execution_count": 36,
   "id": "17a2d643",
   "metadata": {
    "hidden": true
   },
   "outputs": [
    {
     "data": {
      "text/html": [
       "<div>\n",
       "<style scoped>\n",
       "    .dataframe tbody tr th:only-of-type {\n",
       "        vertical-align: middle;\n",
       "    }\n",
       "\n",
       "    .dataframe tbody tr th {\n",
       "        vertical-align: top;\n",
       "    }\n",
       "\n",
       "    .dataframe thead th {\n",
       "        text-align: right;\n",
       "    }\n",
       "</style>\n",
       "<table border=\"1\" class=\"dataframe\">\n",
       "  <thead>\n",
       "    <tr style=\"text-align: right;\">\n",
       "      <th></th>\n",
       "      <th>survived</th>\n",
       "      <th>pclass</th>\n",
       "      <th>age</th>\n",
       "      <th>sibsp</th>\n",
       "      <th>parch</th>\n",
       "      <th>fare</th>\n",
       "    </tr>\n",
       "  </thead>\n",
       "  <tbody>\n",
       "    <tr>\n",
       "      <th>survived</th>\n",
       "      <td>1.000000</td>\n",
       "      <td>-0.250455</td>\n",
       "      <td>-0.030330</td>\n",
       "      <td>0.002924</td>\n",
       "      <td>0.084269</td>\n",
       "      <td>0.224068</td>\n",
       "    </tr>\n",
       "    <tr>\n",
       "      <th>pclass</th>\n",
       "      <td>-0.250455</td>\n",
       "      <td>1.000000</td>\n",
       "      <td>-0.407876</td>\n",
       "      <td>0.069781</td>\n",
       "      <td>0.060049</td>\n",
       "      <td>-0.541277</td>\n",
       "    </tr>\n",
       "    <tr>\n",
       "      <th>age</th>\n",
       "      <td>-0.030330</td>\n",
       "      <td>-0.407876</td>\n",
       "      <td>1.000000</td>\n",
       "      <td>-0.255825</td>\n",
       "      <td>-0.169893</td>\n",
       "      <td>0.139101</td>\n",
       "    </tr>\n",
       "    <tr>\n",
       "      <th>sibsp</th>\n",
       "      <td>0.002924</td>\n",
       "      <td>0.069781</td>\n",
       "      <td>-0.255825</td>\n",
       "      <td>1.000000</td>\n",
       "      <td>0.386491</td>\n",
       "      <td>0.162144</td>\n",
       "    </tr>\n",
       "    <tr>\n",
       "      <th>parch</th>\n",
       "      <td>0.084269</td>\n",
       "      <td>0.060049</td>\n",
       "      <td>-0.169893</td>\n",
       "      <td>0.386491</td>\n",
       "      <td>1.000000</td>\n",
       "      <td>0.181826</td>\n",
       "    </tr>\n",
       "    <tr>\n",
       "      <th>fare</th>\n",
       "      <td>0.224068</td>\n",
       "      <td>-0.541277</td>\n",
       "      <td>0.139101</td>\n",
       "      <td>0.162144</td>\n",
       "      <td>0.181826</td>\n",
       "      <td>1.000000</td>\n",
       "    </tr>\n",
       "  </tbody>\n",
       "</table>\n",
       "</div>"
      ],
      "text/plain": [
       "          survived    pclass       age     sibsp     parch      fare\n",
       "survived  1.000000 -0.250455 -0.030330  0.002924  0.084269  0.224068\n",
       "pclass   -0.250455  1.000000 -0.407876  0.069781  0.060049 -0.541277\n",
       "age      -0.030330 -0.407876  1.000000 -0.255825 -0.169893  0.139101\n",
       "sibsp     0.002924  0.069781 -0.255825  1.000000  0.386491  0.162144\n",
       "parch     0.084269  0.060049 -0.169893  0.386491  1.000000  0.181826\n",
       "fare      0.224068 -0.541277  0.139101  0.162144  0.181826  1.000000"
      ]
     },
     "execution_count": 36,
     "metadata": {},
     "output_type": "execute_result"
    }
   ],
   "source": [
    "org_train.corr()"
   ]
  },
  {
   "cell_type": "code",
   "execution_count": 35,
   "id": "e361778d",
   "metadata": {
    "hidden": true,
    "scrolled": false
   },
   "outputs": [
    {
     "data": {
      "text/plain": [
       "<Axes: >"
      ]
     },
     "execution_count": 35,
     "metadata": {},
     "output_type": "execute_result"
    },
    {
     "data": {
      "image/png": "[encoded data removed]",
      "text/plain": [
       "<Figure size 640x480 with 2 Axes>"
      ]
     },
     "metadata": {},
     "output_type": "display_data"
    }
   ],
   "source": [
    "sns.heatmap(org_train.corr(), annot=True, linewidths=0.2, cmap = \"Reds\")"
   ]
  },
  {
   "cell_type": "code",
   "execution_count": 34,
   "id": "bfab2fec",
   "metadata": {
    "hidden": true,
    "scrolled": false
   },
   "outputs": [
    {
     "data": {
      "text/plain": [
       "<Axes: >"
      ]
     },
     "execution_count": 34,
     "metadata": {},
     "output_type": "execute_result"
    },
    {
     "data": {
      "image/png": "[encoded data removed]",
      "text/plain": [
       "<Figure size 640x480 with 2 Axes>"
      ]
     },
     "metadata": {},
     "output_type": "display_data"
    }
   ],
   "source": [
    "mask=np.zeros_like(org_train.corr(), dtype=np.bool_)\n",
    "mask[np.triu_indices_from(mask)]=True\n",
    "\n",
    "sns.heatmap(org_train.corr(), annot=True, mask=mask, linewidths=0.2, cmap = \"Reds\")"
   ]
  },
  {
   "cell_type": "markdown",
   "id": "84f13285",
   "metadata": {},
   "source": [
    "## 범주형 데이터 분석"
   ]
  }
 ],
 "metadata": {
  "kernelspec": {
   "display_name": "Python 3 (ipykernel)",
   "language": "python",
   "name": "python3"
  },
  "language_info": {
   "codemirror_mode": {
    "name": "ipython",
    "version": 3
   },
   "file_extension": ".py",
   "mimetype": "text/x-python",
   "name": "python",
   "nbconvert_exporter": "python",
   "pygments_lexer": "ipython3",
   "version": "3.11.2"
  },
  "toc": {
   "base_numbering": 1,
   "nav_menu": {},
   "number_sections": true,
   "sideBar": true,
   "skip_h1_title": false,
   "title_cell": "Table of Contents",
   "title_sidebar": "Contents",
   "toc_cell": false,
   "toc_position": {},
   "toc_section_display": true,
   "toc_window_display": false
  }
 },
 "nbformat": 4,
 "nbformat_minor": 5
}
