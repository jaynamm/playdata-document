{
 "cells": [
  {
   "cell_type": "markdown",
   "id": "6e61fa57",
   "metadata": {
    "heading_collapsed": true
   },
   "source": [
    "# Kaggle Titanic Dataset"
   ]
  },
  {
   "cell_type": "markdown",
   "id": "50f548ad",
   "metadata": {
    "heading_collapsed": true,
    "hidden": true
   },
   "source": [
    "## 데이터 세부사항 (Data description)"
   ]
  },
  {
   "cell_type": "markdown",
   "id": "d2ce7290",
   "metadata": {
    "hidden": true
   },
   "source": [
    "- passengerid\n",
    "    - 탑승자 아이디  \n",
    "- survive\n",
    "    - 사망 : 0\n",
    "    - 생존 : 1\n",
    "- pclass\n",
    "    - 1등석 : 1\n",
    "    - 2등석 : 2\n",
    "    - 3등석 : 3\n",
    "- name\n",
    "    - 탑승자 이름  \n",
    "- gender\n",
    "    - male : 남성\n",
    "    - female : 여성  \n",
    "- age\n",
    "    - 나이  \n",
    "- sibsp\n",
    "    - 타이타닉 호에 동승한 자매/배우자의 수  \n",
    "- parch\n",
    "    - 타이타닉 호에 동승한 부모/자식의 수  \n",
    "- ticket\n",
    "    - 티켓 번호  \n",
    "- fare\n",
    "    - 승객 요금  \n",
    "- cabin\n",
    "    - 방 호수  \n",
    "- embarked\n",
    "    - 탑승지\n",
    "    - 셰르부르 : C\n",
    "    - 퀴즈타운 : Q\n",
    "    - 사우샘프턴 : S"
   ]
  },
  {
   "cell_type": "markdown",
   "id": "fa808f51",
   "metadata": {
    "heading_collapsed": true
   },
   "source": [
    "# 전역 변수 설정 (Global Variables)"
   ]
  },
  {
   "cell_type": "markdown",
   "id": "45b51043",
   "metadata": {
    "heading_collapsed": true,
    "hidden": true
   },
   "source": [
    "## Import Library"
   ]
  },
  {
   "cell_type": "code",
   "execution_count": 1,
   "id": "deda707d",
   "metadata": {
    "hidden": true
   },
   "outputs": [],
   "source": [
    "# import libraries\n",
    "import pandas as pd\n",
    "import numpy as np\n",
    "import seaborn as sns\n",
    "\n",
    "import matplotlib.pyplot as plt\n",
    "plt.style.use('fivethirtyeight')\n",
    "plt.ion()\n",
    "\n",
    "import warnings\n",
    "warnings.filterwarnings('ignore')\n",
    "%matplotlib inline"
   ]
  },
  {
   "cell_type": "markdown",
   "id": "479d2eec",
   "metadata": {
    "heading_collapsed": true,
    "hidden": true
   },
   "source": [
    "## Set dataset path"
   ]
  },
  {
   "cell_type": "code",
   "execution_count": 2,
   "id": "d83c6022",
   "metadata": {
    "hidden": true
   },
   "outputs": [],
   "source": [
    "import easydict\n",
    "import json\n",
    "args = easydict.EasyDict()\n",
    "\n",
    "# Dataset 기본 디렉토리 경로 설정\n",
    "args.default_path = '/Users/jhnam/workspace/playdata/encore21titanic/'\n",
    "\n",
    "# get train and test dataset path\n",
    "args.train_csv = args.default_path+'train.csv'\n",
    "args.test_csv = args.default_path+'test.csv'\n",
    "\n",
    "# get submission path\n",
    "args.submission_csv = args.default_path+\"submission.csv\"\n",
    "\n",
    "# 데이터 분석을 위한 변수들\n",
    "# random state seed 설정\n",
    "args.random_state = 21"
   ]
  },
  {
   "cell_type": "markdown",
   "id": "4367df09",
   "metadata": {
    "heading_collapsed": true
   },
   "source": [
    "# 데이터셋 불러오기 (Load Titanic Dataset)"
   ]
  },
  {
   "cell_type": "markdown",
   "id": "6ad7ce16",
   "metadata": {
    "hidden": true
   },
   "source": [
    "## read csv file for pandas"
   ]
  },
  {
   "cell_type": "code",
   "execution_count": 3,
   "id": "aab990ec",
   "metadata": {
    "hidden": true
   },
   "outputs": [],
   "source": [
    "org_train = pd.read_csv(args.train_csv)\n",
    "org_test = pd.read_csv(args.test_csv)"
   ]
  },
  {
   "cell_type": "markdown",
   "id": "4b2539cb",
   "metadata": {
    "heading_collapsed": true
   },
   "source": [
    "# 데이터 셋 확인 (Check Dataset)"
   ]
  },
  {
   "cell_type": "markdown",
   "id": "aa960ca0",
   "metadata": {
    "heading_collapsed": true,
    "hidden": true
   },
   "source": [
    "## train"
   ]
  },
  {
   "cell_type": "code",
   "execution_count": 4,
   "id": "caf2fa6c",
   "metadata": {
    "hidden": true
   },
   "outputs": [
    {
     "name": "stdout",
     "output_type": "stream",
     "text": [
      "<class 'pandas.core.frame.DataFrame'>\n",
      "RangeIndex: 916 entries, 0 to 915\n",
      "Data columns (total 12 columns):\n",
      " #   Column       Non-Null Count  Dtype  \n",
      "---  ------       --------------  -----  \n",
      " 0   passengerid  916 non-null    int64  \n",
      " 1   survived     916 non-null    int64  \n",
      " 2   pclass       916 non-null    int64  \n",
      " 3   name         916 non-null    object \n",
      " 4   gender       916 non-null    object \n",
      " 5   age          736 non-null    float64\n",
      " 6   sibsp        916 non-null    int64  \n",
      " 7   parch        916 non-null    int64  \n",
      " 8   ticket       916 non-null    object \n",
      " 9   fare         916 non-null    float64\n",
      " 10  cabin        198 non-null    object \n",
      " 11  embarked     915 non-null    object \n",
      "dtypes: float64(2), int64(5), object(5)\n",
      "memory usage: 86.0+ KB\n"
     ]
    }
   ],
   "source": [
    "org_train.info()"
   ]
  },
  {
   "cell_type": "code",
   "execution_count": 5,
   "id": "e4a91a2c",
   "metadata": {
    "hidden": true
   },
   "outputs": [
    {
     "name": "stdout",
     "output_type": "stream",
     "text": [
      "(916, 12)\n"
     ]
    },
    {
     "data": {
      "text/html": [
       "<div>\n",
       "<style scoped>\n",
       "    .dataframe tbody tr th:only-of-type {\n",
       "        vertical-align: middle;\n",
       "    }\n",
       "\n",
       "    .dataframe tbody tr th {\n",
       "        vertical-align: top;\n",
       "    }\n",
       "\n",
       "    .dataframe thead th {\n",
       "        text-align: right;\n",
       "    }\n",
       "</style>\n",
       "<table border=\"1\" class=\"dataframe\">\n",
       "  <thead>\n",
       "    <tr style=\"text-align: right;\">\n",
       "      <th></th>\n",
       "      <th>passengerid</th>\n",
       "      <th>survived</th>\n",
       "      <th>pclass</th>\n",
       "      <th>name</th>\n",
       "      <th>gender</th>\n",
       "      <th>age</th>\n",
       "      <th>sibsp</th>\n",
       "      <th>parch</th>\n",
       "      <th>ticket</th>\n",
       "      <th>fare</th>\n",
       "      <th>cabin</th>\n",
       "      <th>embarked</th>\n",
       "    </tr>\n",
       "  </thead>\n",
       "  <tbody>\n",
       "    <tr>\n",
       "      <th>0</th>\n",
       "      <td>0</td>\n",
       "      <td>0</td>\n",
       "      <td>2</td>\n",
       "      <td>Wheeler, Mr. Edwin Frederick\"\"</td>\n",
       "      <td>male</td>\n",
       "      <td>NaN</td>\n",
       "      <td>0</td>\n",
       "      <td>0</td>\n",
       "      <td>SC/PARIS 2159</td>\n",
       "      <td>12.8750</td>\n",
       "      <td>NaN</td>\n",
       "      <td>S</td>\n",
       "    </tr>\n",
       "    <tr>\n",
       "      <th>1</th>\n",
       "      <td>1</td>\n",
       "      <td>0</td>\n",
       "      <td>3</td>\n",
       "      <td>Henry, Miss. Delia</td>\n",
       "      <td>female</td>\n",
       "      <td>NaN</td>\n",
       "      <td>0</td>\n",
       "      <td>0</td>\n",
       "      <td>382649</td>\n",
       "      <td>7.7500</td>\n",
       "      <td>NaN</td>\n",
       "      <td>Q</td>\n",
       "    </tr>\n",
       "    <tr>\n",
       "      <th>2</th>\n",
       "      <td>2</td>\n",
       "      <td>1</td>\n",
       "      <td>1</td>\n",
       "      <td>Hays, Mrs. Charles Melville (Clara Jennings Gr...</td>\n",
       "      <td>female</td>\n",
       "      <td>52.0</td>\n",
       "      <td>1</td>\n",
       "      <td>1</td>\n",
       "      <td>12749</td>\n",
       "      <td>93.5000</td>\n",
       "      <td>B69</td>\n",
       "      <td>S</td>\n",
       "    </tr>\n",
       "    <tr>\n",
       "      <th>3</th>\n",
       "      <td>3</td>\n",
       "      <td>1</td>\n",
       "      <td>3</td>\n",
       "      <td>Andersson, Mr. August Edvard (\"Wennerstrom\")</td>\n",
       "      <td>male</td>\n",
       "      <td>27.0</td>\n",
       "      <td>0</td>\n",
       "      <td>0</td>\n",
       "      <td>350043</td>\n",
       "      <td>7.7958</td>\n",
       "      <td>NaN</td>\n",
       "      <td>S</td>\n",
       "    </tr>\n",
       "    <tr>\n",
       "      <th>4</th>\n",
       "      <td>4</td>\n",
       "      <td>0</td>\n",
       "      <td>2</td>\n",
       "      <td>Hold, Mr. Stephen</td>\n",
       "      <td>male</td>\n",
       "      <td>44.0</td>\n",
       "      <td>1</td>\n",
       "      <td>0</td>\n",
       "      <td>26707</td>\n",
       "      <td>26.0000</td>\n",
       "      <td>NaN</td>\n",
       "      <td>S</td>\n",
       "    </tr>\n",
       "  </tbody>\n",
       "</table>\n",
       "</div>"
      ],
      "text/plain": [
       "   passengerid  survived  pclass  \\\n",
       "0            0         0       2   \n",
       "1            1         0       3   \n",
       "2            2         1       1   \n",
       "3            3         1       3   \n",
       "4            4         0       2   \n",
       "\n",
       "                                                name  gender   age  sibsp  \\\n",
       "0                     Wheeler, Mr. Edwin Frederick\"\"    male   NaN      0   \n",
       "1                                 Henry, Miss. Delia  female   NaN      0   \n",
       "2  Hays, Mrs. Charles Melville (Clara Jennings Gr...  female  52.0      1   \n",
       "3       Andersson, Mr. August Edvard (\"Wennerstrom\")    male  27.0      0   \n",
       "4                                  Hold, Mr. Stephen    male  44.0      1   \n",
       "\n",
       "   parch         ticket     fare cabin embarked  \n",
       "0      0  SC/PARIS 2159  12.8750   NaN        S  \n",
       "1      0         382649   7.7500   NaN        Q  \n",
       "2      1          12749  93.5000   B69        S  \n",
       "3      0         350043   7.7958   NaN        S  \n",
       "4      0          26707  26.0000   NaN        S  "
      ]
     },
     "execution_count": 5,
     "metadata": {},
     "output_type": "execute_result"
    }
   ],
   "source": [
    "print(f\"{org_train.shape}\")\n",
    "\n",
    "org_train.head()"
   ]
  },
  {
   "cell_type": "code",
   "execution_count": 6,
   "id": "7e782da1",
   "metadata": {
    "hidden": true,
    "scrolled": true
   },
   "outputs": [
    {
     "name": "stdout",
     "output_type": "stream",
     "text": [
      "org_train total count : 916\n"
     ]
    },
    {
     "data": {
      "text/plain": [
       "passengerid    916\n",
       "survived         2\n",
       "pclass           3\n",
       "name           915\n",
       "gender           2\n",
       "age             92\n",
       "sibsp            7\n",
       "parch            8\n",
       "ticket         703\n",
       "fare           251\n",
       "cabin          146\n",
       "embarked         3\n",
       "dtype: int64"
      ]
     },
     "execution_count": 6,
     "metadata": {},
     "output_type": "execute_result"
    }
   ],
   "source": [
    "print(f\"org_train total count : {org_train.shape[0]}\")\n",
    "\n",
    "org_train.nunique()"
   ]
  },
  {
   "cell_type": "code",
   "execution_count": 7,
   "id": "3e01cd22",
   "metadata": {
    "hidden": true
   },
   "outputs": [
    {
     "data": {
      "text/plain": [
       "(916, 916)"
      ]
     },
     "execution_count": 7,
     "metadata": {},
     "output_type": "execute_result"
    }
   ],
   "source": [
    "org_train['passengerid'].nunique(), org_train.shape[0]"
   ]
  },
  {
   "cell_type": "markdown",
   "id": "548065c8",
   "metadata": {
    "hidden": true
   },
   "source": [
    "> passengerid 의 고유값의 개수가 org_train 의 총 개수와 같다.  \n",
    "> 따라서, 모든 값이 고유하므로 제거해준다.  "
   ]
  },
  {
   "cell_type": "code",
   "execution_count": 8,
   "id": "1560052b",
   "metadata": {
    "hidden": true
   },
   "outputs": [
    {
     "name": "stdout",
     "output_type": "stream",
     "text": [
      "before : (916, 12)\n",
      "after : (916, 11)\n"
     ]
    }
   ],
   "source": [
    "print(f\"before : {org_train.shape}\")\n",
    "\n",
    "# passengerid drop\n",
    "org_train.drop('passengerid', axis=1, inplace=True)\n",
    "\n",
    "print(f\"after : {org_train.shape}\")"
   ]
  },
  {
   "cell_type": "markdown",
   "id": "76df6bb3",
   "metadata": {
    "heading_collapsed": true,
    "hidden": true
   },
   "source": [
    "## test"
   ]
  },
  {
   "cell_type": "code",
   "execution_count": 9,
   "id": "7a6d8a57",
   "metadata": {
    "hidden": true,
    "scrolled": true
   },
   "outputs": [
    {
     "name": "stdout",
     "output_type": "stream",
     "text": [
      "<class 'pandas.core.frame.DataFrame'>\n",
      "RangeIndex: 393 entries, 0 to 392\n",
      "Data columns (total 11 columns):\n",
      " #   Column       Non-Null Count  Dtype  \n",
      "---  ------       --------------  -----  \n",
      " 0   passengerid  393 non-null    int64  \n",
      " 1   pclass       393 non-null    int64  \n",
      " 2   name         393 non-null    object \n",
      " 3   gender       393 non-null    object \n",
      " 4   age          310 non-null    float64\n",
      " 5   sibsp        393 non-null    int64  \n",
      " 6   parch        393 non-null    int64  \n",
      " 7   ticket       393 non-null    object \n",
      " 8   fare         392 non-null    float64\n",
      " 9   cabin        97 non-null     object \n",
      " 10  embarked     392 non-null    object \n",
      "dtypes: float64(2), int64(4), object(5)\n",
      "memory usage: 33.9+ KB\n"
     ]
    }
   ],
   "source": [
    "org_test.info()"
   ]
  },
  {
   "cell_type": "code",
   "execution_count": 10,
   "id": "d7b121f7",
   "metadata": {
    "hidden": true
   },
   "outputs": [
    {
     "name": "stdout",
     "output_type": "stream",
     "text": [
      "(393, 11)\n"
     ]
    },
    {
     "data": {
      "text/html": [
       "<div>\n",
       "<style scoped>\n",
       "    .dataframe tbody tr th:only-of-type {\n",
       "        vertical-align: middle;\n",
       "    }\n",
       "\n",
       "    .dataframe tbody tr th {\n",
       "        vertical-align: top;\n",
       "    }\n",
       "\n",
       "    .dataframe thead th {\n",
       "        text-align: right;\n",
       "    }\n",
       "</style>\n",
       "<table border=\"1\" class=\"dataframe\">\n",
       "  <thead>\n",
       "    <tr style=\"text-align: right;\">\n",
       "      <th></th>\n",
       "      <th>passengerid</th>\n",
       "      <th>pclass</th>\n",
       "      <th>name</th>\n",
       "      <th>gender</th>\n",
       "      <th>age</th>\n",
       "      <th>sibsp</th>\n",
       "      <th>parch</th>\n",
       "      <th>ticket</th>\n",
       "      <th>fare</th>\n",
       "      <th>cabin</th>\n",
       "      <th>embarked</th>\n",
       "    </tr>\n",
       "  </thead>\n",
       "  <tbody>\n",
       "    <tr>\n",
       "      <th>0</th>\n",
       "      <td>916</td>\n",
       "      <td>3</td>\n",
       "      <td>McGowan, Miss. Anna \"Annie\"</td>\n",
       "      <td>female</td>\n",
       "      <td>15.0</td>\n",
       "      <td>0</td>\n",
       "      <td>0</td>\n",
       "      <td>330923</td>\n",
       "      <td>8.0292</td>\n",
       "      <td>NaN</td>\n",
       "      <td>Q</td>\n",
       "    </tr>\n",
       "    <tr>\n",
       "      <th>1</th>\n",
       "      <td>917</td>\n",
       "      <td>2</td>\n",
       "      <td>Pinsky, Mrs. (Rosa)</td>\n",
       "      <td>female</td>\n",
       "      <td>32.0</td>\n",
       "      <td>0</td>\n",
       "      <td>0</td>\n",
       "      <td>234604</td>\n",
       "      <td>13.0000</td>\n",
       "      <td>NaN</td>\n",
       "      <td>S</td>\n",
       "    </tr>\n",
       "    <tr>\n",
       "      <th>2</th>\n",
       "      <td>918</td>\n",
       "      <td>3</td>\n",
       "      <td>McCarthy, Miss. Catherine Katie\"\"</td>\n",
       "      <td>female</td>\n",
       "      <td>NaN</td>\n",
       "      <td>0</td>\n",
       "      <td>0</td>\n",
       "      <td>383123</td>\n",
       "      <td>7.7500</td>\n",
       "      <td>NaN</td>\n",
       "      <td>Q</td>\n",
       "    </tr>\n",
       "    <tr>\n",
       "      <th>3</th>\n",
       "      <td>919</td>\n",
       "      <td>3</td>\n",
       "      <td>Franklin, Mr. Charles (Charles Fardon)</td>\n",
       "      <td>male</td>\n",
       "      <td>NaN</td>\n",
       "      <td>0</td>\n",
       "      <td>0</td>\n",
       "      <td>SOTON/O.Q. 3101314</td>\n",
       "      <td>7.2500</td>\n",
       "      <td>NaN</td>\n",
       "      <td>S</td>\n",
       "    </tr>\n",
       "    <tr>\n",
       "      <th>4</th>\n",
       "      <td>920</td>\n",
       "      <td>1</td>\n",
       "      <td>Wick, Mrs. George Dennick (Mary Hitchcock)</td>\n",
       "      <td>female</td>\n",
       "      <td>45.0</td>\n",
       "      <td>1</td>\n",
       "      <td>1</td>\n",
       "      <td>36928</td>\n",
       "      <td>164.8667</td>\n",
       "      <td>NaN</td>\n",
       "      <td>S</td>\n",
       "    </tr>\n",
       "  </tbody>\n",
       "</table>\n",
       "</div>"
      ],
      "text/plain": [
       "   passengerid  pclass                                        name  gender  \\\n",
       "0          916       3                 McGowan, Miss. Anna \"Annie\"  female   \n",
       "1          917       2                         Pinsky, Mrs. (Rosa)  female   \n",
       "2          918       3           McCarthy, Miss. Catherine Katie\"\"  female   \n",
       "3          919       3      Franklin, Mr. Charles (Charles Fardon)    male   \n",
       "4          920       1  Wick, Mrs. George Dennick (Mary Hitchcock)  female   \n",
       "\n",
       "    age  sibsp  parch              ticket      fare cabin embarked  \n",
       "0  15.0      0      0              330923    8.0292   NaN        Q  \n",
       "1  32.0      0      0              234604   13.0000   NaN        S  \n",
       "2   NaN      0      0              383123    7.7500   NaN        Q  \n",
       "3   NaN      0      0  SOTON/O.Q. 3101314    7.2500   NaN        S  \n",
       "4  45.0      1      1               36928  164.8667   NaN        S  "
      ]
     },
     "execution_count": 10,
     "metadata": {},
     "output_type": "execute_result"
    }
   ],
   "source": [
    "print(f\"{org_test.shape}\")\n",
    "\n",
    "org_test.head()"
   ]
  },
  {
   "cell_type": "code",
   "execution_count": 11,
   "id": "526c38a4",
   "metadata": {
    "hidden": true
   },
   "outputs": [
    {
     "name": "stdout",
     "output_type": "stream",
     "text": [
      "org_test total count : 393\n"
     ]
    },
    {
     "data": {
      "text/plain": [
       "passengerid    393\n",
       "pclass           3\n",
       "name           393\n",
       "gender           2\n",
       "age             75\n",
       "sibsp            7\n",
       "parch            7\n",
       "ticket         345\n",
       "fare           168\n",
       "cabin           86\n",
       "embarked         3\n",
       "dtype: int64"
      ]
     },
     "execution_count": 11,
     "metadata": {},
     "output_type": "execute_result"
    }
   ],
   "source": [
    "print(f\"org_test total count : {org_test.shape[0]}\")\n",
    "\n",
    "org_test.nunique()"
   ]
  },
  {
   "cell_type": "markdown",
   "id": "15536ad8",
   "metadata": {
    "hidden": true
   },
   "source": [
    "> passengerid 의 고유값의 개수가 org_test 의 총 개수와 같다.  \n",
    "> 하지만 test 의 데이터에서 이후 passengerid 의 값으로 submission 해야하므로 index 로 설정해준다.  "
   ]
  },
  {
   "cell_type": "code",
   "execution_count": 12,
   "id": "1475ba31",
   "metadata": {
    "hidden": true
   },
   "outputs": [],
   "source": [
    "org_test.set_index(['passengerid'], inplace=True)"
   ]
  },
  {
   "cell_type": "code",
   "execution_count": 13,
   "id": "7308354b",
   "metadata": {
    "hidden": true,
    "scrolled": false
   },
   "outputs": [
    {
     "name": "stdout",
     "output_type": "stream",
     "text": [
      "(393, 10)\n"
     ]
    },
    {
     "data": {
      "text/html": [
       "<div>\n",
       "<style scoped>\n",
       "    .dataframe tbody tr th:only-of-type {\n",
       "        vertical-align: middle;\n",
       "    }\n",
       "\n",
       "    .dataframe tbody tr th {\n",
       "        vertical-align: top;\n",
       "    }\n",
       "\n",
       "    .dataframe thead th {\n",
       "        text-align: right;\n",
       "    }\n",
       "</style>\n",
       "<table border=\"1\" class=\"dataframe\">\n",
       "  <thead>\n",
       "    <tr style=\"text-align: right;\">\n",
       "      <th></th>\n",
       "      <th>pclass</th>\n",
       "      <th>name</th>\n",
       "      <th>gender</th>\n",
       "      <th>age</th>\n",
       "      <th>sibsp</th>\n",
       "      <th>parch</th>\n",
       "      <th>ticket</th>\n",
       "      <th>fare</th>\n",
       "      <th>cabin</th>\n",
       "      <th>embarked</th>\n",
       "    </tr>\n",
       "    <tr>\n",
       "      <th>passengerid</th>\n",
       "      <th></th>\n",
       "      <th></th>\n",
       "      <th></th>\n",
       "      <th></th>\n",
       "      <th></th>\n",
       "      <th></th>\n",
       "      <th></th>\n",
       "      <th></th>\n",
       "      <th></th>\n",
       "      <th></th>\n",
       "    </tr>\n",
       "  </thead>\n",
       "  <tbody>\n",
       "    <tr>\n",
       "      <th>916</th>\n",
       "      <td>3</td>\n",
       "      <td>McGowan, Miss. Anna \"Annie\"</td>\n",
       "      <td>female</td>\n",
       "      <td>15.0</td>\n",
       "      <td>0</td>\n",
       "      <td>0</td>\n",
       "      <td>330923</td>\n",
       "      <td>8.0292</td>\n",
       "      <td>NaN</td>\n",
       "      <td>Q</td>\n",
       "    </tr>\n",
       "    <tr>\n",
       "      <th>917</th>\n",
       "      <td>2</td>\n",
       "      <td>Pinsky, Mrs. (Rosa)</td>\n",
       "      <td>female</td>\n",
       "      <td>32.0</td>\n",
       "      <td>0</td>\n",
       "      <td>0</td>\n",
       "      <td>234604</td>\n",
       "      <td>13.0000</td>\n",
       "      <td>NaN</td>\n",
       "      <td>S</td>\n",
       "    </tr>\n",
       "    <tr>\n",
       "      <th>918</th>\n",
       "      <td>3</td>\n",
       "      <td>McCarthy, Miss. Catherine Katie\"\"</td>\n",
       "      <td>female</td>\n",
       "      <td>NaN</td>\n",
       "      <td>0</td>\n",
       "      <td>0</td>\n",
       "      <td>383123</td>\n",
       "      <td>7.7500</td>\n",
       "      <td>NaN</td>\n",
       "      <td>Q</td>\n",
       "    </tr>\n",
       "    <tr>\n",
       "      <th>919</th>\n",
       "      <td>3</td>\n",
       "      <td>Franklin, Mr. Charles (Charles Fardon)</td>\n",
       "      <td>male</td>\n",
       "      <td>NaN</td>\n",
       "      <td>0</td>\n",
       "      <td>0</td>\n",
       "      <td>SOTON/O.Q. 3101314</td>\n",
       "      <td>7.2500</td>\n",
       "      <td>NaN</td>\n",
       "      <td>S</td>\n",
       "    </tr>\n",
       "    <tr>\n",
       "      <th>920</th>\n",
       "      <td>1</td>\n",
       "      <td>Wick, Mrs. George Dennick (Mary Hitchcock)</td>\n",
       "      <td>female</td>\n",
       "      <td>45.0</td>\n",
       "      <td>1</td>\n",
       "      <td>1</td>\n",
       "      <td>36928</td>\n",
       "      <td>164.8667</td>\n",
       "      <td>NaN</td>\n",
       "      <td>S</td>\n",
       "    </tr>\n",
       "  </tbody>\n",
       "</table>\n",
       "</div>"
      ],
      "text/plain": [
       "             pclass                                        name  gender   age  \\\n",
       "passengerid                                                                     \n",
       "916               3                 McGowan, Miss. Anna \"Annie\"  female  15.0   \n",
       "917               2                         Pinsky, Mrs. (Rosa)  female  32.0   \n",
       "918               3           McCarthy, Miss. Catherine Katie\"\"  female   NaN   \n",
       "919               3      Franklin, Mr. Charles (Charles Fardon)    male   NaN   \n",
       "920               1  Wick, Mrs. George Dennick (Mary Hitchcock)  female  45.0   \n",
       "\n",
       "             sibsp  parch              ticket      fare cabin embarked  \n",
       "passengerid                                                             \n",
       "916              0      0              330923    8.0292   NaN        Q  \n",
       "917              0      0              234604   13.0000   NaN        S  \n",
       "918              0      0              383123    7.7500   NaN        Q  \n",
       "919              0      0  SOTON/O.Q. 3101314    7.2500   NaN        S  \n",
       "920              1      1               36928  164.8667   NaN        S  "
      ]
     },
     "execution_count": 13,
     "metadata": {},
     "output_type": "execute_result"
    }
   ],
   "source": [
    "print(f\"{org_test.shape}\")\n",
    "\n",
    "org_test.head()"
   ]
  },
  {
   "cell_type": "markdown",
   "id": "e0772bc7",
   "metadata": {
    "heading_collapsed": true,
    "hidden": true
   },
   "source": [
    "## 타겟 데이터 확인"
   ]
  },
  {
   "cell_type": "code",
   "execution_count": 14,
   "id": "828f34e0",
   "metadata": {
    "hidden": true
   },
   "outputs": [
    {
     "data": {
      "text/plain": [
       "((916, 11), (393, 10))"
      ]
     },
     "execution_count": 14,
     "metadata": {},
     "output_type": "execute_result"
    }
   ],
   "source": [
    "org_train.shape, org_test.shape"
   ]
  },
  {
   "cell_type": "code",
   "execution_count": 15,
   "id": "ad54cbf6",
   "metadata": {
    "hidden": true
   },
   "outputs": [
    {
     "data": {
      "text/html": [
       "<div>\n",
       "<style scoped>\n",
       "    .dataframe tbody tr th:only-of-type {\n",
       "        vertical-align: middle;\n",
       "    }\n",
       "\n",
       "    .dataframe tbody tr th {\n",
       "        vertical-align: top;\n",
       "    }\n",
       "\n",
       "    .dataframe thead th {\n",
       "        text-align: right;\n",
       "    }\n",
       "</style>\n",
       "<table border=\"1\" class=\"dataframe\">\n",
       "  <thead>\n",
       "    <tr style=\"text-align: right;\">\n",
       "      <th></th>\n",
       "      <th>counts</th>\n",
       "      <th>freqs</th>\n",
       "    </tr>\n",
       "    <tr>\n",
       "      <th>categories</th>\n",
       "      <th></th>\n",
       "      <th></th>\n",
       "    </tr>\n",
       "  </thead>\n",
       "  <tbody>\n",
       "    <tr>\n",
       "      <th>Died</th>\n",
       "      <td>570</td>\n",
       "      <td>0.622271</td>\n",
       "    </tr>\n",
       "    <tr>\n",
       "      <th>Survived</th>\n",
       "      <td>346</td>\n",
       "      <td>0.377729</td>\n",
       "    </tr>\n",
       "  </tbody>\n",
       "</table>\n",
       "</div>"
      ],
      "text/plain": [
       "            counts     freqs\n",
       "categories                  \n",
       "Died           570  0.622271\n",
       "Survived       346  0.377729"
      ]
     },
     "execution_count": 15,
     "metadata": {},
     "output_type": "execute_result"
    }
   ],
   "source": [
    "target = pd.Categorical(org_train['survived'])\n",
    "target = target.rename_categories(['Died', 'Survived'])\n",
    "\n",
    "target.describe()"
   ]
  },
  {
   "cell_type": "markdown",
   "id": "b47a474a",
   "metadata": {
    "hidden": true
   },
   "source": [
    "> 타겟 데이터를 확인해보면 생존률은 37% 인 것을 확인할 수 있다."
   ]
  },
  {
   "cell_type": "markdown",
   "id": "ac8f75b5",
   "metadata": {},
   "source": [
    "# EDA"
   ]
  },
  {
   "cell_type": "markdown",
   "id": "514c3099",
   "metadata": {
    "heading_collapsed": true
   },
   "source": [
    "## 데이터셋 확인"
   ]
  },
  {
   "cell_type": "code",
   "execution_count": 18,
   "id": "46d7cdd3",
   "metadata": {
    "hidden": true
   },
   "outputs": [
    {
     "data": {
      "text/plain": [
       "((916, 11), (393, 10))"
      ]
     },
     "execution_count": 18,
     "metadata": {},
     "output_type": "execute_result"
    }
   ],
   "source": [
    "org_train.shape, org_test.shape"
   ]
  },
  {
   "cell_type": "code",
   "execution_count": 16,
   "id": "68048fde",
   "metadata": {
    "hidden": true
   },
   "outputs": [
    {
     "data": {
      "text/html": [
       "<div>\n",
       "<style scoped>\n",
       "    .dataframe tbody tr th:only-of-type {\n",
       "        vertical-align: middle;\n",
       "    }\n",
       "\n",
       "    .dataframe tbody tr th {\n",
       "        vertical-align: top;\n",
       "    }\n",
       "\n",
       "    .dataframe thead th {\n",
       "        text-align: right;\n",
       "    }\n",
       "</style>\n",
       "<table border=\"1\" class=\"dataframe\">\n",
       "  <thead>\n",
       "    <tr style=\"text-align: right;\">\n",
       "      <th></th>\n",
       "      <th>survived</th>\n",
       "      <th>pclass</th>\n",
       "      <th>name</th>\n",
       "      <th>gender</th>\n",
       "      <th>age</th>\n",
       "      <th>sibsp</th>\n",
       "      <th>parch</th>\n",
       "      <th>ticket</th>\n",
       "      <th>fare</th>\n",
       "      <th>cabin</th>\n",
       "      <th>embarked</th>\n",
       "    </tr>\n",
       "  </thead>\n",
       "  <tbody>\n",
       "    <tr>\n",
       "      <th>0</th>\n",
       "      <td>0</td>\n",
       "      <td>2</td>\n",
       "      <td>Wheeler, Mr. Edwin Frederick\"\"</td>\n",
       "      <td>male</td>\n",
       "      <td>NaN</td>\n",
       "      <td>0</td>\n",
       "      <td>0</td>\n",
       "      <td>SC/PARIS 2159</td>\n",
       "      <td>12.8750</td>\n",
       "      <td>NaN</td>\n",
       "      <td>S</td>\n",
       "    </tr>\n",
       "    <tr>\n",
       "      <th>1</th>\n",
       "      <td>0</td>\n",
       "      <td>3</td>\n",
       "      <td>Henry, Miss. Delia</td>\n",
       "      <td>female</td>\n",
       "      <td>NaN</td>\n",
       "      <td>0</td>\n",
       "      <td>0</td>\n",
       "      <td>382649</td>\n",
       "      <td>7.7500</td>\n",
       "      <td>NaN</td>\n",
       "      <td>Q</td>\n",
       "    </tr>\n",
       "    <tr>\n",
       "      <th>2</th>\n",
       "      <td>1</td>\n",
       "      <td>1</td>\n",
       "      <td>Hays, Mrs. Charles Melville (Clara Jennings Gr...</td>\n",
       "      <td>female</td>\n",
       "      <td>52.0</td>\n",
       "      <td>1</td>\n",
       "      <td>1</td>\n",
       "      <td>12749</td>\n",
       "      <td>93.5000</td>\n",
       "      <td>B69</td>\n",
       "      <td>S</td>\n",
       "    </tr>\n",
       "    <tr>\n",
       "      <th>3</th>\n",
       "      <td>1</td>\n",
       "      <td>3</td>\n",
       "      <td>Andersson, Mr. August Edvard (\"Wennerstrom\")</td>\n",
       "      <td>male</td>\n",
       "      <td>27.0</td>\n",
       "      <td>0</td>\n",
       "      <td>0</td>\n",
       "      <td>350043</td>\n",
       "      <td>7.7958</td>\n",
       "      <td>NaN</td>\n",
       "      <td>S</td>\n",
       "    </tr>\n",
       "    <tr>\n",
       "      <th>4</th>\n",
       "      <td>0</td>\n",
       "      <td>2</td>\n",
       "      <td>Hold, Mr. Stephen</td>\n",
       "      <td>male</td>\n",
       "      <td>44.0</td>\n",
       "      <td>1</td>\n",
       "      <td>0</td>\n",
       "      <td>26707</td>\n",
       "      <td>26.0000</td>\n",
       "      <td>NaN</td>\n",
       "      <td>S</td>\n",
       "    </tr>\n",
       "  </tbody>\n",
       "</table>\n",
       "</div>"
      ],
      "text/plain": [
       "   survived  pclass                                               name  \\\n",
       "0         0       2                     Wheeler, Mr. Edwin Frederick\"\"   \n",
       "1         0       3                                 Henry, Miss. Delia   \n",
       "2         1       1  Hays, Mrs. Charles Melville (Clara Jennings Gr...   \n",
       "3         1       3       Andersson, Mr. August Edvard (\"Wennerstrom\")   \n",
       "4         0       2                                  Hold, Mr. Stephen   \n",
       "\n",
       "   gender   age  sibsp  parch         ticket     fare cabin embarked  \n",
       "0    male   NaN      0      0  SC/PARIS 2159  12.8750   NaN        S  \n",
       "1  female   NaN      0      0         382649   7.7500   NaN        Q  \n",
       "2  female  52.0      1      1          12749  93.5000   B69        S  \n",
       "3    male  27.0      0      0         350043   7.7958   NaN        S  \n",
       "4    male  44.0      1      0          26707  26.0000   NaN        S  "
      ]
     },
     "execution_count": 16,
     "metadata": {},
     "output_type": "execute_result"
    }
   ],
   "source": [
    "org_train.head()"
   ]
  },
  {
   "cell_type": "code",
   "execution_count": 17,
   "id": "a50b9383",
   "metadata": {
    "hidden": true
   },
   "outputs": [
    {
     "data": {
      "text/html": [
       "<div>\n",
       "<style scoped>\n",
       "    .dataframe tbody tr th:only-of-type {\n",
       "        vertical-align: middle;\n",
       "    }\n",
       "\n",
       "    .dataframe tbody tr th {\n",
       "        vertical-align: top;\n",
       "    }\n",
       "\n",
       "    .dataframe thead th {\n",
       "        text-align: right;\n",
       "    }\n",
       "</style>\n",
       "<table border=\"1\" class=\"dataframe\">\n",
       "  <thead>\n",
       "    <tr style=\"text-align: right;\">\n",
       "      <th></th>\n",
       "      <th>pclass</th>\n",
       "      <th>name</th>\n",
       "      <th>gender</th>\n",
       "      <th>age</th>\n",
       "      <th>sibsp</th>\n",
       "      <th>parch</th>\n",
       "      <th>ticket</th>\n",
       "      <th>fare</th>\n",
       "      <th>cabin</th>\n",
       "      <th>embarked</th>\n",
       "    </tr>\n",
       "    <tr>\n",
       "      <th>passengerid</th>\n",
       "      <th></th>\n",
       "      <th></th>\n",
       "      <th></th>\n",
       "      <th></th>\n",
       "      <th></th>\n",
       "      <th></th>\n",
       "      <th></th>\n",
       "      <th></th>\n",
       "      <th></th>\n",
       "      <th></th>\n",
       "    </tr>\n",
       "  </thead>\n",
       "  <tbody>\n",
       "    <tr>\n",
       "      <th>916</th>\n",
       "      <td>3</td>\n",
       "      <td>McGowan, Miss. Anna \"Annie\"</td>\n",
       "      <td>female</td>\n",
       "      <td>15.0</td>\n",
       "      <td>0</td>\n",
       "      <td>0</td>\n",
       "      <td>330923</td>\n",
       "      <td>8.0292</td>\n",
       "      <td>NaN</td>\n",
       "      <td>Q</td>\n",
       "    </tr>\n",
       "    <tr>\n",
       "      <th>917</th>\n",
       "      <td>2</td>\n",
       "      <td>Pinsky, Mrs. (Rosa)</td>\n",
       "      <td>female</td>\n",
       "      <td>32.0</td>\n",
       "      <td>0</td>\n",
       "      <td>0</td>\n",
       "      <td>234604</td>\n",
       "      <td>13.0000</td>\n",
       "      <td>NaN</td>\n",
       "      <td>S</td>\n",
       "    </tr>\n",
       "    <tr>\n",
       "      <th>918</th>\n",
       "      <td>3</td>\n",
       "      <td>McCarthy, Miss. Catherine Katie\"\"</td>\n",
       "      <td>female</td>\n",
       "      <td>NaN</td>\n",
       "      <td>0</td>\n",
       "      <td>0</td>\n",
       "      <td>383123</td>\n",
       "      <td>7.7500</td>\n",
       "      <td>NaN</td>\n",
       "      <td>Q</td>\n",
       "    </tr>\n",
       "    <tr>\n",
       "      <th>919</th>\n",
       "      <td>3</td>\n",
       "      <td>Franklin, Mr. Charles (Charles Fardon)</td>\n",
       "      <td>male</td>\n",
       "      <td>NaN</td>\n",
       "      <td>0</td>\n",
       "      <td>0</td>\n",
       "      <td>SOTON/O.Q. 3101314</td>\n",
       "      <td>7.2500</td>\n",
       "      <td>NaN</td>\n",
       "      <td>S</td>\n",
       "    </tr>\n",
       "    <tr>\n",
       "      <th>920</th>\n",
       "      <td>1</td>\n",
       "      <td>Wick, Mrs. George Dennick (Mary Hitchcock)</td>\n",
       "      <td>female</td>\n",
       "      <td>45.0</td>\n",
       "      <td>1</td>\n",
       "      <td>1</td>\n",
       "      <td>36928</td>\n",
       "      <td>164.8667</td>\n",
       "      <td>NaN</td>\n",
       "      <td>S</td>\n",
       "    </tr>\n",
       "  </tbody>\n",
       "</table>\n",
       "</div>"
      ],
      "text/plain": [
       "             pclass                                        name  gender   age  \\\n",
       "passengerid                                                                     \n",
       "916               3                 McGowan, Miss. Anna \"Annie\"  female  15.0   \n",
       "917               2                         Pinsky, Mrs. (Rosa)  female  32.0   \n",
       "918               3           McCarthy, Miss. Catherine Katie\"\"  female   NaN   \n",
       "919               3      Franklin, Mr. Charles (Charles Fardon)    male   NaN   \n",
       "920               1  Wick, Mrs. George Dennick (Mary Hitchcock)  female  45.0   \n",
       "\n",
       "             sibsp  parch              ticket      fare cabin embarked  \n",
       "passengerid                                                             \n",
       "916              0      0              330923    8.0292   NaN        Q  \n",
       "917              0      0              234604   13.0000   NaN        S  \n",
       "918              0      0              383123    7.7500   NaN        Q  \n",
       "919              0      0  SOTON/O.Q. 3101314    7.2500   NaN        S  \n",
       "920              1      1               36928  164.8667   NaN        S  "
      ]
     },
     "execution_count": 17,
     "metadata": {},
     "output_type": "execute_result"
    }
   ],
   "source": [
    "org_test.head()"
   ]
  },
  {
   "cell_type": "markdown",
   "id": "ae2f118b",
   "metadata": {},
   "source": [
    "## 수치형 데이터 분석"
   ]
  },
  {
   "cell_type": "markdown",
   "id": "50ab56da",
   "metadata": {
    "heading_collapsed": true
   },
   "source": [
    "### 수치형 데이터 확인"
   ]
  },
  {
   "cell_type": "code",
   "execution_count": 19,
   "id": "a5e3a741",
   "metadata": {
    "hidden": true
   },
   "outputs": [
    {
     "name": "stdout",
     "output_type": "stream",
     "text": [
      "<class 'pandas.core.frame.DataFrame'>\n",
      "RangeIndex: 916 entries, 0 to 915\n",
      "Data columns (total 6 columns):\n",
      " #   Column    Non-Null Count  Dtype  \n",
      "---  ------    --------------  -----  \n",
      " 0   survived  916 non-null    int64  \n",
      " 1   pclass    916 non-null    int64  \n",
      " 2   age       736 non-null    float64\n",
      " 3   sibsp     916 non-null    int64  \n",
      " 4   parch     916 non-null    int64  \n",
      " 5   fare      916 non-null    float64\n",
      "dtypes: float64(2), int64(4)\n",
      "memory usage: 43.1 KB\n"
     ]
    }
   ],
   "source": [
    "df_number = org_train.select_dtypes(include=np.number)\n",
    "df_number.info()"
   ]
  },
  {
   "cell_type": "code",
   "execution_count": 20,
   "id": "6252b2b1",
   "metadata": {
    "hidden": true
   },
   "outputs": [
    {
     "name": "stdout",
     "output_type": "stream",
     "text": [
      "<class 'pandas.core.frame.DataFrame'>\n",
      "RangeIndex: 916 entries, 0 to 915\n",
      "Data columns (total 6 columns):\n",
      " #   Column    Non-Null Count  Dtype  \n",
      "---  ------    --------------  -----  \n",
      " 0   survived  916 non-null    int64  \n",
      " 1   pclass    916 non-null    int64  \n",
      " 2   age       736 non-null    float64\n",
      " 3   sibsp     916 non-null    int64  \n",
      " 4   parch     916 non-null    int64  \n",
      " 5   fare      916 non-null    float64\n",
      "dtypes: float64(2), int64(4)\n",
      "memory usage: 43.1 KB\n"
     ]
    }
   ],
   "source": [
    "df_number.info()"
   ]
  },
  {
   "cell_type": "markdown",
   "id": "e7676e96",
   "metadata": {
    "heading_collapsed": true
   },
   "source": [
    "### 통계적 분석"
   ]
  },
  {
   "cell_type": "code",
   "execution_count": 21,
   "id": "24d81d7d",
   "metadata": {
    "hidden": true
   },
   "outputs": [
    {
     "data": {
      "text/html": [
       "<div>\n",
       "<style scoped>\n",
       "    .dataframe tbody tr th:only-of-type {\n",
       "        vertical-align: middle;\n",
       "    }\n",
       "\n",
       "    .dataframe tbody tr th {\n",
       "        vertical-align: top;\n",
       "    }\n",
       "\n",
       "    .dataframe thead th {\n",
       "        text-align: right;\n",
       "    }\n",
       "</style>\n",
       "<table border=\"1\" class=\"dataframe\">\n",
       "  <thead>\n",
       "    <tr style=\"text-align: right;\">\n",
       "      <th></th>\n",
       "      <th>survived</th>\n",
       "      <th>pclass</th>\n",
       "      <th>age</th>\n",
       "      <th>sibsp</th>\n",
       "      <th>parch</th>\n",
       "      <th>fare</th>\n",
       "    </tr>\n",
       "  </thead>\n",
       "  <tbody>\n",
       "    <tr>\n",
       "      <th>count</th>\n",
       "      <td>916.000000</td>\n",
       "      <td>916.000000</td>\n",
       "      <td>736.000000</td>\n",
       "      <td>916.000000</td>\n",
       "      <td>916.000000</td>\n",
       "      <td>916.000000</td>\n",
       "    </tr>\n",
       "    <tr>\n",
       "      <th>mean</th>\n",
       "      <td>0.377729</td>\n",
       "      <td>2.292576</td>\n",
       "      <td>29.698370</td>\n",
       "      <td>0.507642</td>\n",
       "      <td>0.361354</td>\n",
       "      <td>32.402710</td>\n",
       "    </tr>\n",
       "    <tr>\n",
       "      <th>std</th>\n",
       "      <td>0.485084</td>\n",
       "      <td>0.838675</td>\n",
       "      <td>14.185627</td>\n",
       "      <td>1.044866</td>\n",
       "      <td>0.828054</td>\n",
       "      <td>50.506411</td>\n",
       "    </tr>\n",
       "    <tr>\n",
       "      <th>min</th>\n",
       "      <td>0.000000</td>\n",
       "      <td>1.000000</td>\n",
       "      <td>0.170000</td>\n",
       "      <td>0.000000</td>\n",
       "      <td>0.000000</td>\n",
       "      <td>0.000000</td>\n",
       "    </tr>\n",
       "    <tr>\n",
       "      <th>25%</th>\n",
       "      <td>0.000000</td>\n",
       "      <td>2.000000</td>\n",
       "      <td>21.000000</td>\n",
       "      <td>0.000000</td>\n",
       "      <td>0.000000</td>\n",
       "      <td>7.895800</td>\n",
       "    </tr>\n",
       "    <tr>\n",
       "      <th>50%</th>\n",
       "      <td>0.000000</td>\n",
       "      <td>3.000000</td>\n",
       "      <td>28.000000</td>\n",
       "      <td>0.000000</td>\n",
       "      <td>0.000000</td>\n",
       "      <td>14.458300</td>\n",
       "    </tr>\n",
       "    <tr>\n",
       "      <th>75%</th>\n",
       "      <td>1.000000</td>\n",
       "      <td>3.000000</td>\n",
       "      <td>38.000000</td>\n",
       "      <td>1.000000</td>\n",
       "      <td>0.000000</td>\n",
       "      <td>30.017700</td>\n",
       "    </tr>\n",
       "    <tr>\n",
       "      <th>max</th>\n",
       "      <td>1.000000</td>\n",
       "      <td>3.000000</td>\n",
       "      <td>80.000000</td>\n",
       "      <td>8.000000</td>\n",
       "      <td>9.000000</td>\n",
       "      <td>512.329200</td>\n",
       "    </tr>\n",
       "  </tbody>\n",
       "</table>\n",
       "</div>"
      ],
      "text/plain": [
       "         survived      pclass         age       sibsp       parch        fare\n",
       "count  916.000000  916.000000  736.000000  916.000000  916.000000  916.000000\n",
       "mean     0.377729    2.292576   29.698370    0.507642    0.361354   32.402710\n",
       "std      0.485084    0.838675   14.185627    1.044866    0.828054   50.506411\n",
       "min      0.000000    1.000000    0.170000    0.000000    0.000000    0.000000\n",
       "25%      0.000000    2.000000   21.000000    0.000000    0.000000    7.895800\n",
       "50%      0.000000    3.000000   28.000000    0.000000    0.000000   14.458300\n",
       "75%      1.000000    3.000000   38.000000    1.000000    0.000000   30.017700\n",
       "max      1.000000    3.000000   80.000000    8.000000    9.000000  512.329200"
      ]
     },
     "execution_count": 21,
     "metadata": {},
     "output_type": "execute_result"
    }
   ],
   "source": [
    "df_number.describe()"
   ]
  },
  {
   "cell_type": "markdown",
   "id": "54328154",
   "metadata": {
    "hidden": true
   },
   "source": [
    "> survived, pclass 는 수치형 데이터지만 특정된 값만을 가지고 있다."
   ]
  },
  {
   "cell_type": "markdown",
   "id": "140a028a",
   "metadata": {
    "heading_collapsed": true,
    "hidden": true
   },
   "source": [
    "#### survived"
   ]
  },
  {
   "cell_type": "markdown",
   "id": "0fc92dc5",
   "metadata": {
    "hidden": true
   },
   "source": [
    "> survived 는 0과 1로 이루어진 범주형 데이터인 것으로 확인된다."
   ]
  },
  {
   "cell_type": "code",
   "execution_count": 22,
   "id": "35fc50ad",
   "metadata": {
    "hidden": true
   },
   "outputs": [
    {
     "data": {
      "text/plain": [
       "array([0, 1])"
      ]
     },
     "execution_count": 22,
     "metadata": {},
     "output_type": "execute_result"
    }
   ],
   "source": [
    "df_number['survived'].unique()"
   ]
  },
  {
   "cell_type": "markdown",
   "id": "67440a8c",
   "metadata": {
    "heading_collapsed": true,
    "hidden": true
   },
   "source": [
    "#### pclass"
   ]
  },
  {
   "cell_type": "markdown",
   "id": "0c6a9f1f",
   "metadata": {
    "hidden": true
   },
   "source": [
    "> pclass 는 1, 2, 3 으로 이루어진 범주형 데이터 인것으로 확인된다."
   ]
  },
  {
   "cell_type": "code",
   "execution_count": 23,
   "id": "432e489e",
   "metadata": {
    "hidden": true
   },
   "outputs": [
    {
     "data": {
      "text/plain": [
       "array([2, 3, 1])"
      ]
     },
     "execution_count": 23,
     "metadata": {},
     "output_type": "execute_result"
    }
   ],
   "source": [
    "df_number['pclass'].unique()"
   ]
  },
  {
   "cell_type": "markdown",
   "id": "2d3dd6ac",
   "metadata": {
    "heading_collapsed": true,
    "hidden": true
   },
   "source": [
    "#### age"
   ]
  },
  {
   "cell_type": "code",
   "execution_count": 25,
   "id": "95d2d8a3",
   "metadata": {
    "hidden": true,
    "scrolled": true
   },
   "outputs": [
    {
     "data": {
      "text/plain": [
       "array([  nan, 52.  , 27.  , 44.  , 41.  , 28.5 , 32.  , 24.  , 54.  ,\n",
       "       18.  , 30.  , 50.  , 51.  , 61.  , 23.  , 10.  , 20.  , 25.  ,\n",
       "       16.  , 22.  , 19.  , 26.  ,  9.  , 29.  , 36.  , 39.  , 34.  ,\n",
       "       28.  , 22.5 , 58.  , 60.  , 53.  , 21.  ,  8.  , 33.  , 45.  ,\n",
       "       17.  , 74.  ,  2.  , 35.  , 40.  ,  7.  ,  1.  , 47.  , 49.  ,\n",
       "       11.  , 31.  , 15.  , 37.  , 43.  , 64.  , 63.  , 48.  , 62.  ,\n",
       "       42.  ,  0.33, 14.  ,  6.  ,  5.  , 38.  ,  0.75, 70.  , 55.  ,\n",
       "       59.  , 66.  ,  3.  , 36.5 , 46.  , 71.  , 57.  , 11.5 , 18.5 ,\n",
       "        4.  , 34.5 , 32.5 , 38.5 , 65.  ,  0.83, 13.  , 26.5 , 12.  ,\n",
       "        0.17, 45.5 , 30.5 , 14.5 , 24.5 , 70.5 , 80.  , 20.5 ,  0.67,\n",
       "       40.5 , 76.  ,  0.92])"
      ]
     },
     "execution_count": 25,
     "metadata": {},
     "output_type": "execute_result"
    }
   ],
   "source": [
    "df_number['age'].unique()"
   ]
  },
  {
   "cell_type": "code",
   "execution_count": 112,
   "id": "ee70399b",
   "metadata": {
    "hidden": true
   },
   "outputs": [
    {
     "data": {
      "text/plain": [
       "92"
      ]
     },
     "execution_count": 112,
     "metadata": {},
     "output_type": "execute_result"
    }
   ],
   "source": [
    "df_number['age'].nunique()"
   ]
  },
  {
   "cell_type": "code",
   "execution_count": 26,
   "id": "f1b47e0f",
   "metadata": {
    "hidden": true,
    "scrolled": true
   },
   "outputs": [
    {
     "name": "stdout",
     "output_type": "stream",
     "text": [
      "** df_number - age 통계적 분석 **\n",
      "\n",
      "총 합계 : 21858.0\n",
      "평균 : 29.69836956521739\n",
      "중앙값 : 28.0\n",
      "분산 : 201.23202237207926\n",
      "표준편차 : 14.185627316833022\n",
      "최솟값 : 0.17\n",
      "최댓값 : 80.0\n",
      "분위수 계산\n",
      "0.25    21.0\n",
      "0.50    28.0\n",
      "0.75    38.0\n",
      "Name: age, dtype: float64\n"
     ]
    }
   ],
   "source": [
    "print(\"** df_number - age 통계적 분석 **\")\n",
    "print()\n",
    "print(f\"총 합계 : {df_number['age'].sum()}\")\n",
    "print(f\"평균 : {df_number['age'].mean()}\")\n",
    "print(f\"중앙값 : {df_number['age'].median()}\")\n",
    "print(f\"분산 : {df_number['age'].var()}\")\n",
    "print(f\"표준편차 : {df_number['age'].std()}\")\n",
    "print(f\"최솟값 : {df_number['age'].min()}\")\n",
    "print(f\"최댓값 : {df_number['age'].max()}\")\n",
    "print(f\"분위수 계산\\n{df_number['age'].quantile([0.25, 0.5, 0.75])}\")"
   ]
  },
  {
   "cell_type": "markdown",
   "id": "4e8e483d",
   "metadata": {
    "heading_collapsed": true,
    "hidden": true
   },
   "source": [
    "#### fare"
   ]
  },
  {
   "cell_type": "code",
   "execution_count": 108,
   "id": "6589e401",
   "metadata": {
    "hidden": true
   },
   "outputs": [
    {
     "data": {
      "text/plain": [
       "array([12.875 ,  7.75  , 93.5   ,  7.7958, 26.    , 20.2125,  7.2292,\n",
       "       13.    ,  8.05  , 81.8583])"
      ]
     },
     "execution_count": 108,
     "metadata": {},
     "output_type": "execute_result"
    }
   ],
   "source": [
    "df_number['fare'].unique()[:10]"
   ]
  },
  {
   "cell_type": "code",
   "execution_count": 113,
   "id": "53e8a775",
   "metadata": {
    "hidden": true
   },
   "outputs": [
    {
     "data": {
      "text/plain": [
       "251"
      ]
     },
     "execution_count": 113,
     "metadata": {},
     "output_type": "execute_result"
    }
   ],
   "source": [
    "df_number['fare'].nunique()"
   ]
  },
  {
   "cell_type": "code",
   "execution_count": 109,
   "id": "0c79af19",
   "metadata": {
    "hidden": true
   },
   "outputs": [
    {
     "name": "stdout",
     "output_type": "stream",
     "text": [
      "** df_number - age 통계적 분석 **\n",
      "\n",
      "총 합계 : 29680.8828\n",
      "평균 : 32.40271048034934\n",
      "중앙값 : 14.4583\n",
      "분산 : 2550.8975053926765\n",
      "표준편차 : 50.506410537600836\n",
      "최솟값 : 0.0\n",
      "최댓값 : 512.3292\n",
      "분위수 계산\n",
      "0.25     7.8958\n",
      "0.50    14.4583\n",
      "0.75    30.0177\n",
      "Name: fare, dtype: float64\n"
     ]
    }
   ],
   "source": [
    "print(\"** df_number - age 통계적 분석 **\")\n",
    "print()\n",
    "print(f\"총 합계 : {df_number['fare'].sum()}\")\n",
    "print(f\"평균 : {df_number['fare'].mean()}\")\n",
    "print(f\"중앙값 : {df_number['fare'].median()}\")\n",
    "print(f\"분산 : {df_number['fare'].var()}\")\n",
    "print(f\"표준편차 : {df_number['fare'].std()}\")\n",
    "print(f\"최솟값 : {df_number['fare'].min()}\")\n",
    "print(f\"최댓값 : {df_number['fare'].max()}\")\n",
    "print(f\"분위수 계산\\n{df_number['fare'].quantile([0.25, 0.5, 0.75])}\")"
   ]
  },
  {
   "cell_type": "markdown",
   "id": "b3ccb1de",
   "metadata": {
    "heading_collapsed": true,
    "hidden": true
   },
   "source": [
    "#### sibsp"
   ]
  },
  {
   "cell_type": "markdown",
   "id": "c5602546",
   "metadata": {
    "hidden": true
   },
   "source": [
    "> sibsp 는 고유값이 상대적으로 적지만 범주형 데이터라고 보기에는 어렵다."
   ]
  },
  {
   "cell_type": "code",
   "execution_count": 32,
   "id": "1c01778f",
   "metadata": {
    "hidden": true
   },
   "outputs": [
    {
     "data": {
      "text/plain": [
       "array([0, 1, 8, 5, 3, 2, 4])"
      ]
     },
     "execution_count": 32,
     "metadata": {},
     "output_type": "execute_result"
    }
   ],
   "source": [
    "df_number['sibsp'].unique()"
   ]
  },
  {
   "cell_type": "code",
   "execution_count": 39,
   "id": "f48b80aa",
   "metadata": {
    "hidden": true
   },
   "outputs": [
    {
     "data": {
      "text/html": [
       "<div>\n",
       "<style scoped>\n",
       "    .dataframe tbody tr th:only-of-type {\n",
       "        vertical-align: middle;\n",
       "    }\n",
       "\n",
       "    .dataframe tbody tr th {\n",
       "        vertical-align: top;\n",
       "    }\n",
       "\n",
       "    .dataframe thead th {\n",
       "        text-align: right;\n",
       "    }\n",
       "</style>\n",
       "<table border=\"1\" class=\"dataframe\">\n",
       "  <thead>\n",
       "    <tr style=\"text-align: right;\">\n",
       "      <th></th>\n",
       "      <th>sibsp</th>\n",
       "      <th>0</th>\n",
       "      <th>1</th>\n",
       "      <th>2</th>\n",
       "      <th>3</th>\n",
       "      <th>4</th>\n",
       "      <th>5</th>\n",
       "      <th>8</th>\n",
       "    </tr>\n",
       "  </thead>\n",
       "  <tbody>\n",
       "    <tr>\n",
       "      <th rowspan=\"8\" valign=\"top\">survived</th>\n",
       "      <th>count</th>\n",
       "      <td>621.000000</td>\n",
       "      <td>222.000000</td>\n",
       "      <td>30.000000</td>\n",
       "      <td>17.000000</td>\n",
       "      <td>16.000000</td>\n",
       "      <td>4.000000</td>\n",
       "      <td>6.000000</td>\n",
       "    </tr>\n",
       "    <tr>\n",
       "      <th>mean</th>\n",
       "      <td>0.333333</td>\n",
       "      <td>0.531532</td>\n",
       "      <td>0.433333</td>\n",
       "      <td>0.235294</td>\n",
       "      <td>0.125000</td>\n",
       "      <td>0.250000</td>\n",
       "      <td>0.166667</td>\n",
       "    </tr>\n",
       "    <tr>\n",
       "      <th>std</th>\n",
       "      <td>0.471785</td>\n",
       "      <td>0.500132</td>\n",
       "      <td>0.504007</td>\n",
       "      <td>0.437237</td>\n",
       "      <td>0.341565</td>\n",
       "      <td>0.500000</td>\n",
       "      <td>0.408248</td>\n",
       "    </tr>\n",
       "    <tr>\n",
       "      <th>min</th>\n",
       "      <td>0.000000</td>\n",
       "      <td>0.000000</td>\n",
       "      <td>0.000000</td>\n",
       "      <td>0.000000</td>\n",
       "      <td>0.000000</td>\n",
       "      <td>0.000000</td>\n",
       "      <td>0.000000</td>\n",
       "    </tr>\n",
       "    <tr>\n",
       "      <th>25%</th>\n",
       "      <td>0.000000</td>\n",
       "      <td>0.000000</td>\n",
       "      <td>0.000000</td>\n",
       "      <td>0.000000</td>\n",
       "      <td>0.000000</td>\n",
       "      <td>0.000000</td>\n",
       "      <td>0.000000</td>\n",
       "    </tr>\n",
       "    <tr>\n",
       "      <th>50%</th>\n",
       "      <td>0.000000</td>\n",
       "      <td>1.000000</td>\n",
       "      <td>0.000000</td>\n",
       "      <td>0.000000</td>\n",
       "      <td>0.000000</td>\n",
       "      <td>0.000000</td>\n",
       "      <td>0.000000</td>\n",
       "    </tr>\n",
       "    <tr>\n",
       "      <th>75%</th>\n",
       "      <td>1.000000</td>\n",
       "      <td>1.000000</td>\n",
       "      <td>1.000000</td>\n",
       "      <td>0.000000</td>\n",
       "      <td>0.000000</td>\n",
       "      <td>0.250000</td>\n",
       "      <td>0.000000</td>\n",
       "    </tr>\n",
       "    <tr>\n",
       "      <th>max</th>\n",
       "      <td>1.000000</td>\n",
       "      <td>1.000000</td>\n",
       "      <td>1.000000</td>\n",
       "      <td>1.000000</td>\n",
       "      <td>1.000000</td>\n",
       "      <td>1.000000</td>\n",
       "      <td>1.000000</td>\n",
       "    </tr>\n",
       "    <tr>\n",
       "      <th rowspan=\"8\" valign=\"top\">pclass</th>\n",
       "      <th>count</th>\n",
       "      <td>621.000000</td>\n",
       "      <td>222.000000</td>\n",
       "      <td>30.000000</td>\n",
       "      <td>17.000000</td>\n",
       "      <td>16.000000</td>\n",
       "      <td>4.000000</td>\n",
       "      <td>6.000000</td>\n",
       "    </tr>\n",
       "    <tr>\n",
       "      <th>mean</th>\n",
       "      <td>2.344605</td>\n",
       "      <td>2.027027</td>\n",
       "      <td>2.400000</td>\n",
       "      <td>2.588235</td>\n",
       "      <td>3.000000</td>\n",
       "      <td>3.000000</td>\n",
       "      <td>3.000000</td>\n",
       "    </tr>\n",
       "    <tr>\n",
       "      <th>std</th>\n",
       "      <td>0.821343</td>\n",
       "      <td>0.866255</td>\n",
       "      <td>0.770132</td>\n",
       "      <td>0.795206</td>\n",
       "      <td>0.000000</td>\n",
       "      <td>0.000000</td>\n",
       "      <td>0.000000</td>\n",
       "    </tr>\n",
       "    <tr>\n",
       "      <th>min</th>\n",
       "      <td>1.000000</td>\n",
       "      <td>1.000000</td>\n",
       "      <td>1.000000</td>\n",
       "      <td>1.000000</td>\n",
       "      <td>3.000000</td>\n",
       "      <td>3.000000</td>\n",
       "      <td>3.000000</td>\n",
       "    </tr>\n",
       "    <tr>\n",
       "      <th>25%</th>\n",
       "      <td>2.000000</td>\n",
       "      <td>1.000000</td>\n",
       "      <td>2.000000</td>\n",
       "      <td>3.000000</td>\n",
       "      <td>3.000000</td>\n",
       "      <td>3.000000</td>\n",
       "      <td>3.000000</td>\n",
       "    </tr>\n",
       "    <tr>\n",
       "      <th>50%</th>\n",
       "      <td>3.000000</td>\n",
       "      <td>2.000000</td>\n",
       "      <td>3.000000</td>\n",
       "      <td>3.000000</td>\n",
       "      <td>3.000000</td>\n",
       "      <td>3.000000</td>\n",
       "      <td>3.000000</td>\n",
       "    </tr>\n",
       "    <tr>\n",
       "      <th>75%</th>\n",
       "      <td>3.000000</td>\n",
       "      <td>3.000000</td>\n",
       "      <td>3.000000</td>\n",
       "      <td>3.000000</td>\n",
       "      <td>3.000000</td>\n",
       "      <td>3.000000</td>\n",
       "      <td>3.000000</td>\n",
       "    </tr>\n",
       "    <tr>\n",
       "      <th>max</th>\n",
       "      <td>3.000000</td>\n",
       "      <td>3.000000</td>\n",
       "      <td>3.000000</td>\n",
       "      <td>3.000000</td>\n",
       "      <td>3.000000</td>\n",
       "      <td>3.000000</td>\n",
       "      <td>3.000000</td>\n",
       "    </tr>\n",
       "    <tr>\n",
       "      <th rowspan=\"8\" valign=\"top\">age</th>\n",
       "      <th>count</th>\n",
       "      <td>480.000000</td>\n",
       "      <td>195.000000</td>\n",
       "      <td>26.000000</td>\n",
       "      <td>14.000000</td>\n",
       "      <td>16.000000</td>\n",
       "      <td>4.000000</td>\n",
       "      <td>1.000000</td>\n",
       "    </tr>\n",
       "    <tr>\n",
       "      <th>mean</th>\n",
       "      <td>30.812479</td>\n",
       "      <td>30.959026</td>\n",
       "      <td>23.326923</td>\n",
       "      <td>16.357143</td>\n",
       "      <td>9.187500</td>\n",
       "      <td>8.500000</td>\n",
       "      <td>14.500000</td>\n",
       "    </tr>\n",
       "    <tr>\n",
       "      <th>std</th>\n",
       "      <td>12.840049</td>\n",
       "      <td>15.749765</td>\n",
       "      <td>13.203554</td>\n",
       "      <td>12.401037</td>\n",
       "      <td>8.765225</td>\n",
       "      <td>5.446712</td>\n",
       "      <td>NaN</td>\n",
       "    </tr>\n",
       "    <tr>\n",
       "      <th>min</th>\n",
       "      <td>0.330000</td>\n",
       "      <td>0.170000</td>\n",
       "      <td>0.750000</td>\n",
       "      <td>2.000000</td>\n",
       "      <td>1.000000</td>\n",
       "      <td>1.000000</td>\n",
       "      <td>14.500000</td>\n",
       "    </tr>\n",
       "    <tr>\n",
       "      <th>25%</th>\n",
       "      <td>22.000000</td>\n",
       "      <td>20.500000</td>\n",
       "      <td>18.000000</td>\n",
       "      <td>4.500000</td>\n",
       "      <td>4.750000</td>\n",
       "      <td>7.000000</td>\n",
       "      <td>14.500000</td>\n",
       "    </tr>\n",
       "    <tr>\n",
       "      <th>50%</th>\n",
       "      <td>28.000000</td>\n",
       "      <td>30.000000</td>\n",
       "      <td>22.500000</td>\n",
       "      <td>14.500000</td>\n",
       "      <td>7.500000</td>\n",
       "      <td>9.500000</td>\n",
       "      <td>14.500000</td>\n",
       "    </tr>\n",
       "    <tr>\n",
       "      <th>75%</th>\n",
       "      <td>38.000000</td>\n",
       "      <td>42.000000</td>\n",
       "      <td>25.500000</td>\n",
       "      <td>28.750000</td>\n",
       "      <td>10.250000</td>\n",
       "      <td>11.000000</td>\n",
       "      <td>14.500000</td>\n",
       "    </tr>\n",
       "    <tr>\n",
       "      <th>max</th>\n",
       "      <td>80.000000</td>\n",
       "      <td>76.000000</td>\n",
       "      <td>55.000000</td>\n",
       "      <td>33.000000</td>\n",
       "      <td>38.000000</td>\n",
       "      <td>14.000000</td>\n",
       "      <td>14.500000</td>\n",
       "    </tr>\n",
       "    <tr>\n",
       "      <th rowspan=\"8\" valign=\"top\">parch</th>\n",
       "      <th>count</th>\n",
       "      <td>621.000000</td>\n",
       "      <td>222.000000</td>\n",
       "      <td>30.000000</td>\n",
       "      <td>17.000000</td>\n",
       "      <td>16.000000</td>\n",
       "      <td>4.000000</td>\n",
       "      <td>6.000000</td>\n",
       "    </tr>\n",
       "    <tr>\n",
       "      <th>mean</th>\n",
       "      <td>0.162641</td>\n",
       "      <td>0.675676</td>\n",
       "      <td>0.533333</td>\n",
       "      <td>1.176471</td>\n",
       "      <td>1.500000</td>\n",
       "      <td>2.000000</td>\n",
       "      <td>2.000000</td>\n",
       "    </tr>\n",
       "    <tr>\n",
       "      <th>std</th>\n",
       "      <td>0.563075</td>\n",
       "      <td>1.146801</td>\n",
       "      <td>0.860366</td>\n",
       "      <td>0.727607</td>\n",
       "      <td>0.516398</td>\n",
       "      <td>0.000000</td>\n",
       "      <td>0.000000</td>\n",
       "    </tr>\n",
       "    <tr>\n",
       "      <th>min</th>\n",
       "      <td>0.000000</td>\n",
       "      <td>0.000000</td>\n",
       "      <td>0.000000</td>\n",
       "      <td>0.000000</td>\n",
       "      <td>1.000000</td>\n",
       "      <td>2.000000</td>\n",
       "      <td>2.000000</td>\n",
       "    </tr>\n",
       "    <tr>\n",
       "      <th>25%</th>\n",
       "      <td>0.000000</td>\n",
       "      <td>0.000000</td>\n",
       "      <td>0.000000</td>\n",
       "      <td>1.000000</td>\n",
       "      <td>1.000000</td>\n",
       "      <td>2.000000</td>\n",
       "      <td>2.000000</td>\n",
       "    </tr>\n",
       "    <tr>\n",
       "      <th>50%</th>\n",
       "      <td>0.000000</td>\n",
       "      <td>0.000000</td>\n",
       "      <td>0.000000</td>\n",
       "      <td>1.000000</td>\n",
       "      <td>1.500000</td>\n",
       "      <td>2.000000</td>\n",
       "      <td>2.000000</td>\n",
       "    </tr>\n",
       "    <tr>\n",
       "      <th>75%</th>\n",
       "      <td>0.000000</td>\n",
       "      <td>1.000000</td>\n",
       "      <td>1.000000</td>\n",
       "      <td>2.000000</td>\n",
       "      <td>2.000000</td>\n",
       "      <td>2.000000</td>\n",
       "      <td>2.000000</td>\n",
       "    </tr>\n",
       "    <tr>\n",
       "      <th>max</th>\n",
       "      <td>5.000000</td>\n",
       "      <td>9.000000</td>\n",
       "      <td>3.000000</td>\n",
       "      <td>2.000000</td>\n",
       "      <td>2.000000</td>\n",
       "      <td>2.000000</td>\n",
       "      <td>2.000000</td>\n",
       "    </tr>\n",
       "    <tr>\n",
       "      <th rowspan=\"8\" valign=\"top\">fare</th>\n",
       "      <th>count</th>\n",
       "      <td>621.000000</td>\n",
       "      <td>222.000000</td>\n",
       "      <td>30.000000</td>\n",
       "      <td>17.000000</td>\n",
       "      <td>16.000000</td>\n",
       "      <td>4.000000</td>\n",
       "      <td>6.000000</td>\n",
       "    </tr>\n",
       "    <tr>\n",
       "      <th>mean</th>\n",
       "      <td>25.067357</td>\n",
       "      <td>47.450545</td>\n",
       "      <td>45.066943</td>\n",
       "      <td>65.310300</td>\n",
       "      <td>32.053125</td>\n",
       "      <td>46.900000</td>\n",
       "      <td>69.550000</td>\n",
       "    </tr>\n",
       "    <tr>\n",
       "      <th>std</th>\n",
       "      <td>48.707656</td>\n",
       "      <td>47.037403</td>\n",
       "      <td>62.891362</td>\n",
       "      <td>94.390623</td>\n",
       "      <td>7.790244</td>\n",
       "      <td>0.000000</td>\n",
       "      <td>0.000000</td>\n",
       "    </tr>\n",
       "    <tr>\n",
       "      <th>min</th>\n",
       "      <td>0.000000</td>\n",
       "      <td>6.437500</td>\n",
       "      <td>7.925000</td>\n",
       "      <td>15.850000</td>\n",
       "      <td>7.775000</td>\n",
       "      <td>46.900000</td>\n",
       "      <td>69.550000</td>\n",
       "    </tr>\n",
       "    <tr>\n",
       "      <th>25%</th>\n",
       "      <td>7.795800</td>\n",
       "      <td>16.100000</td>\n",
       "      <td>18.187500</td>\n",
       "      <td>21.075000</td>\n",
       "      <td>30.737500</td>\n",
       "      <td>46.900000</td>\n",
       "      <td>69.550000</td>\n",
       "    </tr>\n",
       "    <tr>\n",
       "      <th>50%</th>\n",
       "      <td>9.500000</td>\n",
       "      <td>26.000000</td>\n",
       "      <td>23.250000</td>\n",
       "      <td>25.466700</td>\n",
       "      <td>31.331250</td>\n",
       "      <td>46.900000</td>\n",
       "      <td>69.550000</td>\n",
       "    </tr>\n",
       "    <tr>\n",
       "      <th>75%</th>\n",
       "      <td>26.000000</td>\n",
       "      <td>64.043750</td>\n",
       "      <td>34.375000</td>\n",
       "      <td>27.900000</td>\n",
       "      <td>39.687500</td>\n",
       "      <td>46.900000</td>\n",
       "      <td>69.550000</td>\n",
       "    </tr>\n",
       "    <tr>\n",
       "      <th>max</th>\n",
       "      <td>512.329200</td>\n",
       "      <td>262.375000</td>\n",
       "      <td>262.375000</td>\n",
       "      <td>263.000000</td>\n",
       "      <td>39.687500</td>\n",
       "      <td>46.900000</td>\n",
       "      <td>69.550000</td>\n",
       "    </tr>\n",
       "  </tbody>\n",
       "</table>\n",
       "</div>"
      ],
      "text/plain": [
       "sibsp                    0           1           2           3          4  \\\n",
       "survived count  621.000000  222.000000   30.000000   17.000000  16.000000   \n",
       "         mean     0.333333    0.531532    0.433333    0.235294   0.125000   \n",
       "         std      0.471785    0.500132    0.504007    0.437237   0.341565   \n",
       "         min      0.000000    0.000000    0.000000    0.000000   0.000000   \n",
       "         25%      0.000000    0.000000    0.000000    0.000000   0.000000   \n",
       "         50%      0.000000    1.000000    0.000000    0.000000   0.000000   \n",
       "         75%      1.000000    1.000000    1.000000    0.000000   0.000000   \n",
       "         max      1.000000    1.000000    1.000000    1.000000   1.000000   \n",
       "pclass   count  621.000000  222.000000   30.000000   17.000000  16.000000   \n",
       "         mean     2.344605    2.027027    2.400000    2.588235   3.000000   \n",
       "         std      0.821343    0.866255    0.770132    0.795206   0.000000   \n",
       "         min      1.000000    1.000000    1.000000    1.000000   3.000000   \n",
       "         25%      2.000000    1.000000    2.000000    3.000000   3.000000   \n",
       "         50%      3.000000    2.000000    3.000000    3.000000   3.000000   \n",
       "         75%      3.000000    3.000000    3.000000    3.000000   3.000000   \n",
       "         max      3.000000    3.000000    3.000000    3.000000   3.000000   \n",
       "age      count  480.000000  195.000000   26.000000   14.000000  16.000000   \n",
       "         mean    30.812479   30.959026   23.326923   16.357143   9.187500   \n",
       "         std     12.840049   15.749765   13.203554   12.401037   8.765225   \n",
       "         min      0.330000    0.170000    0.750000    2.000000   1.000000   \n",
       "         25%     22.000000   20.500000   18.000000    4.500000   4.750000   \n",
       "         50%     28.000000   30.000000   22.500000   14.500000   7.500000   \n",
       "         75%     38.000000   42.000000   25.500000   28.750000  10.250000   \n",
       "         max     80.000000   76.000000   55.000000   33.000000  38.000000   \n",
       "parch    count  621.000000  222.000000   30.000000   17.000000  16.000000   \n",
       "         mean     0.162641    0.675676    0.533333    1.176471   1.500000   \n",
       "         std      0.563075    1.146801    0.860366    0.727607   0.516398   \n",
       "         min      0.000000    0.000000    0.000000    0.000000   1.000000   \n",
       "         25%      0.000000    0.000000    0.000000    1.000000   1.000000   \n",
       "         50%      0.000000    0.000000    0.000000    1.000000   1.500000   \n",
       "         75%      0.000000    1.000000    1.000000    2.000000   2.000000   \n",
       "         max      5.000000    9.000000    3.000000    2.000000   2.000000   \n",
       "fare     count  621.000000  222.000000   30.000000   17.000000  16.000000   \n",
       "         mean    25.067357   47.450545   45.066943   65.310300  32.053125   \n",
       "         std     48.707656   47.037403   62.891362   94.390623   7.790244   \n",
       "         min      0.000000    6.437500    7.925000   15.850000   7.775000   \n",
       "         25%      7.795800   16.100000   18.187500   21.075000  30.737500   \n",
       "         50%      9.500000   26.000000   23.250000   25.466700  31.331250   \n",
       "         75%     26.000000   64.043750   34.375000   27.900000  39.687500   \n",
       "         max    512.329200  262.375000  262.375000  263.000000  39.687500   \n",
       "\n",
       "sibsp                   5          8  \n",
       "survived count   4.000000   6.000000  \n",
       "         mean    0.250000   0.166667  \n",
       "         std     0.500000   0.408248  \n",
       "         min     0.000000   0.000000  \n",
       "         25%     0.000000   0.000000  \n",
       "         50%     0.000000   0.000000  \n",
       "         75%     0.250000   0.000000  \n",
       "         max     1.000000   1.000000  \n",
       "pclass   count   4.000000   6.000000  \n",
       "         mean    3.000000   3.000000  \n",
       "         std     0.000000   0.000000  \n",
       "         min     3.000000   3.000000  \n",
       "         25%     3.000000   3.000000  \n",
       "         50%     3.000000   3.000000  \n",
       "         75%     3.000000   3.000000  \n",
       "         max     3.000000   3.000000  \n",
       "age      count   4.000000   1.000000  \n",
       "         mean    8.500000  14.500000  \n",
       "         std     5.446712        NaN  \n",
       "         min     1.000000  14.500000  \n",
       "         25%     7.000000  14.500000  \n",
       "         50%     9.500000  14.500000  \n",
       "         75%    11.000000  14.500000  \n",
       "         max    14.000000  14.500000  \n",
       "parch    count   4.000000   6.000000  \n",
       "         mean    2.000000   2.000000  \n",
       "         std     0.000000   0.000000  \n",
       "         min     2.000000   2.000000  \n",
       "         25%     2.000000   2.000000  \n",
       "         50%     2.000000   2.000000  \n",
       "         75%     2.000000   2.000000  \n",
       "         max     2.000000   2.000000  \n",
       "fare     count   4.000000   6.000000  \n",
       "         mean   46.900000  69.550000  \n",
       "         std     0.000000   0.000000  \n",
       "         min    46.900000  69.550000  \n",
       "         25%    46.900000  69.550000  \n",
       "         50%    46.900000  69.550000  \n",
       "         75%    46.900000  69.550000  \n",
       "         max    46.900000  69.550000  "
      ]
     },
     "execution_count": 39,
     "metadata": {},
     "output_type": "execute_result"
    }
   ],
   "source": [
    "df_number.groupby('sibsp').describe().T"
   ]
  },
  {
   "cell_type": "markdown",
   "id": "198d3cb8",
   "metadata": {
    "heading_collapsed": true,
    "hidden": true
   },
   "source": [
    "#### parch"
   ]
  },
  {
   "cell_type": "markdown",
   "id": "c39f1609",
   "metadata": {
    "hidden": true
   },
   "source": [
    "> parch 는 고유값이 상대적으로 적지만 범주형 데이터라고 보기에는 어렵다."
   ]
  },
  {
   "cell_type": "code",
   "execution_count": 31,
   "id": "1e44082a",
   "metadata": {
    "hidden": true
   },
   "outputs": [
    {
     "data": {
      "text/plain": [
       "array([0, 1, 2, 3, 4, 6, 5, 9])"
      ]
     },
     "execution_count": 31,
     "metadata": {},
     "output_type": "execute_result"
    }
   ],
   "source": [
    "df_number['parch'].unique()"
   ]
  },
  {
   "cell_type": "code",
   "execution_count": 38,
   "id": "9698333a",
   "metadata": {
    "hidden": true
   },
   "outputs": [
    {
     "data": {
      "text/html": [
       "<div>\n",
       "<style scoped>\n",
       "    .dataframe tbody tr th:only-of-type {\n",
       "        vertical-align: middle;\n",
       "    }\n",
       "\n",
       "    .dataframe tbody tr th {\n",
       "        vertical-align: top;\n",
       "    }\n",
       "\n",
       "    .dataframe thead th {\n",
       "        text-align: right;\n",
       "    }\n",
       "</style>\n",
       "<table border=\"1\" class=\"dataframe\">\n",
       "  <thead>\n",
       "    <tr style=\"text-align: right;\">\n",
       "      <th></th>\n",
       "      <th>parch</th>\n",
       "      <th>0</th>\n",
       "      <th>1</th>\n",
       "      <th>2</th>\n",
       "      <th>3</th>\n",
       "      <th>4</th>\n",
       "      <th>5</th>\n",
       "      <th>6</th>\n",
       "      <th>9</th>\n",
       "    </tr>\n",
       "  </thead>\n",
       "  <tbody>\n",
       "    <tr>\n",
       "      <th rowspan=\"8\" valign=\"top\">survived</th>\n",
       "      <th>count</th>\n",
       "      <td>709.000000</td>\n",
       "      <td>121.000000</td>\n",
       "      <td>70.000000</td>\n",
       "      <td>6.000000</td>\n",
       "      <td>4.000000</td>\n",
       "      <td>3.000000</td>\n",
       "      <td>2.00000</td>\n",
       "      <td>1.00</td>\n",
       "    </tr>\n",
       "    <tr>\n",
       "      <th>mean</th>\n",
       "      <td>0.346968</td>\n",
       "      <td>0.487603</td>\n",
       "      <td>0.500000</td>\n",
       "      <td>0.500000</td>\n",
       "      <td>0.250000</td>\n",
       "      <td>0.333333</td>\n",
       "      <td>0.00000</td>\n",
       "      <td>1.00</td>\n",
       "    </tr>\n",
       "    <tr>\n",
       "      <th>std</th>\n",
       "      <td>0.476341</td>\n",
       "      <td>0.501925</td>\n",
       "      <td>0.503610</td>\n",
       "      <td>0.547723</td>\n",
       "      <td>0.500000</td>\n",
       "      <td>0.577350</td>\n",
       "      <td>0.00000</td>\n",
       "      <td>NaN</td>\n",
       "    </tr>\n",
       "    <tr>\n",
       "      <th>min</th>\n",
       "      <td>0.000000</td>\n",
       "      <td>0.000000</td>\n",
       "      <td>0.000000</td>\n",
       "      <td>0.000000</td>\n",
       "      <td>0.000000</td>\n",
       "      <td>0.000000</td>\n",
       "      <td>0.00000</td>\n",
       "      <td>1.00</td>\n",
       "    </tr>\n",
       "    <tr>\n",
       "      <th>25%</th>\n",
       "      <td>0.000000</td>\n",
       "      <td>0.000000</td>\n",
       "      <td>0.000000</td>\n",
       "      <td>0.000000</td>\n",
       "      <td>0.000000</td>\n",
       "      <td>0.000000</td>\n",
       "      <td>0.00000</td>\n",
       "      <td>1.00</td>\n",
       "    </tr>\n",
       "    <tr>\n",
       "      <th>50%</th>\n",
       "      <td>0.000000</td>\n",
       "      <td>0.000000</td>\n",
       "      <td>0.500000</td>\n",
       "      <td>0.500000</td>\n",
       "      <td>0.000000</td>\n",
       "      <td>0.000000</td>\n",
       "      <td>0.00000</td>\n",
       "      <td>1.00</td>\n",
       "    </tr>\n",
       "    <tr>\n",
       "      <th>75%</th>\n",
       "      <td>1.000000</td>\n",
       "      <td>1.000000</td>\n",
       "      <td>1.000000</td>\n",
       "      <td>1.000000</td>\n",
       "      <td>0.250000</td>\n",
       "      <td>0.500000</td>\n",
       "      <td>0.00000</td>\n",
       "      <td>1.00</td>\n",
       "    </tr>\n",
       "    <tr>\n",
       "      <th>max</th>\n",
       "      <td>1.000000</td>\n",
       "      <td>1.000000</td>\n",
       "      <td>1.000000</td>\n",
       "      <td>1.000000</td>\n",
       "      <td>1.000000</td>\n",
       "      <td>1.000000</td>\n",
       "      <td>0.00000</td>\n",
       "      <td>1.00</td>\n",
       "    </tr>\n",
       "    <tr>\n",
       "      <th rowspan=\"8\" valign=\"top\">pclass</th>\n",
       "      <th>count</th>\n",
       "      <td>709.000000</td>\n",
       "      <td>121.000000</td>\n",
       "      <td>70.000000</td>\n",
       "      <td>6.000000</td>\n",
       "      <td>4.000000</td>\n",
       "      <td>3.000000</td>\n",
       "      <td>2.00000</td>\n",
       "      <td>1.00</td>\n",
       "    </tr>\n",
       "    <tr>\n",
       "      <th>mean</th>\n",
       "      <td>2.283498</td>\n",
       "      <td>2.256198</td>\n",
       "      <td>2.371429</td>\n",
       "      <td>2.000000</td>\n",
       "      <td>3.000000</td>\n",
       "      <td>3.000000</td>\n",
       "      <td>3.00000</td>\n",
       "      <td>3.00</td>\n",
       "    </tr>\n",
       "    <tr>\n",
       "      <th>std</th>\n",
       "      <td>0.842059</td>\n",
       "      <td>0.841912</td>\n",
       "      <td>0.819534</td>\n",
       "      <td>0.894427</td>\n",
       "      <td>0.000000</td>\n",
       "      <td>0.000000</td>\n",
       "      <td>0.00000</td>\n",
       "      <td>NaN</td>\n",
       "    </tr>\n",
       "    <tr>\n",
       "      <th>min</th>\n",
       "      <td>1.000000</td>\n",
       "      <td>1.000000</td>\n",
       "      <td>1.000000</td>\n",
       "      <td>1.000000</td>\n",
       "      <td>3.000000</td>\n",
       "      <td>3.000000</td>\n",
       "      <td>3.00000</td>\n",
       "      <td>3.00</td>\n",
       "    </tr>\n",
       "    <tr>\n",
       "      <th>25%</th>\n",
       "      <td>1.000000</td>\n",
       "      <td>1.000000</td>\n",
       "      <td>2.000000</td>\n",
       "      <td>1.250000</td>\n",
       "      <td>3.000000</td>\n",
       "      <td>3.000000</td>\n",
       "      <td>3.00000</td>\n",
       "      <td>3.00</td>\n",
       "    </tr>\n",
       "    <tr>\n",
       "      <th>50%</th>\n",
       "      <td>3.000000</td>\n",
       "      <td>3.000000</td>\n",
       "      <td>3.000000</td>\n",
       "      <td>2.000000</td>\n",
       "      <td>3.000000</td>\n",
       "      <td>3.000000</td>\n",
       "      <td>3.00000</td>\n",
       "      <td>3.00</td>\n",
       "    </tr>\n",
       "    <tr>\n",
       "      <th>75%</th>\n",
       "      <td>3.000000</td>\n",
       "      <td>3.000000</td>\n",
       "      <td>3.000000</td>\n",
       "      <td>2.750000</td>\n",
       "      <td>3.000000</td>\n",
       "      <td>3.000000</td>\n",
       "      <td>3.00000</td>\n",
       "      <td>3.00</td>\n",
       "    </tr>\n",
       "    <tr>\n",
       "      <th>max</th>\n",
       "      <td>3.000000</td>\n",
       "      <td>3.000000</td>\n",
       "      <td>3.000000</td>\n",
       "      <td>3.000000</td>\n",
       "      <td>3.000000</td>\n",
       "      <td>3.000000</td>\n",
       "      <td>3.00000</td>\n",
       "      <td>3.00</td>\n",
       "    </tr>\n",
       "    <tr>\n",
       "      <th rowspan=\"8\" valign=\"top\">age</th>\n",
       "      <th>count</th>\n",
       "      <td>550.000000</td>\n",
       "      <td>113.000000</td>\n",
       "      <td>59.000000</td>\n",
       "      <td>6.000000</td>\n",
       "      <td>3.000000</td>\n",
       "      <td>3.000000</td>\n",
       "      <td>2.00000</td>\n",
       "      <td>0.00</td>\n",
       "    </tr>\n",
       "    <tr>\n",
       "      <th>mean</th>\n",
       "      <td>31.966364</td>\n",
       "      <td>23.046460</td>\n",
       "      <td>18.750000</td>\n",
       "      <td>41.833333</td>\n",
       "      <td>38.000000</td>\n",
       "      <td>39.333333</td>\n",
       "      <td>41.50000</td>\n",
       "      <td>NaN</td>\n",
       "    </tr>\n",
       "    <tr>\n",
       "      <th>std</th>\n",
       "      <td>12.340688</td>\n",
       "      <td>17.187343</td>\n",
       "      <td>14.938371</td>\n",
       "      <td>17.758566</td>\n",
       "      <td>8.185353</td>\n",
       "      <td>1.527525</td>\n",
       "      <td>2.12132</td>\n",
       "      <td>NaN</td>\n",
       "    </tr>\n",
       "    <tr>\n",
       "      <th>min</th>\n",
       "      <td>11.000000</td>\n",
       "      <td>0.670000</td>\n",
       "      <td>0.170000</td>\n",
       "      <td>16.000000</td>\n",
       "      <td>29.000000</td>\n",
       "      <td>38.000000</td>\n",
       "      <td>40.00000</td>\n",
       "      <td>NaN</td>\n",
       "    </tr>\n",
       "    <tr>\n",
       "      <th>25%</th>\n",
       "      <td>23.000000</td>\n",
       "      <td>7.000000</td>\n",
       "      <td>7.500000</td>\n",
       "      <td>30.000000</td>\n",
       "      <td>34.500000</td>\n",
       "      <td>38.500000</td>\n",
       "      <td>40.75000</td>\n",
       "      <td>NaN</td>\n",
       "    </tr>\n",
       "    <tr>\n",
       "      <th>50%</th>\n",
       "      <td>29.000000</td>\n",
       "      <td>21.000000</td>\n",
       "      <td>15.000000</td>\n",
       "      <td>48.000000</td>\n",
       "      <td>40.000000</td>\n",
       "      <td>39.000000</td>\n",
       "      <td>41.50000</td>\n",
       "      <td>NaN</td>\n",
       "    </tr>\n",
       "    <tr>\n",
       "      <th>75%</th>\n",
       "      <td>39.000000</td>\n",
       "      <td>36.000000</td>\n",
       "      <td>27.500000</td>\n",
       "      <td>52.500000</td>\n",
       "      <td>42.500000</td>\n",
       "      <td>40.000000</td>\n",
       "      <td>42.25000</td>\n",
       "      <td>NaN</td>\n",
       "    </tr>\n",
       "    <tr>\n",
       "      <th>max</th>\n",
       "      <td>80.000000</td>\n",
       "      <td>70.000000</td>\n",
       "      <td>64.000000</td>\n",
       "      <td>61.000000</td>\n",
       "      <td>45.000000</td>\n",
       "      <td>41.000000</td>\n",
       "      <td>43.00000</td>\n",
       "      <td>NaN</td>\n",
       "    </tr>\n",
       "    <tr>\n",
       "      <th rowspan=\"8\" valign=\"top\">sibsp</th>\n",
       "      <th>count</th>\n",
       "      <td>709.000000</td>\n",
       "      <td>121.000000</td>\n",
       "      <td>70.000000</td>\n",
       "      <td>6.000000</td>\n",
       "      <td>4.000000</td>\n",
       "      <td>3.000000</td>\n",
       "      <td>2.00000</td>\n",
       "      <td>1.00</td>\n",
       "    </tr>\n",
       "    <tr>\n",
       "      <th>mean</th>\n",
       "      <td>0.249647</td>\n",
       "      <td>1.082645</td>\n",
       "      <td>2.057143</td>\n",
       "      <td>1.166667</td>\n",
       "      <td>0.500000</td>\n",
       "      <td>0.333333</td>\n",
       "      <td>1.00000</td>\n",
       "      <td>1.00</td>\n",
       "    </tr>\n",
       "    <tr>\n",
       "      <th>std</th>\n",
       "      <td>0.519143</td>\n",
       "      <td>1.092297</td>\n",
       "      <td>2.419041</td>\n",
       "      <td>0.408248</td>\n",
       "      <td>0.577350</td>\n",
       "      <td>0.577350</td>\n",
       "      <td>0.00000</td>\n",
       "      <td>NaN</td>\n",
       "    </tr>\n",
       "    <tr>\n",
       "      <th>min</th>\n",
       "      <td>0.000000</td>\n",
       "      <td>0.000000</td>\n",
       "      <td>0.000000</td>\n",
       "      <td>1.000000</td>\n",
       "      <td>0.000000</td>\n",
       "      <td>0.000000</td>\n",
       "      <td>1.00000</td>\n",
       "      <td>1.00</td>\n",
       "    </tr>\n",
       "    <tr>\n",
       "      <th>25%</th>\n",
       "      <td>0.000000</td>\n",
       "      <td>0.000000</td>\n",
       "      <td>0.000000</td>\n",
       "      <td>1.000000</td>\n",
       "      <td>0.000000</td>\n",
       "      <td>0.000000</td>\n",
       "      <td>1.00000</td>\n",
       "      <td>1.00</td>\n",
       "    </tr>\n",
       "    <tr>\n",
       "      <th>50%</th>\n",
       "      <td>0.000000</td>\n",
       "      <td>1.000000</td>\n",
       "      <td>1.000000</td>\n",
       "      <td>1.000000</td>\n",
       "      <td>0.500000</td>\n",
       "      <td>0.000000</td>\n",
       "      <td>1.00000</td>\n",
       "      <td>1.00</td>\n",
       "    </tr>\n",
       "    <tr>\n",
       "      <th>75%</th>\n",
       "      <td>0.000000</td>\n",
       "      <td>1.000000</td>\n",
       "      <td>3.750000</td>\n",
       "      <td>1.000000</td>\n",
       "      <td>1.000000</td>\n",
       "      <td>0.500000</td>\n",
       "      <td>1.00000</td>\n",
       "      <td>1.00</td>\n",
       "    </tr>\n",
       "    <tr>\n",
       "      <th>max</th>\n",
       "      <td>3.000000</td>\n",
       "      <td>4.000000</td>\n",
       "      <td>8.000000</td>\n",
       "      <td>2.000000</td>\n",
       "      <td>1.000000</td>\n",
       "      <td>1.000000</td>\n",
       "      <td>1.00000</td>\n",
       "      <td>1.00</td>\n",
       "    </tr>\n",
       "    <tr>\n",
       "      <th rowspan=\"8\" valign=\"top\">fare</th>\n",
       "      <th>count</th>\n",
       "      <td>709.000000</td>\n",
       "      <td>121.000000</td>\n",
       "      <td>70.000000</td>\n",
       "      <td>6.000000</td>\n",
       "      <td>4.000000</td>\n",
       "      <td>3.000000</td>\n",
       "      <td>2.00000</td>\n",
       "      <td>1.00</td>\n",
       "    </tr>\n",
       "    <tr>\n",
       "      <th>mean</th>\n",
       "      <td>27.058468</td>\n",
       "      <td>43.902169</td>\n",
       "      <td>59.758929</td>\n",
       "      <td>105.875000</td>\n",
       "      <td>25.585425</td>\n",
       "      <td>33.400000</td>\n",
       "      <td>46.90000</td>\n",
       "      <td>69.55</td>\n",
       "    </tr>\n",
       "    <tr>\n",
       "      <th>std</th>\n",
       "      <td>43.893355</td>\n",
       "      <td>62.713113</td>\n",
       "      <td>66.079927</td>\n",
       "      <td>121.382067</td>\n",
       "      <td>3.218309</td>\n",
       "      <td>5.561404</td>\n",
       "      <td>0.00000</td>\n",
       "      <td>NaN</td>\n",
       "    </tr>\n",
       "    <tr>\n",
       "      <th>min</th>\n",
       "      <td>0.000000</td>\n",
       "      <td>3.170800</td>\n",
       "      <td>7.229200</td>\n",
       "      <td>18.750000</td>\n",
       "      <td>21.075000</td>\n",
       "      <td>29.125000</td>\n",
       "      <td>46.90000</td>\n",
       "      <td>69.55</td>\n",
       "    </tr>\n",
       "    <tr>\n",
       "      <th>25%</th>\n",
       "      <td>7.854200</td>\n",
       "      <td>15.245800</td>\n",
       "      <td>23.450000</td>\n",
       "      <td>25.843750</td>\n",
       "      <td>24.368775</td>\n",
       "      <td>30.256250</td>\n",
       "      <td>46.90000</td>\n",
       "      <td>69.55</td>\n",
       "    </tr>\n",
       "    <tr>\n",
       "      <th>50%</th>\n",
       "      <td>10.500000</td>\n",
       "      <td>25.466700</td>\n",
       "      <td>31.275000</td>\n",
       "      <td>34.375000</td>\n",
       "      <td>26.683350</td>\n",
       "      <td>31.387500</td>\n",
       "      <td>46.90000</td>\n",
       "      <td>69.55</td>\n",
       "    </tr>\n",
       "    <tr>\n",
       "      <th>75%</th>\n",
       "      <td>26.550000</td>\n",
       "      <td>39.687500</td>\n",
       "      <td>69.550000</td>\n",
       "      <td>205.375000</td>\n",
       "      <td>27.900000</td>\n",
       "      <td>35.537500</td>\n",
       "      <td>46.90000</td>\n",
       "      <td>69.55</td>\n",
       "    </tr>\n",
       "    <tr>\n",
       "      <th>max</th>\n",
       "      <td>512.329200</td>\n",
       "      <td>512.329200</td>\n",
       "      <td>263.000000</td>\n",
       "      <td>262.375000</td>\n",
       "      <td>27.900000</td>\n",
       "      <td>39.687500</td>\n",
       "      <td>46.90000</td>\n",
       "      <td>69.55</td>\n",
       "    </tr>\n",
       "  </tbody>\n",
       "</table>\n",
       "</div>"
      ],
      "text/plain": [
       "parch                    0           1           2           3          4  \\\n",
       "survived count  709.000000  121.000000   70.000000    6.000000   4.000000   \n",
       "         mean     0.346968    0.487603    0.500000    0.500000   0.250000   \n",
       "         std      0.476341    0.501925    0.503610    0.547723   0.500000   \n",
       "         min      0.000000    0.000000    0.000000    0.000000   0.000000   \n",
       "         25%      0.000000    0.000000    0.000000    0.000000   0.000000   \n",
       "         50%      0.000000    0.000000    0.500000    0.500000   0.000000   \n",
       "         75%      1.000000    1.000000    1.000000    1.000000   0.250000   \n",
       "         max      1.000000    1.000000    1.000000    1.000000   1.000000   \n",
       "pclass   count  709.000000  121.000000   70.000000    6.000000   4.000000   \n",
       "         mean     2.283498    2.256198    2.371429    2.000000   3.000000   \n",
       "         std      0.842059    0.841912    0.819534    0.894427   0.000000   \n",
       "         min      1.000000    1.000000    1.000000    1.000000   3.000000   \n",
       "         25%      1.000000    1.000000    2.000000    1.250000   3.000000   \n",
       "         50%      3.000000    3.000000    3.000000    2.000000   3.000000   \n",
       "         75%      3.000000    3.000000    3.000000    2.750000   3.000000   \n",
       "         max      3.000000    3.000000    3.000000    3.000000   3.000000   \n",
       "age      count  550.000000  113.000000   59.000000    6.000000   3.000000   \n",
       "         mean    31.966364   23.046460   18.750000   41.833333  38.000000   \n",
       "         std     12.340688   17.187343   14.938371   17.758566   8.185353   \n",
       "         min     11.000000    0.670000    0.170000   16.000000  29.000000   \n",
       "         25%     23.000000    7.000000    7.500000   30.000000  34.500000   \n",
       "         50%     29.000000   21.000000   15.000000   48.000000  40.000000   \n",
       "         75%     39.000000   36.000000   27.500000   52.500000  42.500000   \n",
       "         max     80.000000   70.000000   64.000000   61.000000  45.000000   \n",
       "sibsp    count  709.000000  121.000000   70.000000    6.000000   4.000000   \n",
       "         mean     0.249647    1.082645    2.057143    1.166667   0.500000   \n",
       "         std      0.519143    1.092297    2.419041    0.408248   0.577350   \n",
       "         min      0.000000    0.000000    0.000000    1.000000   0.000000   \n",
       "         25%      0.000000    0.000000    0.000000    1.000000   0.000000   \n",
       "         50%      0.000000    1.000000    1.000000    1.000000   0.500000   \n",
       "         75%      0.000000    1.000000    3.750000    1.000000   1.000000   \n",
       "         max      3.000000    4.000000    8.000000    2.000000   1.000000   \n",
       "fare     count  709.000000  121.000000   70.000000    6.000000   4.000000   \n",
       "         mean    27.058468   43.902169   59.758929  105.875000  25.585425   \n",
       "         std     43.893355   62.713113   66.079927  121.382067   3.218309   \n",
       "         min      0.000000    3.170800    7.229200   18.750000  21.075000   \n",
       "         25%      7.854200   15.245800   23.450000   25.843750  24.368775   \n",
       "         50%     10.500000   25.466700   31.275000   34.375000  26.683350   \n",
       "         75%     26.550000   39.687500   69.550000  205.375000  27.900000   \n",
       "         max    512.329200  512.329200  263.000000  262.375000  27.900000   \n",
       "\n",
       "parch                   5         6      9  \n",
       "survived count   3.000000   2.00000   1.00  \n",
       "         mean    0.333333   0.00000   1.00  \n",
       "         std     0.577350   0.00000    NaN  \n",
       "         min     0.000000   0.00000   1.00  \n",
       "         25%     0.000000   0.00000   1.00  \n",
       "         50%     0.000000   0.00000   1.00  \n",
       "         75%     0.500000   0.00000   1.00  \n",
       "         max     1.000000   0.00000   1.00  \n",
       "pclass   count   3.000000   2.00000   1.00  \n",
       "         mean    3.000000   3.00000   3.00  \n",
       "         std     0.000000   0.00000    NaN  \n",
       "         min     3.000000   3.00000   3.00  \n",
       "         25%     3.000000   3.00000   3.00  \n",
       "         50%     3.000000   3.00000   3.00  \n",
       "         75%     3.000000   3.00000   3.00  \n",
       "         max     3.000000   3.00000   3.00  \n",
       "age      count   3.000000   2.00000   0.00  \n",
       "         mean   39.333333  41.50000    NaN  \n",
       "         std     1.527525   2.12132    NaN  \n",
       "         min    38.000000  40.00000    NaN  \n",
       "         25%    38.500000  40.75000    NaN  \n",
       "         50%    39.000000  41.50000    NaN  \n",
       "         75%    40.000000  42.25000    NaN  \n",
       "         max    41.000000  43.00000    NaN  \n",
       "sibsp    count   3.000000   2.00000   1.00  \n",
       "         mean    0.333333   1.00000   1.00  \n",
       "         std     0.577350   0.00000    NaN  \n",
       "         min     0.000000   1.00000   1.00  \n",
       "         25%     0.000000   1.00000   1.00  \n",
       "         50%     0.000000   1.00000   1.00  \n",
       "         75%     0.500000   1.00000   1.00  \n",
       "         max     1.000000   1.00000   1.00  \n",
       "fare     count   3.000000   2.00000   1.00  \n",
       "         mean   33.400000  46.90000  69.55  \n",
       "         std     5.561404   0.00000    NaN  \n",
       "         min    29.125000  46.90000  69.55  \n",
       "         25%    30.256250  46.90000  69.55  \n",
       "         50%    31.387500  46.90000  69.55  \n",
       "         75%    35.537500  46.90000  69.55  \n",
       "         max    39.687500  46.90000  69.55  "
      ]
     },
     "execution_count": 38,
     "metadata": {},
     "output_type": "execute_result"
    }
   ],
   "source": [
    "df_number.groupby('parch').describe().T"
   ]
  },
  {
   "cell_type": "markdown",
   "id": "b69c0518",
   "metadata": {
    "heading_collapsed": true
   },
   "source": [
    "### 왜도"
   ]
  },
  {
   "cell_type": "markdown",
   "id": "c6478f0a",
   "metadata": {
    "hidden": true
   },
   "source": [
    "데이터 분포의 비대칭도를 나타내는 통계량  \n",
    "분포가 오른쪽으로 치우쳐져 있고 왼쪽으로 긴 꼬리를 가지는 경우 왜도는 음수  \n",
    "분포가 왼쪽으로 치우쳐져 있고 오른쪽으로 긴 꼬리를 가지는 경우 왜도는 양수  \n",
    "정규 분포와 같이 좌우 대칭인 경우 왜도는 0에 가까워진다."
   ]
  },
  {
   "cell_type": "markdown",
   "id": "140eeec9",
   "metadata": {
    "hidden": true
   },
   "source": [
    "skewness 해석  \n",
    "- 0.5 ~ 0.5 : 상당히 대칭적  \n",
    "- -1 ~ -0.5 또는 0.5 ~ 1 : 적당히 치우침  \n",
    "- -1 보다 적거나 1 보다 큰 경우 : 상당히 치우침"
   ]
  },
  {
   "cell_type": "markdown",
   "id": "762e44b1",
   "metadata": {
    "heading_collapsed": true,
    "hidden": true
   },
   "source": [
    "#### fare"
   ]
  },
  {
   "cell_type": "markdown",
   "id": "1242d03d",
   "metadata": {
    "hidden": true
   },
   "source": [
    "fare 의 왜도는 4.6 으로 많이 치우친 것으로 볼 수 있다."
   ]
  },
  {
   "cell_type": "code",
   "execution_count": 43,
   "id": "653e2599",
   "metadata": {
    "hidden": true
   },
   "outputs": [
    {
     "data": {
      "text/plain": [
       "4.6645177836905765"
      ]
     },
     "execution_count": 43,
     "metadata": {},
     "output_type": "execute_result"
    }
   ],
   "source": [
    "df_number['fare'].skew()"
   ]
  },
  {
   "cell_type": "code",
   "execution_count": 40,
   "id": "558bbda8",
   "metadata": {
    "hidden": true
   },
   "outputs": [
    {
     "data": {
      "text/plain": [
       "(32.40271048034934, 14.4583, 13.0)"
      ]
     },
     "execution_count": 40,
     "metadata": {},
     "output_type": "execute_result"
    }
   ],
   "source": [
    "df_number['fare'].mean(), df_number['fare'].median(), df_number['fare'].mode().values[0]"
   ]
  },
  {
   "cell_type": "code",
   "execution_count": 41,
   "id": "6cba09ba",
   "metadata": {
    "hidden": true
   },
   "outputs": [
    {
     "data": {
      "text/plain": [
       "<Axes: ylabel='Frequency'>"
      ]
     },
     "execution_count": 41,
     "metadata": {},
     "output_type": "execute_result"
    },
    {
     "data": {
      "image/png": "[encoded data removed]",
      "text/plain": [
       "<Figure size 640x480 with 1 Axes>"
      ]
     },
     "metadata": {},
     "output_type": "display_data"
    }
   ],
   "source": [
    "df_number['fare'].plot.hist(bins=20)"
   ]
  },
  {
   "cell_type": "code",
   "execution_count": 42,
   "id": "77654ffa",
   "metadata": {
    "hidden": true
   },
   "outputs": [
    {
     "data": {
      "text/plain": [
       "<Axes: >"
      ]
     },
     "execution_count": 42,
     "metadata": {},
     "output_type": "execute_result"
    },
    {
     "data": {
      "image/png": "[encoded data removed]",
      "text/plain": [
       "<Figure size 640x480 with 1 Axes>"
      ]
     },
     "metadata": {},
     "output_type": "display_data"
    }
   ],
   "source": [
    "df_number['fare'].diff().hist(bins=20)"
   ]
  },
  {
   "cell_type": "markdown",
   "id": "23429827",
   "metadata": {
    "heading_collapsed": true,
    "hidden": true
   },
   "source": [
    "#### age"
   ]
  },
  {
   "cell_type": "markdown",
   "id": "72cf6c5e",
   "metadata": {
    "hidden": true
   },
   "source": [
    "age 의 왜도는 0.46 으로 상당히 대칭적인 것으로 확인된다. "
   ]
  },
  {
   "cell_type": "code",
   "execution_count": 44,
   "id": "81369522",
   "metadata": {
    "hidden": true
   },
   "outputs": [
    {
     "data": {
      "text/plain": [
       "0.4663303747733262"
      ]
     },
     "execution_count": 44,
     "metadata": {},
     "output_type": "execute_result"
    }
   ],
   "source": [
    "df_number['age'].skew()"
   ]
  },
  {
   "cell_type": "code",
   "execution_count": 45,
   "id": "f91a07ee",
   "metadata": {
    "hidden": true
   },
   "outputs": [
    {
     "data": {
      "text/plain": [
       "(29.69836956521739, 28.0, 24.0)"
      ]
     },
     "execution_count": 45,
     "metadata": {},
     "output_type": "execute_result"
    }
   ],
   "source": [
    "df_number['age'].mean(), df_number['age'].median(), df_number['age'].mode().values[0]"
   ]
  },
  {
   "cell_type": "code",
   "execution_count": 46,
   "id": "efdffaf7",
   "metadata": {
    "hidden": true
   },
   "outputs": [
    {
     "data": {
      "text/plain": [
       "<Axes: ylabel='Frequency'>"
      ]
     },
     "execution_count": 46,
     "metadata": {},
     "output_type": "execute_result"
    },
    {
     "data": {
      "image/png": "[encoded data removed]",
      "text/plain": [
       "<Figure size 640x480 with 1 Axes>"
      ]
     },
     "metadata": {},
     "output_type": "display_data"
    }
   ],
   "source": [
    "df_number['age'].plot.hist(bins=20)"
   ]
  },
  {
   "cell_type": "code",
   "execution_count": 47,
   "id": "277549c9",
   "metadata": {
    "hidden": true
   },
   "outputs": [
    {
     "data": {
      "text/plain": [
       "<Axes: >"
      ]
     },
     "execution_count": 47,
     "metadata": {},
     "output_type": "execute_result"
    },
    {
     "data": {
      "image/png": "[encoded data removed]",
      "text/plain": [
       "<Figure size 640x480 with 1 Axes>"
      ]
     },
     "metadata": {},
     "output_type": "display_data"
    }
   ],
   "source": [
    "df_number['age'].diff().hist(bins=20)"
   ]
  },
  {
   "cell_type": "markdown",
   "id": "19c5038f",
   "metadata": {
    "heading_collapsed": true
   },
   "source": [
    "### 첨도"
   ]
  },
  {
   "cell_type": "markdown",
   "id": "a818cb13",
   "metadata": {
    "hidden": true
   },
   "source": [
    "- kurtosis 해석\n",
    "  - Mesokurtic(kurtosis=3): 정규 분포와 유사한 첨도 통계량이다.\n",
    "  - Leptokurtic(kurtosis>3): 피크는 Mesokurtic보다 높고 날카롭기 때문에 데이터는 꼬리가 무겁거나 특이치(outlier)가 많다는 것을 의미한다.\n",
    "  - Platykurtic(kurtosis<3): 피크는 Mesokurtic보다 낮고 넓으며, 이는 데이터가 가벼운 편이나 특이치(outlier)가 부족하다는 것을 의미한다. \n"
   ]
  },
  {
   "cell_type": "markdown",
   "id": "f6c4ac79",
   "metadata": {
    "hidden": true
   },
   "source": [
    "- 활률 분포의 뽀족한 정도를 나타내는 지표\n",
    "- 관측치들이 얼마나 집중적으로 중심에 몰려있는지 측정 시 사용\n",
    "- kurt 값이 0보다 작을 경우에는 정규분포보다 더 완만하고 납작한 분포를 가진다.\n",
    "- kurt 값이 0보다 크면 정규분포보다 더 뽀족한 분포를 가진다."
   ]
  },
  {
   "cell_type": "markdown",
   "id": "5441538a",
   "metadata": {
    "heading_collapsed": true,
    "hidden": true
   },
   "source": [
    "#### fare"
   ]
  },
  {
   "cell_type": "markdown",
   "id": "07b924aa",
   "metadata": {
    "hidden": true
   },
   "source": [
    "fare 는 Leptokutic 으로 매우 높고 날카로운 것으로 확인되고 특이치가 많은 것을 알 수 있다.  "
   ]
  },
  {
   "cell_type": "code",
   "execution_count": 50,
   "id": "d0f192e5",
   "metadata": {
    "hidden": true
   },
   "outputs": [
    {
     "data": {
      "text/plain": [
       "31.16578434563386"
      ]
     },
     "execution_count": 50,
     "metadata": {},
     "output_type": "execute_result"
    }
   ],
   "source": [
    "df_number['fare'].kurt()"
   ]
  },
  {
   "cell_type": "code",
   "execution_count": 52,
   "id": "3df5b8ad",
   "metadata": {
    "hidden": true
   },
   "outputs": [
    {
     "data": {
      "text/plain": [
       "<Axes: ylabel='Frequency'>"
      ]
     },
     "execution_count": 52,
     "metadata": {},
     "output_type": "execute_result"
    },
    {
     "data": {
      "image/png": "[encoded data removed]",
      "text/plain": [
       "<Figure size 640x480 with 1 Axes>"
      ]
     },
     "metadata": {},
     "output_type": "display_data"
    }
   ],
   "source": [
    "df_number['fare'].plot.hist(bins=50)"
   ]
  },
  {
   "cell_type": "code",
   "execution_count": 53,
   "id": "bd406ae7",
   "metadata": {
    "hidden": true
   },
   "outputs": [
    {
     "data": {
      "text/plain": [
       "<Axes: >"
      ]
     },
     "execution_count": 53,
     "metadata": {},
     "output_type": "execute_result"
    },
    {
     "data": {
      "image/png": "[encoded data removed]",
      "text/plain": [
       "<Figure size 640x480 with 1 Axes>"
      ]
     },
     "metadata": {},
     "output_type": "display_data"
    }
   ],
   "source": [
    "# diff(): 한 객체 내에서 열과 열 / 행과 행의 차이를 출력하는 메서드 입니다.\n",
    "df_number['fare'].diff().hist(bins=50)"
   ]
  },
  {
   "cell_type": "markdown",
   "id": "237e22bd",
   "metadata": {
    "heading_collapsed": true,
    "hidden": true
   },
   "source": [
    "#### age"
   ]
  },
  {
   "cell_type": "markdown",
   "id": "085ae063",
   "metadata": {
    "hidden": true
   },
   "source": [
    "age 의 첨도는 0.41 로 데이터는 가벼운 편이고 특이치가 부족한 것을 알 수 있다.  "
   ]
  },
  {
   "cell_type": "code",
   "execution_count": 51,
   "id": "ad045f99",
   "metadata": {
    "hidden": true
   },
   "outputs": [
    {
     "data": {
      "text/plain": [
       "0.414327458430233"
      ]
     },
     "execution_count": 51,
     "metadata": {},
     "output_type": "execute_result"
    }
   ],
   "source": [
    "df_number['age'].kurt()"
   ]
  },
  {
   "cell_type": "code",
   "execution_count": 54,
   "id": "b8b819ec",
   "metadata": {
    "hidden": true
   },
   "outputs": [
    {
     "data": {
      "text/plain": [
       "<Axes: ylabel='Frequency'>"
      ]
     },
     "execution_count": 54,
     "metadata": {},
     "output_type": "execute_result"
    },
    {
     "data": {
      "image/png": "[encoded data removed]",
      "text/plain": [
       "<Figure size 640x480 with 1 Axes>"
      ]
     },
     "metadata": {},
     "output_type": "display_data"
    }
   ],
   "source": [
    "df_number['age'].plot.hist(bins=50)"
   ]
  },
  {
   "cell_type": "code",
   "execution_count": 56,
   "id": "b88b4949",
   "metadata": {
    "hidden": true
   },
   "outputs": [
    {
     "data": {
      "text/plain": [
       "<Axes: >"
      ]
     },
     "execution_count": 56,
     "metadata": {},
     "output_type": "execute_result"
    },
    {
     "data": {
      "image/png": "[encoded data removed]",
      "text/plain": [
       "<Figure size 640x480 with 1 Axes>"
      ]
     },
     "metadata": {},
     "output_type": "display_data"
    }
   ],
   "source": [
    "df_number['age'].diff().hist(bins=50)"
   ]
  },
  {
   "cell_type": "markdown",
   "id": "b399faf3",
   "metadata": {
    "heading_collapsed": true
   },
   "source": [
    "### 이상치 분석"
   ]
  },
  {
   "cell_type": "markdown",
   "id": "a06a7895",
   "metadata": {
    "hidden": true
   },
   "source": [
    "데이터 분석을 할 때, 평균이나 표준편차를 많이 사용한다.  \n",
    "이런 경우 데이터에 이상치가 있으면 왜곡된 의미를 전달할 가능성이 높다.  \n",
    "그래서 이상치가 있는지를 확인할 필요가 있고, 박스플롯을 활용하면 이상치가 얼마나 포함되어 있는지를 쉽게 판단할 수 있다."
   ]
  },
  {
   "cell_type": "markdown",
   "id": "dec8443b",
   "metadata": {
    "heading_collapsed": true,
    "hidden": true
   },
   "source": [
    "#### age"
   ]
  },
  {
   "cell_type": "code",
   "execution_count": 57,
   "id": "84485ec7",
   "metadata": {
    "hidden": true
   },
   "outputs": [
    {
     "data": {
      "text/plain": [
       "<Axes: ylabel='age'>"
      ]
     },
     "execution_count": 57,
     "metadata": {},
     "output_type": "execute_result"
    },
    {
     "data": {
      "image/png": "[encoded data removed]",
      "text/plain": [
       "<Figure size 640x480 with 1 Axes>"
      ]
     },
     "metadata": {},
     "output_type": "display_data"
    }
   ],
   "source": [
    "sns.boxplot(y=df_number['age'], data=org_train)"
   ]
  },
  {
   "cell_type": "code",
   "execution_count": 59,
   "id": "00691f0d",
   "metadata": {
    "hidden": true
   },
   "outputs": [
    {
     "data": {
      "text/plain": [
       "<Axes: xlabel='survived', ylabel='age'>"
      ]
     },
     "execution_count": 59,
     "metadata": {},
     "output_type": "execute_result"
    },
    {
     "data": {
      "image/png": "[encoded data removed]",
      "text/plain": [
       "<Figure size 640x480 with 1 Axes>"
      ]
     },
     "metadata": {},
     "output_type": "display_data"
    }
   ],
   "source": [
    "sns.boxplot(x=df_number['survived'], y=df_number['age'], data=df_number)"
   ]
  },
  {
   "cell_type": "markdown",
   "id": "dd6636c7",
   "metadata": {},
   "source": [
    "### 상관관계 분석"
   ]
  },
  {
   "cell_type": "markdown",
   "id": "9380be1c",
   "metadata": {
    "heading_collapsed": true
   },
   "source": [
    "#### heatmap 분석"
   ]
  },
  {
   "cell_type": "markdown",
   "id": "c14c8dc6",
   "metadata": {
    "hidden": true
   },
   "source": [
    "heatmap 분석 방법  \n",
    "\n",
    "- 주로 수치형 데이터를 분석할 때 사용한다.  \n",
    "\n",
    "\n",
    "- corr() 함수는 Pearson Correlation Coefficient 를 구하는 함수  \n",
    "  보통 절댓값이 0.4 이상이면 상관 관계를 갖는다고 본다.\n",
    "\n",
    "\n",
    "- annot=True  \n",
    "  직접적인 수치를 확인할 수 있다.\n",
    "  \n",
    "\n",
    "- mask 설정을 통해 반만 잘라서 확인할 수 있다.  \n",
    "\n",
    "\n",
    "- 두 상관 관계가 높다는 것이고 서로 영향을 준다는 의미일 뿐  \n",
    "  하나가 증가하면 반드시 다른 하나가 증가하는 것은 아니다.  "
   ]
  },
  {
   "cell_type": "code",
   "execution_count": 60,
   "id": "5915a398",
   "metadata": {
    "hidden": true
   },
   "outputs": [
    {
     "data": {
      "text/html": [
       "<div>\n",
       "<style scoped>\n",
       "    .dataframe tbody tr th:only-of-type {\n",
       "        vertical-align: middle;\n",
       "    }\n",
       "\n",
       "    .dataframe tbody tr th {\n",
       "        vertical-align: top;\n",
       "    }\n",
       "\n",
       "    .dataframe thead th {\n",
       "        text-align: right;\n",
       "    }\n",
       "</style>\n",
       "<table border=\"1\" class=\"dataframe\">\n",
       "  <thead>\n",
       "    <tr style=\"text-align: right;\">\n",
       "      <th></th>\n",
       "      <th>survived</th>\n",
       "      <th>pclass</th>\n",
       "      <th>age</th>\n",
       "      <th>sibsp</th>\n",
       "      <th>parch</th>\n",
       "      <th>fare</th>\n",
       "    </tr>\n",
       "  </thead>\n",
       "  <tbody>\n",
       "    <tr>\n",
       "      <th>survived</th>\n",
       "      <td>1.000000</td>\n",
       "      <td>-0.250455</td>\n",
       "      <td>-0.030330</td>\n",
       "      <td>0.002924</td>\n",
       "      <td>0.084269</td>\n",
       "      <td>0.224068</td>\n",
       "    </tr>\n",
       "    <tr>\n",
       "      <th>pclass</th>\n",
       "      <td>-0.250455</td>\n",
       "      <td>1.000000</td>\n",
       "      <td>-0.407876</td>\n",
       "      <td>0.069781</td>\n",
       "      <td>0.060049</td>\n",
       "      <td>-0.541277</td>\n",
       "    </tr>\n",
       "    <tr>\n",
       "      <th>age</th>\n",
       "      <td>-0.030330</td>\n",
       "      <td>-0.407876</td>\n",
       "      <td>1.000000</td>\n",
       "      <td>-0.255825</td>\n",
       "      <td>-0.169893</td>\n",
       "      <td>0.139101</td>\n",
       "    </tr>\n",
       "    <tr>\n",
       "      <th>sibsp</th>\n",
       "      <td>0.002924</td>\n",
       "      <td>0.069781</td>\n",
       "      <td>-0.255825</td>\n",
       "      <td>1.000000</td>\n",
       "      <td>0.386491</td>\n",
       "      <td>0.162144</td>\n",
       "    </tr>\n",
       "    <tr>\n",
       "      <th>parch</th>\n",
       "      <td>0.084269</td>\n",
       "      <td>0.060049</td>\n",
       "      <td>-0.169893</td>\n",
       "      <td>0.386491</td>\n",
       "      <td>1.000000</td>\n",
       "      <td>0.181826</td>\n",
       "    </tr>\n",
       "    <tr>\n",
       "      <th>fare</th>\n",
       "      <td>0.224068</td>\n",
       "      <td>-0.541277</td>\n",
       "      <td>0.139101</td>\n",
       "      <td>0.162144</td>\n",
       "      <td>0.181826</td>\n",
       "      <td>1.000000</td>\n",
       "    </tr>\n",
       "  </tbody>\n",
       "</table>\n",
       "</div>"
      ],
      "text/plain": [
       "          survived    pclass       age     sibsp     parch      fare\n",
       "survived  1.000000 -0.250455 -0.030330  0.002924  0.084269  0.224068\n",
       "pclass   -0.250455  1.000000 -0.407876  0.069781  0.060049 -0.541277\n",
       "age      -0.030330 -0.407876  1.000000 -0.255825 -0.169893  0.139101\n",
       "sibsp     0.002924  0.069781 -0.255825  1.000000  0.386491  0.162144\n",
       "parch     0.084269  0.060049 -0.169893  0.386491  1.000000  0.181826\n",
       "fare      0.224068 -0.541277  0.139101  0.162144  0.181826  1.000000"
      ]
     },
     "execution_count": 60,
     "metadata": {},
     "output_type": "execute_result"
    }
   ],
   "source": [
    "df_number.corr()"
   ]
  },
  {
   "cell_type": "code",
   "execution_count": 64,
   "id": "8d4bf9df",
   "metadata": {
    "hidden": true
   },
   "outputs": [
    {
     "data": {
      "text/plain": [
       "<Axes: >"
      ]
     },
     "execution_count": 64,
     "metadata": {},
     "output_type": "execute_result"
    },
    {
     "data": {
      "image/png": "[encoded data removed]",
      "text/plain": [
       "<Figure size 640x480 with 2 Axes>"
      ]
     },
     "metadata": {},
     "output_type": "display_data"
    }
   ],
   "source": [
    "sns.heatmap(df_number.corr(), annot=True, linewidths=0.2, cmap = \"Reds\")"
   ]
  },
  {
   "cell_type": "code",
   "execution_count": 65,
   "id": "c5d7ddc5",
   "metadata": {
    "hidden": true
   },
   "outputs": [
    {
     "data": {
      "text/plain": [
       "<Axes: >"
      ]
     },
     "execution_count": 65,
     "metadata": {},
     "output_type": "execute_result"
    },
    {
     "data": {
      "image/png": "[encoded data removed]",
      "text/plain": [
       "<Figure size 640x480 with 2 Axes>"
      ]
     },
     "metadata": {},
     "output_type": "display_data"
    }
   ],
   "source": [
    "mask=np.zeros_like(df_number.corr(), dtype=np.bool_)\n",
    "mask[np.triu_indices_from(mask)]=True\n",
    "\n",
    "sns.heatmap(df_number.corr(), annot=True, mask=mask, linewidths=0.2, cmap = \"Reds\")"
   ]
  },
  {
   "cell_type": "code",
   "execution_count": 66,
   "id": "91dee7eb",
   "metadata": {
    "hidden": true,
    "scrolled": false
   },
   "outputs": [
    {
     "data": {
      "text/plain": [
       "<Axes: >"
      ]
     },
     "execution_count": 66,
     "metadata": {},
     "output_type": "execute_result"
    },
    {
     "data": {
      "image/png": "[encoded data removed]",
      "text/plain": [
       "<Figure size 640x480 with 2 Axes>"
      ]
     },
     "metadata": {},
     "output_type": "display_data"
    }
   ],
   "source": [
    "corr = df_number.corr()\n",
    "mask=np.zeros_like(df_number.corr(), dtype=np.bool_)\n",
    "mask[np.triu_indices_from(mask)]=True\n",
    "\n",
    "sns.heatmap(corr[((corr >= 0.2) | (corr <= -0.2)) & (corr != 1)], mask=mask,annot=True, linewidths=0.2, cmap = \"Reds\")"
   ]
  },
  {
   "cell_type": "markdown",
   "id": "d0027976",
   "metadata": {
    "heading_collapsed": true
   },
   "source": [
    "### 수치형 데이터 분석 정리"
   ]
  },
  {
   "cell_type": "markdown",
   "id": "8aaecaa2",
   "metadata": {
    "hidden": true
   },
   "source": [
    "***통계적 분석***\n",
    "\n",
    "통계적 분석을 통해, survived, pclass 는 수치형으로 된 범주형 데이터인 것으로 확인된다.  \n",
    "그 외 age 는 92개의 고유값을 가지고 있고 fare 는 251개의 고유값을 가지고 있었다.  "
   ]
  },
  {
   "cell_type": "markdown",
   "id": "fdb8d9f9",
   "metadata": {
    "hidden": true
   },
   "source": [
    "***왜도와 첨도***\n",
    "\n",
    "fare 의 왜도는 4.6 으로 많이 치우친 것으로 볼 수 있다.  \n",
    "age 의 왜도는 0.46 으로 상당히 대칭적인 것으로 확인된다.  \n",
    "\n",
    "fare 는 Leptokutic 으로 매우 높고 날카로운 것으로 확인되고 특이치가 많은 것을 알 수 있다.  \n",
    "age 의 첨도는 0.41 로 데이터는 가벼운 편이고 특이치가 부족한 것을 알 수 있다.  \n",
    "\n",
    "왜도와 첨도를 분석한 후 어떻게 적용해야하는지에 대해서는 잘 모르겠다.  "
   ]
  },
  {
   "cell_type": "markdown",
   "id": "6aea9adf",
   "metadata": {
    "hidden": true
   },
   "source": [
    "***이상치 분석***\n",
    "\n",
    "age 의 이상치를 분석해보니 이상치가 있는 것으로 확인되었다.  "
   ]
  },
  {
   "cell_type": "markdown",
   "id": "30670197",
   "metadata": {
    "hidden": true
   },
   "source": [
    "***상관 관계***\n",
    "\n",
    "상관 관계를 통해 확인할 수 있는 부분  \n",
    "\n",
    "- pclass 와 survived 의 관계\n",
    "- pcalss 와 age 의 관계\n",
    "- sibsp 와 parch 의 관계\n",
    "- sibsp 와 age 의 관계"
   ]
  },
  {
   "cell_type": "markdown",
   "id": "93768d41",
   "metadata": {},
   "source": [
    "## 범주형 데이터 분석"
   ]
  },
  {
   "cell_type": "markdown",
   "id": "9a5d9af3",
   "metadata": {
    "heading_collapsed": true
   },
   "source": [
    "### 범주형 데이터 확인"
   ]
  },
  {
   "cell_type": "code",
   "execution_count": 69,
   "id": "aa5e52c0",
   "metadata": {
    "hidden": true
   },
   "outputs": [
    {
     "name": "stdout",
     "output_type": "stream",
     "text": [
      "<class 'pandas.core.frame.DataFrame'>\n",
      "RangeIndex: 916 entries, 0 to 915\n",
      "Data columns (total 6 columns):\n",
      " #   Column    Non-Null Count  Dtype \n",
      "---  ------    --------------  ----- \n",
      " 0   name      916 non-null    object\n",
      " 1   gender    916 non-null    object\n",
      " 2   ticket    916 non-null    object\n",
      " 3   cabin     198 non-null    object\n",
      " 4   embarked  915 non-null    object\n",
      " 5   survived  916 non-null    object\n",
      "dtypes: object(6)\n",
      "memory usage: 43.1+ KB\n"
     ]
    }
   ],
   "source": [
    "df_object = org_train.select_dtypes(exclude=np.number)\n",
    "\n",
    "# survived 추가\n",
    "df_object = df_object.join(df_number['survived']) \n",
    "\n",
    "# 데이터 타입 변경\n",
    "df_object['survived'] = df_object['survived'].astype('object') \n",
    "\n",
    "df_object.info()"
   ]
  },
  {
   "cell_type": "code",
   "execution_count": 70,
   "id": "cd16f8ba",
   "metadata": {
    "hidden": true
   },
   "outputs": [
    {
     "data": {
      "text/html": [
       "<div>\n",
       "<style scoped>\n",
       "    .dataframe tbody tr th:only-of-type {\n",
       "        vertical-align: middle;\n",
       "    }\n",
       "\n",
       "    .dataframe tbody tr th {\n",
       "        vertical-align: top;\n",
       "    }\n",
       "\n",
       "    .dataframe thead th {\n",
       "        text-align: right;\n",
       "    }\n",
       "</style>\n",
       "<table border=\"1\" class=\"dataframe\">\n",
       "  <thead>\n",
       "    <tr style=\"text-align: right;\">\n",
       "      <th></th>\n",
       "      <th>name</th>\n",
       "      <th>gender</th>\n",
       "      <th>ticket</th>\n",
       "      <th>cabin</th>\n",
       "      <th>embarked</th>\n",
       "      <th>survived</th>\n",
       "    </tr>\n",
       "  </thead>\n",
       "  <tbody>\n",
       "    <tr>\n",
       "      <th>0</th>\n",
       "      <td>Wheeler, Mr. Edwin Frederick\"\"</td>\n",
       "      <td>male</td>\n",
       "      <td>SC/PARIS 2159</td>\n",
       "      <td>NaN</td>\n",
       "      <td>S</td>\n",
       "      <td>0</td>\n",
       "    </tr>\n",
       "    <tr>\n",
       "      <th>1</th>\n",
       "      <td>Henry, Miss. Delia</td>\n",
       "      <td>female</td>\n",
       "      <td>382649</td>\n",
       "      <td>NaN</td>\n",
       "      <td>Q</td>\n",
       "      <td>0</td>\n",
       "    </tr>\n",
       "    <tr>\n",
       "      <th>2</th>\n",
       "      <td>Hays, Mrs. Charles Melville (Clara Jennings Gr...</td>\n",
       "      <td>female</td>\n",
       "      <td>12749</td>\n",
       "      <td>B69</td>\n",
       "      <td>S</td>\n",
       "      <td>1</td>\n",
       "    </tr>\n",
       "    <tr>\n",
       "      <th>3</th>\n",
       "      <td>Andersson, Mr. August Edvard (\"Wennerstrom\")</td>\n",
       "      <td>male</td>\n",
       "      <td>350043</td>\n",
       "      <td>NaN</td>\n",
       "      <td>S</td>\n",
       "      <td>1</td>\n",
       "    </tr>\n",
       "    <tr>\n",
       "      <th>4</th>\n",
       "      <td>Hold, Mr. Stephen</td>\n",
       "      <td>male</td>\n",
       "      <td>26707</td>\n",
       "      <td>NaN</td>\n",
       "      <td>S</td>\n",
       "      <td>0</td>\n",
       "    </tr>\n",
       "  </tbody>\n",
       "</table>\n",
       "</div>"
      ],
      "text/plain": [
       "                                                name  gender         ticket  \\\n",
       "0                     Wheeler, Mr. Edwin Frederick\"\"    male  SC/PARIS 2159   \n",
       "1                                 Henry, Miss. Delia  female         382649   \n",
       "2  Hays, Mrs. Charles Melville (Clara Jennings Gr...  female          12749   \n",
       "3       Andersson, Mr. August Edvard (\"Wennerstrom\")    male         350043   \n",
       "4                                  Hold, Mr. Stephen    male          26707   \n",
       "\n",
       "  cabin embarked survived  \n",
       "0   NaN        S        0  \n",
       "1   NaN        Q        0  \n",
       "2   B69        S        1  \n",
       "3   NaN        S        1  \n",
       "4   NaN        S        0  "
      ]
     },
     "execution_count": 70,
     "metadata": {},
     "output_type": "execute_result"
    }
   ],
   "source": [
    "df_object.head()"
   ]
  },
  {
   "cell_type": "markdown",
   "id": "12c8d1df",
   "metadata": {},
   "source": [
    "### 통계적 분석"
   ]
  },
  {
   "cell_type": "markdown",
   "id": "98d74986",
   "metadata": {
    "heading_collapsed": true
   },
   "source": [
    "#### 고유값 확인"
   ]
  },
  {
   "cell_type": "code",
   "execution_count": 74,
   "id": "982532fb",
   "metadata": {
    "hidden": true
   },
   "outputs": [
    {
     "name": "stdout",
     "output_type": "stream",
     "text": [
      "name 고유값 수 = 915\n",
      "gender 고유값 수 = 2\n",
      "ticket 고유값 수 = 703\n",
      "cabin 고유값 수 = 146\n",
      "embarked 고유값 수 = 3\n",
      "survived 고유값 수 = 2\n"
     ]
    }
   ],
   "source": [
    "for cols in df_object.columns:\n",
    "     # 고유값 개수\n",
    "    print(f\"{cols} 고유값 수 = {df_object[cols].nunique()}\")"
   ]
  },
  {
   "cell_type": "markdown",
   "id": "a4de04c0",
   "metadata": {
    "heading_collapsed": true
   },
   "source": [
    "#### gender"
   ]
  },
  {
   "cell_type": "code",
   "execution_count": 77,
   "id": "b6456c5a",
   "metadata": {
    "hidden": true
   },
   "outputs": [
    {
     "data": {
      "text/plain": [
       "array(['male', 'female'], dtype=object)"
      ]
     },
     "execution_count": 77,
     "metadata": {},
     "output_type": "execute_result"
    }
   ],
   "source": [
    "df_object['gender'].unique()"
   ]
  },
  {
   "cell_type": "code",
   "execution_count": 102,
   "id": "c0774750",
   "metadata": {
    "hidden": true
   },
   "outputs": [
    {
     "data": {
      "text/plain": [
       "'male'"
      ]
     },
     "execution_count": 102,
     "metadata": {},
     "output_type": "execute_result"
    }
   ],
   "source": [
    "df_object['gender'].mode().values[0]"
   ]
  },
  {
   "cell_type": "code",
   "execution_count": 103,
   "id": "120891cd",
   "metadata": {
    "hidden": true
   },
   "outputs": [
    {
     "data": {
      "text/plain": [
       "male      0.643013\n",
       "female    0.356987\n",
       "Name: gender, dtype: float64"
      ]
     },
     "execution_count": 103,
     "metadata": {},
     "output_type": "execute_result"
    }
   ],
   "source": [
    "# 범주별 비율\n",
    "df_object[\"gender\"].value_counts(normalize=True) "
   ]
  },
  {
   "cell_type": "code",
   "execution_count": 105,
   "id": "04f2394b",
   "metadata": {
    "hidden": true
   },
   "outputs": [
    {
     "data": {
      "text/plain": [
       "male      589\n",
       "female    327\n",
       "Name: gender, dtype: int64"
      ]
     },
     "execution_count": 105,
     "metadata": {},
     "output_type": "execute_result"
    }
   ],
   "source": [
    "df_object['gender'].value_counts()"
   ]
  },
  {
   "cell_type": "code",
   "execution_count": 106,
   "id": "18bf4eaf",
   "metadata": {
    "hidden": true
   },
   "outputs": [
    {
     "data": {
      "text/html": [
       "<div>\n",
       "<style scoped>\n",
       "    .dataframe tbody tr th:only-of-type {\n",
       "        vertical-align: middle;\n",
       "    }\n",
       "\n",
       "    .dataframe tbody tr th {\n",
       "        vertical-align: top;\n",
       "    }\n",
       "\n",
       "    .dataframe thead th {\n",
       "        text-align: right;\n",
       "    }\n",
       "</style>\n",
       "<table border=\"1\" class=\"dataframe\">\n",
       "  <thead>\n",
       "    <tr style=\"text-align: right;\">\n",
       "      <th></th>\n",
       "      <th>name</th>\n",
       "      <th>gender</th>\n",
       "      <th>ticket</th>\n",
       "      <th>cabin</th>\n",
       "      <th>embarked</th>\n",
       "      <th>survived</th>\n",
       "    </tr>\n",
       "  </thead>\n",
       "  <tbody>\n",
       "  </tbody>\n",
       "</table>\n",
       "</div>"
      ],
      "text/plain": [
       "Empty DataFrame\n",
       "Columns: [name, gender, ticket, cabin, embarked, survived]\n",
       "Index: []"
      ]
     },
     "execution_count": 106,
     "metadata": {},
     "output_type": "execute_result"
    }
   ],
   "source": [
    "df_object.loc[df_object['gender'].isnull()]"
   ]
  },
  {
   "cell_type": "markdown",
   "id": "4cb24f8b",
   "metadata": {
    "heading_collapsed": true
   },
   "source": [
    "#### embarked"
   ]
  },
  {
   "cell_type": "markdown",
   "id": "74d044a3",
   "metadata": {
    "hidden": true
   },
   "source": [
    "승선 장소"
   ]
  },
  {
   "cell_type": "code",
   "execution_count": 79,
   "id": "0dff027a",
   "metadata": {
    "hidden": true
   },
   "outputs": [
    {
     "data": {
      "text/plain": [
       "array(['S', 'Q', 'C', nan], dtype=object)"
      ]
     },
     "execution_count": 79,
     "metadata": {},
     "output_type": "execute_result"
    }
   ],
   "source": [
    "df_object['embarked'].unique()"
   ]
  },
  {
   "cell_type": "code",
   "execution_count": 84,
   "id": "fa8b34a4",
   "metadata": {
    "hidden": true
   },
   "outputs": [
    {
     "data": {
      "text/plain": [
       "'S'"
      ]
     },
     "execution_count": 84,
     "metadata": {},
     "output_type": "execute_result"
    }
   ],
   "source": [
    "df_object['embarked'].mode().values[0]"
   ]
  },
  {
   "cell_type": "code",
   "execution_count": 85,
   "id": "b2226d8d",
   "metadata": {
    "hidden": true
   },
   "outputs": [
    {
     "data": {
      "text/plain": [
       "S    645\n",
       "C    189\n",
       "Q     81\n",
       "Name: embarked, dtype: int64"
      ]
     },
     "execution_count": 85,
     "metadata": {},
     "output_type": "execute_result"
    }
   ],
   "source": [
    "df_object['embarked'].value_counts()"
   ]
  },
  {
   "cell_type": "code",
   "execution_count": 100,
   "id": "11675d09",
   "metadata": {
    "hidden": true
   },
   "outputs": [
    {
     "data": {
      "text/html": [
       "<div>\n",
       "<style scoped>\n",
       "    .dataframe tbody tr th:only-of-type {\n",
       "        vertical-align: middle;\n",
       "    }\n",
       "\n",
       "    .dataframe tbody tr th {\n",
       "        vertical-align: top;\n",
       "    }\n",
       "\n",
       "    .dataframe thead th {\n",
       "        text-align: right;\n",
       "    }\n",
       "</style>\n",
       "<table border=\"1\" class=\"dataframe\">\n",
       "  <thead>\n",
       "    <tr style=\"text-align: right;\">\n",
       "      <th></th>\n",
       "      <th>name</th>\n",
       "      <th>gender</th>\n",
       "      <th>ticket</th>\n",
       "      <th>cabin</th>\n",
       "      <th>embarked</th>\n",
       "      <th>survived</th>\n",
       "    </tr>\n",
       "  </thead>\n",
       "  <tbody>\n",
       "    <tr>\n",
       "      <th>387</th>\n",
       "      <td>Icard, Miss. Amelie</td>\n",
       "      <td>female</td>\n",
       "      <td>113572</td>\n",
       "      <td>B28</td>\n",
       "      <td>NaN</td>\n",
       "      <td>1</td>\n",
       "    </tr>\n",
       "  </tbody>\n",
       "</table>\n",
       "</div>"
      ],
      "text/plain": [
       "                    name  gender  ticket cabin embarked survived\n",
       "387  Icard, Miss. Amelie  female  113572   B28      NaN        1"
      ]
     },
     "execution_count": 100,
     "metadata": {},
     "output_type": "execute_result"
    }
   ],
   "source": [
    "df_object.loc[df_object['embarked'].isnull()]"
   ]
  },
  {
   "cell_type": "code",
   "execution_count": 101,
   "id": "49304aef",
   "metadata": {
    "hidden": true
   },
   "outputs": [
    {
     "data": {
      "text/plain": [
       "S    0.704918\n",
       "C    0.206557\n",
       "Q    0.088525\n",
       "Name: embarked, dtype: float64"
      ]
     },
     "execution_count": 101,
     "metadata": {},
     "output_type": "execute_result"
    }
   ],
   "source": [
    "# 범주별 비율\n",
    "df_object[\"embarked\"].value_counts(normalize=True) "
   ]
  },
  {
   "cell_type": "markdown",
   "id": "48796393",
   "metadata": {
    "heading_collapsed": true
   },
   "source": [
    "#### survived"
   ]
  },
  {
   "cell_type": "code",
   "execution_count": 121,
   "id": "bd795848",
   "metadata": {
    "hidden": true
   },
   "outputs": [
    {
     "data": {
      "text/plain": [
       "array([0, 1], dtype=object)"
      ]
     },
     "execution_count": 121,
     "metadata": {},
     "output_type": "execute_result"
    }
   ],
   "source": [
    "df_object['survived'].unique()"
   ]
  },
  {
   "cell_type": "code",
   "execution_count": 123,
   "id": "c75c8636",
   "metadata": {
    "hidden": true
   },
   "outputs": [
    {
     "data": {
      "text/plain": [
       "0    0.622271\n",
       "1    0.377729\n",
       "Name: survived, dtype: float64"
      ]
     },
     "execution_count": 123,
     "metadata": {},
     "output_type": "execute_result"
    }
   ],
   "source": [
    "df_object['survived'].value_counts(normalize=True)"
   ]
  },
  {
   "cell_type": "markdown",
   "id": "86eb5b03",
   "metadata": {
    "heading_collapsed": true
   },
   "source": [
    "#### ticket"
   ]
  },
  {
   "cell_type": "markdown",
   "id": "dc4c33f8",
   "metadata": {
    "hidden": true
   },
   "source": [
    "티켓 내용"
   ]
  },
  {
   "cell_type": "code",
   "execution_count": 116,
   "id": "05601a4e",
   "metadata": {
    "hidden": true
   },
   "outputs": [
    {
     "data": {
      "text/plain": [
       "703"
      ]
     },
     "execution_count": 116,
     "metadata": {},
     "output_type": "execute_result"
    }
   ],
   "source": [
    "df_object['ticket'].nunique()"
   ]
  },
  {
   "cell_type": "code",
   "execution_count": 124,
   "id": "553604d9",
   "metadata": {
    "hidden": true
   },
   "outputs": [
    {
     "data": {
      "text/plain": [
       "CA. 2343              0.007642\n",
       "3101295               0.007642\n",
       "1601                  0.007642\n",
       "S.O.C. 14879          0.006550\n",
       "CA 2144               0.006550\n",
       "                        ...   \n",
       "350052                0.001092\n",
       "SOTON/O.Q. 3101306    0.001092\n",
       "330968                0.001092\n",
       "370373                0.001092\n",
       "PC 17606              0.001092\n",
       "Name: ticket, Length: 703, dtype: float64"
      ]
     },
     "execution_count": 124,
     "metadata": {},
     "output_type": "execute_result"
    }
   ],
   "source": [
    "df_object['ticket'].value_counts(normalize=True)"
   ]
  },
  {
   "cell_type": "markdown",
   "id": "35af58f8",
   "metadata": {
    "heading_collapsed": true
   },
   "source": [
    "#### cabin"
   ]
  },
  {
   "cell_type": "markdown",
   "id": "d503ae9f",
   "metadata": {
    "hidden": true
   },
   "source": [
    "객실 위치"
   ]
  },
  {
   "cell_type": "code",
   "execution_count": 119,
   "id": "69ef9ae5",
   "metadata": {
    "hidden": true
   },
   "outputs": [
    {
     "data": {
      "text/plain": [
       "array([nan, 'B69', 'A34', 'D28', 'B96 B98', 'B37', 'C54', 'D20', 'D9',\n",
       "       'A11'], dtype=object)"
      ]
     },
     "execution_count": 119,
     "metadata": {},
     "output_type": "execute_result"
    }
   ],
   "source": [
    "df_object['cabin'].unique()[:10]"
   ]
  },
  {
   "cell_type": "code",
   "execution_count": 117,
   "id": "cbe42882",
   "metadata": {
    "hidden": true
   },
   "outputs": [
    {
     "data": {
      "text/plain": [
       "146"
      ]
     },
     "execution_count": 117,
     "metadata": {},
     "output_type": "execute_result"
    }
   ],
   "source": [
    "df_object['cabin'].nunique()"
   ]
  },
  {
   "cell_type": "markdown",
   "id": "9666101c",
   "metadata": {},
   "source": [
    "#### name"
   ]
  },
  {
   "cell_type": "code",
   "execution_count": 125,
   "id": "b158cdc6",
   "metadata": {},
   "outputs": [
    {
     "data": {
      "text/plain": [
       "915"
      ]
     },
     "execution_count": 125,
     "metadata": {},
     "output_type": "execute_result"
    }
   ],
   "source": [
    "df_object['name'].nunique()"
   ]
  },
  {
   "cell_type": "code",
   "execution_count": 157,
   "id": "a5de6ead",
   "metadata": {},
   "outputs": [
    {
     "data": {
      "text/plain": [
       "Mr          528\n",
       "Miss        185\n",
       "Mrs         138\n",
       "Master       42\n",
       "Rev           6\n",
       "Dr            5\n",
       "Col           3\n",
       "Major         2\n",
       "Don           1\n",
       "Ms            1\n",
       "Jonkheer      1\n",
       "Mlle          1\n",
       "Countess      1\n",
       "Capt          1\n",
       "Sir           1\n",
       "Name: title, dtype: int64"
      ]
     },
     "execution_count": 157,
     "metadata": {},
     "output_type": "execute_result"
    }
   ],
   "source": [
    "df_object['title'] = df_object['name'].str.extract('([A-Za-z]+)\\.')\n",
    "    \n",
    "df_object['title'].value_counts()"
   ]
  },
  {
   "cell_type": "code",
   "execution_count": 158,
   "id": "3dc24884",
   "metadata": {},
   "outputs": [],
   "source": [
    "df_object['title'] = df_object['title'].replace(['Rev', 'Dr', 'Col', 'Ms', 'Mlle', 'Major', 'Countess', \n",
    "                                       'Capt', 'Dona', 'Jonkheer', 'Lady', 'Sir', 'Mme', 'Don'], 'Other')"
   ]
  },
  {
   "cell_type": "code",
   "execution_count": 159,
   "id": "723c3c6e",
   "metadata": {},
   "outputs": [
    {
     "data": {
      "text/plain": [
       "Mr        528\n",
       "Miss      185\n",
       "Mrs       138\n",
       "Master     42\n",
       "Other      23\n",
       "Name: title, dtype: int64"
      ]
     },
     "execution_count": 159,
     "metadata": {},
     "output_type": "execute_result"
    }
   ],
   "source": [
    "df_object['title'].value_counts()"
   ]
  },
  {
   "cell_type": "markdown",
   "id": "5861ba37",
   "metadata": {},
   "source": [
    "### 교차 분석"
   ]
  },
  {
   "cell_type": "markdown",
   "id": "db82db8e",
   "metadata": {},
   "source": [
    "pd.crosstab(index, columns, values=None, rownames=None, colnames=None, aggfunc=None, margins=False, margins_name='All', dropna=True, normalize=False)\n",
    "- index: 행으로 그룹화할 값\n",
    "- columns: 열로 그룹화할 값\n",
    "- rownames: 행 이름\n",
    "- colnames: 열 이름\n",
    "- values: 두 행/열에 따라 집계할 값(반드시 aggfunc와 함께 사용)\n",
    "- aggfunc: 집계 함수(mean, sum 등)\n",
    "- margins: True인 경우, 행/열의 소계값이 함게 산출\n",
    "- dropna: NaN을 포함하지 않고 반환(디폴트: True)\n",
    "- normalize: 개수가 아닌 비율로 표시\n",
    "  - index: 행을 기준으로 비율 표시\n",
    "  - columns: 열을 기준으로 비율 표시\n",
    "  - all: 전체 기준으로 비율 표시"
   ]
  },
  {
   "cell_type": "markdown",
   "id": "8d8747ad",
   "metadata": {
    "heading_collapsed": true
   },
   "source": [
    "#### survived & embarked"
   ]
  },
  {
   "cell_type": "code",
   "execution_count": 133,
   "id": "ddc0d45e",
   "metadata": {
    "hidden": true
   },
   "outputs": [
    {
     "data": {
      "text/html": [
       "<div>\n",
       "<style scoped>\n",
       "    .dataframe tbody tr th:only-of-type {\n",
       "        vertical-align: middle;\n",
       "    }\n",
       "\n",
       "    .dataframe tbody tr th {\n",
       "        vertical-align: top;\n",
       "    }\n",
       "\n",
       "    .dataframe thead th {\n",
       "        text-align: right;\n",
       "    }\n",
       "</style>\n",
       "<table border=\"1\" class=\"dataframe\">\n",
       "  <thead>\n",
       "    <tr style=\"text-align: right;\">\n",
       "      <th>embarked</th>\n",
       "      <th>C</th>\n",
       "      <th>Q</th>\n",
       "      <th>S</th>\n",
       "      <th>All</th>\n",
       "    </tr>\n",
       "    <tr>\n",
       "      <th>survived</th>\n",
       "      <th></th>\n",
       "      <th></th>\n",
       "      <th></th>\n",
       "      <th></th>\n",
       "    </tr>\n",
       "  </thead>\n",
       "  <tbody>\n",
       "    <tr>\n",
       "      <th>0</th>\n",
       "      <td>97</td>\n",
       "      <td>41</td>\n",
       "      <td>432</td>\n",
       "      <td>570</td>\n",
       "    </tr>\n",
       "    <tr>\n",
       "      <th>1</th>\n",
       "      <td>92</td>\n",
       "      <td>40</td>\n",
       "      <td>213</td>\n",
       "      <td>345</td>\n",
       "    </tr>\n",
       "    <tr>\n",
       "      <th>All</th>\n",
       "      <td>189</td>\n",
       "      <td>81</td>\n",
       "      <td>645</td>\n",
       "      <td>915</td>\n",
       "    </tr>\n",
       "  </tbody>\n",
       "</table>\n",
       "</div>"
      ],
      "text/plain": [
       "embarked    C   Q    S  All\n",
       "survived                   \n",
       "0          97  41  432  570\n",
       "1          92  40  213  345\n",
       "All       189  81  645  915"
      ]
     },
     "execution_count": 133,
     "metadata": {},
     "output_type": "execute_result"
    }
   ],
   "source": [
    "pd.crosstab(df_object[\"survived\"],df_object[\"embarked\"],margins = True)"
   ]
  },
  {
   "cell_type": "code",
   "execution_count": 136,
   "id": "e8efa70d",
   "metadata": {
    "hidden": true
   },
   "outputs": [
    {
     "data": {
      "text/html": [
       "<div>\n",
       "<style scoped>\n",
       "    .dataframe tbody tr th:only-of-type {\n",
       "        vertical-align: middle;\n",
       "    }\n",
       "\n",
       "    .dataframe tbody tr th {\n",
       "        vertical-align: top;\n",
       "    }\n",
       "\n",
       "    .dataframe thead th {\n",
       "        text-align: right;\n",
       "    }\n",
       "</style>\n",
       "<table border=\"1\" class=\"dataframe\">\n",
       "  <thead>\n",
       "    <tr style=\"text-align: right;\">\n",
       "      <th>embarked</th>\n",
       "      <th>C</th>\n",
       "      <th>Q</th>\n",
       "      <th>S</th>\n",
       "      <th>All</th>\n",
       "    </tr>\n",
       "    <tr>\n",
       "      <th>survived</th>\n",
       "      <th></th>\n",
       "      <th></th>\n",
       "      <th></th>\n",
       "      <th></th>\n",
       "    </tr>\n",
       "  </thead>\n",
       "  <tbody>\n",
       "    <tr>\n",
       "      <th>0</th>\n",
       "      <td>0.106011</td>\n",
       "      <td>0.044809</td>\n",
       "      <td>0.472131</td>\n",
       "      <td>0.622951</td>\n",
       "    </tr>\n",
       "    <tr>\n",
       "      <th>1</th>\n",
       "      <td>0.100546</td>\n",
       "      <td>0.043716</td>\n",
       "      <td>0.232787</td>\n",
       "      <td>0.377049</td>\n",
       "    </tr>\n",
       "    <tr>\n",
       "      <th>All</th>\n",
       "      <td>0.206557</td>\n",
       "      <td>0.088525</td>\n",
       "      <td>0.704918</td>\n",
       "      <td>1.000000</td>\n",
       "    </tr>\n",
       "  </tbody>\n",
       "</table>\n",
       "</div>"
      ],
      "text/plain": [
       "embarked         C         Q         S       All\n",
       "survived                                        \n",
       "0         0.106011  0.044809  0.472131  0.622951\n",
       "1         0.100546  0.043716  0.232787  0.377049\n",
       "All       0.206557  0.088525  0.704918  1.000000"
      ]
     },
     "execution_count": 136,
     "metadata": {},
     "output_type": "execute_result"
    }
   ],
   "source": [
    "pd.crosstab(df_object[\"survived\"],df_object[\"embarked\"],margins = True, normalize=\"all\")"
   ]
  },
  {
   "cell_type": "markdown",
   "id": "a4a5c277",
   "metadata": {},
   "source": [
    "#### survived & gender"
   ]
  },
  {
   "cell_type": "code",
   "execution_count": 131,
   "id": "ffdd3c32",
   "metadata": {},
   "outputs": [
    {
     "data": {
      "text/html": [
       "<div>\n",
       "<style scoped>\n",
       "    .dataframe tbody tr th:only-of-type {\n",
       "        vertical-align: middle;\n",
       "    }\n",
       "\n",
       "    .dataframe tbody tr th {\n",
       "        vertical-align: top;\n",
       "    }\n",
       "\n",
       "    .dataframe thead th {\n",
       "        text-align: right;\n",
       "    }\n",
       "</style>\n",
       "<table border=\"1\" class=\"dataframe\">\n",
       "  <thead>\n",
       "    <tr style=\"text-align: right;\">\n",
       "      <th>gender</th>\n",
       "      <th>female</th>\n",
       "      <th>male</th>\n",
       "      <th>All</th>\n",
       "    </tr>\n",
       "    <tr>\n",
       "      <th>survived</th>\n",
       "      <th></th>\n",
       "      <th></th>\n",
       "      <th></th>\n",
       "    </tr>\n",
       "  </thead>\n",
       "  <tbody>\n",
       "    <tr>\n",
       "      <th>0</th>\n",
       "      <td>54</td>\n",
       "      <td>516</td>\n",
       "      <td>570</td>\n",
       "    </tr>\n",
       "    <tr>\n",
       "      <th>1</th>\n",
       "      <td>273</td>\n",
       "      <td>73</td>\n",
       "      <td>346</td>\n",
       "    </tr>\n",
       "    <tr>\n",
       "      <th>All</th>\n",
       "      <td>327</td>\n",
       "      <td>589</td>\n",
       "      <td>916</td>\n",
       "    </tr>\n",
       "  </tbody>\n",
       "</table>\n",
       "</div>"
      ],
      "text/plain": [
       "gender    female  male  All\n",
       "survived                   \n",
       "0             54   516  570\n",
       "1            273    73  346\n",
       "All          327   589  916"
      ]
     },
     "execution_count": 131,
     "metadata": {},
     "output_type": "execute_result"
    }
   ],
   "source": [
    "pd.crosstab(df_object[\"survived\"],df_object[\"gender\"],margins = True)"
   ]
  },
  {
   "cell_type": "code",
   "execution_count": 137,
   "id": "cf4468e0",
   "metadata": {},
   "outputs": [
    {
     "data": {
      "text/html": [
       "<div>\n",
       "<style scoped>\n",
       "    .dataframe tbody tr th:only-of-type {\n",
       "        vertical-align: middle;\n",
       "    }\n",
       "\n",
       "    .dataframe tbody tr th {\n",
       "        vertical-align: top;\n",
       "    }\n",
       "\n",
       "    .dataframe thead th {\n",
       "        text-align: right;\n",
       "    }\n",
       "</style>\n",
       "<table border=\"1\" class=\"dataframe\">\n",
       "  <thead>\n",
       "    <tr style=\"text-align: right;\">\n",
       "      <th>gender</th>\n",
       "      <th>female</th>\n",
       "      <th>male</th>\n",
       "      <th>All</th>\n",
       "    </tr>\n",
       "    <tr>\n",
       "      <th>survived</th>\n",
       "      <th></th>\n",
       "      <th></th>\n",
       "      <th></th>\n",
       "    </tr>\n",
       "  </thead>\n",
       "  <tbody>\n",
       "    <tr>\n",
       "      <th>0</th>\n",
       "      <td>0.058952</td>\n",
       "      <td>0.563319</td>\n",
       "      <td>0.622271</td>\n",
       "    </tr>\n",
       "    <tr>\n",
       "      <th>1</th>\n",
       "      <td>0.298035</td>\n",
       "      <td>0.079694</td>\n",
       "      <td>0.377729</td>\n",
       "    </tr>\n",
       "    <tr>\n",
       "      <th>All</th>\n",
       "      <td>0.356987</td>\n",
       "      <td>0.643013</td>\n",
       "      <td>1.000000</td>\n",
       "    </tr>\n",
       "  </tbody>\n",
       "</table>\n",
       "</div>"
      ],
      "text/plain": [
       "gender      female      male       All\n",
       "survived                              \n",
       "0         0.058952  0.563319  0.622271\n",
       "1         0.298035  0.079694  0.377729\n",
       "All       0.356987  0.643013  1.000000"
      ]
     },
     "execution_count": 137,
     "metadata": {},
     "output_type": "execute_result"
    }
   ],
   "source": [
    "pd.crosstab(df_object[\"survived\"],df_object[\"gender\"],margins = True, normalize=\"all\")"
   ]
  },
  {
   "cell_type": "code",
   "execution_count": 155,
   "id": "8a68fbd5",
   "metadata": {},
   "outputs": [
    {
     "data": {
      "text/plain": [
       "Text(0.5, 1.0, 'Survived by Gender')"
      ]
     },
     "execution_count": 155,
     "metadata": {},
     "output_type": "execute_result"
    },
    {
     "data": {
      "image/png": "[encoded data removed]",
      "text/plain": [
       "<Figure size 640x480 with 1 Axes>"
      ]
     },
     "metadata": {},
     "output_type": "display_data"
    }
   ],
   "source": [
    "sbp = sns.barplot(x = \"gender\", y = \"survived\", data = df_object)\n",
    "sbp.set_title(\"Survived by Gender\")"
   ]
  },
  {
   "cell_type": "code",
   "execution_count": 156,
   "id": "46c7f384",
   "metadata": {
    "scrolled": true
   },
   "outputs": [
    {
     "data": {
      "text/plain": [
       "Text(0.5, 1.0, 'Survived passenger under age 21')"
      ]
     },
     "execution_count": 156,
     "metadata": {},
     "output_type": "execute_result"
    },
    {
     "data": {
      "image/png": "[encoded data removed]",
      "text/plain": [
       "<Figure size 1500x600 with 3 Axes>"
      ]
     },
     "metadata": {},
     "output_type": "display_data"
    }
   ],
   "source": [
    "fig, ax =plt.subplots(1,3 , figsize=(15, 6) , sharex='col', sharey='row')\n",
    "a = sns.countplot(x = 'gender' , data= df_object , ax = ax[0] , order=['male' , 'female'])\n",
    "b = sns.countplot(x = 'gender' , data= df_object[df_object['survived'] == 1] , ax = ax[1] , order=['male' , 'female'])\n",
    "c = sns.countplot(x = 'gender' , data= df_object[ ((df_number['age'] < 21) & (df_object['survived'] == 1)) ] , order=['male' , 'female'])\n",
    "ax[0].set_title('All passenger')\n",
    "ax[1].set_title('Survived passenger')\n",
    "ax[2].set_title('Survived passenger under age 21')"
   ]
  },
  {
   "cell_type": "markdown",
   "id": "4d1ba436",
   "metadata": {},
   "source": [
    "#### survived & title"
   ]
  },
  {
   "cell_type": "code",
   "execution_count": 161,
   "id": "d3f6319a",
   "metadata": {},
   "outputs": [
    {
     "data": {
      "text/html": [
       "<div>\n",
       "<style scoped>\n",
       "    .dataframe tbody tr th:only-of-type {\n",
       "        vertical-align: middle;\n",
       "    }\n",
       "\n",
       "    .dataframe tbody tr th {\n",
       "        vertical-align: top;\n",
       "    }\n",
       "\n",
       "    .dataframe thead th {\n",
       "        text-align: right;\n",
       "    }\n",
       "</style>\n",
       "<table border=\"1\" class=\"dataframe\">\n",
       "  <thead>\n",
       "    <tr style=\"text-align: right;\">\n",
       "      <th>survived</th>\n",
       "      <th>0</th>\n",
       "      <th>1</th>\n",
       "      <th>All</th>\n",
       "    </tr>\n",
       "    <tr>\n",
       "      <th>title</th>\n",
       "      <th></th>\n",
       "      <th></th>\n",
       "      <th></th>\n",
       "    </tr>\n",
       "  </thead>\n",
       "  <tbody>\n",
       "    <tr>\n",
       "      <th>Master</th>\n",
       "      <td>0.032751</td>\n",
       "      <td>0.013100</td>\n",
       "      <td>0.045852</td>\n",
       "    </tr>\n",
       "    <tr>\n",
       "      <th>Miss</th>\n",
       "      <td>0.039301</td>\n",
       "      <td>0.162664</td>\n",
       "      <td>0.201965</td>\n",
       "    </tr>\n",
       "    <tr>\n",
       "      <th>Mr</th>\n",
       "      <td>0.513100</td>\n",
       "      <td>0.063319</td>\n",
       "      <td>0.576419</td>\n",
       "    </tr>\n",
       "    <tr>\n",
       "      <th>Mrs</th>\n",
       "      <td>0.019651</td>\n",
       "      <td>0.131004</td>\n",
       "      <td>0.150655</td>\n",
       "    </tr>\n",
       "    <tr>\n",
       "      <th>Other</th>\n",
       "      <td>0.017467</td>\n",
       "      <td>0.007642</td>\n",
       "      <td>0.025109</td>\n",
       "    </tr>\n",
       "    <tr>\n",
       "      <th>All</th>\n",
       "      <td>0.622271</td>\n",
       "      <td>0.377729</td>\n",
       "      <td>1.000000</td>\n",
       "    </tr>\n",
       "  </tbody>\n",
       "</table>\n",
       "</div>"
      ],
      "text/plain": [
       "survived         0         1       All\n",
       "title                                 \n",
       "Master    0.032751  0.013100  0.045852\n",
       "Miss      0.039301  0.162664  0.201965\n",
       "Mr        0.513100  0.063319  0.576419\n",
       "Mrs       0.019651  0.131004  0.150655\n",
       "Other     0.017467  0.007642  0.025109\n",
       "All       0.622271  0.377729  1.000000"
      ]
     },
     "execution_count": 161,
     "metadata": {},
     "output_type": "execute_result"
    }
   ],
   "source": [
    "pd.crosstab(df_object[\"title\"],df_object[\"survived\"],margins=True, normalize= \"all\")"
   ]
  },
  {
   "cell_type": "code",
   "execution_count": 165,
   "id": "bcdcd7f8",
   "metadata": {},
   "outputs": [
    {
     "data": {
      "text/plain": [
       "<Axes: xlabel='title', ylabel='Count'>"
      ]
     },
     "execution_count": 165,
     "metadata": {},
     "output_type": "execute_result"
    },
    {
     "data": {
      "image/png": "[encoded data removed]",
      "text/plain": [
       "<Figure size 640x480 with 1 Axes>"
      ]
     },
     "metadata": {},
     "output_type": "display_data"
    }
   ],
   "source": [
    "sns.histplot(x = \"title\", hue = \"survived\", data = df_object, multiple=\"dodge\")"
   ]
  },
  {
   "cell_type": "markdown",
   "id": "603faa92",
   "metadata": {
    "heading_collapsed": true
   },
   "source": [
    "#### cabin & embakrd"
   ]
  },
  {
   "cell_type": "code",
   "execution_count": 142,
   "id": "9725329c",
   "metadata": {
    "hidden": true
   },
   "outputs": [
    {
     "data": {
      "text/html": [
       "<div>\n",
       "<style scoped>\n",
       "    .dataframe tbody tr th:only-of-type {\n",
       "        vertical-align: middle;\n",
       "    }\n",
       "\n",
       "    .dataframe tbody tr th {\n",
       "        vertical-align: top;\n",
       "    }\n",
       "\n",
       "    .dataframe thead th {\n",
       "        text-align: right;\n",
       "    }\n",
       "</style>\n",
       "<table border=\"1\" class=\"dataframe\">\n",
       "  <thead>\n",
       "    <tr style=\"text-align: right;\">\n",
       "      <th>cabin</th>\n",
       "      <th>A10</th>\n",
       "      <th>A11</th>\n",
       "      <th>A18</th>\n",
       "      <th>A19</th>\n",
       "      <th>A20</th>\n",
       "      <th>A21</th>\n",
       "      <th>A23</th>\n",
       "      <th>A24</th>\n",
       "      <th>A29</th>\n",
       "      <th>A31</th>\n",
       "      <th>...</th>\n",
       "      <th>F</th>\n",
       "      <th>F E46</th>\n",
       "      <th>F E57</th>\n",
       "      <th>F E69</th>\n",
       "      <th>F G63</th>\n",
       "      <th>F2</th>\n",
       "      <th>F33</th>\n",
       "      <th>G6</th>\n",
       "      <th>T</th>\n",
       "      <th>All</th>\n",
       "    </tr>\n",
       "    <tr>\n",
       "      <th>embarked</th>\n",
       "      <th></th>\n",
       "      <th></th>\n",
       "      <th></th>\n",
       "      <th></th>\n",
       "      <th></th>\n",
       "      <th></th>\n",
       "      <th></th>\n",
       "      <th></th>\n",
       "      <th></th>\n",
       "      <th></th>\n",
       "      <th></th>\n",
       "      <th></th>\n",
       "      <th></th>\n",
       "      <th></th>\n",
       "      <th></th>\n",
       "      <th></th>\n",
       "      <th></th>\n",
       "      <th></th>\n",
       "      <th></th>\n",
       "      <th></th>\n",
       "      <th></th>\n",
       "    </tr>\n",
       "  </thead>\n",
       "  <tbody>\n",
       "    <tr>\n",
       "      <th>C</th>\n",
       "      <td>1</td>\n",
       "      <td>1</td>\n",
       "      <td>1</td>\n",
       "      <td>0</td>\n",
       "      <td>1</td>\n",
       "      <td>0</td>\n",
       "      <td>0</td>\n",
       "      <td>0</td>\n",
       "      <td>1</td>\n",
       "      <td>1</td>\n",
       "      <td>...</td>\n",
       "      <td>0</td>\n",
       "      <td>1</td>\n",
       "      <td>1</td>\n",
       "      <td>1</td>\n",
       "      <td>0</td>\n",
       "      <td>0</td>\n",
       "      <td>0</td>\n",
       "      <td>0</td>\n",
       "      <td>0</td>\n",
       "      <td>83</td>\n",
       "    </tr>\n",
       "    <tr>\n",
       "      <th>Q</th>\n",
       "      <td>0</td>\n",
       "      <td>0</td>\n",
       "      <td>0</td>\n",
       "      <td>0</td>\n",
       "      <td>0</td>\n",
       "      <td>0</td>\n",
       "      <td>0</td>\n",
       "      <td>0</td>\n",
       "      <td>0</td>\n",
       "      <td>0</td>\n",
       "      <td>...</td>\n",
       "      <td>0</td>\n",
       "      <td>0</td>\n",
       "      <td>0</td>\n",
       "      <td>0</td>\n",
       "      <td>0</td>\n",
       "      <td>0</td>\n",
       "      <td>0</td>\n",
       "      <td>0</td>\n",
       "      <td>0</td>\n",
       "      <td>3</td>\n",
       "    </tr>\n",
       "    <tr>\n",
       "      <th>S</th>\n",
       "      <td>0</td>\n",
       "      <td>0</td>\n",
       "      <td>0</td>\n",
       "      <td>1</td>\n",
       "      <td>0</td>\n",
       "      <td>1</td>\n",
       "      <td>1</td>\n",
       "      <td>1</td>\n",
       "      <td>0</td>\n",
       "      <td>0</td>\n",
       "      <td>...</td>\n",
       "      <td>1</td>\n",
       "      <td>0</td>\n",
       "      <td>0</td>\n",
       "      <td>0</td>\n",
       "      <td>1</td>\n",
       "      <td>4</td>\n",
       "      <td>3</td>\n",
       "      <td>4</td>\n",
       "      <td>1</td>\n",
       "      <td>111</td>\n",
       "    </tr>\n",
       "    <tr>\n",
       "      <th>All</th>\n",
       "      <td>1</td>\n",
       "      <td>1</td>\n",
       "      <td>1</td>\n",
       "      <td>1</td>\n",
       "      <td>1</td>\n",
       "      <td>1</td>\n",
       "      <td>1</td>\n",
       "      <td>1</td>\n",
       "      <td>1</td>\n",
       "      <td>1</td>\n",
       "      <td>...</td>\n",
       "      <td>1</td>\n",
       "      <td>1</td>\n",
       "      <td>1</td>\n",
       "      <td>1</td>\n",
       "      <td>1</td>\n",
       "      <td>4</td>\n",
       "      <td>3</td>\n",
       "      <td>4</td>\n",
       "      <td>1</td>\n",
       "      <td>197</td>\n",
       "    </tr>\n",
       "  </tbody>\n",
       "</table>\n",
       "<p>4 rows × 146 columns</p>\n",
       "</div>"
      ],
      "text/plain": [
       "cabin     A10  A11  A18  A19  A20  A21  A23  A24  A29  A31  ...  F  F E46  \\\n",
       "embarked                                                    ...             \n",
       "C           1    1    1    0    1    0    0    0    1    1  ...  0      1   \n",
       "Q           0    0    0    0    0    0    0    0    0    0  ...  0      0   \n",
       "S           0    0    0    1    0    1    1    1    0    0  ...  1      0   \n",
       "All         1    1    1    1    1    1    1    1    1    1  ...  1      1   \n",
       "\n",
       "cabin     F E57  F E69  F G63  F2  F33  G6  T  All  \n",
       "embarked                                            \n",
       "C             1      1      0   0    0   0  0   83  \n",
       "Q             0      0      0   0    0   0  0    3  \n",
       "S             0      0      1   4    3   4  1  111  \n",
       "All           1      1      1   4    3   4  1  197  \n",
       "\n",
       "[4 rows x 146 columns]"
      ]
     },
     "execution_count": 142,
     "metadata": {},
     "output_type": "execute_result"
    }
   ],
   "source": [
    "pd.crosstab(df_object[\"cabin\"],df_object[\"embarked\"],margins = True).T"
   ]
  },
  {
   "cell_type": "markdown",
   "id": "ccd861fc",
   "metadata": {
    "heading_collapsed": true
   },
   "source": [
    "#### cabin & gender"
   ]
  },
  {
   "cell_type": "code",
   "execution_count": 141,
   "id": "1ae1ecc6",
   "metadata": {
    "hidden": true
   },
   "outputs": [
    {
     "data": {
      "text/html": [
       "<div>\n",
       "<style scoped>\n",
       "    .dataframe tbody tr th:only-of-type {\n",
       "        vertical-align: middle;\n",
       "    }\n",
       "\n",
       "    .dataframe tbody tr th {\n",
       "        vertical-align: top;\n",
       "    }\n",
       "\n",
       "    .dataframe thead th {\n",
       "        text-align: right;\n",
       "    }\n",
       "</style>\n",
       "<table border=\"1\" class=\"dataframe\">\n",
       "  <thead>\n",
       "    <tr style=\"text-align: right;\">\n",
       "      <th>cabin</th>\n",
       "      <th>A10</th>\n",
       "      <th>A11</th>\n",
       "      <th>A18</th>\n",
       "      <th>A19</th>\n",
       "      <th>A20</th>\n",
       "      <th>A21</th>\n",
       "      <th>A23</th>\n",
       "      <th>A24</th>\n",
       "      <th>A29</th>\n",
       "      <th>A31</th>\n",
       "      <th>...</th>\n",
       "      <th>F</th>\n",
       "      <th>F E46</th>\n",
       "      <th>F E57</th>\n",
       "      <th>F E69</th>\n",
       "      <th>F G63</th>\n",
       "      <th>F2</th>\n",
       "      <th>F33</th>\n",
       "      <th>G6</th>\n",
       "      <th>T</th>\n",
       "      <th>All</th>\n",
       "    </tr>\n",
       "    <tr>\n",
       "      <th>gender</th>\n",
       "      <th></th>\n",
       "      <th></th>\n",
       "      <th></th>\n",
       "      <th></th>\n",
       "      <th></th>\n",
       "      <th></th>\n",
       "      <th></th>\n",
       "      <th></th>\n",
       "      <th></th>\n",
       "      <th></th>\n",
       "      <th></th>\n",
       "      <th></th>\n",
       "      <th></th>\n",
       "      <th></th>\n",
       "      <th></th>\n",
       "      <th></th>\n",
       "      <th></th>\n",
       "      <th></th>\n",
       "      <th></th>\n",
       "      <th></th>\n",
       "      <th></th>\n",
       "    </tr>\n",
       "  </thead>\n",
       "  <tbody>\n",
       "    <tr>\n",
       "      <th>female</th>\n",
       "      <td>0</td>\n",
       "      <td>1</td>\n",
       "      <td>0</td>\n",
       "      <td>0</td>\n",
       "      <td>0</td>\n",
       "      <td>0</td>\n",
       "      <td>0</td>\n",
       "      <td>0</td>\n",
       "      <td>1</td>\n",
       "      <td>0</td>\n",
       "      <td>...</td>\n",
       "      <td>0</td>\n",
       "      <td>0</td>\n",
       "      <td>0</td>\n",
       "      <td>1</td>\n",
       "      <td>0</td>\n",
       "      <td>0</td>\n",
       "      <td>3</td>\n",
       "      <td>4</td>\n",
       "      <td>0</td>\n",
       "      <td>94</td>\n",
       "    </tr>\n",
       "    <tr>\n",
       "      <th>male</th>\n",
       "      <td>1</td>\n",
       "      <td>0</td>\n",
       "      <td>1</td>\n",
       "      <td>1</td>\n",
       "      <td>1</td>\n",
       "      <td>1</td>\n",
       "      <td>1</td>\n",
       "      <td>1</td>\n",
       "      <td>0</td>\n",
       "      <td>1</td>\n",
       "      <td>...</td>\n",
       "      <td>1</td>\n",
       "      <td>1</td>\n",
       "      <td>1</td>\n",
       "      <td>0</td>\n",
       "      <td>1</td>\n",
       "      <td>4</td>\n",
       "      <td>0</td>\n",
       "      <td>0</td>\n",
       "      <td>1</td>\n",
       "      <td>104</td>\n",
       "    </tr>\n",
       "    <tr>\n",
       "      <th>All</th>\n",
       "      <td>1</td>\n",
       "      <td>1</td>\n",
       "      <td>1</td>\n",
       "      <td>1</td>\n",
       "      <td>1</td>\n",
       "      <td>1</td>\n",
       "      <td>1</td>\n",
       "      <td>1</td>\n",
       "      <td>1</td>\n",
       "      <td>1</td>\n",
       "      <td>...</td>\n",
       "      <td>1</td>\n",
       "      <td>1</td>\n",
       "      <td>1</td>\n",
       "      <td>1</td>\n",
       "      <td>1</td>\n",
       "      <td>4</td>\n",
       "      <td>3</td>\n",
       "      <td>4</td>\n",
       "      <td>1</td>\n",
       "      <td>198</td>\n",
       "    </tr>\n",
       "  </tbody>\n",
       "</table>\n",
       "<p>3 rows × 147 columns</p>\n",
       "</div>"
      ],
      "text/plain": [
       "cabin   A10  A11  A18  A19  A20  A21  A23  A24  A29  A31  ...  F  F E46  \\\n",
       "gender                                                    ...             \n",
       "female    0    1    0    0    0    0    0    0    1    0  ...  0      0   \n",
       "male      1    0    1    1    1    1    1    1    0    1  ...  1      1   \n",
       "All       1    1    1    1    1    1    1    1    1    1  ...  1      1   \n",
       "\n",
       "cabin   F E57  F E69  F G63  F2  F33  G6  T  All  \n",
       "gender                                            \n",
       "female      0      1      0   0    3   4  0   94  \n",
       "male        1      0      1   4    0   0  1  104  \n",
       "All         1      1      1   4    3   4  1  198  \n",
       "\n",
       "[3 rows x 147 columns]"
      ]
     },
     "execution_count": 141,
     "metadata": {},
     "output_type": "execute_result"
    }
   ],
   "source": [
    "pd.crosstab(df_object[\"cabin\"],df_object[\"gender\"],margins = True).T"
   ]
  },
  {
   "cell_type": "markdown",
   "id": "1b411cd1",
   "metadata": {
    "heading_collapsed": true
   },
   "source": [
    "#### embarked & gender"
   ]
  },
  {
   "cell_type": "code",
   "execution_count": 144,
   "id": "ee09c7a9",
   "metadata": {
    "hidden": true
   },
   "outputs": [
    {
     "data": {
      "text/html": [
       "<div>\n",
       "<style scoped>\n",
       "    .dataframe tbody tr th:only-of-type {\n",
       "        vertical-align: middle;\n",
       "    }\n",
       "\n",
       "    .dataframe tbody tr th {\n",
       "        vertical-align: top;\n",
       "    }\n",
       "\n",
       "    .dataframe thead th {\n",
       "        text-align: right;\n",
       "    }\n",
       "</style>\n",
       "<table border=\"1\" class=\"dataframe\">\n",
       "  <thead>\n",
       "    <tr style=\"text-align: right;\">\n",
       "      <th>gender</th>\n",
       "      <th>female</th>\n",
       "      <th>male</th>\n",
       "      <th>All</th>\n",
       "    </tr>\n",
       "    <tr>\n",
       "      <th>embarked</th>\n",
       "      <th></th>\n",
       "      <th></th>\n",
       "      <th></th>\n",
       "    </tr>\n",
       "  </thead>\n",
       "  <tbody>\n",
       "    <tr>\n",
       "      <th>C</th>\n",
       "      <td>77</td>\n",
       "      <td>112</td>\n",
       "      <td>189</td>\n",
       "    </tr>\n",
       "    <tr>\n",
       "      <th>Q</th>\n",
       "      <td>43</td>\n",
       "      <td>38</td>\n",
       "      <td>81</td>\n",
       "    </tr>\n",
       "    <tr>\n",
       "      <th>S</th>\n",
       "      <td>206</td>\n",
       "      <td>439</td>\n",
       "      <td>645</td>\n",
       "    </tr>\n",
       "    <tr>\n",
       "      <th>All</th>\n",
       "      <td>326</td>\n",
       "      <td>589</td>\n",
       "      <td>915</td>\n",
       "    </tr>\n",
       "  </tbody>\n",
       "</table>\n",
       "</div>"
      ],
      "text/plain": [
       "gender    female  male  All\n",
       "embarked                   \n",
       "C             77   112  189\n",
       "Q             43    38   81\n",
       "S            206   439  645\n",
       "All          326   589  915"
      ]
     },
     "execution_count": 144,
     "metadata": {},
     "output_type": "execute_result"
    }
   ],
   "source": [
    "pd.crosstab(df_object[\"embarked\"],df_object[\"gender\"],margins = True)"
   ]
  },
  {
   "cell_type": "markdown",
   "id": "c23755d9",
   "metadata": {
    "heading_collapsed": true
   },
   "source": [
    "### 범주형 데이터 분석 정리"
   ]
  },
  {
   "cell_type": "markdown",
   "id": "90c5790a",
   "metadata": {
    "hidden": true
   },
   "source": [
    "***통계적 분석***\n",
    "\n",
    "범주형 데이터의 고유값의 수는 다음과 같다. \n",
    "\n",
    "name 고유값 수 = 915  \n",
    "gender 고유값 수 = 2  \n",
    "ticket 고유값 수 = 703  \n",
    "cabin 고유값 수 = 146  \n",
    "embarked 고유값 수 = 3  \n",
    "survived 고유값 수 = 2  \n",
    "\n",
    "gender 는 male 과 female 의 값을 가지고 있고  \n",
    "female 의 성별을 가진 사람보다 male 의 성별을 가진 사람이 더 많은 것으로 보이고  \n",
    "남성과 여성의 비율은 64.3:35.6 의 비율을 가지고 있다.  \n",
    "\n",
    "embarked 는 S, C, Q 의 값을 가지고 있고  \n",
    "S 에서 승선한 사람이 많은 것으로 보인다.  \n",
    "각 값의 비율은 70.4 : 20.6 : 0.08 의 비율을 가지고 있다.  \n",
    "\n",
    "survived 는 0 과 1의 값을 가지고 있고 62.2 : 37.7 의 비율을 가지고 있다.  \n",
    "\n",
    "cabin 은 객실 위치에 대한 값을 가지고 있어 값의 첫 문자를 확인해보면 머무른 객실의 위치를 확인할 수 있다.  \n",
    "\n",
    "name, ticket 은 각각의 고유값을 가지고 있기 때문에 분석이 어렵다.  "
   ]
  },
  {
   "cell_type": "markdown",
   "id": "1095f071",
   "metadata": {
    "hidden": true
   },
   "source": [
    "***교차 분석***\n",
    "\n",
    "- survived 와 gender 의 교차 분석 한 결과  \n",
    "    embarked 의 경우 70% 이상의 사람이 'S' 에서 승선했고 생존률이 더 낮은 것을 확인할 수 있다.  \n",
    "\n",
    "- survived 와 embarked 의 교차 분석 한 결과  \n",
    "    gender 의 경우 male 의 성별을 가진 사람의 생존률이 더 낮을 것을 확인할 수 있다.  \n",
    "\n",
    "- embarked 와 gender 의 교차 분석 한 결과  \n",
    "    'S' 에서 승선한 남자의 비율이 높은 것을 확인할 수 있다.  "
   ]
  },
  {
   "cell_type": "markdown",
   "id": "824519a2",
   "metadata": {
    "hidden": true
   },
   "source": [
    "\n",
    "# Split train and test"
   ]
  },
  {
   "cell_type": "code",
   "execution_count": null,
   "id": "48a007b1",
   "metadata": {
    "hidden": true
   },
   "outputs": [],
   "source": []
  },
  {
   "cell_type": "code",
   "execution_count": null,
   "id": "b1145921",
   "metadata": {
    "hidden": true
   },
   "outputs": [],
   "source": []
  },
  {
   "cell_type": "code",
   "execution_count": null,
   "id": "26e97cc4",
   "metadata": {
    "hidden": true
   },
   "outputs": [],
   "source": []
  },
  {
   "cell_type": "code",
   "execution_count": null,
   "id": "f2922ed7",
   "metadata": {
    "hidden": true
   },
   "outputs": [],
   "source": []
  },
  {
   "cell_type": "code",
   "execution_count": null,
   "id": "eb0202c4",
   "metadata": {
    "hidden": true
   },
   "outputs": [],
   "source": []
  },
  {
   "cell_type": "code",
   "execution_count": null,
   "id": "1c90bb82",
   "metadata": {
    "hidden": true
   },
   "outputs": [],
   "source": []
  },
  {
   "cell_type": "code",
   "execution_count": null,
   "id": "97ceced5",
   "metadata": {
    "hidden": true
   },
   "outputs": [],
   "source": []
  },
  {
   "cell_type": "code",
   "execution_count": null,
   "id": "e03f3aaf",
   "metadata": {
    "hidden": true
   },
   "outputs": [],
   "source": []
  },
  {
   "cell_type": "code",
   "execution_count": null,
   "id": "f07f9c2c",
   "metadata": {
    "hidden": true
   },
   "outputs": [],
   "source": []
  },
  {
   "cell_type": "code",
   "execution_count": null,
   "id": "1698e115",
   "metadata": {
    "hidden": true
   },
   "outputs": [],
   "source": []
  },
  {
   "cell_type": "markdown",
   "id": "60169686",
   "metadata": {},
   "source": [
    "# Training Model"
   ]
  },
  {
   "cell_type": "code",
   "execution_count": null,
   "id": "d0a5be5c",
   "metadata": {},
   "outputs": [],
   "source": []
  },
  {
   "cell_type": "code",
   "execution_count": null,
   "id": "59cfdc8c",
   "metadata": {},
   "outputs": [],
   "source": []
  }
 ],
 "metadata": {
  "kernelspec": {
   "display_name": "Python 3 (ipykernel)",
   "language": "python",
   "name": "python3"
  },
  "language_info": {
   "codemirror_mode": {
    "name": "ipython",
    "version": 3
   },
   "file_extension": ".py",
   "mimetype": "text/x-python",
   "name": "python",
   "nbconvert_exporter": "python",
   "pygments_lexer": "ipython3",
   "version": "3.11.2"
  },
  "toc": {
   "base_numbering": 1,
   "nav_menu": {},
   "number_sections": true,
   "sideBar": true,
   "skip_h1_title": false,
   "title_cell": "Table of Contents",
   "title_sidebar": "Contents",
   "toc_cell": false,
   "toc_position": {},
   "toc_section_display": true,
   "toc_window_display": false
  }
 },
 "nbformat": 4,
 "nbformat_minor": 5
}
