{
 "cells": [
  {
   "cell_type": "code",
   "execution_count": 11,
   "id": "5f20dab6",
   "metadata": {},
   "outputs": [
    {
     "ename": "KeyboardInterrupt",
     "evalue": "",
     "output_type": "error",
     "traceback": [
      "\u001b[0;31m---------------------------------------------------------------------------\u001b[0m",
      "\u001b[0;31mKeyboardInterrupt\u001b[0m                         Traceback (most recent call last)",
      "\u001b[0;32m<ipython-input-11-5fada599bd47>\u001b[0m in \u001b[0;36m<module>\u001b[0;34m\u001b[0m\n\u001b[1;32m     30\u001b[0m     \u001b[0mfor_1\u001b[0m \u001b[0;34m=\u001b[0m \u001b[0mselect_genre\u001b[0m\u001b[0;34m.\u001b[0m\u001b[0mformat\u001b[0m\u001b[0;34m(\u001b[0m\u001b[0mx\u001b[0m\u001b[0;34m)\u001b[0m\u001b[0;34m\u001b[0m\u001b[0;34m\u001b[0m\u001b[0m\n\u001b[1;32m     31\u001b[0m     \u001b[0mdriver\u001b[0m\u001b[0;34m.\u001b[0m\u001b[0mfind_element\u001b[0m\u001b[0;34m(\u001b[0m\u001b[0mBy\u001b[0m\u001b[0;34m.\u001b[0m\u001b[0mCSS_SELECTOR\u001b[0m\u001b[0;34m,\u001b[0m \u001b[0mfor_1\u001b[0m\u001b[0;34m)\u001b[0m\u001b[0;34m.\u001b[0m\u001b[0mclick\u001b[0m\u001b[0;34m(\u001b[0m\u001b[0;34m)\u001b[0m\u001b[0;34m\u001b[0m\u001b[0;34m\u001b[0m\u001b[0m\n\u001b[0;32m---> 32\u001b[0;31m     \u001b[0mtime\u001b[0m\u001b[0;34m.\u001b[0m\u001b[0msleep\u001b[0m\u001b[0;34m(\u001b[0m\u001b[0;36m4\u001b[0m\u001b[0;34m)\u001b[0m\u001b[0;34m\u001b[0m\u001b[0;34m\u001b[0m\u001b[0m\n\u001b[0m",
      "\u001b[0;31mKeyboardInterrupt\u001b[0m: "
     ]
    }
   ],
   "source": [
    "import selenium\n",
    "import time\n",
    "import re\n",
    "from selenium.webdriver.common.by import By\n",
    "\n",
    "driver = selenium.webdriver.Chrome()\n",
    "\n",
    "url = \"https://www.naver.com/\"\n",
    "\n",
    "driver.get(url)\n",
    "time.sleep(2)\n",
    "driver.find_element('xpath', '//*[@id=\"NM_FAVORITE\"]/div[1]/a').click()\n",
    "time.sleep(2)\n",
    "driver.find_element('xpath', '//*[@id=\"gnb\"]/div[2]/div[1]/dl[3]/dd[2]/a').click()\n",
    "time.sleep(2)\n",
    "driver.find_element('xpath', '//*[@id=\"noti_popup\"]/div[1]/div/div[4]/input').click()\n",
    "time.sleep(2)\n",
    "driver.find_element('xpath', '//*[@id=\"noti_popup\"]/div[1]/button').click()\n",
    "time.sleep(2)\n",
    "driver.find_element('xpath', '//*[@id=\"scrollbar\"]/div[1]/div/div/ul/li[3]/a').click()\n",
    "time.sleep(2)\n",
    "driver.find_element('xpath', '//*[@id=\"old_content\"]/div[1]/ul/li[3]/a/img').click()\n",
    "time.sleep(2)\n",
    "\n",
    "select_genre = \"#old_content > h4 > div > select > option:nth-child({})\"\n",
    "select_page = \"/movie/sdb/rank/rmovie.naver?sel=pnt&date=20230204&page={}\"\n",
    "code = re.compile(\"code=([0-9]+)\")\n",
    "movie = []\n",
    "for x in range(1,20):\n",
    "    for_1 = select_genre.format(x)\n",
    "    driver.find_element(By.CSS_SELECTOR, for_1).click()\n",
    "    time.sleep(4)"
   ]
  }
 ],
 "metadata": {
  "kernelspec": {
   "display_name": "Python 3",
   "language": "python",
   "name": "python3"
  },
  "language_info": {
   "codemirror_mode": {
    "name": "ipython",
    "version": 3
   },
   "file_extension": ".py",
   "mimetype": "text/x-python",
   "name": "python",
   "nbconvert_exporter": "python",
   "pygments_lexer": "ipython3",
   "version": "3.8.13"
  }
 },
 "nbformat": 4,
 "nbformat_minor": 5
}
