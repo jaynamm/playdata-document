{
 "cells": [
  {
   "cell_type": "markdown",
   "id": "e89ccbe9",
   "metadata": {},
   "source": [
    "# encore_21_titanic"
   ]
  },
  {
   "cell_type": "markdown",
   "id": "17bc854c",
   "metadata": {},
   "source": [
    "### Dataset Description  \n",
    "passengerid: 탑승자 아이디  \n",
    "survived:0=사망, 1=생존  \n",
    "pclass: 1=1등석, 2=2등석, 3=3등석  \n",
    "name: 탑승자 이름  \n",
    "gender:male=남성, female=여성  \n",
    "age: 나이  \n",
    "sibsp: 타이타닉 호에 동승한 자매/배우자의 수  \n",
    "parch: 타이타닉 호에 동승한 부모/자식의 수  \n",
    "ticket: 티켓 번호  \n",
    "fare: 승객 요금  \n",
    "cabin: 방 호수  \n",
    "embarked: 탑승지; C=셰르부르, Q=퀴즈타운, S=사우샘프턴  "
   ]
  },
  {
   "cell_type": "markdown",
   "id": "b2eb9219",
   "metadata": {},
   "source": [
    "### Import Library"
   ]
  },
  {
   "cell_type": "code",
   "execution_count": 1,
   "id": "1376a20e",
   "metadata": {},
   "outputs": [],
   "source": [
    "import pandas as pd\n",
    "import numpy as np\n",
    "\n",
    "import seaborn as sns\n",
    "import matplotlib.pyplot as plt"
   ]
  },
  {
   "cell_type": "markdown",
   "id": "15aa69c6",
   "metadata": {},
   "source": [
    "### Global Variables"
   ]
  },
  {
   "cell_type": "code",
   "execution_count": 2,
   "id": "9be919c4",
   "metadata": {},
   "outputs": [],
   "source": [
    "import easydict\n",
    "import json\n",
    "args = easydict.EasyDict()\n",
    "\n",
    "# path 정보\n",
    "args.default_path = '/Users/jaynam/workspace/playdata/encore21titanic/'\n",
    "args.train_csv = args.default_path+'train.csv'\n",
    "args.test_csv = args.default_path+'test.csv'\n",
    "args.submission_csv = args.default_path+\"submission.csv\"\n",
    "\n",
    "# 데이터 분석을 위한 변수들\n",
    "args.random_state = 21"
   ]
  },
  {
   "cell_type": "markdown",
   "id": "4b18c61d",
   "metadata": {},
   "source": [
    "### Get Train and Test Dataset"
   ]
  },
  {
   "cell_type": "code",
   "execution_count": 3,
   "id": "6c0b4887",
   "metadata": {},
   "outputs": [],
   "source": [
    "org_train = pd.read_csv(args.train_csv)\n",
    "org_test = pd.read_csv(args.test_csv)"
   ]
  },
  {
   "cell_type": "code",
   "execution_count": 4,
   "id": "d676925c",
   "metadata": {},
   "outputs": [
    {
     "name": "stdout",
     "output_type": "stream",
     "text": [
      "org_train shape :  (916, 12)\n",
      "org_test shape  :  (393, 11)\n"
     ]
    }
   ],
   "source": [
    "print(\"org_train shape : \", org_train.shape)\n",
    "print(\"org_test shape  : \", org_test.shape)"
   ]
  },
  {
   "cell_type": "code",
   "execution_count": 5,
   "id": "4a2b265a",
   "metadata": {},
   "outputs": [
    {
     "name": "stdout",
     "output_type": "stream",
     "text": [
      "(393, 2)\n"
     ]
    },
    {
     "data": {
      "text/html": [
       "<div>\n",
       "<style scoped>\n",
       "    .dataframe tbody tr th:only-of-type {\n",
       "        vertical-align: middle;\n",
       "    }\n",
       "\n",
       "    .dataframe tbody tr th {\n",
       "        vertical-align: top;\n",
       "    }\n",
       "\n",
       "    .dataframe thead th {\n",
       "        text-align: right;\n",
       "    }\n",
       "</style>\n",
       "<table border=\"1\" class=\"dataframe\">\n",
       "  <thead>\n",
       "    <tr style=\"text-align: right;\">\n",
       "      <th></th>\n",
       "      <th>passengerid</th>\n",
       "      <th>survived</th>\n",
       "    </tr>\n",
       "  </thead>\n",
       "  <tbody>\n",
       "    <tr>\n",
       "      <th>0</th>\n",
       "      <td>916</td>\n",
       "      <td>0.5</td>\n",
       "    </tr>\n",
       "    <tr>\n",
       "      <th>1</th>\n",
       "      <td>917</td>\n",
       "      <td>0.5</td>\n",
       "    </tr>\n",
       "    <tr>\n",
       "      <th>2</th>\n",
       "      <td>918</td>\n",
       "      <td>0.5</td>\n",
       "    </tr>\n",
       "    <tr>\n",
       "      <th>3</th>\n",
       "      <td>919</td>\n",
       "      <td>0.5</td>\n",
       "    </tr>\n",
       "    <tr>\n",
       "      <th>4</th>\n",
       "      <td>920</td>\n",
       "      <td>0.5</td>\n",
       "    </tr>\n",
       "  </tbody>\n",
       "</table>\n",
       "</div>"
      ],
      "text/plain": [
       "   passengerid  survived\n",
       "0          916       0.5\n",
       "1          917       0.5\n",
       "2          918       0.5\n",
       "3          919       0.5\n",
       "4          920       0.5"
      ]
     },
     "execution_count": 5,
     "metadata": {},
     "output_type": "execute_result"
    }
   ],
   "source": [
    "submission = pd.read_csv(args.submission_csv)\n",
    "print(submission.shape)\n",
    "submission.head()"
   ]
  },
  {
   "cell_type": "markdown",
   "id": "0275ae20",
   "metadata": {},
   "source": [
    "### Check Dataset Info"
   ]
  },
  {
   "cell_type": "code",
   "execution_count": 6,
   "id": "05242d03",
   "metadata": {
    "scrolled": true
   },
   "outputs": [
    {
     "data": {
      "text/plain": [
       "((916, 12), (393, 11))"
      ]
     },
     "execution_count": 6,
     "metadata": {},
     "output_type": "execute_result"
    }
   ],
   "source": [
    "org_train.shape, org_test.shape"
   ]
  },
  {
   "cell_type": "markdown",
   "id": "6f17c265",
   "metadata": {},
   "source": [
    "train 과 test 의 컬럼 수가 1 차이남  \n",
    "\n",
    "test 에는 survived 컬럼이 없음"
   ]
  },
  {
   "cell_type": "code",
   "execution_count": 7,
   "id": "71b7059d",
   "metadata": {
    "scrolled": false
   },
   "outputs": [
    {
     "name": "stdout",
     "output_type": "stream",
     "text": [
      "<class 'pandas.core.frame.DataFrame'>\n",
      "RangeIndex: 916 entries, 0 to 915\n",
      "Data columns (total 12 columns):\n",
      " #   Column       Non-Null Count  Dtype  \n",
      "---  ------       --------------  -----  \n",
      " 0   passengerid  916 non-null    int64  \n",
      " 1   survived     916 non-null    int64  \n",
      " 2   pclass       916 non-null    int64  \n",
      " 3   name         916 non-null    object \n",
      " 4   gender       916 non-null    object \n",
      " 5   age          736 non-null    float64\n",
      " 6   sibsp        916 non-null    int64  \n",
      " 7   parch        916 non-null    int64  \n",
      " 8   ticket       916 non-null    object \n",
      " 9   fare         916 non-null    float64\n",
      " 10  cabin        198 non-null    object \n",
      " 11  embarked     915 non-null    object \n",
      "dtypes: float64(2), int64(5), object(5)\n",
      "memory usage: 86.0+ KB\n"
     ]
    }
   ],
   "source": [
    "org_train.info()"
   ]
  },
  {
   "cell_type": "code",
   "execution_count": 8,
   "id": "e40580f0",
   "metadata": {
    "scrolled": false
   },
   "outputs": [
    {
     "name": "stdout",
     "output_type": "stream",
     "text": [
      "<class 'pandas.core.frame.DataFrame'>\n",
      "RangeIndex: 393 entries, 0 to 392\n",
      "Data columns (total 11 columns):\n",
      " #   Column       Non-Null Count  Dtype  \n",
      "---  ------       --------------  -----  \n",
      " 0   passengerid  393 non-null    int64  \n",
      " 1   pclass       393 non-null    int64  \n",
      " 2   name         393 non-null    object \n",
      " 3   gender       393 non-null    object \n",
      " 4   age          310 non-null    float64\n",
      " 5   sibsp        393 non-null    int64  \n",
      " 6   parch        393 non-null    int64  \n",
      " 7   ticket       393 non-null    object \n",
      " 8   fare         392 non-null    float64\n",
      " 9   cabin        97 non-null     object \n",
      " 10  embarked     392 non-null    object \n",
      "dtypes: float64(2), int64(4), object(5)\n",
      "memory usage: 33.9+ KB\n"
     ]
    }
   ],
   "source": [
    "org_test.info()"
   ]
  },
  {
   "cell_type": "markdown",
   "id": "3c447a0b",
   "metadata": {},
   "source": [
    "### Check unique for 'passengerid' column"
   ]
  },
  {
   "cell_type": "code",
   "execution_count": 11,
   "id": "6b1b7c65",
   "metadata": {
    "scrolled": true
   },
   "outputs": [
    {
     "data": {
      "text/plain": [
       "(916, (916, 12))"
      ]
     },
     "execution_count": 11,
     "metadata": {},
     "output_type": "execute_result"
    }
   ],
   "source": [
    "org_train['passengerid'].nunique(), org_train.shape"
   ]
  },
  {
   "cell_type": "markdown",
   "id": "cd00ae93",
   "metadata": {},
   "source": [
    "### Missing Value Check"
   ]
  },
  {
   "cell_type": "markdown",
   "id": "d6c6e568",
   "metadata": {},
   "source": [
    "##### org_train heatmap"
   ]
  },
  {
   "cell_type": "code",
   "execution_count": 12,
   "id": "fb94a485",
   "metadata": {
    "scrolled": false
   },
   "outputs": [
    {
     "data": {
      "text/plain": [
       "<AxesSubplot:>"
      ]
     },
     "execution_count": 12,
     "metadata": {},
     "output_type": "execute_result"
    },
    {
     "data": {
      "image/png": "[encoded data removed]",
      "text/plain": [
       "<Figure size 432x288 with 1 Axes>"
      ]
     },
     "metadata": {
      "needs_background": "light"
     },
     "output_type": "display_data"
    }
   ],
   "source": [
    "# org_train\n",
    "sns.heatmap(org_train.isnull(), yticklabels = False, cbar = False, cmap = 'viridis')"
   ]
  },
  {
   "cell_type": "markdown",
   "id": "47df6e6b",
   "metadata": {},
   "source": [
    "##### org_test heatmap"
   ]
  },
  {
   "cell_type": "code",
   "execution_count": 13,
   "id": "e4f50380",
   "metadata": {},
   "outputs": [
    {
     "data": {
      "text/plain": [
       "<AxesSubplot:>"
      ]
     },
     "execution_count": 13,
     "metadata": {},
     "output_type": "execute_result"
    },
    {
     "data": {
      "image/png": "[encoded data removed]",
      "text/plain": [
       "<Figure size 432x288 with 1 Axes>"
      ]
     },
     "metadata": {
      "needs_background": "light"
     },
     "output_type": "display_data"
    }
   ],
   "source": [
    "# org_test\n",
    "sns.heatmap(org_test.isnull(), yticklabels = False, cbar = False, cmap = 'viridis')"
   ]
  },
  {
   "cell_type": "markdown",
   "id": "428ca5fa",
   "metadata": {},
   "source": [
    "##### org_train null check"
   ]
  },
  {
   "cell_type": "code",
   "execution_count": 14,
   "id": "7c0b10ab",
   "metadata": {
    "scrolled": false
   },
   "outputs": [
    {
     "data": {
      "text/plain": [
       "passengerid      0\n",
       "survived         0\n",
       "pclass           0\n",
       "name             0\n",
       "gender           0\n",
       "age            180\n",
       "sibsp            0\n",
       "parch            0\n",
       "ticket           0\n",
       "fare             0\n",
       "cabin          718\n",
       "embarked         1\n",
       "dtype: int64"
      ]
     },
     "execution_count": 14,
     "metadata": {},
     "output_type": "execute_result"
    }
   ],
   "source": [
    "org_train.isnull().sum()"
   ]
  },
  {
   "cell_type": "code",
   "execution_count": 16,
   "id": "2ef367d8",
   "metadata": {
    "scrolled": true
   },
   "outputs": [
    {
     "data": {
      "text/plain": [
       "cabin          0.783843\n",
       "age            0.196507\n",
       "embarked       0.001092\n",
       "passengerid    0.000000\n",
       "survived       0.000000\n",
       "pclass         0.000000\n",
       "name           0.000000\n",
       "gender         0.000000\n",
       "sibsp          0.000000\n",
       "parch          0.000000\n",
       "ticket         0.000000\n",
       "fare           0.000000\n",
       "dtype: float64"
      ]
     },
     "execution_count": 16,
     "metadata": {},
     "output_type": "execute_result"
    }
   ],
   "source": [
    "(org_train.isnull().sum() / org_train.shape[0]).sort_values(ascending=False)"
   ]
  },
  {
   "cell_type": "markdown",
   "id": "262b5da2",
   "metadata": {},
   "source": [
    "##### org_test null check"
   ]
  },
  {
   "cell_type": "code",
   "execution_count": 18,
   "id": "d4b25e84",
   "metadata": {
    "scrolled": true
   },
   "outputs": [
    {
     "data": {
      "text/plain": [
       "passengerid      0\n",
       "pclass           0\n",
       "name             0\n",
       "gender           0\n",
       "age             83\n",
       "sibsp            0\n",
       "parch            0\n",
       "ticket           0\n",
       "fare             1\n",
       "cabin          296\n",
       "embarked         1\n",
       "dtype: int64"
      ]
     },
     "execution_count": 18,
     "metadata": {},
     "output_type": "execute_result"
    }
   ],
   "source": [
    "org_test.isnull().sum()"
   ]
  },
  {
   "cell_type": "code",
   "execution_count": 19,
   "id": "9278c9c4",
   "metadata": {},
   "outputs": [
    {
     "data": {
      "text/plain": [
       "cabin          0.753181\n",
       "age            0.211196\n",
       "fare           0.002545\n",
       "embarked       0.002545\n",
       "passengerid    0.000000\n",
       "pclass         0.000000\n",
       "name           0.000000\n",
       "gender         0.000000\n",
       "sibsp          0.000000\n",
       "parch          0.000000\n",
       "ticket         0.000000\n",
       "dtype: float64"
      ]
     },
     "execution_count": 19,
     "metadata": {},
     "output_type": "execute_result"
    }
   ],
   "source": [
    "(org_test.isnull().sum() / org_test.shape[0]).sort_values(ascending=False)"
   ]
  },
  {
   "cell_type": "markdown",
   "id": "d135425e",
   "metadata": {},
   "source": [
    "### Filling Missing Value"
   ]
  },
  {
   "cell_type": "code",
   "execution_count": 20,
   "id": "3e3cee95",
   "metadata": {},
   "outputs": [
    {
     "data": {
      "text/plain": [
       "29.69836956521739"
      ]
     },
     "execution_count": 20,
     "metadata": {},
     "output_type": "execute_result"
    }
   ],
   "source": [
    "age_mean = org_train['age'].mean()\n",
    "age_mean"
   ]
  },
  {
   "cell_type": "code",
   "execution_count": null,
   "id": "aaae33dc",
   "metadata": {},
   "outputs": [],
   "source": []
  },
  {
   "cell_type": "code",
   "execution_count": null,
   "id": "167726c4",
   "metadata": {},
   "outputs": [],
   "source": []
  },
  {
   "cell_type": "code",
   "execution_count": null,
   "id": "c8e4ddee",
   "metadata": {},
   "outputs": [],
   "source": []
  },
  {
   "cell_type": "markdown",
   "id": "e0aa65a2",
   "metadata": {},
   "source": [
    "### Drop column"
   ]
  },
  {
   "cell_type": "code",
   "execution_count": 10,
   "id": "8f1b4285",
   "metadata": {},
   "outputs": [],
   "source": [
    "drop_train = org_train.drop(['cabin'],axis =1)\n",
    "drop_test = org_test.drop(['cabin'],axis =1)"
   ]
  },
  {
   "cell_type": "markdown",
   "id": "7f11e2fc",
   "metadata": {},
   "source": [
    "### Fill na"
   ]
  },
  {
   "cell_type": "markdown",
   "id": "3267c635",
   "metadata": {},
   "source": [
    "##### age"
   ]
  },
  {
   "cell_type": "code",
   "execution_count": 15,
   "id": "69fcf8af",
   "metadata": {},
   "outputs": [
    {
     "data": {
      "text/plain": [
       "28.0"
      ]
     },
     "execution_count": 15,
     "metadata": {},
     "output_type": "execute_result"
    }
   ],
   "source": [
    "age_mean = train['age'].median()\n",
    "age_mean"
   ]
  },
  {
   "cell_type": "code",
   "execution_count": 16,
   "id": "f50834a9",
   "metadata": {
    "scrolled": true
   },
   "outputs": [],
   "source": [
    "train['age'] = train['age'].fillna(age_mean)\n",
    "test['age'] = test['age'].fillna(age_mean)"
   ]
  },
  {
   "cell_type": "code",
   "execution_count": 17,
   "id": "79498a97",
   "metadata": {},
   "outputs": [
    {
     "data": {
      "text/plain": [
       "passengerid    0\n",
       "survived       0\n",
       "pclass         0\n",
       "name           0\n",
       "gender         0\n",
       "age            0\n",
       "sibsp          0\n",
       "parch          0\n",
       "ticket         0\n",
       "fare           0\n",
       "embarked       1\n",
       "dtype: int64"
      ]
     },
     "execution_count": 17,
     "metadata": {},
     "output_type": "execute_result"
    }
   ],
   "source": [
    "train.isnull().sum()"
   ]
  },
  {
   "cell_type": "markdown",
   "id": "f7a38e38",
   "metadata": {},
   "source": [
    "##### embarked"
   ]
  },
  {
   "cell_type": "code",
   "execution_count": 18,
   "id": "eda1e178",
   "metadata": {},
   "outputs": [
    {
     "data": {
      "text/plain": [
       "'S'"
      ]
     },
     "execution_count": 18,
     "metadata": {},
     "output_type": "execute_result"
    }
   ],
   "source": [
    "embarked_mode = train['embarked'].mode().values[0]\n",
    "embarked_mode"
   ]
  },
  {
   "cell_type": "code",
   "execution_count": 19,
   "id": "7b087afa",
   "metadata": {
    "scrolled": false
   },
   "outputs": [],
   "source": [
    "train['embarked'] = train['embarked'].fillna(embarked_mode)\n",
    "test['embarked'] = test['embarked'].fillna(embarked_mode)"
   ]
  },
  {
   "cell_type": "code",
   "execution_count": 20,
   "id": "b915eed6",
   "metadata": {
    "scrolled": false
   },
   "outputs": [
    {
     "data": {
      "text/plain": [
       "passengerid    0\n",
       "survived       0\n",
       "pclass         0\n",
       "name           0\n",
       "gender         0\n",
       "age            0\n",
       "sibsp          0\n",
       "parch          0\n",
       "ticket         0\n",
       "fare           0\n",
       "embarked       0\n",
       "dtype: int64"
      ]
     },
     "execution_count": 20,
     "metadata": {},
     "output_type": "execute_result"
    }
   ],
   "source": [
    "train.isnull().sum()"
   ]
  },
  {
   "cell_type": "markdown",
   "id": "f32ddf85",
   "metadata": {},
   "source": [
    "#### Check result"
   ]
  },
  {
   "cell_type": "code",
   "execution_count": 21,
   "id": "b608abe8",
   "metadata": {
    "scrolled": false
   },
   "outputs": [
    {
     "data": {
      "text/plain": [
       "passengerid    0\n",
       "survived       0\n",
       "pclass         0\n",
       "name           0\n",
       "gender         0\n",
       "age            0\n",
       "sibsp          0\n",
       "parch          0\n",
       "ticket         0\n",
       "fare           0\n",
       "embarked       0\n",
       "dtype: int64"
      ]
     },
     "execution_count": 21,
     "metadata": {},
     "output_type": "execute_result"
    }
   ],
   "source": [
    "train.isnull().sum()"
   ]
  },
  {
   "cell_type": "markdown",
   "id": "a571e66d",
   "metadata": {},
   "source": [
    "### Preprocessing"
   ]
  },
  {
   "cell_type": "code",
   "execution_count": 22,
   "id": "f0e8b7c3",
   "metadata": {
    "scrolled": false
   },
   "outputs": [
    {
     "name": "stdout",
     "output_type": "stream",
     "text": [
      "<class 'pandas.core.frame.DataFrame'>\n",
      "RangeIndex: 916 entries, 0 to 915\n",
      "Data columns (total 11 columns):\n",
      " #   Column       Non-Null Count  Dtype  \n",
      "---  ------       --------------  -----  \n",
      " 0   passengerid  916 non-null    int64  \n",
      " 1   survived     916 non-null    int64  \n",
      " 2   pclass       916 non-null    int64  \n",
      " 3   name         916 non-null    object \n",
      " 4   gender       916 non-null    object \n",
      " 5   age          916 non-null    float64\n",
      " 6   sibsp        916 non-null    int64  \n",
      " 7   parch        916 non-null    int64  \n",
      " 8   ticket       916 non-null    object \n",
      " 9   fare         916 non-null    float64\n",
      " 10  embarked     916 non-null    object \n",
      "dtypes: float64(2), int64(5), object(4)\n",
      "memory usage: 78.8+ KB\n"
     ]
    }
   ],
   "source": [
    "train.info()"
   ]
  },
  {
   "cell_type": "code",
   "execution_count": 23,
   "id": "ffbbcee4",
   "metadata": {
    "scrolled": true
   },
   "outputs": [
    {
     "name": "stdout",
     "output_type": "stream",
     "text": [
      "<class 'pandas.core.frame.DataFrame'>\n",
      "RangeIndex: 393 entries, 0 to 392\n",
      "Data columns (total 10 columns):\n",
      " #   Column       Non-Null Count  Dtype  \n",
      "---  ------       --------------  -----  \n",
      " 0   passengerid  393 non-null    int64  \n",
      " 1   pclass       393 non-null    int64  \n",
      " 2   name         393 non-null    object \n",
      " 3   gender       393 non-null    object \n",
      " 4   age          393 non-null    float64\n",
      " 5   sibsp        393 non-null    int64  \n",
      " 6   parch        393 non-null    int64  \n",
      " 7   ticket       393 non-null    object \n",
      " 8   fare         392 non-null    float64\n",
      " 9   embarked     393 non-null    object \n",
      "dtypes: float64(2), int64(4), object(4)\n",
      "memory usage: 30.8+ KB\n"
     ]
    }
   ],
   "source": [
    "test.info()"
   ]
  },
  {
   "cell_type": "code",
   "execution_count": 24,
   "id": "b91cc669",
   "metadata": {},
   "outputs": [],
   "source": [
    "train[\"survived\"] = train[\"survived\"].astype(\"int32\")\n",
    "# Not exists in test dataset"
   ]
  },
  {
   "cell_type": "code",
   "execution_count": 25,
   "id": "5b89825d",
   "metadata": {},
   "outputs": [],
   "source": [
    "train[\"pclass\"] = train[\"pclass\"].astype(\"category\")\n",
    "test[\"pclass\"] = test[\"pclass\"].astype(\"category\")"
   ]
  },
  {
   "cell_type": "code",
   "execution_count": 26,
   "id": "76f4e077",
   "metadata": {},
   "outputs": [],
   "source": [
    "train[\"gender\"] = train[\"gender\"].astype(\"category\")\n",
    "test[\"gender\"] = test[\"gender\"].astype(\"category\")"
   ]
  },
  {
   "cell_type": "code",
   "execution_count": 27,
   "id": "d0ffbd2c",
   "metadata": {},
   "outputs": [],
   "source": [
    "train[\"embarked\"] = train[\"embarked\"].astype(\"category\")\n",
    "test[\"embarked\"] = test[\"embarked\"].astype(\"category\")"
   ]
  },
  {
   "cell_type": "code",
   "execution_count": 28,
   "id": "03389fd5",
   "metadata": {
    "scrolled": true
   },
   "outputs": [
    {
     "data": {
      "text/plain": [
       "0    SC/PARIS 2159\n",
       "1           382649\n",
       "2            12749\n",
       "3           350043\n",
       "4            26707\n",
       "Name: ticket, dtype: object"
      ]
     },
     "execution_count": 28,
     "metadata": {},
     "output_type": "execute_result"
    }
   ],
   "source": [
    "train['ticket'].head()"
   ]
  },
  {
   "cell_type": "code",
   "execution_count": 29,
   "id": "ef2812fd",
   "metadata": {},
   "outputs": [],
   "source": [
    "train[\"name\"] = train[\"name\"].map(lambda x: x.strip())\n",
    "train[\"ticket\"] = train[\"ticket\"].map(lambda x: x.strip())\n",
    "\n",
    "test[\"name\"] = test[\"name\"].map(lambda x: x.strip())\n",
    "test[\"ticket\"] = test[\"ticket\"].map(lambda x: x.strip())"
   ]
  },
  {
   "cell_type": "code",
   "execution_count": 30,
   "id": "c315380e",
   "metadata": {},
   "outputs": [
    {
     "data": {
      "text/html": [
       "<div>\n",
       "<style scoped>\n",
       "    .dataframe tbody tr th:only-of-type {\n",
       "        vertical-align: middle;\n",
       "    }\n",
       "\n",
       "    .dataframe tbody tr th {\n",
       "        vertical-align: top;\n",
       "    }\n",
       "\n",
       "    .dataframe thead th {\n",
       "        text-align: right;\n",
       "    }\n",
       "</style>\n",
       "<table border=\"1\" class=\"dataframe\">\n",
       "  <thead>\n",
       "    <tr style=\"text-align: right;\">\n",
       "      <th></th>\n",
       "      <th>passengerid</th>\n",
       "      <th>survived</th>\n",
       "      <th>pclass</th>\n",
       "      <th>name</th>\n",
       "      <th>gender</th>\n",
       "      <th>age</th>\n",
       "      <th>sibsp</th>\n",
       "      <th>parch</th>\n",
       "      <th>ticket</th>\n",
       "      <th>fare</th>\n",
       "      <th>embarked</th>\n",
       "    </tr>\n",
       "  </thead>\n",
       "  <tbody>\n",
       "    <tr>\n",
       "      <th>0</th>\n",
       "      <td>0</td>\n",
       "      <td>0</td>\n",
       "      <td>2</td>\n",
       "      <td>Wheeler, Mr. Edwin Frederick\"\"</td>\n",
       "      <td>male</td>\n",
       "      <td>28.0</td>\n",
       "      <td>0</td>\n",
       "      <td>0</td>\n",
       "      <td>SC/PARIS 2159</td>\n",
       "      <td>12.8750</td>\n",
       "      <td>S</td>\n",
       "    </tr>\n",
       "    <tr>\n",
       "      <th>1</th>\n",
       "      <td>1</td>\n",
       "      <td>0</td>\n",
       "      <td>3</td>\n",
       "      <td>Henry, Miss. Delia</td>\n",
       "      <td>female</td>\n",
       "      <td>28.0</td>\n",
       "      <td>0</td>\n",
       "      <td>0</td>\n",
       "      <td>382649</td>\n",
       "      <td>7.7500</td>\n",
       "      <td>Q</td>\n",
       "    </tr>\n",
       "    <tr>\n",
       "      <th>2</th>\n",
       "      <td>2</td>\n",
       "      <td>1</td>\n",
       "      <td>1</td>\n",
       "      <td>Hays, Mrs. Charles Melville (Clara Jennings Gr...</td>\n",
       "      <td>female</td>\n",
       "      <td>52.0</td>\n",
       "      <td>1</td>\n",
       "      <td>1</td>\n",
       "      <td>12749</td>\n",
       "      <td>93.5000</td>\n",
       "      <td>S</td>\n",
       "    </tr>\n",
       "    <tr>\n",
       "      <th>3</th>\n",
       "      <td>3</td>\n",
       "      <td>1</td>\n",
       "      <td>3</td>\n",
       "      <td>Andersson, Mr. August Edvard (\"Wennerstrom\")</td>\n",
       "      <td>male</td>\n",
       "      <td>27.0</td>\n",
       "      <td>0</td>\n",
       "      <td>0</td>\n",
       "      <td>350043</td>\n",
       "      <td>7.7958</td>\n",
       "      <td>S</td>\n",
       "    </tr>\n",
       "    <tr>\n",
       "      <th>4</th>\n",
       "      <td>4</td>\n",
       "      <td>0</td>\n",
       "      <td>2</td>\n",
       "      <td>Hold, Mr. Stephen</td>\n",
       "      <td>male</td>\n",
       "      <td>44.0</td>\n",
       "      <td>1</td>\n",
       "      <td>0</td>\n",
       "      <td>26707</td>\n",
       "      <td>26.0000</td>\n",
       "      <td>S</td>\n",
       "    </tr>\n",
       "  </tbody>\n",
       "</table>\n",
       "</div>"
      ],
      "text/plain": [
       "   passengerid  survived pclass  \\\n",
       "0            0         0      2   \n",
       "1            1         0      3   \n",
       "2            2         1      1   \n",
       "3            3         1      3   \n",
       "4            4         0      2   \n",
       "\n",
       "                                                name  gender   age  sibsp  \\\n",
       "0                     Wheeler, Mr. Edwin Frederick\"\"    male  28.0      0   \n",
       "1                                 Henry, Miss. Delia  female  28.0      0   \n",
       "2  Hays, Mrs. Charles Melville (Clara Jennings Gr...  female  52.0      1   \n",
       "3       Andersson, Mr. August Edvard (\"Wennerstrom\")    male  27.0      0   \n",
       "4                                  Hold, Mr. Stephen    male  44.0      1   \n",
       "\n",
       "   parch         ticket     fare embarked  \n",
       "0      0  SC/PARIS 2159  12.8750        S  \n",
       "1      0         382649   7.7500        Q  \n",
       "2      1          12749  93.5000        S  \n",
       "3      0         350043   7.7958        S  \n",
       "4      0          26707  26.0000        S  "
      ]
     },
     "execution_count": 30,
     "metadata": {},
     "output_type": "execute_result"
    }
   ],
   "source": [
    "train.head()"
   ]
  },
  {
   "cell_type": "code",
   "execution_count": 31,
   "id": "14a682f0",
   "metadata": {},
   "outputs": [],
   "source": [
    "dict_designation = {\n",
    "    'Mr.': 11, # '남성'\n",
    "    'Master.': 12, #'남성'\n",
    "    'Sir.': 13, #'남성'\n",
    "    'Miss.': 21, #'미혼 여성'\n",
    "    'Mrs.': 22, #'기혼 여성'\n",
    "    'Ms.': 23, #'미혼/기혼 여성'\n",
    "    'Lady.': 24, # '숙녀'\n",
    "    'Mlle.': 24, # '아가씨'\n",
    "    # 직업\n",
    "    'Dr.': 30, # '의사'\n",
    "    'Rev.': 31, # '목사'\n",
    "    'Major.': 32, # '계급'\n",
    "    'Don.': 33, # '교수'\n",
    "    'Col.': 34, # '군인'\n",
    "    'Capt.': 35, # '군인'\n",
    "    # 귀족\n",
    "    'Mme.': 40, # '영부인'\n",
    "    'Countess.': 41, # '백작부인'\n",
    "    'Jonkheer.': 42 # '귀족'\n",
    "}\n",
    "\n",
    "def add_designation(name): # 호칭 함수\n",
    "    designation = \"unknown\"\n",
    "    for key in dict_designation.keys():\n",
    "        if key in name:\n",
    "            designation = dict_designation[key]\n",
    "            break\n",
    "    return designation\n",
    "\n",
    "train['designation'] = train['name'].map(lambda x: add_designation(x))\n",
    "test['designation'] = test['name'].map(lambda x: add_designation(x))"
   ]
  },
  {
   "cell_type": "code",
   "execution_count": 32,
   "id": "bbd8c277",
   "metadata": {},
   "outputs": [
    {
     "data": {
      "text/html": [
       "<div>\n",
       "<style scoped>\n",
       "    .dataframe tbody tr th:only-of-type {\n",
       "        vertical-align: middle;\n",
       "    }\n",
       "\n",
       "    .dataframe tbody tr th {\n",
       "        vertical-align: top;\n",
       "    }\n",
       "\n",
       "    .dataframe thead th {\n",
       "        text-align: right;\n",
       "    }\n",
       "</style>\n",
       "<table border=\"1\" class=\"dataframe\">\n",
       "  <thead>\n",
       "    <tr style=\"text-align: right;\">\n",
       "      <th></th>\n",
       "      <th>passengerid</th>\n",
       "      <th>survived</th>\n",
       "      <th>pclass</th>\n",
       "      <th>name</th>\n",
       "      <th>gender</th>\n",
       "      <th>age</th>\n",
       "      <th>sibsp</th>\n",
       "      <th>parch</th>\n",
       "      <th>ticket</th>\n",
       "      <th>fare</th>\n",
       "      <th>embarked</th>\n",
       "      <th>designation</th>\n",
       "    </tr>\n",
       "  </thead>\n",
       "  <tbody>\n",
       "  </tbody>\n",
       "</table>\n",
       "</div>"
      ],
      "text/plain": [
       "Empty DataFrame\n",
       "Columns: [passengerid, survived, pclass, name, gender, age, sibsp, parch, ticket, fare, embarked, designation]\n",
       "Index: []"
      ]
     },
     "execution_count": 32,
     "metadata": {},
     "output_type": "execute_result"
    }
   ],
   "source": [
    "cond = train['designation'] == \"unknown\"\n",
    "train.loc[cond].head()"
   ]
  },
  {
   "cell_type": "code",
   "execution_count": 33,
   "id": "f1069622",
   "metadata": {
    "scrolled": false
   },
   "outputs": [
    {
     "data": {
      "text/html": [
       "<div>\n",
       "<style scoped>\n",
       "    .dataframe tbody tr th:only-of-type {\n",
       "        vertical-align: middle;\n",
       "    }\n",
       "\n",
       "    .dataframe tbody tr th {\n",
       "        vertical-align: top;\n",
       "    }\n",
       "\n",
       "    .dataframe thead th {\n",
       "        text-align: right;\n",
       "    }\n",
       "</style>\n",
       "<table border=\"1\" class=\"dataframe\">\n",
       "  <thead>\n",
       "    <tr style=\"text-align: right;\">\n",
       "      <th></th>\n",
       "      <th>passengerid</th>\n",
       "      <th>survived</th>\n",
       "      <th>pclass</th>\n",
       "      <th>name</th>\n",
       "      <th>gender</th>\n",
       "      <th>age</th>\n",
       "      <th>sibsp</th>\n",
       "      <th>parch</th>\n",
       "      <th>ticket</th>\n",
       "      <th>fare</th>\n",
       "      <th>embarked</th>\n",
       "      <th>designation</th>\n",
       "    </tr>\n",
       "  </thead>\n",
       "  <tbody>\n",
       "    <tr>\n",
       "      <th>0</th>\n",
       "      <td>0</td>\n",
       "      <td>0</td>\n",
       "      <td>2</td>\n",
       "      <td>Wheeler, Mr. Edwin Frederick\"\"</td>\n",
       "      <td>male</td>\n",
       "      <td>28.0</td>\n",
       "      <td>0</td>\n",
       "      <td>0</td>\n",
       "      <td>SC/PARIS 2159</td>\n",
       "      <td>12.8750</td>\n",
       "      <td>S</td>\n",
       "      <td>11</td>\n",
       "    </tr>\n",
       "    <tr>\n",
       "      <th>1</th>\n",
       "      <td>1</td>\n",
       "      <td>0</td>\n",
       "      <td>3</td>\n",
       "      <td>Henry, Miss. Delia</td>\n",
       "      <td>female</td>\n",
       "      <td>28.0</td>\n",
       "      <td>0</td>\n",
       "      <td>0</td>\n",
       "      <td>382649</td>\n",
       "      <td>7.7500</td>\n",
       "      <td>Q</td>\n",
       "      <td>21</td>\n",
       "    </tr>\n",
       "    <tr>\n",
       "      <th>2</th>\n",
       "      <td>2</td>\n",
       "      <td>1</td>\n",
       "      <td>1</td>\n",
       "      <td>Hays, Mrs. Charles Melville (Clara Jennings Gr...</td>\n",
       "      <td>female</td>\n",
       "      <td>52.0</td>\n",
       "      <td>1</td>\n",
       "      <td>1</td>\n",
       "      <td>12749</td>\n",
       "      <td>93.5000</td>\n",
       "      <td>S</td>\n",
       "      <td>22</td>\n",
       "    </tr>\n",
       "    <tr>\n",
       "      <th>3</th>\n",
       "      <td>3</td>\n",
       "      <td>1</td>\n",
       "      <td>3</td>\n",
       "      <td>Andersson, Mr. August Edvard (\"Wennerstrom\")</td>\n",
       "      <td>male</td>\n",
       "      <td>27.0</td>\n",
       "      <td>0</td>\n",
       "      <td>0</td>\n",
       "      <td>350043</td>\n",
       "      <td>7.7958</td>\n",
       "      <td>S</td>\n",
       "      <td>11</td>\n",
       "    </tr>\n",
       "    <tr>\n",
       "      <th>4</th>\n",
       "      <td>4</td>\n",
       "      <td>0</td>\n",
       "      <td>2</td>\n",
       "      <td>Hold, Mr. Stephen</td>\n",
       "      <td>male</td>\n",
       "      <td>44.0</td>\n",
       "      <td>1</td>\n",
       "      <td>0</td>\n",
       "      <td>26707</td>\n",
       "      <td>26.0000</td>\n",
       "      <td>S</td>\n",
       "      <td>11</td>\n",
       "    </tr>\n",
       "  </tbody>\n",
       "</table>\n",
       "</div>"
      ],
      "text/plain": [
       "   passengerid  survived pclass  \\\n",
       "0            0         0      2   \n",
       "1            1         0      3   \n",
       "2            2         1      1   \n",
       "3            3         1      3   \n",
       "4            4         0      2   \n",
       "\n",
       "                                                name  gender   age  sibsp  \\\n",
       "0                     Wheeler, Mr. Edwin Frederick\"\"    male  28.0      0   \n",
       "1                                 Henry, Miss. Delia  female  28.0      0   \n",
       "2  Hays, Mrs. Charles Melville (Clara Jennings Gr...  female  52.0      1   \n",
       "3       Andersson, Mr. August Edvard (\"Wennerstrom\")    male  27.0      0   \n",
       "4                                  Hold, Mr. Stephen    male  44.0      1   \n",
       "\n",
       "   parch         ticket     fare embarked  designation  \n",
       "0      0  SC/PARIS 2159  12.8750        S           11  \n",
       "1      0         382649   7.7500        Q           21  \n",
       "2      1          12749  93.5000        S           22  \n",
       "3      0         350043   7.7958        S           11  \n",
       "4      0          26707  26.0000        S           11  "
      ]
     },
     "execution_count": 33,
     "metadata": {},
     "output_type": "execute_result"
    }
   ],
   "source": [
    "train.head()"
   ]
  },
  {
   "cell_type": "code",
   "execution_count": 34,
   "id": "0b399575",
   "metadata": {},
   "outputs": [
    {
     "data": {
      "text/html": [
       "<div>\n",
       "<style scoped>\n",
       "    .dataframe tbody tr th:only-of-type {\n",
       "        vertical-align: middle;\n",
       "    }\n",
       "\n",
       "    .dataframe tbody tr th {\n",
       "        vertical-align: top;\n",
       "    }\n",
       "\n",
       "    .dataframe thead th {\n",
       "        text-align: right;\n",
       "    }\n",
       "</style>\n",
       "<table border=\"1\" class=\"dataframe\">\n",
       "  <thead>\n",
       "    <tr style=\"text-align: right;\">\n",
       "      <th></th>\n",
       "      <th>passengerid</th>\n",
       "      <th>pclass</th>\n",
       "      <th>name</th>\n",
       "      <th>gender</th>\n",
       "      <th>age</th>\n",
       "      <th>sibsp</th>\n",
       "      <th>parch</th>\n",
       "      <th>ticket</th>\n",
       "      <th>fare</th>\n",
       "      <th>embarked</th>\n",
       "      <th>designation</th>\n",
       "    </tr>\n",
       "  </thead>\n",
       "  <tbody>\n",
       "    <tr>\n",
       "      <th>0</th>\n",
       "      <td>916</td>\n",
       "      <td>3</td>\n",
       "      <td>McGowan, Miss. Anna \"Annie\"</td>\n",
       "      <td>female</td>\n",
       "      <td>15.0</td>\n",
       "      <td>0</td>\n",
       "      <td>0</td>\n",
       "      <td>330923</td>\n",
       "      <td>8.0292</td>\n",
       "      <td>Q</td>\n",
       "      <td>21</td>\n",
       "    </tr>\n",
       "    <tr>\n",
       "      <th>1</th>\n",
       "      <td>917</td>\n",
       "      <td>2</td>\n",
       "      <td>Pinsky, Mrs. (Rosa)</td>\n",
       "      <td>female</td>\n",
       "      <td>32.0</td>\n",
       "      <td>0</td>\n",
       "      <td>0</td>\n",
       "      <td>234604</td>\n",
       "      <td>13.0000</td>\n",
       "      <td>S</td>\n",
       "      <td>22</td>\n",
       "    </tr>\n",
       "    <tr>\n",
       "      <th>2</th>\n",
       "      <td>918</td>\n",
       "      <td>3</td>\n",
       "      <td>McCarthy, Miss. Catherine Katie\"\"</td>\n",
       "      <td>female</td>\n",
       "      <td>28.0</td>\n",
       "      <td>0</td>\n",
       "      <td>0</td>\n",
       "      <td>383123</td>\n",
       "      <td>7.7500</td>\n",
       "      <td>Q</td>\n",
       "      <td>21</td>\n",
       "    </tr>\n",
       "    <tr>\n",
       "      <th>3</th>\n",
       "      <td>919</td>\n",
       "      <td>3</td>\n",
       "      <td>Franklin, Mr. Charles (Charles Fardon)</td>\n",
       "      <td>male</td>\n",
       "      <td>28.0</td>\n",
       "      <td>0</td>\n",
       "      <td>0</td>\n",
       "      <td>SOTON/O.Q. 3101314</td>\n",
       "      <td>7.2500</td>\n",
       "      <td>S</td>\n",
       "      <td>11</td>\n",
       "    </tr>\n",
       "    <tr>\n",
       "      <th>4</th>\n",
       "      <td>920</td>\n",
       "      <td>1</td>\n",
       "      <td>Wick, Mrs. George Dennick (Mary Hitchcock)</td>\n",
       "      <td>female</td>\n",
       "      <td>45.0</td>\n",
       "      <td>1</td>\n",
       "      <td>1</td>\n",
       "      <td>36928</td>\n",
       "      <td>164.8667</td>\n",
       "      <td>S</td>\n",
       "      <td>22</td>\n",
       "    </tr>\n",
       "  </tbody>\n",
       "</table>\n",
       "</div>"
      ],
      "text/plain": [
       "   passengerid pclass                                        name  gender  \\\n",
       "0          916      3                 McGowan, Miss. Anna \"Annie\"  female   \n",
       "1          917      2                         Pinsky, Mrs. (Rosa)  female   \n",
       "2          918      3           McCarthy, Miss. Catherine Katie\"\"  female   \n",
       "3          919      3      Franklin, Mr. Charles (Charles Fardon)    male   \n",
       "4          920      1  Wick, Mrs. George Dennick (Mary Hitchcock)  female   \n",
       "\n",
       "    age  sibsp  parch              ticket      fare embarked designation  \n",
       "0  15.0      0      0              330923    8.0292        Q          21  \n",
       "1  32.0      0      0              234604   13.0000        S          22  \n",
       "2  28.0      0      0              383123    7.7500        Q          21  \n",
       "3  28.0      0      0  SOTON/O.Q. 3101314    7.2500        S          11  \n",
       "4  45.0      1      1               36928  164.8667        S          22  "
      ]
     },
     "execution_count": 34,
     "metadata": {},
     "output_type": "execute_result"
    }
   ],
   "source": [
    "test.head()"
   ]
  },
  {
   "cell_type": "code",
   "execution_count": 35,
   "id": "0a9c8d5b",
   "metadata": {},
   "outputs": [],
   "source": [
    "def add_ticket_number(ticket):\n",
    "    try:\n",
    "        ticket_split = ticket.split(' ')\n",
    "        return int(ticket_split[-1])\n",
    "    except:\n",
    "        return 0 # ticket이 LINE인 경우\n",
    "\n",
    "train['ticket_number'] = train['ticket'].map(lambda x: add_ticket_number(x)).astype(\"int32\")\n",
    "test['ticket_number'] = test['ticket'].map(lambda x: add_ticket_number(x)).astype(\"int32\")"
   ]
  },
  {
   "cell_type": "code",
   "execution_count": 36,
   "id": "b2ddbe4e",
   "metadata": {
    "scrolled": true
   },
   "outputs": [
    {
     "data": {
      "text/html": [
       "<div>\n",
       "<style scoped>\n",
       "    .dataframe tbody tr th:only-of-type {\n",
       "        vertical-align: middle;\n",
       "    }\n",
       "\n",
       "    .dataframe tbody tr th {\n",
       "        vertical-align: top;\n",
       "    }\n",
       "\n",
       "    .dataframe thead th {\n",
       "        text-align: right;\n",
       "    }\n",
       "</style>\n",
       "<table border=\"1\" class=\"dataframe\">\n",
       "  <thead>\n",
       "    <tr style=\"text-align: right;\">\n",
       "      <th></th>\n",
       "      <th>passengerid</th>\n",
       "      <th>survived</th>\n",
       "      <th>pclass</th>\n",
       "      <th>name</th>\n",
       "      <th>gender</th>\n",
       "      <th>age</th>\n",
       "      <th>sibsp</th>\n",
       "      <th>parch</th>\n",
       "      <th>ticket</th>\n",
       "      <th>fare</th>\n",
       "      <th>embarked</th>\n",
       "      <th>designation</th>\n",
       "      <th>ticket_number</th>\n",
       "    </tr>\n",
       "  </thead>\n",
       "  <tbody>\n",
       "    <tr>\n",
       "      <th>0</th>\n",
       "      <td>0</td>\n",
       "      <td>0</td>\n",
       "      <td>2</td>\n",
       "      <td>Wheeler, Mr. Edwin Frederick\"\"</td>\n",
       "      <td>male</td>\n",
       "      <td>28.0</td>\n",
       "      <td>0</td>\n",
       "      <td>0</td>\n",
       "      <td>SC/PARIS 2159</td>\n",
       "      <td>12.8750</td>\n",
       "      <td>S</td>\n",
       "      <td>11</td>\n",
       "      <td>2159</td>\n",
       "    </tr>\n",
       "    <tr>\n",
       "      <th>1</th>\n",
       "      <td>1</td>\n",
       "      <td>0</td>\n",
       "      <td>3</td>\n",
       "      <td>Henry, Miss. Delia</td>\n",
       "      <td>female</td>\n",
       "      <td>28.0</td>\n",
       "      <td>0</td>\n",
       "      <td>0</td>\n",
       "      <td>382649</td>\n",
       "      <td>7.7500</td>\n",
       "      <td>Q</td>\n",
       "      <td>21</td>\n",
       "      <td>382649</td>\n",
       "    </tr>\n",
       "    <tr>\n",
       "      <th>2</th>\n",
       "      <td>2</td>\n",
       "      <td>1</td>\n",
       "      <td>1</td>\n",
       "      <td>Hays, Mrs. Charles Melville (Clara Jennings Gr...</td>\n",
       "      <td>female</td>\n",
       "      <td>52.0</td>\n",
       "      <td>1</td>\n",
       "      <td>1</td>\n",
       "      <td>12749</td>\n",
       "      <td>93.5000</td>\n",
       "      <td>S</td>\n",
       "      <td>22</td>\n",
       "      <td>12749</td>\n",
       "    </tr>\n",
       "    <tr>\n",
       "      <th>3</th>\n",
       "      <td>3</td>\n",
       "      <td>1</td>\n",
       "      <td>3</td>\n",
       "      <td>Andersson, Mr. August Edvard (\"Wennerstrom\")</td>\n",
       "      <td>male</td>\n",
       "      <td>27.0</td>\n",
       "      <td>0</td>\n",
       "      <td>0</td>\n",
       "      <td>350043</td>\n",
       "      <td>7.7958</td>\n",
       "      <td>S</td>\n",
       "      <td>11</td>\n",
       "      <td>350043</td>\n",
       "    </tr>\n",
       "    <tr>\n",
       "      <th>4</th>\n",
       "      <td>4</td>\n",
       "      <td>0</td>\n",
       "      <td>2</td>\n",
       "      <td>Hold, Mr. Stephen</td>\n",
       "      <td>male</td>\n",
       "      <td>44.0</td>\n",
       "      <td>1</td>\n",
       "      <td>0</td>\n",
       "      <td>26707</td>\n",
       "      <td>26.0000</td>\n",
       "      <td>S</td>\n",
       "      <td>11</td>\n",
       "      <td>26707</td>\n",
       "    </tr>\n",
       "  </tbody>\n",
       "</table>\n",
       "</div>"
      ],
      "text/plain": [
       "   passengerid  survived pclass  \\\n",
       "0            0         0      2   \n",
       "1            1         0      3   \n",
       "2            2         1      1   \n",
       "3            3         1      3   \n",
       "4            4         0      2   \n",
       "\n",
       "                                                name  gender   age  sibsp  \\\n",
       "0                     Wheeler, Mr. Edwin Frederick\"\"    male  28.0      0   \n",
       "1                                 Henry, Miss. Delia  female  28.0      0   \n",
       "2  Hays, Mrs. Charles Melville (Clara Jennings Gr...  female  52.0      1   \n",
       "3       Andersson, Mr. August Edvard (\"Wennerstrom\")    male  27.0      0   \n",
       "4                                  Hold, Mr. Stephen    male  44.0      1   \n",
       "\n",
       "   parch         ticket     fare embarked  designation  ticket_number  \n",
       "0      0  SC/PARIS 2159  12.8750        S           11           2159  \n",
       "1      0         382649   7.7500        Q           21         382649  \n",
       "2      1          12749  93.5000        S           22          12749  \n",
       "3      0         350043   7.7958        S           11         350043  \n",
       "4      0          26707  26.0000        S           11          26707  "
      ]
     },
     "execution_count": 36,
     "metadata": {},
     "output_type": "execute_result"
    }
   ],
   "source": [
    "train.head()"
   ]
  },
  {
   "cell_type": "code",
   "execution_count": 37,
   "id": "5713eae8",
   "metadata": {
    "scrolled": false
   },
   "outputs": [
    {
     "name": "stdout",
     "output_type": "stream",
     "text": [
      "<class 'pandas.core.frame.DataFrame'>\n",
      "RangeIndex: 916 entries, 0 to 915\n",
      "Data columns (total 13 columns):\n",
      " #   Column         Non-Null Count  Dtype   \n",
      "---  ------         --------------  -----   \n",
      " 0   passengerid    916 non-null    int64   \n",
      " 1   survived       916 non-null    int32   \n",
      " 2   pclass         916 non-null    category\n",
      " 3   name           916 non-null    object  \n",
      " 4   gender         916 non-null    category\n",
      " 5   age            916 non-null    float64 \n",
      " 6   sibsp          916 non-null    int64   \n",
      " 7   parch          916 non-null    int64   \n",
      " 8   ticket         916 non-null    object  \n",
      " 9   fare           916 non-null    float64 \n",
      " 10  embarked       916 non-null    category\n",
      " 11  designation    916 non-null    int64   \n",
      " 12  ticket_number  916 non-null    int32   \n",
      "dtypes: category(3), float64(2), int32(2), int64(4), object(2)\n",
      "memory usage: 67.6+ KB\n"
     ]
    }
   ],
   "source": [
    "train.info()"
   ]
  },
  {
   "cell_type": "code",
   "execution_count": 38,
   "id": "6382e87b",
   "metadata": {
    "scrolled": false
   },
   "outputs": [
    {
     "name": "stdout",
     "output_type": "stream",
     "text": [
      "<class 'pandas.core.frame.DataFrame'>\n",
      "RangeIndex: 393 entries, 0 to 392\n",
      "Data columns (total 12 columns):\n",
      " #   Column         Non-Null Count  Dtype   \n",
      "---  ------         --------------  -----   \n",
      " 0   passengerid    393 non-null    int64   \n",
      " 1   pclass         393 non-null    category\n",
      " 2   name           393 non-null    object  \n",
      " 3   gender         393 non-null    category\n",
      " 4   age            393 non-null    float64 \n",
      " 5   sibsp          393 non-null    int64   \n",
      " 6   parch          393 non-null    int64   \n",
      " 7   ticket         393 non-null    object  \n",
      " 8   fare           392 non-null    float64 \n",
      " 9   embarked       393 non-null    category\n",
      " 10  designation    393 non-null    object  \n",
      " 11  ticket_number  393 non-null    int32   \n",
      "dtypes: category(3), float64(2), int32(1), int64(3), object(3)\n",
      "memory usage: 27.8+ KB\n"
     ]
    }
   ],
   "source": [
    "test.info()"
   ]
  },
  {
   "cell_type": "markdown",
   "id": "dd3f4535",
   "metadata": {},
   "source": [
    "### Aggregation"
   ]
  },
  {
   "cell_type": "markdown",
   "id": "770720ad",
   "metadata": {},
   "source": [
    "##### pivot table"
   ]
  },
  {
   "cell_type": "code",
   "execution_count": 39,
   "id": "f3257e21",
   "metadata": {},
   "outputs": [
    {
     "data": {
      "text/html": [
       "<div>\n",
       "<style scoped>\n",
       "    .dataframe tbody tr th:only-of-type {\n",
       "        vertical-align: middle;\n",
       "    }\n",
       "\n",
       "    .dataframe tbody tr th {\n",
       "        vertical-align: top;\n",
       "    }\n",
       "\n",
       "    .dataframe thead th {\n",
       "        text-align: right;\n",
       "    }\n",
       "</style>\n",
       "<table border=\"1\" class=\"dataframe\">\n",
       "  <thead>\n",
       "    <tr style=\"text-align: right;\">\n",
       "      <th></th>\n",
       "      <th>pclass</th>\n",
       "      <th>fare_mean_by_pclass</th>\n",
       "    </tr>\n",
       "  </thead>\n",
       "  <tbody>\n",
       "    <tr>\n",
       "      <th>0</th>\n",
       "      <td>1</td>\n",
       "      <td>83.745613</td>\n",
       "    </tr>\n",
       "    <tr>\n",
       "      <th>1</th>\n",
       "      <td>2</td>\n",
       "      <td>20.388036</td>\n",
       "    </tr>\n",
       "    <tr>\n",
       "      <th>2</th>\n",
       "      <td>3</td>\n",
       "      <td>13.566363</td>\n",
       "    </tr>\n",
       "  </tbody>\n",
       "</table>\n",
       "</div>"
      ],
      "text/plain": [
       "  pclass  fare_mean_by_pclass\n",
       "0      1            83.745613\n",
       "1      2            20.388036\n",
       "2      3            13.566363"
      ]
     },
     "execution_count": 39,
     "metadata": {},
     "output_type": "execute_result"
    }
   ],
   "source": [
    "df_pivot = pd.pivot_table(train, index='pclass', values='fare', aggfunc='mean').reset_index()\n",
    "df_pivot.rename(columns = {'fare' : 'fare_mean_by_pclass'}, inplace = True)\n",
    "df_pivot.head()"
   ]
  },
  {
   "cell_type": "code",
   "execution_count": 40,
   "id": "29050cb0",
   "metadata": {
    "scrolled": true
   },
   "outputs": [
    {
     "name": "stdout",
     "output_type": "stream",
     "text": [
      "before: (916, 13)\n",
      "after: (916, 14)\n"
     ]
    },
    {
     "data": {
      "text/html": [
       "<div>\n",
       "<style scoped>\n",
       "    .dataframe tbody tr th:only-of-type {\n",
       "        vertical-align: middle;\n",
       "    }\n",
       "\n",
       "    .dataframe tbody tr th {\n",
       "        vertical-align: top;\n",
       "    }\n",
       "\n",
       "    .dataframe thead th {\n",
       "        text-align: right;\n",
       "    }\n",
       "</style>\n",
       "<table border=\"1\" class=\"dataframe\">\n",
       "  <thead>\n",
       "    <tr style=\"text-align: right;\">\n",
       "      <th></th>\n",
       "      <th>passengerid</th>\n",
       "      <th>survived</th>\n",
       "      <th>pclass</th>\n",
       "      <th>name</th>\n",
       "      <th>gender</th>\n",
       "      <th>age</th>\n",
       "      <th>sibsp</th>\n",
       "      <th>parch</th>\n",
       "      <th>ticket</th>\n",
       "      <th>fare</th>\n",
       "      <th>embarked</th>\n",
       "      <th>designation</th>\n",
       "      <th>ticket_number</th>\n",
       "      <th>fare_mean_by_pclass</th>\n",
       "    </tr>\n",
       "  </thead>\n",
       "  <tbody>\n",
       "    <tr>\n",
       "      <th>0</th>\n",
       "      <td>0</td>\n",
       "      <td>0</td>\n",
       "      <td>2</td>\n",
       "      <td>Wheeler, Mr. Edwin Frederick\"\"</td>\n",
       "      <td>male</td>\n",
       "      <td>28.0</td>\n",
       "      <td>0</td>\n",
       "      <td>0</td>\n",
       "      <td>SC/PARIS 2159</td>\n",
       "      <td>12.8750</td>\n",
       "      <td>S</td>\n",
       "      <td>11</td>\n",
       "      <td>2159</td>\n",
       "      <td>20.388036</td>\n",
       "    </tr>\n",
       "    <tr>\n",
       "      <th>1</th>\n",
       "      <td>1</td>\n",
       "      <td>0</td>\n",
       "      <td>3</td>\n",
       "      <td>Henry, Miss. Delia</td>\n",
       "      <td>female</td>\n",
       "      <td>28.0</td>\n",
       "      <td>0</td>\n",
       "      <td>0</td>\n",
       "      <td>382649</td>\n",
       "      <td>7.7500</td>\n",
       "      <td>Q</td>\n",
       "      <td>21</td>\n",
       "      <td>382649</td>\n",
       "      <td>13.566363</td>\n",
       "    </tr>\n",
       "    <tr>\n",
       "      <th>2</th>\n",
       "      <td>2</td>\n",
       "      <td>1</td>\n",
       "      <td>1</td>\n",
       "      <td>Hays, Mrs. Charles Melville (Clara Jennings Gr...</td>\n",
       "      <td>female</td>\n",
       "      <td>52.0</td>\n",
       "      <td>1</td>\n",
       "      <td>1</td>\n",
       "      <td>12749</td>\n",
       "      <td>93.5000</td>\n",
       "      <td>S</td>\n",
       "      <td>22</td>\n",
       "      <td>12749</td>\n",
       "      <td>83.745613</td>\n",
       "    </tr>\n",
       "    <tr>\n",
       "      <th>3</th>\n",
       "      <td>3</td>\n",
       "      <td>1</td>\n",
       "      <td>3</td>\n",
       "      <td>Andersson, Mr. August Edvard (\"Wennerstrom\")</td>\n",
       "      <td>male</td>\n",
       "      <td>27.0</td>\n",
       "      <td>0</td>\n",
       "      <td>0</td>\n",
       "      <td>350043</td>\n",
       "      <td>7.7958</td>\n",
       "      <td>S</td>\n",
       "      <td>11</td>\n",
       "      <td>350043</td>\n",
       "      <td>13.566363</td>\n",
       "    </tr>\n",
       "    <tr>\n",
       "      <th>4</th>\n",
       "      <td>4</td>\n",
       "      <td>0</td>\n",
       "      <td>2</td>\n",
       "      <td>Hold, Mr. Stephen</td>\n",
       "      <td>male</td>\n",
       "      <td>44.0</td>\n",
       "      <td>1</td>\n",
       "      <td>0</td>\n",
       "      <td>26707</td>\n",
       "      <td>26.0000</td>\n",
       "      <td>S</td>\n",
       "      <td>11</td>\n",
       "      <td>26707</td>\n",
       "      <td>20.388036</td>\n",
       "    </tr>\n",
       "  </tbody>\n",
       "</table>\n",
       "</div>"
      ],
      "text/plain": [
       "   passengerid  survived pclass  \\\n",
       "0            0         0      2   \n",
       "1            1         0      3   \n",
       "2            2         1      1   \n",
       "3            3         1      3   \n",
       "4            4         0      2   \n",
       "\n",
       "                                                name  gender   age  sibsp  \\\n",
       "0                     Wheeler, Mr. Edwin Frederick\"\"    male  28.0      0   \n",
       "1                                 Henry, Miss. Delia  female  28.0      0   \n",
       "2  Hays, Mrs. Charles Melville (Clara Jennings Gr...  female  52.0      1   \n",
       "3       Andersson, Mr. August Edvard (\"Wennerstrom\")    male  27.0      0   \n",
       "4                                  Hold, Mr. Stephen    male  44.0      1   \n",
       "\n",
       "   parch         ticket     fare embarked  designation  ticket_number  \\\n",
       "0      0  SC/PARIS 2159  12.8750        S           11           2159   \n",
       "1      0         382649   7.7500        Q           21         382649   \n",
       "2      1          12749  93.5000        S           22          12749   \n",
       "3      0         350043   7.7958        S           11         350043   \n",
       "4      0          26707  26.0000        S           11          26707   \n",
       "\n",
       "   fare_mean_by_pclass  \n",
       "0            20.388036  \n",
       "1            13.566363  \n",
       "2            83.745613  \n",
       "3            13.566363  \n",
       "4            20.388036  "
      ]
     },
     "execution_count": 40,
     "metadata": {},
     "output_type": "execute_result"
    }
   ],
   "source": [
    "print(f'before: {train.shape}')\n",
    "train = pd.merge(train,\n",
    "                 df_pivot,\n",
    "                 how=\"left\",\n",
    "                 on=\"pclass\") \n",
    "test = pd.merge(test,\n",
    "                df_pivot,\n",
    "                how=\"left\",\n",
    "                on=\"pclass\") \n",
    "print(f'after: {train.shape}')\n",
    "train.head()"
   ]
  },
  {
   "cell_type": "markdown",
   "id": "c3de7c69",
   "metadata": {},
   "source": [
    "##### group"
   ]
  },
  {
   "cell_type": "code",
   "execution_count": 41,
   "id": "c62125c8",
   "metadata": {},
   "outputs": [
    {
     "data": {
      "text/html": [
       "<div>\n",
       "<style scoped>\n",
       "    .dataframe tbody tr th:only-of-type {\n",
       "        vertical-align: middle;\n",
       "    }\n",
       "\n",
       "    .dataframe tbody tr th {\n",
       "        vertical-align: top;\n",
       "    }\n",
       "\n",
       "    .dataframe thead th {\n",
       "        text-align: right;\n",
       "    }\n",
       "</style>\n",
       "<table border=\"1\" class=\"dataframe\">\n",
       "  <thead>\n",
       "    <tr style=\"text-align: right;\">\n",
       "      <th></th>\n",
       "      <th>pclass</th>\n",
       "      <th>survived_by_pclass</th>\n",
       "      <th>len_sibsp_by_pclass</th>\n",
       "      <th>len_parch_by_pclass</th>\n",
       "    </tr>\n",
       "  </thead>\n",
       "  <tbody>\n",
       "    <tr>\n",
       "      <th>0</th>\n",
       "      <td>1</td>\n",
       "      <td>0.577093</td>\n",
       "      <td>4</td>\n",
       "      <td>4</td>\n",
       "    </tr>\n",
       "    <tr>\n",
       "      <th>1</th>\n",
       "      <td>2</td>\n",
       "      <td>0.391753</td>\n",
       "      <td>4</td>\n",
       "      <td>4</td>\n",
       "    </tr>\n",
       "    <tr>\n",
       "      <th>2</th>\n",
       "      <td>3</td>\n",
       "      <td>0.280808</td>\n",
       "      <td>7</td>\n",
       "      <td>8</td>\n",
       "    </tr>\n",
       "  </tbody>\n",
       "</table>\n",
       "</div>"
      ],
      "text/plain": [
       "  pclass  survived_by_pclass  len_sibsp_by_pclass  len_parch_by_pclass\n",
       "0      1            0.577093                    4                    4\n",
       "1      2            0.391753                    4                    4\n",
       "2      3            0.280808                    7                    8"
      ]
     },
     "execution_count": 41,
     "metadata": {},
     "output_type": "execute_result"
    }
   ],
   "source": [
    "agg_dict = {\"survived\" : \"mean\" , \n",
    "            \"sibsp\" : \"nunique\", \n",
    "            \"parch\" : \"nunique\" }\n",
    "df_groupby = train.groupby(\"pclass\").agg(agg_dict).reset_index()\n",
    "df_groupby.rename(columns = {'survived' : 'survived_by_pclass', 'sibsp' : 'len_sibsp_by_pclass', 'parch' : 'len_parch_by_pclass'}, inplace = True)\n",
    "df_groupby"
   ]
  },
  {
   "cell_type": "code",
   "execution_count": 42,
   "id": "9321ffe0",
   "metadata": {
    "scrolled": true
   },
   "outputs": [
    {
     "name": "stdout",
     "output_type": "stream",
     "text": [
      "before: (916, 14)\n",
      "after: (916, 17)\n"
     ]
    },
    {
     "data": {
      "text/html": [
       "<div>\n",
       "<style scoped>\n",
       "    .dataframe tbody tr th:only-of-type {\n",
       "        vertical-align: middle;\n",
       "    }\n",
       "\n",
       "    .dataframe tbody tr th {\n",
       "        vertical-align: top;\n",
       "    }\n",
       "\n",
       "    .dataframe thead th {\n",
       "        text-align: right;\n",
       "    }\n",
       "</style>\n",
       "<table border=\"1\" class=\"dataframe\">\n",
       "  <thead>\n",
       "    <tr style=\"text-align: right;\">\n",
       "      <th></th>\n",
       "      <th>passengerid</th>\n",
       "      <th>survived</th>\n",
       "      <th>pclass</th>\n",
       "      <th>name</th>\n",
       "      <th>gender</th>\n",
       "      <th>age</th>\n",
       "      <th>sibsp</th>\n",
       "      <th>parch</th>\n",
       "      <th>ticket</th>\n",
       "      <th>fare</th>\n",
       "      <th>embarked</th>\n",
       "      <th>designation</th>\n",
       "      <th>ticket_number</th>\n",
       "      <th>fare_mean_by_pclass</th>\n",
       "      <th>survived_by_pclass</th>\n",
       "      <th>len_sibsp_by_pclass</th>\n",
       "      <th>len_parch_by_pclass</th>\n",
       "    </tr>\n",
       "  </thead>\n",
       "  <tbody>\n",
       "    <tr>\n",
       "      <th>0</th>\n",
       "      <td>0</td>\n",
       "      <td>0</td>\n",
       "      <td>2</td>\n",
       "      <td>Wheeler, Mr. Edwin Frederick\"\"</td>\n",
       "      <td>male</td>\n",
       "      <td>28.0</td>\n",
       "      <td>0</td>\n",
       "      <td>0</td>\n",
       "      <td>SC/PARIS 2159</td>\n",
       "      <td>12.8750</td>\n",
       "      <td>S</td>\n",
       "      <td>11</td>\n",
       "      <td>2159</td>\n",
       "      <td>20.388036</td>\n",
       "      <td>0.391753</td>\n",
       "      <td>4</td>\n",
       "      <td>4</td>\n",
       "    </tr>\n",
       "    <tr>\n",
       "      <th>1</th>\n",
       "      <td>1</td>\n",
       "      <td>0</td>\n",
       "      <td>3</td>\n",
       "      <td>Henry, Miss. Delia</td>\n",
       "      <td>female</td>\n",
       "      <td>28.0</td>\n",
       "      <td>0</td>\n",
       "      <td>0</td>\n",
       "      <td>382649</td>\n",
       "      <td>7.7500</td>\n",
       "      <td>Q</td>\n",
       "      <td>21</td>\n",
       "      <td>382649</td>\n",
       "      <td>13.566363</td>\n",
       "      <td>0.280808</td>\n",
       "      <td>7</td>\n",
       "      <td>8</td>\n",
       "    </tr>\n",
       "    <tr>\n",
       "      <th>2</th>\n",
       "      <td>2</td>\n",
       "      <td>1</td>\n",
       "      <td>1</td>\n",
       "      <td>Hays, Mrs. Charles Melville (Clara Jennings Gr...</td>\n",
       "      <td>female</td>\n",
       "      <td>52.0</td>\n",
       "      <td>1</td>\n",
       "      <td>1</td>\n",
       "      <td>12749</td>\n",
       "      <td>93.5000</td>\n",
       "      <td>S</td>\n",
       "      <td>22</td>\n",
       "      <td>12749</td>\n",
       "      <td>83.745613</td>\n",
       "      <td>0.577093</td>\n",
       "      <td>4</td>\n",
       "      <td>4</td>\n",
       "    </tr>\n",
       "    <tr>\n",
       "      <th>3</th>\n",
       "      <td>3</td>\n",
       "      <td>1</td>\n",
       "      <td>3</td>\n",
       "      <td>Andersson, Mr. August Edvard (\"Wennerstrom\")</td>\n",
       "      <td>male</td>\n",
       "      <td>27.0</td>\n",
       "      <td>0</td>\n",
       "      <td>0</td>\n",
       "      <td>350043</td>\n",
       "      <td>7.7958</td>\n",
       "      <td>S</td>\n",
       "      <td>11</td>\n",
       "      <td>350043</td>\n",
       "      <td>13.566363</td>\n",
       "      <td>0.280808</td>\n",
       "      <td>7</td>\n",
       "      <td>8</td>\n",
       "    </tr>\n",
       "    <tr>\n",
       "      <th>4</th>\n",
       "      <td>4</td>\n",
       "      <td>0</td>\n",
       "      <td>2</td>\n",
       "      <td>Hold, Mr. Stephen</td>\n",
       "      <td>male</td>\n",
       "      <td>44.0</td>\n",
       "      <td>1</td>\n",
       "      <td>0</td>\n",
       "      <td>26707</td>\n",
       "      <td>26.0000</td>\n",
       "      <td>S</td>\n",
       "      <td>11</td>\n",
       "      <td>26707</td>\n",
       "      <td>20.388036</td>\n",
       "      <td>0.391753</td>\n",
       "      <td>4</td>\n",
       "      <td>4</td>\n",
       "    </tr>\n",
       "  </tbody>\n",
       "</table>\n",
       "</div>"
      ],
      "text/plain": [
       "   passengerid  survived pclass  \\\n",
       "0            0         0      2   \n",
       "1            1         0      3   \n",
       "2            2         1      1   \n",
       "3            3         1      3   \n",
       "4            4         0      2   \n",
       "\n",
       "                                                name  gender   age  sibsp  \\\n",
       "0                     Wheeler, Mr. Edwin Frederick\"\"    male  28.0      0   \n",
       "1                                 Henry, Miss. Delia  female  28.0      0   \n",
       "2  Hays, Mrs. Charles Melville (Clara Jennings Gr...  female  52.0      1   \n",
       "3       Andersson, Mr. August Edvard (\"Wennerstrom\")    male  27.0      0   \n",
       "4                                  Hold, Mr. Stephen    male  44.0      1   \n",
       "\n",
       "   parch         ticket     fare embarked  designation  ticket_number  \\\n",
       "0      0  SC/PARIS 2159  12.8750        S           11           2159   \n",
       "1      0         382649   7.7500        Q           21         382649   \n",
       "2      1          12749  93.5000        S           22          12749   \n",
       "3      0         350043   7.7958        S           11         350043   \n",
       "4      0          26707  26.0000        S           11          26707   \n",
       "\n",
       "   fare_mean_by_pclass  survived_by_pclass  len_sibsp_by_pclass  \\\n",
       "0            20.388036            0.391753                    4   \n",
       "1            13.566363            0.280808                    7   \n",
       "2            83.745613            0.577093                    4   \n",
       "3            13.566363            0.280808                    7   \n",
       "4            20.388036            0.391753                    4   \n",
       "\n",
       "   len_parch_by_pclass  \n",
       "0                    4  \n",
       "1                    8  \n",
       "2                    4  \n",
       "3                    8  \n",
       "4                    4  "
      ]
     },
     "execution_count": 42,
     "metadata": {},
     "output_type": "execute_result"
    }
   ],
   "source": [
    "print(f'before: {train.shape}')\n",
    "\n",
    "train = pd.merge(train,df_groupby,how=\"left\",on=\"pclass\") \n",
    "test = pd.merge(test,df_groupby,how=\"left\",on=\"pclass\") \n",
    "\n",
    "print(f'after: {train.shape}')\n",
    "\n",
    "train.head()"
   ]
  },
  {
   "cell_type": "code",
   "execution_count": 43,
   "id": "efd97e92",
   "metadata": {},
   "outputs": [
    {
     "name": "stdout",
     "output_type": "stream",
     "text": [
      "퍼스트 승객 생존률: 57.70925110132159\n",
      "비즈니스 승객 생존률: 39.175257731958766\n",
      "이코노미 승객 생존률: 28.08080808080808\n"
     ]
    },
    {
     "data": {
      "image/png": "[encoded data removed]",
      "text/plain": [
       "<Figure size 432x288 with 1 Axes>"
      ]
     },
     "metadata": {
      "needs_background": "light"
     },
     "output_type": "display_data"
    }
   ],
   "source": [
    "sns.barplot(x= \"pclass\", y=\"survived\", data = train)\n",
    "\n",
    "print(\"퍼스트 승객 생존률:\", train[\"survived\"][train[\"pclass\"]==1].value_counts(normalize=True)[1]*100)\n",
    "\n",
    "print(\"비즈니스 승객 생존률:\", train[\"survived\"][train[\"pclass\"]==2].value_counts(normalize=True)[1]*100)\n",
    "\n",
    "print(\"이코노미 승객 생존률:\", train[\"survived\"][train[\"pclass\"]==3].value_counts(normalize=True)[1]*100)"
   ]
  },
  {
   "cell_type": "code",
   "execution_count": 44,
   "id": "482746bf",
   "metadata": {},
   "outputs": [
    {
     "name": "stdout",
     "output_type": "stream",
     "text": [
      "배후자 0명인 사람의 생존률: 33.33333333333333\n",
      "배후자 1명인 사람의 생존률: 53.153153153153156\n",
      "배후자 2명인 사람의 생존률: 43.333333333333336\n"
     ]
    },
    {
     "data": {
      "image/png": "[encoded data removed]",
      "text/plain": [
       "<Figure size 432x288 with 1 Axes>"
      ]
     },
     "metadata": {
      "needs_background": "light"
     },
     "output_type": "display_data"
    }
   ],
   "source": [
    "sns.barplot(x= \"sibsp\", y=\"survived\", data = train)\n",
    "\n",
    "print(\"배후자 0명인 사람의 생존률:\", train[\"survived\"][train[\"sibsp\"]==0].value_counts(normalize=True)[1]*100)\n",
    "\n",
    "print(\"배후자 1명인 사람의 생존률:\", train[\"survived\"][train[\"sibsp\"]==1].value_counts(normalize=True)[1]*100)\n",
    "\n",
    "print(\"배후자 2명인 사람의 생존률:\", train[\"survived\"][train[\"sibsp\"]==2].value_counts(normalize=True)[1]*100)"
   ]
  },
  {
   "cell_type": "code",
   "execution_count": 45,
   "id": "63aeb015",
   "metadata": {},
   "outputs": [
    {
     "data": {
      "image/png": "[encoded data removed]",
      "text/plain": [
       "<Figure size 432x288 with 1 Axes>"
      ]
     },
     "metadata": {
      "needs_background": "light"
     },
     "output_type": "display_data"
    }
   ],
   "source": [
    "sns.barplot(x=\"parch\", y=\"survived\", data=train)\n",
    "plt.show()"
   ]
  },
  {
   "cell_type": "code",
   "execution_count": 46,
   "id": "228bacd9",
   "metadata": {
    "scrolled": false
   },
   "outputs": [
    {
     "data": {
      "text/html": [
       "<div>\n",
       "<style scoped>\n",
       "    .dataframe tbody tr th:only-of-type {\n",
       "        vertical-align: middle;\n",
       "    }\n",
       "\n",
       "    .dataframe tbody tr th {\n",
       "        vertical-align: top;\n",
       "    }\n",
       "\n",
       "    .dataframe thead th {\n",
       "        text-align: right;\n",
       "    }\n",
       "</style>\n",
       "<table border=\"1\" class=\"dataframe\">\n",
       "  <thead>\n",
       "    <tr style=\"text-align: right;\">\n",
       "      <th></th>\n",
       "      <th>passengerid</th>\n",
       "      <th>survived</th>\n",
       "      <th>pclass</th>\n",
       "      <th>name</th>\n",
       "      <th>gender</th>\n",
       "      <th>age</th>\n",
       "      <th>sibsp</th>\n",
       "      <th>parch</th>\n",
       "      <th>ticket</th>\n",
       "      <th>fare</th>\n",
       "      <th>embarked</th>\n",
       "      <th>designation</th>\n",
       "      <th>ticket_number</th>\n",
       "      <th>fare_mean_by_pclass</th>\n",
       "      <th>survived_by_pclass</th>\n",
       "      <th>len_sibsp_by_pclass</th>\n",
       "      <th>len_parch_by_pclass</th>\n",
       "      <th>sub_age</th>\n",
       "    </tr>\n",
       "  </thead>\n",
       "  <tbody>\n",
       "    <tr>\n",
       "      <th>0</th>\n",
       "      <td>0</td>\n",
       "      <td>0</td>\n",
       "      <td>2</td>\n",
       "      <td>Wheeler, Mr. Edwin Frederick\"\"</td>\n",
       "      <td>male</td>\n",
       "      <td>28.0</td>\n",
       "      <td>0</td>\n",
       "      <td>0</td>\n",
       "      <td>SC/PARIS 2159</td>\n",
       "      <td>12.8750</td>\n",
       "      <td>S</td>\n",
       "      <td>11</td>\n",
       "      <td>2159</td>\n",
       "      <td>20.388036</td>\n",
       "      <td>0.391753</td>\n",
       "      <td>4</td>\n",
       "      <td>4</td>\n",
       "      <td>2.0</td>\n",
       "    </tr>\n",
       "    <tr>\n",
       "      <th>1</th>\n",
       "      <td>1</td>\n",
       "      <td>0</td>\n",
       "      <td>3</td>\n",
       "      <td>Henry, Miss. Delia</td>\n",
       "      <td>female</td>\n",
       "      <td>28.0</td>\n",
       "      <td>0</td>\n",
       "      <td>0</td>\n",
       "      <td>382649</td>\n",
       "      <td>7.7500</td>\n",
       "      <td>Q</td>\n",
       "      <td>21</td>\n",
       "      <td>382649</td>\n",
       "      <td>13.566363</td>\n",
       "      <td>0.280808</td>\n",
       "      <td>7</td>\n",
       "      <td>8</td>\n",
       "      <td>2.0</td>\n",
       "    </tr>\n",
       "    <tr>\n",
       "      <th>2</th>\n",
       "      <td>2</td>\n",
       "      <td>1</td>\n",
       "      <td>1</td>\n",
       "      <td>Hays, Mrs. Charles Melville (Clara Jennings Gr...</td>\n",
       "      <td>female</td>\n",
       "      <td>52.0</td>\n",
       "      <td>1</td>\n",
       "      <td>1</td>\n",
       "      <td>12749</td>\n",
       "      <td>93.5000</td>\n",
       "      <td>S</td>\n",
       "      <td>22</td>\n",
       "      <td>12749</td>\n",
       "      <td>83.745613</td>\n",
       "      <td>0.577093</td>\n",
       "      <td>4</td>\n",
       "      <td>4</td>\n",
       "      <td>5.0</td>\n",
       "    </tr>\n",
       "    <tr>\n",
       "      <th>3</th>\n",
       "      <td>3</td>\n",
       "      <td>1</td>\n",
       "      <td>3</td>\n",
       "      <td>Andersson, Mr. August Edvard (\"Wennerstrom\")</td>\n",
       "      <td>male</td>\n",
       "      <td>27.0</td>\n",
       "      <td>0</td>\n",
       "      <td>0</td>\n",
       "      <td>350043</td>\n",
       "      <td>7.7958</td>\n",
       "      <td>S</td>\n",
       "      <td>11</td>\n",
       "      <td>350043</td>\n",
       "      <td>13.566363</td>\n",
       "      <td>0.280808</td>\n",
       "      <td>7</td>\n",
       "      <td>8</td>\n",
       "      <td>2.0</td>\n",
       "    </tr>\n",
       "    <tr>\n",
       "      <th>4</th>\n",
       "      <td>4</td>\n",
       "      <td>0</td>\n",
       "      <td>2</td>\n",
       "      <td>Hold, Mr. Stephen</td>\n",
       "      <td>male</td>\n",
       "      <td>44.0</td>\n",
       "      <td>1</td>\n",
       "      <td>0</td>\n",
       "      <td>26707</td>\n",
       "      <td>26.0000</td>\n",
       "      <td>S</td>\n",
       "      <td>11</td>\n",
       "      <td>26707</td>\n",
       "      <td>20.388036</td>\n",
       "      <td>0.391753</td>\n",
       "      <td>4</td>\n",
       "      <td>4</td>\n",
       "      <td>4.0</td>\n",
       "    </tr>\n",
       "  </tbody>\n",
       "</table>\n",
       "</div>"
      ],
      "text/plain": [
       "   passengerid  survived pclass  \\\n",
       "0            0         0      2   \n",
       "1            1         0      3   \n",
       "2            2         1      1   \n",
       "3            3         1      3   \n",
       "4            4         0      2   \n",
       "\n",
       "                                                name  gender   age  sibsp  \\\n",
       "0                     Wheeler, Mr. Edwin Frederick\"\"    male  28.0      0   \n",
       "1                                 Henry, Miss. Delia  female  28.0      0   \n",
       "2  Hays, Mrs. Charles Melville (Clara Jennings Gr...  female  52.0      1   \n",
       "3       Andersson, Mr. August Edvard (\"Wennerstrom\")    male  27.0      0   \n",
       "4                                  Hold, Mr. Stephen    male  44.0      1   \n",
       "\n",
       "   parch         ticket     fare embarked  designation  ticket_number  \\\n",
       "0      0  SC/PARIS 2159  12.8750        S           11           2159   \n",
       "1      0         382649   7.7500        Q           21         382649   \n",
       "2      1          12749  93.5000        S           22          12749   \n",
       "3      0         350043   7.7958        S           11         350043   \n",
       "4      0          26707  26.0000        S           11          26707   \n",
       "\n",
       "   fare_mean_by_pclass  survived_by_pclass  len_sibsp_by_pclass  \\\n",
       "0            20.388036            0.391753                    4   \n",
       "1            13.566363            0.280808                    7   \n",
       "2            83.745613            0.577093                    4   \n",
       "3            13.566363            0.280808                    7   \n",
       "4            20.388036            0.391753                    4   \n",
       "\n",
       "   len_parch_by_pclass  sub_age  \n",
       "0                    4      2.0  \n",
       "1                    8      2.0  \n",
       "2                    4      5.0  \n",
       "3                    8      2.0  \n",
       "4                    4      4.0  "
      ]
     },
     "execution_count": 46,
     "metadata": {},
     "output_type": "execute_result"
    }
   ],
   "source": [
    "train['sub_age'] = train['age'].map(lambda x: x//10)\n",
    "test['sub_age'] = test['age'].map(lambda x: x//10)\n",
    "train.head()"
   ]
  },
  {
   "cell_type": "code",
   "execution_count": 47,
   "id": "95c62bfe",
   "metadata": {},
   "outputs": [
    {
     "data": {
      "image/png": "[encoded data removed]",
      "text/plain": [
       "<Figure size 432x288 with 1 Axes>"
      ]
     },
     "metadata": {
      "needs_background": "light"
     },
     "output_type": "display_data"
    }
   ],
   "source": [
    "bins = [0,5,10,18,22,35,60, np.inf]\n",
    "labels = ['baby','child', 'teenage', 'student', 'adult','middle age','senior']\n",
    "train['age_group'] = pd.cut(train['age'],bins,labels= labels)\n",
    "test['age_group'] = pd.cut(test['age'],bins,labels=labels)\n",
    "\n",
    "sns.barplot(x=\"age_group\",y=\"survived\", data=train)\n",
    "plt.show()"
   ]
  },
  {
   "cell_type": "code",
   "execution_count": 48,
   "id": "f055621c",
   "metadata": {},
   "outputs": [],
   "source": [
    "age_group_mapping = {\n",
    "    'baby' : 1,\n",
    "    'child' : 2,\n",
    "    'teenage' : 3,\n",
    "    'student' : 4,\n",
    "    'adult' : 5,\n",
    "    'middle age' : 6,\n",
    "    'senior' : 7\n",
    "}\n",
    "\n",
    "train['age_group'] = train['age_group'].map(age_group_mapping)\n",
    "test['age_group'] = test['age_group'].map(age_group_mapping)"
   ]
  },
  {
   "cell_type": "code",
   "execution_count": 49,
   "id": "9733f9a2",
   "metadata": {
    "scrolled": true
   },
   "outputs": [
    {
     "data": {
      "text/html": [
       "<div>\n",
       "<style scoped>\n",
       "    .dataframe tbody tr th:only-of-type {\n",
       "        vertical-align: middle;\n",
       "    }\n",
       "\n",
       "    .dataframe tbody tr th {\n",
       "        vertical-align: top;\n",
       "    }\n",
       "\n",
       "    .dataframe thead th {\n",
       "        text-align: right;\n",
       "    }\n",
       "</style>\n",
       "<table border=\"1\" class=\"dataframe\">\n",
       "  <thead>\n",
       "    <tr style=\"text-align: right;\">\n",
       "      <th></th>\n",
       "      <th>passengerid</th>\n",
       "      <th>survived</th>\n",
       "      <th>pclass</th>\n",
       "      <th>name</th>\n",
       "      <th>gender</th>\n",
       "      <th>age</th>\n",
       "      <th>sibsp</th>\n",
       "      <th>parch</th>\n",
       "      <th>ticket</th>\n",
       "      <th>fare</th>\n",
       "      <th>embarked</th>\n",
       "      <th>designation</th>\n",
       "      <th>ticket_number</th>\n",
       "      <th>fare_mean_by_pclass</th>\n",
       "      <th>survived_by_pclass</th>\n",
       "      <th>len_sibsp_by_pclass</th>\n",
       "      <th>len_parch_by_pclass</th>\n",
       "      <th>sub_age</th>\n",
       "      <th>age_group</th>\n",
       "    </tr>\n",
       "  </thead>\n",
       "  <tbody>\n",
       "    <tr>\n",
       "      <th>0</th>\n",
       "      <td>0</td>\n",
       "      <td>0</td>\n",
       "      <td>2</td>\n",
       "      <td>Wheeler, Mr. Edwin Frederick\"\"</td>\n",
       "      <td>male</td>\n",
       "      <td>28.0</td>\n",
       "      <td>0</td>\n",
       "      <td>0</td>\n",
       "      <td>SC/PARIS 2159</td>\n",
       "      <td>12.8750</td>\n",
       "      <td>S</td>\n",
       "      <td>11</td>\n",
       "      <td>2159</td>\n",
       "      <td>20.388036</td>\n",
       "      <td>0.391753</td>\n",
       "      <td>4</td>\n",
       "      <td>4</td>\n",
       "      <td>2.0</td>\n",
       "      <td>5</td>\n",
       "    </tr>\n",
       "    <tr>\n",
       "      <th>1</th>\n",
       "      <td>1</td>\n",
       "      <td>0</td>\n",
       "      <td>3</td>\n",
       "      <td>Henry, Miss. Delia</td>\n",
       "      <td>female</td>\n",
       "      <td>28.0</td>\n",
       "      <td>0</td>\n",
       "      <td>0</td>\n",
       "      <td>382649</td>\n",
       "      <td>7.7500</td>\n",
       "      <td>Q</td>\n",
       "      <td>21</td>\n",
       "      <td>382649</td>\n",
       "      <td>13.566363</td>\n",
       "      <td>0.280808</td>\n",
       "      <td>7</td>\n",
       "      <td>8</td>\n",
       "      <td>2.0</td>\n",
       "      <td>5</td>\n",
       "    </tr>\n",
       "    <tr>\n",
       "      <th>2</th>\n",
       "      <td>2</td>\n",
       "      <td>1</td>\n",
       "      <td>1</td>\n",
       "      <td>Hays, Mrs. Charles Melville (Clara Jennings Gr...</td>\n",
       "      <td>female</td>\n",
       "      <td>52.0</td>\n",
       "      <td>1</td>\n",
       "      <td>1</td>\n",
       "      <td>12749</td>\n",
       "      <td>93.5000</td>\n",
       "      <td>S</td>\n",
       "      <td>22</td>\n",
       "      <td>12749</td>\n",
       "      <td>83.745613</td>\n",
       "      <td>0.577093</td>\n",
       "      <td>4</td>\n",
       "      <td>4</td>\n",
       "      <td>5.0</td>\n",
       "      <td>6</td>\n",
       "    </tr>\n",
       "    <tr>\n",
       "      <th>3</th>\n",
       "      <td>3</td>\n",
       "      <td>1</td>\n",
       "      <td>3</td>\n",
       "      <td>Andersson, Mr. August Edvard (\"Wennerstrom\")</td>\n",
       "      <td>male</td>\n",
       "      <td>27.0</td>\n",
       "      <td>0</td>\n",
       "      <td>0</td>\n",
       "      <td>350043</td>\n",
       "      <td>7.7958</td>\n",
       "      <td>S</td>\n",
       "      <td>11</td>\n",
       "      <td>350043</td>\n",
       "      <td>13.566363</td>\n",
       "      <td>0.280808</td>\n",
       "      <td>7</td>\n",
       "      <td>8</td>\n",
       "      <td>2.0</td>\n",
       "      <td>5</td>\n",
       "    </tr>\n",
       "    <tr>\n",
       "      <th>4</th>\n",
       "      <td>4</td>\n",
       "      <td>0</td>\n",
       "      <td>2</td>\n",
       "      <td>Hold, Mr. Stephen</td>\n",
       "      <td>male</td>\n",
       "      <td>44.0</td>\n",
       "      <td>1</td>\n",
       "      <td>0</td>\n",
       "      <td>26707</td>\n",
       "      <td>26.0000</td>\n",
       "      <td>S</td>\n",
       "      <td>11</td>\n",
       "      <td>26707</td>\n",
       "      <td>20.388036</td>\n",
       "      <td>0.391753</td>\n",
       "      <td>4</td>\n",
       "      <td>4</td>\n",
       "      <td>4.0</td>\n",
       "      <td>6</td>\n",
       "    </tr>\n",
       "  </tbody>\n",
       "</table>\n",
       "</div>"
      ],
      "text/plain": [
       "   passengerid  survived pclass  \\\n",
       "0            0         0      2   \n",
       "1            1         0      3   \n",
       "2            2         1      1   \n",
       "3            3         1      3   \n",
       "4            4         0      2   \n",
       "\n",
       "                                                name  gender   age  sibsp  \\\n",
       "0                     Wheeler, Mr. Edwin Frederick\"\"    male  28.0      0   \n",
       "1                                 Henry, Miss. Delia  female  28.0      0   \n",
       "2  Hays, Mrs. Charles Melville (Clara Jennings Gr...  female  52.0      1   \n",
       "3       Andersson, Mr. August Edvard (\"Wennerstrom\")    male  27.0      0   \n",
       "4                                  Hold, Mr. Stephen    male  44.0      1   \n",
       "\n",
       "   parch         ticket     fare embarked  designation  ticket_number  \\\n",
       "0      0  SC/PARIS 2159  12.8750        S           11           2159   \n",
       "1      0         382649   7.7500        Q           21         382649   \n",
       "2      1          12749  93.5000        S           22          12749   \n",
       "3      0         350043   7.7958        S           11         350043   \n",
       "4      0          26707  26.0000        S           11          26707   \n",
       "\n",
       "   fare_mean_by_pclass  survived_by_pclass  len_sibsp_by_pclass  \\\n",
       "0            20.388036            0.391753                    4   \n",
       "1            13.566363            0.280808                    7   \n",
       "2            83.745613            0.577093                    4   \n",
       "3            13.566363            0.280808                    7   \n",
       "4            20.388036            0.391753                    4   \n",
       "\n",
       "   len_parch_by_pclass  sub_age age_group  \n",
       "0                    4      2.0         5  \n",
       "1                    8      2.0         5  \n",
       "2                    4      5.0         6  \n",
       "3                    8      2.0         5  \n",
       "4                    4      4.0         6  "
      ]
     },
     "execution_count": 49,
     "metadata": {},
     "output_type": "execute_result"
    }
   ],
   "source": [
    "train.head()"
   ]
  },
  {
   "cell_type": "code",
   "execution_count": 50,
   "id": "9917a47f",
   "metadata": {},
   "outputs": [
    {
     "data": {
      "text/html": [
       "<div>\n",
       "<style scoped>\n",
       "    .dataframe tbody tr th:only-of-type {\n",
       "        vertical-align: middle;\n",
       "    }\n",
       "\n",
       "    .dataframe tbody tr th {\n",
       "        vertical-align: top;\n",
       "    }\n",
       "\n",
       "    .dataframe thead th {\n",
       "        text-align: right;\n",
       "    }\n",
       "</style>\n",
       "<table border=\"1\" class=\"dataframe\">\n",
       "  <thead>\n",
       "    <tr style=\"text-align: right;\">\n",
       "      <th></th>\n",
       "      <th>passengerid</th>\n",
       "      <th>survived</th>\n",
       "      <th>pclass</th>\n",
       "      <th>name</th>\n",
       "      <th>gender</th>\n",
       "      <th>age</th>\n",
       "      <th>sibsp</th>\n",
       "      <th>parch</th>\n",
       "      <th>ticket</th>\n",
       "      <th>fare</th>\n",
       "      <th>embarked</th>\n",
       "      <th>designation</th>\n",
       "      <th>ticket_number</th>\n",
       "      <th>fare_mean_by_pclass</th>\n",
       "      <th>survived_by_pclass</th>\n",
       "      <th>len_sibsp_by_pclass</th>\n",
       "      <th>len_parch_by_pclass</th>\n",
       "      <th>sub_age</th>\n",
       "      <th>age_group</th>\n",
       "    </tr>\n",
       "  </thead>\n",
       "  <tbody>\n",
       "    <tr>\n",
       "      <th>0</th>\n",
       "      <td>0</td>\n",
       "      <td>0</td>\n",
       "      <td>2</td>\n",
       "      <td>Wheeler, Mr. Edwin Frederick\"\"</td>\n",
       "      <td>male</td>\n",
       "      <td>28.0</td>\n",
       "      <td>0</td>\n",
       "      <td>0</td>\n",
       "      <td>SC/PARIS 2159</td>\n",
       "      <td>12.8750</td>\n",
       "      <td>S</td>\n",
       "      <td>11</td>\n",
       "      <td>2159</td>\n",
       "      <td>20.388036</td>\n",
       "      <td>0.391753</td>\n",
       "      <td>4</td>\n",
       "      <td>4</td>\n",
       "      <td>2.0</td>\n",
       "      <td>5</td>\n",
       "    </tr>\n",
       "    <tr>\n",
       "      <th>1</th>\n",
       "      <td>1</td>\n",
       "      <td>0</td>\n",
       "      <td>3</td>\n",
       "      <td>Henry, Miss. Delia</td>\n",
       "      <td>female</td>\n",
       "      <td>28.0</td>\n",
       "      <td>0</td>\n",
       "      <td>0</td>\n",
       "      <td>382649</td>\n",
       "      <td>7.7500</td>\n",
       "      <td>Q</td>\n",
       "      <td>21</td>\n",
       "      <td>382649</td>\n",
       "      <td>13.566363</td>\n",
       "      <td>0.280808</td>\n",
       "      <td>7</td>\n",
       "      <td>8</td>\n",
       "      <td>2.0</td>\n",
       "      <td>5</td>\n",
       "    </tr>\n",
       "    <tr>\n",
       "      <th>2</th>\n",
       "      <td>2</td>\n",
       "      <td>1</td>\n",
       "      <td>1</td>\n",
       "      <td>Hays, Mrs. Charles Melville (Clara Jennings Gr...</td>\n",
       "      <td>female</td>\n",
       "      <td>52.0</td>\n",
       "      <td>1</td>\n",
       "      <td>1</td>\n",
       "      <td>12749</td>\n",
       "      <td>93.5000</td>\n",
       "      <td>S</td>\n",
       "      <td>22</td>\n",
       "      <td>12749</td>\n",
       "      <td>83.745613</td>\n",
       "      <td>0.577093</td>\n",
       "      <td>4</td>\n",
       "      <td>4</td>\n",
       "      <td>5.0</td>\n",
       "      <td>6</td>\n",
       "    </tr>\n",
       "    <tr>\n",
       "      <th>3</th>\n",
       "      <td>3</td>\n",
       "      <td>1</td>\n",
       "      <td>3</td>\n",
       "      <td>Andersson, Mr. August Edvard (\"Wennerstrom\")</td>\n",
       "      <td>male</td>\n",
       "      <td>27.0</td>\n",
       "      <td>0</td>\n",
       "      <td>0</td>\n",
       "      <td>350043</td>\n",
       "      <td>7.7958</td>\n",
       "      <td>S</td>\n",
       "      <td>11</td>\n",
       "      <td>350043</td>\n",
       "      <td>13.566363</td>\n",
       "      <td>0.280808</td>\n",
       "      <td>7</td>\n",
       "      <td>8</td>\n",
       "      <td>2.0</td>\n",
       "      <td>5</td>\n",
       "    </tr>\n",
       "    <tr>\n",
       "      <th>4</th>\n",
       "      <td>4</td>\n",
       "      <td>0</td>\n",
       "      <td>2</td>\n",
       "      <td>Hold, Mr. Stephen</td>\n",
       "      <td>male</td>\n",
       "      <td>44.0</td>\n",
       "      <td>1</td>\n",
       "      <td>0</td>\n",
       "      <td>26707</td>\n",
       "      <td>26.0000</td>\n",
       "      <td>S</td>\n",
       "      <td>11</td>\n",
       "      <td>26707</td>\n",
       "      <td>20.388036</td>\n",
       "      <td>0.391753</td>\n",
       "      <td>4</td>\n",
       "      <td>4</td>\n",
       "      <td>4.0</td>\n",
       "      <td>6</td>\n",
       "    </tr>\n",
       "    <tr>\n",
       "      <th>...</th>\n",
       "      <td>...</td>\n",
       "      <td>...</td>\n",
       "      <td>...</td>\n",
       "      <td>...</td>\n",
       "      <td>...</td>\n",
       "      <td>...</td>\n",
       "      <td>...</td>\n",
       "      <td>...</td>\n",
       "      <td>...</td>\n",
       "      <td>...</td>\n",
       "      <td>...</td>\n",
       "      <td>...</td>\n",
       "      <td>...</td>\n",
       "      <td>...</td>\n",
       "      <td>...</td>\n",
       "      <td>...</td>\n",
       "      <td>...</td>\n",
       "      <td>...</td>\n",
       "      <td>...</td>\n",
       "    </tr>\n",
       "    <tr>\n",
       "      <th>911</th>\n",
       "      <td>911</td>\n",
       "      <td>0</td>\n",
       "      <td>3</td>\n",
       "      <td>Thomas, Mr. Charles P</td>\n",
       "      <td>male</td>\n",
       "      <td>28.0</td>\n",
       "      <td>1</td>\n",
       "      <td>0</td>\n",
       "      <td>2621</td>\n",
       "      <td>6.4375</td>\n",
       "      <td>C</td>\n",
       "      <td>11</td>\n",
       "      <td>2621</td>\n",
       "      <td>13.566363</td>\n",
       "      <td>0.280808</td>\n",
       "      <td>7</td>\n",
       "      <td>8</td>\n",
       "      <td>2.0</td>\n",
       "      <td>5</td>\n",
       "    </tr>\n",
       "    <tr>\n",
       "      <th>912</th>\n",
       "      <td>912</td>\n",
       "      <td>0</td>\n",
       "      <td>3</td>\n",
       "      <td>Cacic, Mr. Jego Grga</td>\n",
       "      <td>male</td>\n",
       "      <td>18.0</td>\n",
       "      <td>0</td>\n",
       "      <td>0</td>\n",
       "      <td>315091</td>\n",
       "      <td>8.6625</td>\n",
       "      <td>S</td>\n",
       "      <td>11</td>\n",
       "      <td>315091</td>\n",
       "      <td>13.566363</td>\n",
       "      <td>0.280808</td>\n",
       "      <td>7</td>\n",
       "      <td>8</td>\n",
       "      <td>1.0</td>\n",
       "      <td>3</td>\n",
       "    </tr>\n",
       "    <tr>\n",
       "      <th>913</th>\n",
       "      <td>913</td>\n",
       "      <td>0</td>\n",
       "      <td>2</td>\n",
       "      <td>Pengelly, Mr. Frederick William</td>\n",
       "      <td>male</td>\n",
       "      <td>19.0</td>\n",
       "      <td>0</td>\n",
       "      <td>0</td>\n",
       "      <td>28665</td>\n",
       "      <td>10.5000</td>\n",
       "      <td>S</td>\n",
       "      <td>11</td>\n",
       "      <td>28665</td>\n",
       "      <td>20.388036</td>\n",
       "      <td>0.391753</td>\n",
       "      <td>4</td>\n",
       "      <td>4</td>\n",
       "      <td>1.0</td>\n",
       "      <td>4</td>\n",
       "    </tr>\n",
       "    <tr>\n",
       "      <th>914</th>\n",
       "      <td>914</td>\n",
       "      <td>1</td>\n",
       "      <td>3</td>\n",
       "      <td>Mullens, Miss. Katherine \"Katie\"</td>\n",
       "      <td>female</td>\n",
       "      <td>28.0</td>\n",
       "      <td>0</td>\n",
       "      <td>0</td>\n",
       "      <td>35852</td>\n",
       "      <td>7.7333</td>\n",
       "      <td>Q</td>\n",
       "      <td>21</td>\n",
       "      <td>35852</td>\n",
       "      <td>13.566363</td>\n",
       "      <td>0.280808</td>\n",
       "      <td>7</td>\n",
       "      <td>8</td>\n",
       "      <td>2.0</td>\n",
       "      <td>5</td>\n",
       "    </tr>\n",
       "    <tr>\n",
       "      <th>915</th>\n",
       "      <td>915</td>\n",
       "      <td>1</td>\n",
       "      <td>1</td>\n",
       "      <td>Candee, Mrs. Edward (Helen Churchill Hungerford)</td>\n",
       "      <td>female</td>\n",
       "      <td>53.0</td>\n",
       "      <td>0</td>\n",
       "      <td>0</td>\n",
       "      <td>PC 17606</td>\n",
       "      <td>27.4458</td>\n",
       "      <td>C</td>\n",
       "      <td>22</td>\n",
       "      <td>17606</td>\n",
       "      <td>83.745613</td>\n",
       "      <td>0.577093</td>\n",
       "      <td>4</td>\n",
       "      <td>4</td>\n",
       "      <td>5.0</td>\n",
       "      <td>6</td>\n",
       "    </tr>\n",
       "  </tbody>\n",
       "</table>\n",
       "<p>916 rows × 19 columns</p>\n",
       "</div>"
      ],
      "text/plain": [
       "     passengerid  survived pclass  \\\n",
       "0              0         0      2   \n",
       "1              1         0      3   \n",
       "2              2         1      1   \n",
       "3              3         1      3   \n",
       "4              4         0      2   \n",
       "..           ...       ...    ...   \n",
       "911          911         0      3   \n",
       "912          912         0      3   \n",
       "913          913         0      2   \n",
       "914          914         1      3   \n",
       "915          915         1      1   \n",
       "\n",
       "                                                  name  gender   age  sibsp  \\\n",
       "0                       Wheeler, Mr. Edwin Frederick\"\"    male  28.0      0   \n",
       "1                                   Henry, Miss. Delia  female  28.0      0   \n",
       "2    Hays, Mrs. Charles Melville (Clara Jennings Gr...  female  52.0      1   \n",
       "3         Andersson, Mr. August Edvard (\"Wennerstrom\")    male  27.0      0   \n",
       "4                                    Hold, Mr. Stephen    male  44.0      1   \n",
       "..                                                 ...     ...   ...    ...   \n",
       "911                              Thomas, Mr. Charles P    male  28.0      1   \n",
       "912                               Cacic, Mr. Jego Grga    male  18.0      0   \n",
       "913                    Pengelly, Mr. Frederick William    male  19.0      0   \n",
       "914                   Mullens, Miss. Katherine \"Katie\"  female  28.0      0   \n",
       "915   Candee, Mrs. Edward (Helen Churchill Hungerford)  female  53.0      0   \n",
       "\n",
       "     parch         ticket     fare embarked  designation  ticket_number  \\\n",
       "0        0  SC/PARIS 2159  12.8750        S           11           2159   \n",
       "1        0         382649   7.7500        Q           21         382649   \n",
       "2        1          12749  93.5000        S           22          12749   \n",
       "3        0         350043   7.7958        S           11         350043   \n",
       "4        0          26707  26.0000        S           11          26707   \n",
       "..     ...            ...      ...      ...          ...            ...   \n",
       "911      0           2621   6.4375        C           11           2621   \n",
       "912      0         315091   8.6625        S           11         315091   \n",
       "913      0          28665  10.5000        S           11          28665   \n",
       "914      0          35852   7.7333        Q           21          35852   \n",
       "915      0       PC 17606  27.4458        C           22          17606   \n",
       "\n",
       "     fare_mean_by_pclass  survived_by_pclass  len_sibsp_by_pclass  \\\n",
       "0              20.388036            0.391753                    4   \n",
       "1              13.566363            0.280808                    7   \n",
       "2              83.745613            0.577093                    4   \n",
       "3              13.566363            0.280808                    7   \n",
       "4              20.388036            0.391753                    4   \n",
       "..                   ...                 ...                  ...   \n",
       "911            13.566363            0.280808                    7   \n",
       "912            13.566363            0.280808                    7   \n",
       "913            20.388036            0.391753                    4   \n",
       "914            13.566363            0.280808                    7   \n",
       "915            83.745613            0.577093                    4   \n",
       "\n",
       "     len_parch_by_pclass  sub_age age_group  \n",
       "0                      4      2.0         5  \n",
       "1                      8      2.0         5  \n",
       "2                      4      5.0         6  \n",
       "3                      8      2.0         5  \n",
       "4                      4      4.0         6  \n",
       "..                   ...      ...       ...  \n",
       "911                    8      2.0         5  \n",
       "912                    8      1.0         3  \n",
       "913                    4      1.0         4  \n",
       "914                    8      2.0         5  \n",
       "915                    4      5.0         6  \n",
       "\n",
       "[916 rows x 19 columns]"
      ]
     },
     "execution_count": 50,
     "metadata": {},
     "output_type": "execute_result"
    }
   ],
   "source": [
    "train"
   ]
  },
  {
   "cell_type": "code",
   "execution_count": 51,
   "id": "d9a1794f",
   "metadata": {
    "scrolled": false
   },
   "outputs": [
    {
     "data": {
      "text/plain": [
       "((916, 19), (393, 18))"
      ]
     },
     "execution_count": 51,
     "metadata": {},
     "output_type": "execute_result"
    }
   ],
   "source": [
    "train.shape, test.shape"
   ]
  },
  {
   "cell_type": "code",
   "execution_count": 52,
   "id": "12087367",
   "metadata": {},
   "outputs": [
    {
     "data": {
      "text/plain": [
       "512.3292"
      ]
     },
     "execution_count": 52,
     "metadata": {},
     "output_type": "execute_result"
    }
   ],
   "source": [
    "train['fare'].max()"
   ]
  },
  {
   "cell_type": "code",
   "execution_count": 53,
   "id": "a0bdd811",
   "metadata": {},
   "outputs": [],
   "source": [
    "gender_mapping = {'male': 0, \"female\": 1}\n",
    "\n",
    "train[\"gender\"] = train[\"gender\"].map(gender_mapping)\n",
    "test[\"gender\"] = test[\"gender\"].map(gender_mapping)"
   ]
  },
  {
   "cell_type": "code",
   "execution_count": 54,
   "id": "b5d84977",
   "metadata": {
    "scrolled": false
   },
   "outputs": [
    {
     "data": {
      "text/html": [
       "<div>\n",
       "<style scoped>\n",
       "    .dataframe tbody tr th:only-of-type {\n",
       "        vertical-align: middle;\n",
       "    }\n",
       "\n",
       "    .dataframe tbody tr th {\n",
       "        vertical-align: top;\n",
       "    }\n",
       "\n",
       "    .dataframe thead th {\n",
       "        text-align: right;\n",
       "    }\n",
       "</style>\n",
       "<table border=\"1\" class=\"dataframe\">\n",
       "  <thead>\n",
       "    <tr style=\"text-align: right;\">\n",
       "      <th></th>\n",
       "      <th>passengerid</th>\n",
       "      <th>survived</th>\n",
       "      <th>pclass</th>\n",
       "      <th>name</th>\n",
       "      <th>gender</th>\n",
       "      <th>age</th>\n",
       "      <th>sibsp</th>\n",
       "      <th>parch</th>\n",
       "      <th>ticket</th>\n",
       "      <th>fare</th>\n",
       "      <th>embarked</th>\n",
       "      <th>designation</th>\n",
       "      <th>ticket_number</th>\n",
       "      <th>fare_mean_by_pclass</th>\n",
       "      <th>survived_by_pclass</th>\n",
       "      <th>len_sibsp_by_pclass</th>\n",
       "      <th>len_parch_by_pclass</th>\n",
       "      <th>sub_age</th>\n",
       "      <th>age_group</th>\n",
       "    </tr>\n",
       "  </thead>\n",
       "  <tbody>\n",
       "    <tr>\n",
       "      <th>0</th>\n",
       "      <td>0</td>\n",
       "      <td>0</td>\n",
       "      <td>2</td>\n",
       "      <td>Wheeler, Mr. Edwin Frederick\"\"</td>\n",
       "      <td>0</td>\n",
       "      <td>28.0</td>\n",
       "      <td>0</td>\n",
       "      <td>0</td>\n",
       "      <td>SC/PARIS 2159</td>\n",
       "      <td>12.8750</td>\n",
       "      <td>S</td>\n",
       "      <td>11</td>\n",
       "      <td>2159</td>\n",
       "      <td>20.388036</td>\n",
       "      <td>0.391753</td>\n",
       "      <td>4</td>\n",
       "      <td>4</td>\n",
       "      <td>2.0</td>\n",
       "      <td>5</td>\n",
       "    </tr>\n",
       "    <tr>\n",
       "      <th>1</th>\n",
       "      <td>1</td>\n",
       "      <td>0</td>\n",
       "      <td>3</td>\n",
       "      <td>Henry, Miss. Delia</td>\n",
       "      <td>1</td>\n",
       "      <td>28.0</td>\n",
       "      <td>0</td>\n",
       "      <td>0</td>\n",
       "      <td>382649</td>\n",
       "      <td>7.7500</td>\n",
       "      <td>Q</td>\n",
       "      <td>21</td>\n",
       "      <td>382649</td>\n",
       "      <td>13.566363</td>\n",
       "      <td>0.280808</td>\n",
       "      <td>7</td>\n",
       "      <td>8</td>\n",
       "      <td>2.0</td>\n",
       "      <td>5</td>\n",
       "    </tr>\n",
       "    <tr>\n",
       "      <th>2</th>\n",
       "      <td>2</td>\n",
       "      <td>1</td>\n",
       "      <td>1</td>\n",
       "      <td>Hays, Mrs. Charles Melville (Clara Jennings Gr...</td>\n",
       "      <td>1</td>\n",
       "      <td>52.0</td>\n",
       "      <td>1</td>\n",
       "      <td>1</td>\n",
       "      <td>12749</td>\n",
       "      <td>93.5000</td>\n",
       "      <td>S</td>\n",
       "      <td>22</td>\n",
       "      <td>12749</td>\n",
       "      <td>83.745613</td>\n",
       "      <td>0.577093</td>\n",
       "      <td>4</td>\n",
       "      <td>4</td>\n",
       "      <td>5.0</td>\n",
       "      <td>6</td>\n",
       "    </tr>\n",
       "    <tr>\n",
       "      <th>3</th>\n",
       "      <td>3</td>\n",
       "      <td>1</td>\n",
       "      <td>3</td>\n",
       "      <td>Andersson, Mr. August Edvard (\"Wennerstrom\")</td>\n",
       "      <td>0</td>\n",
       "      <td>27.0</td>\n",
       "      <td>0</td>\n",
       "      <td>0</td>\n",
       "      <td>350043</td>\n",
       "      <td>7.7958</td>\n",
       "      <td>S</td>\n",
       "      <td>11</td>\n",
       "      <td>350043</td>\n",
       "      <td>13.566363</td>\n",
       "      <td>0.280808</td>\n",
       "      <td>7</td>\n",
       "      <td>8</td>\n",
       "      <td>2.0</td>\n",
       "      <td>5</td>\n",
       "    </tr>\n",
       "    <tr>\n",
       "      <th>4</th>\n",
       "      <td>4</td>\n",
       "      <td>0</td>\n",
       "      <td>2</td>\n",
       "      <td>Hold, Mr. Stephen</td>\n",
       "      <td>0</td>\n",
       "      <td>44.0</td>\n",
       "      <td>1</td>\n",
       "      <td>0</td>\n",
       "      <td>26707</td>\n",
       "      <td>26.0000</td>\n",
       "      <td>S</td>\n",
       "      <td>11</td>\n",
       "      <td>26707</td>\n",
       "      <td>20.388036</td>\n",
       "      <td>0.391753</td>\n",
       "      <td>4</td>\n",
       "      <td>4</td>\n",
       "      <td>4.0</td>\n",
       "      <td>6</td>\n",
       "    </tr>\n",
       "  </tbody>\n",
       "</table>\n",
       "</div>"
      ],
      "text/plain": [
       "   passengerid  survived pclass  \\\n",
       "0            0         0      2   \n",
       "1            1         0      3   \n",
       "2            2         1      1   \n",
       "3            3         1      3   \n",
       "4            4         0      2   \n",
       "\n",
       "                                                name gender   age  sibsp  \\\n",
       "0                     Wheeler, Mr. Edwin Frederick\"\"      0  28.0      0   \n",
       "1                                 Henry, Miss. Delia      1  28.0      0   \n",
       "2  Hays, Mrs. Charles Melville (Clara Jennings Gr...      1  52.0      1   \n",
       "3       Andersson, Mr. August Edvard (\"Wennerstrom\")      0  27.0      0   \n",
       "4                                  Hold, Mr. Stephen      0  44.0      1   \n",
       "\n",
       "   parch         ticket     fare embarked  designation  ticket_number  \\\n",
       "0      0  SC/PARIS 2159  12.8750        S           11           2159   \n",
       "1      0         382649   7.7500        Q           21         382649   \n",
       "2      1          12749  93.5000        S           22          12749   \n",
       "3      0         350043   7.7958        S           11         350043   \n",
       "4      0          26707  26.0000        S           11          26707   \n",
       "\n",
       "   fare_mean_by_pclass  survived_by_pclass  len_sibsp_by_pclass  \\\n",
       "0            20.388036            0.391753                    4   \n",
       "1            13.566363            0.280808                    7   \n",
       "2            83.745613            0.577093                    4   \n",
       "3            13.566363            0.280808                    7   \n",
       "4            20.388036            0.391753                    4   \n",
       "\n",
       "   len_parch_by_pclass  sub_age age_group  \n",
       "0                    4      2.0         5  \n",
       "1                    8      2.0         5  \n",
       "2                    4      5.0         6  \n",
       "3                    8      2.0         5  \n",
       "4                    4      4.0         6  "
      ]
     },
     "execution_count": 54,
     "metadata": {},
     "output_type": "execute_result"
    }
   ],
   "source": [
    "train.head()"
   ]
  },
  {
   "cell_type": "code",
   "execution_count": 55,
   "id": "819b67ad",
   "metadata": {},
   "outputs": [],
   "source": [
    "embarked_mapping = {\"S\": 1, \"C\": 2, \"Q\": 3 }\n",
    "\n",
    "train[\"embarked\"] = train[\"embarked\"].map(embarked_mapping)\n",
    "test[\"embarked\"] =test[\"embarked\"].map(embarked_mapping)"
   ]
  },
  {
   "cell_type": "code",
   "execution_count": 56,
   "id": "4cb55fc3",
   "metadata": {},
   "outputs": [
    {
     "data": {
      "text/html": [
       "<div>\n",
       "<style scoped>\n",
       "    .dataframe tbody tr th:only-of-type {\n",
       "        vertical-align: middle;\n",
       "    }\n",
       "\n",
       "    .dataframe tbody tr th {\n",
       "        vertical-align: top;\n",
       "    }\n",
       "\n",
       "    .dataframe thead th {\n",
       "        text-align: right;\n",
       "    }\n",
       "</style>\n",
       "<table border=\"1\" class=\"dataframe\">\n",
       "  <thead>\n",
       "    <tr style=\"text-align: right;\">\n",
       "      <th></th>\n",
       "      <th>passengerid</th>\n",
       "      <th>survived</th>\n",
       "      <th>pclass</th>\n",
       "      <th>name</th>\n",
       "      <th>gender</th>\n",
       "      <th>age</th>\n",
       "      <th>sibsp</th>\n",
       "      <th>parch</th>\n",
       "      <th>ticket</th>\n",
       "      <th>fare</th>\n",
       "      <th>embarked</th>\n",
       "      <th>designation</th>\n",
       "      <th>ticket_number</th>\n",
       "      <th>fare_mean_by_pclass</th>\n",
       "      <th>survived_by_pclass</th>\n",
       "      <th>len_sibsp_by_pclass</th>\n",
       "      <th>len_parch_by_pclass</th>\n",
       "      <th>sub_age</th>\n",
       "      <th>age_group</th>\n",
       "    </tr>\n",
       "  </thead>\n",
       "  <tbody>\n",
       "    <tr>\n",
       "      <th>0</th>\n",
       "      <td>0</td>\n",
       "      <td>0</td>\n",
       "      <td>2</td>\n",
       "      <td>Wheeler, Mr. Edwin Frederick\"\"</td>\n",
       "      <td>0</td>\n",
       "      <td>28.0</td>\n",
       "      <td>0</td>\n",
       "      <td>0</td>\n",
       "      <td>SC/PARIS 2159</td>\n",
       "      <td>12.8750</td>\n",
       "      <td>1</td>\n",
       "      <td>11</td>\n",
       "      <td>2159</td>\n",
       "      <td>20.388036</td>\n",
       "      <td>0.391753</td>\n",
       "      <td>4</td>\n",
       "      <td>4</td>\n",
       "      <td>2.0</td>\n",
       "      <td>5</td>\n",
       "    </tr>\n",
       "    <tr>\n",
       "      <th>1</th>\n",
       "      <td>1</td>\n",
       "      <td>0</td>\n",
       "      <td>3</td>\n",
       "      <td>Henry, Miss. Delia</td>\n",
       "      <td>1</td>\n",
       "      <td>28.0</td>\n",
       "      <td>0</td>\n",
       "      <td>0</td>\n",
       "      <td>382649</td>\n",
       "      <td>7.7500</td>\n",
       "      <td>3</td>\n",
       "      <td>21</td>\n",
       "      <td>382649</td>\n",
       "      <td>13.566363</td>\n",
       "      <td>0.280808</td>\n",
       "      <td>7</td>\n",
       "      <td>8</td>\n",
       "      <td>2.0</td>\n",
       "      <td>5</td>\n",
       "    </tr>\n",
       "    <tr>\n",
       "      <th>2</th>\n",
       "      <td>2</td>\n",
       "      <td>1</td>\n",
       "      <td>1</td>\n",
       "      <td>Hays, Mrs. Charles Melville (Clara Jennings Gr...</td>\n",
       "      <td>1</td>\n",
       "      <td>52.0</td>\n",
       "      <td>1</td>\n",
       "      <td>1</td>\n",
       "      <td>12749</td>\n",
       "      <td>93.5000</td>\n",
       "      <td>1</td>\n",
       "      <td>22</td>\n",
       "      <td>12749</td>\n",
       "      <td>83.745613</td>\n",
       "      <td>0.577093</td>\n",
       "      <td>4</td>\n",
       "      <td>4</td>\n",
       "      <td>5.0</td>\n",
       "      <td>6</td>\n",
       "    </tr>\n",
       "    <tr>\n",
       "      <th>3</th>\n",
       "      <td>3</td>\n",
       "      <td>1</td>\n",
       "      <td>3</td>\n",
       "      <td>Andersson, Mr. August Edvard (\"Wennerstrom\")</td>\n",
       "      <td>0</td>\n",
       "      <td>27.0</td>\n",
       "      <td>0</td>\n",
       "      <td>0</td>\n",
       "      <td>350043</td>\n",
       "      <td>7.7958</td>\n",
       "      <td>1</td>\n",
       "      <td>11</td>\n",
       "      <td>350043</td>\n",
       "      <td>13.566363</td>\n",
       "      <td>0.280808</td>\n",
       "      <td>7</td>\n",
       "      <td>8</td>\n",
       "      <td>2.0</td>\n",
       "      <td>5</td>\n",
       "    </tr>\n",
       "    <tr>\n",
       "      <th>4</th>\n",
       "      <td>4</td>\n",
       "      <td>0</td>\n",
       "      <td>2</td>\n",
       "      <td>Hold, Mr. Stephen</td>\n",
       "      <td>0</td>\n",
       "      <td>44.0</td>\n",
       "      <td>1</td>\n",
       "      <td>0</td>\n",
       "      <td>26707</td>\n",
       "      <td>26.0000</td>\n",
       "      <td>1</td>\n",
       "      <td>11</td>\n",
       "      <td>26707</td>\n",
       "      <td>20.388036</td>\n",
       "      <td>0.391753</td>\n",
       "      <td>4</td>\n",
       "      <td>4</td>\n",
       "      <td>4.0</td>\n",
       "      <td>6</td>\n",
       "    </tr>\n",
       "  </tbody>\n",
       "</table>\n",
       "</div>"
      ],
      "text/plain": [
       "   passengerid  survived pclass  \\\n",
       "0            0         0      2   \n",
       "1            1         0      3   \n",
       "2            2         1      1   \n",
       "3            3         1      3   \n",
       "4            4         0      2   \n",
       "\n",
       "                                                name gender   age  sibsp  \\\n",
       "0                     Wheeler, Mr. Edwin Frederick\"\"      0  28.0      0   \n",
       "1                                 Henry, Miss. Delia      1  28.0      0   \n",
       "2  Hays, Mrs. Charles Melville (Clara Jennings Gr...      1  52.0      1   \n",
       "3       Andersson, Mr. August Edvard (\"Wennerstrom\")      0  27.0      0   \n",
       "4                                  Hold, Mr. Stephen      0  44.0      1   \n",
       "\n",
       "   parch         ticket     fare embarked  designation  ticket_number  \\\n",
       "0      0  SC/PARIS 2159  12.8750        1           11           2159   \n",
       "1      0         382649   7.7500        3           21         382649   \n",
       "2      1          12749  93.5000        1           22          12749   \n",
       "3      0         350043   7.7958        1           11         350043   \n",
       "4      0          26707  26.0000        1           11          26707   \n",
       "\n",
       "   fare_mean_by_pclass  survived_by_pclass  len_sibsp_by_pclass  \\\n",
       "0            20.388036            0.391753                    4   \n",
       "1            13.566363            0.280808                    7   \n",
       "2            83.745613            0.577093                    4   \n",
       "3            13.566363            0.280808                    7   \n",
       "4            20.388036            0.391753                    4   \n",
       "\n",
       "   len_parch_by_pclass  sub_age age_group  \n",
       "0                    4      2.0         5  \n",
       "1                    8      2.0         5  \n",
       "2                    4      5.0         6  \n",
       "3                    8      2.0         5  \n",
       "4                    4      4.0         6  "
      ]
     },
     "execution_count": 56,
     "metadata": {},
     "output_type": "execute_result"
    }
   ],
   "source": [
    "train.head()"
   ]
  },
  {
   "cell_type": "code",
   "execution_count": null,
   "id": "f19a9839",
   "metadata": {},
   "outputs": [],
   "source": []
  },
  {
   "cell_type": "markdown",
   "id": "cb0f1c67",
   "metadata": {},
   "source": [
    "### Remove columes"
   ]
  },
  {
   "cell_type": "code",
   "execution_count": 57,
   "id": "df590046",
   "metadata": {},
   "outputs": [],
   "source": [
    "train = train.drop(['name'], axis=1)\n",
    "test = test.drop(['name'], axis=1)"
   ]
  },
  {
   "cell_type": "code",
   "execution_count": 58,
   "id": "8e0a1328",
   "metadata": {},
   "outputs": [],
   "source": [
    "train = train.drop(['age'], axis=1)\n",
    "test = test.drop(['age'], axis=1)"
   ]
  },
  {
   "cell_type": "code",
   "execution_count": 59,
   "id": "4bcbfeb3",
   "metadata": {},
   "outputs": [],
   "source": [
    "train = train.drop(['ticket'], axis=1)\n",
    "test = test.drop(['ticket'], axis=1)"
   ]
  },
  {
   "cell_type": "code",
   "execution_count": 60,
   "id": "63b1dad5",
   "metadata": {},
   "outputs": [
    {
     "data": {
      "text/html": [
       "<div>\n",
       "<style scoped>\n",
       "    .dataframe tbody tr th:only-of-type {\n",
       "        vertical-align: middle;\n",
       "    }\n",
       "\n",
       "    .dataframe tbody tr th {\n",
       "        vertical-align: top;\n",
       "    }\n",
       "\n",
       "    .dataframe thead th {\n",
       "        text-align: right;\n",
       "    }\n",
       "</style>\n",
       "<table border=\"1\" class=\"dataframe\">\n",
       "  <thead>\n",
       "    <tr style=\"text-align: right;\">\n",
       "      <th></th>\n",
       "      <th>passengerid</th>\n",
       "      <th>survived</th>\n",
       "      <th>pclass</th>\n",
       "      <th>gender</th>\n",
       "      <th>sibsp</th>\n",
       "      <th>parch</th>\n",
       "      <th>fare</th>\n",
       "      <th>embarked</th>\n",
       "      <th>designation</th>\n",
       "      <th>ticket_number</th>\n",
       "      <th>fare_mean_by_pclass</th>\n",
       "      <th>survived_by_pclass</th>\n",
       "      <th>len_sibsp_by_pclass</th>\n",
       "      <th>len_parch_by_pclass</th>\n",
       "      <th>sub_age</th>\n",
       "      <th>age_group</th>\n",
       "    </tr>\n",
       "  </thead>\n",
       "  <tbody>\n",
       "    <tr>\n",
       "      <th>0</th>\n",
       "      <td>0</td>\n",
       "      <td>0</td>\n",
       "      <td>2</td>\n",
       "      <td>0</td>\n",
       "      <td>0</td>\n",
       "      <td>0</td>\n",
       "      <td>12.8750</td>\n",
       "      <td>1</td>\n",
       "      <td>11</td>\n",
       "      <td>2159</td>\n",
       "      <td>20.388036</td>\n",
       "      <td>0.391753</td>\n",
       "      <td>4</td>\n",
       "      <td>4</td>\n",
       "      <td>2.0</td>\n",
       "      <td>5</td>\n",
       "    </tr>\n",
       "    <tr>\n",
       "      <th>1</th>\n",
       "      <td>1</td>\n",
       "      <td>0</td>\n",
       "      <td>3</td>\n",
       "      <td>1</td>\n",
       "      <td>0</td>\n",
       "      <td>0</td>\n",
       "      <td>7.7500</td>\n",
       "      <td>3</td>\n",
       "      <td>21</td>\n",
       "      <td>382649</td>\n",
       "      <td>13.566363</td>\n",
       "      <td>0.280808</td>\n",
       "      <td>7</td>\n",
       "      <td>8</td>\n",
       "      <td>2.0</td>\n",
       "      <td>5</td>\n",
       "    </tr>\n",
       "    <tr>\n",
       "      <th>2</th>\n",
       "      <td>2</td>\n",
       "      <td>1</td>\n",
       "      <td>1</td>\n",
       "      <td>1</td>\n",
       "      <td>1</td>\n",
       "      <td>1</td>\n",
       "      <td>93.5000</td>\n",
       "      <td>1</td>\n",
       "      <td>22</td>\n",
       "      <td>12749</td>\n",
       "      <td>83.745613</td>\n",
       "      <td>0.577093</td>\n",
       "      <td>4</td>\n",
       "      <td>4</td>\n",
       "      <td>5.0</td>\n",
       "      <td>6</td>\n",
       "    </tr>\n",
       "    <tr>\n",
       "      <th>3</th>\n",
       "      <td>3</td>\n",
       "      <td>1</td>\n",
       "      <td>3</td>\n",
       "      <td>0</td>\n",
       "      <td>0</td>\n",
       "      <td>0</td>\n",
       "      <td>7.7958</td>\n",
       "      <td>1</td>\n",
       "      <td>11</td>\n",
       "      <td>350043</td>\n",
       "      <td>13.566363</td>\n",
       "      <td>0.280808</td>\n",
       "      <td>7</td>\n",
       "      <td>8</td>\n",
       "      <td>2.0</td>\n",
       "      <td>5</td>\n",
       "    </tr>\n",
       "    <tr>\n",
       "      <th>4</th>\n",
       "      <td>4</td>\n",
       "      <td>0</td>\n",
       "      <td>2</td>\n",
       "      <td>0</td>\n",
       "      <td>1</td>\n",
       "      <td>0</td>\n",
       "      <td>26.0000</td>\n",
       "      <td>1</td>\n",
       "      <td>11</td>\n",
       "      <td>26707</td>\n",
       "      <td>20.388036</td>\n",
       "      <td>0.391753</td>\n",
       "      <td>4</td>\n",
       "      <td>4</td>\n",
       "      <td>4.0</td>\n",
       "      <td>6</td>\n",
       "    </tr>\n",
       "  </tbody>\n",
       "</table>\n",
       "</div>"
      ],
      "text/plain": [
       "   passengerid  survived pclass gender  sibsp  parch     fare embarked  \\\n",
       "0            0         0      2      0      0      0  12.8750        1   \n",
       "1            1         0      3      1      0      0   7.7500        3   \n",
       "2            2         1      1      1      1      1  93.5000        1   \n",
       "3            3         1      3      0      0      0   7.7958        1   \n",
       "4            4         0      2      0      1      0  26.0000        1   \n",
       "\n",
       "   designation  ticket_number  fare_mean_by_pclass  survived_by_pclass  \\\n",
       "0           11           2159            20.388036            0.391753   \n",
       "1           21         382649            13.566363            0.280808   \n",
       "2           22          12749            83.745613            0.577093   \n",
       "3           11         350043            13.566363            0.280808   \n",
       "4           11          26707            20.388036            0.391753   \n",
       "\n",
       "   len_sibsp_by_pclass  len_parch_by_pclass  sub_age age_group  \n",
       "0                    4                    4      2.0         5  \n",
       "1                    7                    8      2.0         5  \n",
       "2                    4                    4      5.0         6  \n",
       "3                    7                    8      2.0         5  \n",
       "4                    4                    4      4.0         6  "
      ]
     },
     "execution_count": 60,
     "metadata": {},
     "output_type": "execute_result"
    }
   ],
   "source": [
    "train.head()"
   ]
  },
  {
   "cell_type": "markdown",
   "id": "80e8e131",
   "metadata": {},
   "source": [
    "### Model"
   ]
  },
  {
   "cell_type": "code",
   "execution_count": 61,
   "id": "e66696be",
   "metadata": {},
   "outputs": [],
   "source": [
    "from sklearn.model_selection import train_test_split\n",
    "from sklearn.metrics import accuracy_score\n",
    "\n",
    "pred = train.drop(['survived', 'passengerid'], axis=1)\n",
    "target = train['survived']\n",
    "x_train, x_valid, y_train, y_valid = train_test_split(pred, target, test_size=0.2)"
   ]
  },
  {
   "cell_type": "code",
   "execution_count": 62,
   "id": "dfed5fc1",
   "metadata": {},
   "outputs": [
    {
     "name": "stdout",
     "output_type": "stream",
     "text": [
      "<class 'pandas.core.frame.DataFrame'>\n",
      "Int64Index: 732 entries, 890 to 693\n",
      "Data columns (total 14 columns):\n",
      " #   Column               Non-Null Count  Dtype   \n",
      "---  ------               --------------  -----   \n",
      " 0   pclass               732 non-null    category\n",
      " 1   gender               732 non-null    category\n",
      " 2   sibsp                732 non-null    int64   \n",
      " 3   parch                732 non-null    int64   \n",
      " 4   fare                 732 non-null    float64 \n",
      " 5   embarked             732 non-null    category\n",
      " 6   designation          732 non-null    int64   \n",
      " 7   ticket_number        732 non-null    int32   \n",
      " 8   fare_mean_by_pclass  732 non-null    float64 \n",
      " 9   survived_by_pclass   732 non-null    float64 \n",
      " 10  len_sibsp_by_pclass  732 non-null    int64   \n",
      " 11  len_parch_by_pclass  732 non-null    int64   \n",
      " 12  sub_age              732 non-null    float64 \n",
      " 13  age_group            732 non-null    category\n",
      "dtypes: category(4), float64(4), int32(1), int64(5)\n",
      "memory usage: 63.6 KB\n"
     ]
    }
   ],
   "source": [
    "x_train.info()"
   ]
  },
  {
   "cell_type": "markdown",
   "id": "7c420569",
   "metadata": {},
   "source": [
    "### DecisionTree"
   ]
  },
  {
   "cell_type": "code",
   "execution_count": 63,
   "id": "3175732f",
   "metadata": {},
   "outputs": [
    {
     "data": {
      "text/html": [
       "<div>\n",
       "<style scoped>\n",
       "    .dataframe tbody tr th:only-of-type {\n",
       "        vertical-align: middle;\n",
       "    }\n",
       "\n",
       "    .dataframe tbody tr th {\n",
       "        vertical-align: top;\n",
       "    }\n",
       "\n",
       "    .dataframe thead th {\n",
       "        text-align: right;\n",
       "    }\n",
       "</style>\n",
       "<table border=\"1\" class=\"dataframe\">\n",
       "  <thead>\n",
       "    <tr style=\"text-align: right;\">\n",
       "      <th></th>\n",
       "      <th>passengerid</th>\n",
       "      <th>survived</th>\n",
       "      <th>pclass</th>\n",
       "      <th>gender</th>\n",
       "      <th>sibsp</th>\n",
       "      <th>parch</th>\n",
       "      <th>fare</th>\n",
       "      <th>embarked</th>\n",
       "      <th>designation</th>\n",
       "      <th>ticket_number</th>\n",
       "      <th>fare_mean_by_pclass</th>\n",
       "      <th>survived_by_pclass</th>\n",
       "      <th>len_sibsp_by_pclass</th>\n",
       "      <th>len_parch_by_pclass</th>\n",
       "      <th>sub_age</th>\n",
       "      <th>age_group</th>\n",
       "    </tr>\n",
       "  </thead>\n",
       "  <tbody>\n",
       "    <tr>\n",
       "      <th>0</th>\n",
       "      <td>0</td>\n",
       "      <td>0</td>\n",
       "      <td>2</td>\n",
       "      <td>0</td>\n",
       "      <td>0</td>\n",
       "      <td>0</td>\n",
       "      <td>12.8750</td>\n",
       "      <td>1</td>\n",
       "      <td>11</td>\n",
       "      <td>2159</td>\n",
       "      <td>20.388036</td>\n",
       "      <td>0.391753</td>\n",
       "      <td>4</td>\n",
       "      <td>4</td>\n",
       "      <td>2.0</td>\n",
       "      <td>5</td>\n",
       "    </tr>\n",
       "    <tr>\n",
       "      <th>1</th>\n",
       "      <td>1</td>\n",
       "      <td>0</td>\n",
       "      <td>3</td>\n",
       "      <td>1</td>\n",
       "      <td>0</td>\n",
       "      <td>0</td>\n",
       "      <td>7.7500</td>\n",
       "      <td>3</td>\n",
       "      <td>21</td>\n",
       "      <td>382649</td>\n",
       "      <td>13.566363</td>\n",
       "      <td>0.280808</td>\n",
       "      <td>7</td>\n",
       "      <td>8</td>\n",
       "      <td>2.0</td>\n",
       "      <td>5</td>\n",
       "    </tr>\n",
       "    <tr>\n",
       "      <th>2</th>\n",
       "      <td>2</td>\n",
       "      <td>1</td>\n",
       "      <td>1</td>\n",
       "      <td>1</td>\n",
       "      <td>1</td>\n",
       "      <td>1</td>\n",
       "      <td>93.5000</td>\n",
       "      <td>1</td>\n",
       "      <td>22</td>\n",
       "      <td>12749</td>\n",
       "      <td>83.745613</td>\n",
       "      <td>0.577093</td>\n",
       "      <td>4</td>\n",
       "      <td>4</td>\n",
       "      <td>5.0</td>\n",
       "      <td>6</td>\n",
       "    </tr>\n",
       "    <tr>\n",
       "      <th>3</th>\n",
       "      <td>3</td>\n",
       "      <td>1</td>\n",
       "      <td>3</td>\n",
       "      <td>0</td>\n",
       "      <td>0</td>\n",
       "      <td>0</td>\n",
       "      <td>7.7958</td>\n",
       "      <td>1</td>\n",
       "      <td>11</td>\n",
       "      <td>350043</td>\n",
       "      <td>13.566363</td>\n",
       "      <td>0.280808</td>\n",
       "      <td>7</td>\n",
       "      <td>8</td>\n",
       "      <td>2.0</td>\n",
       "      <td>5</td>\n",
       "    </tr>\n",
       "    <tr>\n",
       "      <th>4</th>\n",
       "      <td>4</td>\n",
       "      <td>0</td>\n",
       "      <td>2</td>\n",
       "      <td>0</td>\n",
       "      <td>1</td>\n",
       "      <td>0</td>\n",
       "      <td>26.0000</td>\n",
       "      <td>1</td>\n",
       "      <td>11</td>\n",
       "      <td>26707</td>\n",
       "      <td>20.388036</td>\n",
       "      <td>0.391753</td>\n",
       "      <td>4</td>\n",
       "      <td>4</td>\n",
       "      <td>4.0</td>\n",
       "      <td>6</td>\n",
       "    </tr>\n",
       "  </tbody>\n",
       "</table>\n",
       "</div>"
      ],
      "text/plain": [
       "   passengerid  survived pclass gender  sibsp  parch     fare embarked  \\\n",
       "0            0         0      2      0      0      0  12.8750        1   \n",
       "1            1         0      3      1      0      0   7.7500        3   \n",
       "2            2         1      1      1      1      1  93.5000        1   \n",
       "3            3         1      3      0      0      0   7.7958        1   \n",
       "4            4         0      2      0      1      0  26.0000        1   \n",
       "\n",
       "   designation  ticket_number  fare_mean_by_pclass  survived_by_pclass  \\\n",
       "0           11           2159            20.388036            0.391753   \n",
       "1           21         382649            13.566363            0.280808   \n",
       "2           22          12749            83.745613            0.577093   \n",
       "3           11         350043            13.566363            0.280808   \n",
       "4           11          26707            20.388036            0.391753   \n",
       "\n",
       "   len_sibsp_by_pclass  len_parch_by_pclass  sub_age age_group  \n",
       "0                    4                    4      2.0         5  \n",
       "1                    7                    8      2.0         5  \n",
       "2                    4                    4      5.0         6  \n",
       "3                    7                    8      2.0         5  \n",
       "4                    4                    4      4.0         6  "
      ]
     },
     "execution_count": 63,
     "metadata": {},
     "output_type": "execute_result"
    }
   ],
   "source": [
    "train.head()"
   ]
  },
  {
   "cell_type": "code",
   "execution_count": 64,
   "id": "6e2c5c5c",
   "metadata": {},
   "outputs": [
    {
     "data": {
      "text/plain": [
       "0.8152173913043478"
      ]
     },
     "execution_count": 64,
     "metadata": {},
     "output_type": "execute_result"
    }
   ],
   "source": [
    "#Decision Tree\n",
    "from sklearn.tree import DecisionTreeClassifier\n",
    "\n",
    "decisiontree = DecisionTreeClassifier()\n",
    "\n",
    "decisiontree.fit(x_train, y_train)\n",
    "\n",
    "y_pred = decisiontree.predict(x_valid)\n",
    "\n",
    "acc_decisiontree = accuracy_score(y_pred, y_valid)\n",
    "\n",
    "acc_decisiontree"
   ]
  },
  {
   "cell_type": "code",
   "execution_count": 65,
   "id": "4242e506",
   "metadata": {},
   "outputs": [
    {
     "data": {
      "text/plain": [
       "0.6521739130434783"
      ]
     },
     "execution_count": 65,
     "metadata": {},
     "output_type": "execute_result"
    }
   ],
   "source": [
    "# 가우시안 Naitive Bayes\n",
    "\n",
    "from sklearn.naive_bayes import GaussianNB\n",
    "from sklearn.metrics import accuracy_score\n",
    "\n",
    "gaussian = GaussianNB()\n",
    "gaussian.fit(x_train, y_train)\n",
    "y_pred = gaussian.predict(x_valid)\n",
    "\n",
    "acc_gaussian = accuracy_score(y_pred, y_valid)\n",
    "acc_gaussian"
   ]
  },
  {
   "cell_type": "code",
   "execution_count": 66,
   "id": "9aa27cca",
   "metadata": {},
   "outputs": [
    {
     "data": {
      "text/plain": [
       "0.8315217391304348"
      ]
     },
     "execution_count": 66,
     "metadata": {},
     "output_type": "execute_result"
    }
   ],
   "source": [
    "from sklearn.ensemble import RandomForestClassifier\n",
    "\n",
    "randomforest = RandomForestClassifier()\n",
    "\n",
    "randomforest.fit(x_train, y_train)\n",
    "\n",
    "y_pred = randomforest.predict(x_valid)\n",
    "\n",
    "acc_randomforest = accuracy_score(y_pred, y_valid)\n",
    "\n",
    "acc_randomforest"
   ]
  },
  {
   "cell_type": "code",
   "execution_count": 67,
   "id": "00f6f9e4",
   "metadata": {},
   "outputs": [
    {
     "data": {
      "text/plain": [
       "0.6086956521739131"
      ]
     },
     "execution_count": 67,
     "metadata": {},
     "output_type": "execute_result"
    }
   ],
   "source": [
    "# Logistic Regression\n",
    "\n",
    "from sklearn.linear_model import LogisticRegression\n",
    "\n",
    "logreg = LogisticRegression()\n",
    "logreg.fit(x_train, y_train)\n",
    "y_pred = logreg.predict(x_valid)\n",
    "acc_logreg = accuracy_score(y_pred,y_valid)\n",
    "acc_logreg\n"
   ]
  },
  {
   "cell_type": "code",
   "execution_count": 68,
   "id": "855cf08e",
   "metadata": {},
   "outputs": [
    {
     "data": {
      "text/plain": [
       "0.6086956521739131"
      ]
     },
     "execution_count": 68,
     "metadata": {},
     "output_type": "execute_result"
    }
   ],
   "source": [
    "from sklearn.svm import SVC\n",
    "\n",
    "svc = SVC()\n",
    "svc.fit(x_train, y_train)\n",
    "y_pred = svc.predict(x_valid)\n",
    "acc_svc = accuracy_score(y_pred, y_valid)\n",
    "acc_svc"
   ]
  },
  {
   "cell_type": "code",
   "execution_count": 69,
   "id": "c3af254b",
   "metadata": {},
   "outputs": [
    {
     "name": "stderr",
     "output_type": "stream",
     "text": [
      "/usr/local/lib/python3.8/site-packages/sklearn/svm/_base.py:1244: ConvergenceWarning: Liblinear failed to converge, increase the number of iterations.\n",
      "  warnings.warn(\n"
     ]
    },
    {
     "data": {
      "text/plain": [
       "0.41847826086956524"
      ]
     },
     "execution_count": 69,
     "metadata": {},
     "output_type": "execute_result"
    }
   ],
   "source": [
    "# Linear SVC\n",
    "from sklearn.svm import LinearSVC\n",
    "\n",
    "linear_svc = LinearSVC()\n",
    "linear_svc.fit(x_train, y_train)\n",
    "\n",
    "y_pred = linear_svc.predict(x_valid)\n",
    "\n",
    "acc_linear_svc = accuracy_score(y_pred, y_valid)\n",
    "acc_linear_svc"
   ]
  },
  {
   "cell_type": "code",
   "execution_count": 70,
   "id": "e759e430",
   "metadata": {},
   "outputs": [
    {
     "name": "stdout",
     "output_type": "stream",
     "text": [
      "0.7010869565217391\n"
     ]
    }
   ],
   "source": [
    "from sklearn.neighbors import KNeighborsClassifier\n",
    "\n",
    "knn = KNeighborsClassifier()\n",
    "knn.fit(x_train, y_train)\n",
    "\n",
    "y_pred = knn.predict(x_valid)\n",
    "\n",
    "acc_knn = accuracy_score(y_pred, y_valid)\n",
    "print(acc_knn)"
   ]
  },
  {
   "cell_type": "code",
   "execution_count": 71,
   "id": "1a026455",
   "metadata": {},
   "outputs": [
    {
     "name": "stdout",
     "output_type": "stream",
     "text": [
      "0.6141304347826086\n"
     ]
    }
   ],
   "source": [
    "from sklearn.linear_model import SGDClassifier\n",
    "\n",
    "sgd = SGDClassifier()\n",
    "sgd.fit(x_train, y_train)\n",
    "\n",
    "y_pred = sgd.predict(x_valid)\n",
    "\n",
    "acc_sgd = accuracy_score(y_pred, y_valid)\n",
    "print(acc_sgd)"
   ]
  },
  {
   "cell_type": "code",
   "execution_count": 72,
   "id": "5af07d4c",
   "metadata": {},
   "outputs": [
    {
     "name": "stdout",
     "output_type": "stream",
     "text": [
      "0.8532608695652174\n"
     ]
    }
   ],
   "source": [
    "from sklearn.ensemble import GradientBoostingClassifier\n",
    "\n",
    "gbk = GradientBoostingClassifier()\n",
    "gbk.fit(x_train, y_train)\n",
    "\n",
    "y_pred = gbk.predict(x_valid)\n",
    "\n",
    "acc_gbk = accuracy_score(y_pred, y_valid)\n",
    "print(acc_gbk)"
   ]
  },
  {
   "cell_type": "code",
   "execution_count": 73,
   "id": "64e32c54",
   "metadata": {},
   "outputs": [
    {
     "data": {
      "text/plain": [
       "0.6141304347826086"
      ]
     },
     "execution_count": 73,
     "metadata": {},
     "output_type": "execute_result"
    }
   ],
   "source": [
    "from sklearn.linear_model import Perceptron\n",
    "\n",
    "perceptron = Perceptron()\n",
    "perceptron.fit(x_train, y_train)\n",
    "\n",
    "y_pred = perceptron.predict(x_valid)\n",
    "\n",
    "acc_perceptron = accuracy_score(y_pred, y_valid)\n",
    "acc_perceptron"
   ]
  },
  {
   "cell_type": "code",
   "execution_count": 76,
   "id": "d70cab62",
   "metadata": {
    "scrolled": true
   },
   "outputs": [
    {
     "data": {
      "text/html": [
       "<div>\n",
       "<style scoped>\n",
       "    .dataframe tbody tr th:only-of-type {\n",
       "        vertical-align: middle;\n",
       "    }\n",
       "\n",
       "    .dataframe tbody tr th {\n",
       "        vertical-align: top;\n",
       "    }\n",
       "\n",
       "    .dataframe thead th {\n",
       "        text-align: right;\n",
       "    }\n",
       "</style>\n",
       "<table border=\"1\" class=\"dataframe\">\n",
       "  <thead>\n",
       "    <tr style=\"text-align: right;\">\n",
       "      <th></th>\n",
       "      <th>Model</th>\n",
       "      <th>Score</th>\n",
       "    </tr>\n",
       "  </thead>\n",
       "  <tbody>\n",
       "    <tr>\n",
       "      <th>9</th>\n",
       "      <td>Gradient Boosting Classifier</td>\n",
       "      <td>0.853261</td>\n",
       "    </tr>\n",
       "    <tr>\n",
       "      <th>3</th>\n",
       "      <td>Random Forest</td>\n",
       "      <td>0.831522</td>\n",
       "    </tr>\n",
       "    <tr>\n",
       "      <th>7</th>\n",
       "      <td>Decision Tree</td>\n",
       "      <td>0.815217</td>\n",
       "    </tr>\n",
       "    <tr>\n",
       "      <th>1</th>\n",
       "      <td>KNN</td>\n",
       "      <td>0.701087</td>\n",
       "    </tr>\n",
       "    <tr>\n",
       "      <th>4</th>\n",
       "      <td>Naive Bayes</td>\n",
       "      <td>0.652174</td>\n",
       "    </tr>\n",
       "    <tr>\n",
       "      <th>5</th>\n",
       "      <td>Perceptron</td>\n",
       "      <td>0.614130</td>\n",
       "    </tr>\n",
       "    <tr>\n",
       "      <th>8</th>\n",
       "      <td>Stochastic Gradient Descent</td>\n",
       "      <td>0.614130</td>\n",
       "    </tr>\n",
       "    <tr>\n",
       "      <th>0</th>\n",
       "      <td>Support Vector Machines</td>\n",
       "      <td>0.608696</td>\n",
       "    </tr>\n",
       "    <tr>\n",
       "      <th>2</th>\n",
       "      <td>Logistic Regression</td>\n",
       "      <td>0.608696</td>\n",
       "    </tr>\n",
       "    <tr>\n",
       "      <th>6</th>\n",
       "      <td>Linear SVC</td>\n",
       "      <td>0.418478</td>\n",
       "    </tr>\n",
       "  </tbody>\n",
       "</table>\n",
       "</div>"
      ],
      "text/plain": [
       "                          Model     Score\n",
       "9  Gradient Boosting Classifier  0.853261\n",
       "3                 Random Forest  0.831522\n",
       "7                 Decision Tree  0.815217\n",
       "1                           KNN  0.701087\n",
       "4                   Naive Bayes  0.652174\n",
       "5                    Perceptron  0.614130\n",
       "8   Stochastic Gradient Descent  0.614130\n",
       "0       Support Vector Machines  0.608696\n",
       "2           Logistic Regression  0.608696\n",
       "6                    Linear SVC  0.418478"
      ]
     },
     "execution_count": 76,
     "metadata": {},
     "output_type": "execute_result"
    }
   ],
   "source": [
    "models = pd.DataFrame({\n",
    "    'Model' : ['Support Vector Machines', 'KNN', 'Logistic Regression', \n",
    "              'Random Forest', 'Naive Bayes', 'Perceptron', 'Linear SVC', \n",
    "              'Decision Tree', 'Stochastic Gradient Descent', 'Gradient Boosting Classifier'],\n",
    "    'Score': [acc_svc, acc_knn, acc_logreg, \n",
    "              acc_randomforest, acc_gaussian, acc_perceptron,acc_linear_svc, acc_decisiontree,\n",
    "              acc_sgd, acc_gbk]})\n",
    "models.sort_values(by='Score', ascending=False)"
   ]
  },
  {
   "cell_type": "code",
   "execution_count": 75,
   "id": "0a496b75",
   "metadata": {},
   "outputs": [],
   "source": [
    "from sklearn.dummy import DummyClassifier\n",
    "\n",
    "dummy = DummyClassifier(strategy='most_frequent')\n",
    "dummy.fit(x_train,y_train)\n",
    "pred_dummy = dummy.predict(x_valid)"
   ]
  }
 ],
 "metadata": {
  "kernelspec": {
   "display_name": "Python 3 (ipykernel)",
   "language": "python",
   "name": "python3"
  },
  "language_info": {
   "codemirror_mode": {
    "name": "ipython",
    "version": 3
   },
   "file_extension": ".py",
   "mimetype": "text/x-python",
   "name": "python",
   "nbconvert_exporter": "python",
   "pygments_lexer": "ipython3",
   "version": "3.8.13"
  },
  "toc": {
   "base_numbering": 1,
   "nav_menu": {},
   "number_sections": true,
   "sideBar": true,
   "skip_h1_title": false,
   "title_cell": "Table of Contents",
   "title_sidebar": "Contents",
   "toc_cell": false,
   "toc_position": {},
   "toc_section_display": true,
   "toc_window_display": false
  }
 },
 "nbformat": 4,
 "nbformat_minor": 5
}
