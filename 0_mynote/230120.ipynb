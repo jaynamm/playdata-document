{
 "cells": [
  {
   "cell_type": "markdown",
   "id": "981fc440",
   "metadata": {},
   "source": [
    "# Jupyter\n",
    "* 분석용\n",
    "* 결과를 바로 확인할 수 있음 (인터렉티브)\n",
    "* Julia , Python, R(통계학)\n",
    "* Cell\n",
    "    * 파이썬 코드를 작성하는 공간\n",
    "* Cell -> m 버튼 -> markdown Cell -> 문서 작성\n",
    "* Cell -> y 버튼 -> Python Cell -> 코드 작성\n",
    "* Cell 실행 방법\n",
    "    * Shift + Enter : 현재 Cell 실행하고 아래로 이동\n",
    "    * Ctrl + Enter  : 현재 Cell 만 실행\n",
    "    * Alt + Enter   : 현재 Cell 실행하고 아래 새로운 Cell 생성"
   ]
  },
  {
   "cell_type": "markdown",
   "id": "a8fdf855",
   "metadata": {},
   "source": [
    "# 변수\n",
    "\n",
    "* 변수명 작성\n",
    "    * 숫자로 시작하면 안됨\n",
    "    * 특수문자로 시작 안됨"
   ]
  },
  {
   "cell_type": "markdown",
   "id": "6125691f",
   "metadata": {},
   "source": [
    "카멜 케이스 camelCaml  \n",
    "파스칼 케이스  CamelCamel  \n",
    "스네이크 케이스 camel_camel  "
   ]
  },
  {
   "cell_type": "code",
   "execution_count": 9,
   "id": "f762ca21",
   "metadata": {},
   "outputs": [
    {
     "ename": "SyntaxError",
     "evalue": "invalid syntax (<ipython-input-9-de8266d9cd66>, line 1)",
     "output_type": "error",
     "traceback": [
      "\u001b[0;36m  File \u001b[0;32m\"<ipython-input-9-de8266d9cd66>\"\u001b[0;36m, line \u001b[0;32m1\u001b[0m\n\u001b[0;31m    11a = 1\u001b[0m\n\u001b[0m      ^\u001b[0m\n\u001b[0;31mSyntaxError\u001b[0m\u001b[0;31m:\u001b[0m invalid syntax\n"
     ]
    }
   ],
   "source": [
    "11a = 1"
   ]
  },
  {
   "cell_type": "code",
   "execution_count": 10,
   "id": "d72f84d7",
   "metadata": {},
   "outputs": [
    {
     "ename": "SyntaxError",
     "evalue": "invalid syntax (<ipython-input-10-cd89c81fb1ac>, line 1)",
     "output_type": "error",
     "traceback": [
      "\u001b[0;36m  File \u001b[0;32m\"<ipython-input-10-cd89c81fb1ac>\"\u001b[0;36m, line \u001b[0;32m1\u001b[0m\n\u001b[0;31m    **1 = a\u001b[0m\n\u001b[0m    ^\u001b[0m\n\u001b[0;31mSyntaxError\u001b[0m\u001b[0;31m:\u001b[0m invalid syntax\n"
     ]
    }
   ],
   "source": [
    "**1 = a"
   ]
  },
  {
   "cell_type": "markdown",
   "id": "73369cce",
   "metadata": {},
   "source": [
    "# 데이터 타입\n",
    "* Int - 정수\n",
    "* Float - 부동소수점\n",
    "* String - 문자열\n",
    "    * '' (작은따옴표)\n",
    "    * \" \" (큰따옴표)\n",
    "    * ''' ''' (작은따옴표 3개, 줄바꿈 가능, 여러 줄 입력)\n",
    "    * \"\"\" \"\"\" (큰따옴표 3개, 줄바꿈 가능, 여러 줄 입력)\n",
    "    * 문자열은 인덱스가 부여된다.\n",
    "    * 양의 인덱스, 음의 인덱스로 출력할 수 있다."
   ]
  },
  {
   "cell_type": "code",
   "execution_count": 14,
   "id": "da0d389a",
   "metadata": {},
   "outputs": [
    {
     "name": "stdout",
     "output_type": "stream",
     "text": [
      "<class 'str'>\n",
      "플레이데이터\n"
     ]
    }
   ],
   "source": [
    "str = \"플레이데이터\"\n",
    "\n",
    "print(type(str))\n",
    "print(str)"
   ]
  },
  {
   "cell_type": "markdown",
   "id": "baf9ac81",
   "metadata": {},
   "source": [
    "### 변수 입력\n",
    "변수 입력은 {} 를 문자열 안에 넣어주고 .format() 함수를 사용해서 변수를 입력한다."
   ]
  },
  {
   "cell_type": "markdown",
   "id": "ec23a767",
   "metadata": {},
   "source": [
    "### 문자열 인덱스 활용\n",
    "문자열 합치기 = 문자열 + 문자열  \n",
    "문자열 반복 = 문자열 * 횟수\n",
    "\n",
    "### 문자열 슬라이싱\n",
    "문자열[시작 인덱스 : 끝 인덱스 : 스탭]\n",
    "시작 인덱스에는 시작할 인덱스를 적어준다.  \n",
    "끝 인덱스에는 끝나기 전의 인덱스까지 출력되므로 출력할 인덱스보다 1 많은 숫자를 입력  \n",
    "스탭은 어떻게 그리고 얼만큼 이동할지에 대해서 정해줄 수 있다."
   ]
  },
  {
   "cell_type": "markdown",
   "id": "a7a5cd84",
   "metadata": {},
   "source": [
    "# 리스트(list)\n",
    "[ , , ] (대괄호) 사용해서 표현  \n",
    "데이터를 묶는 역할을 함  \n",
    "데이터 타입이 같지 않아도 된다.   "
   ]
  },
  {
   "cell_type": "code",
   "execution_count": 26,
   "id": "d9eb19cc",
   "metadata": {},
   "outputs": [
    {
     "name": "stdout",
     "output_type": "stream",
     "text": [
      "값을 입력아야어여어요요어여어야아\n"
     ]
    }
   ],
   "source": [
    "text = input(\"값을 입력\")"
   ]
  },
  {
   "cell_type": "code",
   "execution_count": 27,
   "id": "9e7daac6",
   "metadata": {},
   "outputs": [
    {
     "name": "stdout",
     "output_type": "stream",
     "text": [
      "아야어여어요요어여어야아\n",
      "아야어여어요요어여어야아\n",
      "앞에서 읽어도 뒤에서 읽어도 같음\n"
     ]
    }
   ],
   "source": [
    "if text == text[::-1]:\n",
    "    print(text)\n",
    "    print(text[::-1])\n",
    "    print(\"앞에서 읽어도 뒤에서 읽어도 같음\")\n",
    "else:\n",
    "    print(text)\n",
    "    print(text[::-1])\n",
    "    print(\"달라달라\")"
   ]
  },
  {
   "cell_type": "markdown",
   "id": "d9788b61",
   "metadata": {},
   "source": [
    "앞으로 읽어도 같고 뒤에서 읽어도 같은 문자를 <b>회문 또는 Palindrome 이라고 부름</b>"
   ]
  },
  {
   "cell_type": "markdown",
   "id": "41bfc237",
   "metadata": {},
   "source": [
    "### IF 조건문\n",
    "\n",
    "##### if ~ elif ~ else\n",
    "\n",
    "```\n",
    "if [조건문]:   \n",
    "    [실행문]  \n",
    "elif [조건문]:  \n",
    "    [실행문]  \n",
    "else:  \n",
    "    [실행문]  \n",
    "```"
   ]
  },
  {
   "cell_type": "code",
   "execution_count": 29,
   "id": "fda4c0f1",
   "metadata": {},
   "outputs": [],
   "source": [
    "a = [1, 2, 3, 4, 5, 6, 7, 8, 9, 10]"
   ]
  },
  {
   "cell_type": "markdown",
   "id": "76c147a5",
   "metadata": {},
   "source": [
    "### range()\n",
    "\n",
    "range(start, end, step)  \n",
    "step 기본 값은 1로 설정"
   ]
  },
  {
   "cell_type": "code",
   "execution_count": 35,
   "id": "40d3af94",
   "metadata": {
    "scrolled": true
   },
   "outputs": [
    {
     "data": {
      "text/plain": [
       "[1,\n",
       " 4,\n",
       " 7,\n",
       " 10,\n",
       " 13,\n",
       " 16,\n",
       " 19,\n",
       " 22,\n",
       " 25,\n",
       " 28,\n",
       " 31,\n",
       " 34,\n",
       " 37,\n",
       " 40,\n",
       " 43,\n",
       " 46,\n",
       " 49,\n",
       " 52,\n",
       " 55,\n",
       " 58,\n",
       " 61,\n",
       " 64,\n",
       " 67,\n",
       " 70,\n",
       " 73,\n",
       " 76,\n",
       " 79,\n",
       " 82,\n",
       " 85,\n",
       " 88,\n",
       " 91,\n",
       " 94,\n",
       " 97]"
      ]
     },
     "execution_count": 35,
     "metadata": {},
     "output_type": "execute_result"
    }
   ],
   "source": [
    "a1 = range(1, 100, 3)\n",
    "list(a1)"
   ]
  },
  {
   "cell_type": "markdown",
   "id": "f595062a",
   "metadata": {},
   "source": [
    "### for 반복문\n",
    "\n",
    "~~~\n",
    "for [변수명] in [반복 인자]:  \n",
    "       [실행문]\n",
    "~~~"
   ]
  },
  {
   "cell_type": "code",
   "execution_count": 36,
   "id": "0aab926f",
   "metadata": {
    "scrolled": true
   },
   "outputs": [
    {
     "name": "stdout",
     "output_type": "stream",
     "text": [
      "2 X 1 = 2\n",
      "2 X 2 = 4\n",
      "2 X 3 = 6\n",
      "2 X 4 = 8\n",
      "2 X 5 = 10\n",
      "2 X 6 = 12\n",
      "2 X 7 = 14\n",
      "2 X 8 = 16\n",
      "2 X 9 = 18\n",
      "4 X 1 = 4\n",
      "4 X 2 = 8\n",
      "4 X 3 = 12\n",
      "4 X 4 = 16\n",
      "4 X 5 = 20\n",
      "4 X 6 = 24\n",
      "4 X 7 = 28\n",
      "4 X 8 = 32\n",
      "4 X 9 = 36\n",
      "6 X 1 = 6\n",
      "6 X 2 = 12\n",
      "6 X 3 = 18\n",
      "6 X 4 = 24\n",
      "6 X 5 = 30\n",
      "6 X 6 = 36\n",
      "6 X 7 = 42\n",
      "6 X 8 = 48\n",
      "6 X 9 = 54\n",
      "8 X 1 = 8\n",
      "8 X 2 = 16\n",
      "8 X 3 = 24\n",
      "8 X 4 = 32\n",
      "8 X 5 = 40\n",
      "8 X 6 = 48\n",
      "8 X 7 = 56\n",
      "8 X 8 = 64\n",
      "8 X 9 = 72\n"
     ]
    }
   ],
   "source": [
    "for x in range(2, 10):\n",
    "    if x % 2 == 0:\n",
    "        for y in range(1, 10):\n",
    "            print(\"{} X {} = {}\".format(x, y, x*y))"
   ]
  },
  {
   "cell_type": "markdown",
   "id": "e38d50d3",
   "metadata": {},
   "source": [
    "### 윤년 계산"
   ]
  },
  {
   "cell_type": "code",
   "execution_count": 85,
   "id": "403de6dd",
   "metadata": {
    "scrolled": true
   },
   "outputs": [
    {
     "name": "stdout",
     "output_type": "stream",
     "text": [
      "[1804, 1808, 1812, 1816, 1820, 1824, 1828, 1832, 1836, 1840, 1844, 1848, 1852, 1856, 1860, 1864, 1868, 1872, 1876, 1880, 1884, 1888, 1892, 1896, 1904, 1908, 1912, 1916, 1920, 1924, 1928, 1932, 1936, 1940, 1944, 1948, 1952, 1956, 1960, 1964, 1968, 1972, 1976, 1980, 1984, 1988, 1992, 1996, 2000, 2004, 2008, 2012, 2016, 2020, 2024, 2028, 2032, 2036, 2040, 2044, 2048, 2052, 2056, 2060, 2064, 2068, 2072, 2076, 2080, 2084, 2088, 2092, 2096, 2104, 2108, 2112, 2116, 2120, 2124, 2128, 2132, 2136, 2140, 2144, 2148, 2152, 2156, 2160, 2164, 2168, 2172, 2176, 2180, 2184, 2188, 2192, 2196]\n"
     ]
    }
   ],
   "source": [
    "y = []\n",
    "\n",
    "for n in range(1800, 2201):\n",
    "    if n % 4 == 0 and n % 100 != 0 or n % 400 == 0:\n",
    "        y.append(n)\n",
    "        \n",
    "print(y)"
   ]
  },
  {
   "cell_type": "code",
   "execution_count": 82,
   "id": "2ead3bc2",
   "metadata": {},
   "outputs": [
    {
     "name": "stdout",
     "output_type": "stream",
     "text": [
      "1804, 1808, 1812, 1816, 1820, 1824, 1828, 1832, 1836, 1840, 1844, 1848, 1852, 1856, 1860, 1864, 1868, 1872, 1876, 1880, 1884, 1888, 1892, 1896, 1904, 1908, 1912, 1916, 1920, 1924, 1928, 1932, 1936, 1940, 1944, 1948, 1952, 1956, 1960, 1964, 1968, 1972, 1976, 1980, 1984, 1988, 1992, 1996, 2000, 2004, 2008, 2012, 2016, 2020, 2024, 2028, 2032, 2036, 2040, 2044, 2048, 2052, 2056, 2060, 2064, 2068, 2072, 2076, 2080, 2084, 2088, 2092, 2096, 2104, 2108, 2112, 2116, 2120, 2124, 2128, 2132, 2136, 2140, 2144, 2148, 2152, 2156, 2160, 2164, 2168, 2172, 2176, 2180, 2184, 2188, 2192, 2196, 97\n"
     ]
    }
   ],
   "source": [
    "cnt = 0\n",
    "\n",
    "for x in range(1800, 2201):\n",
    "    if x % 4 == 0 and x % 100 != 0 or x % 400 == 0:\n",
    "        print(x, end=\", \")\n",
    "        cnt += 1\n",
    "\n",
    "print(cnt)"
   ]
  },
  {
   "cell_type": "code",
   "execution_count": 87,
   "id": "982053a0",
   "metadata": {},
   "outputs": [
    {
     "data": {
      "text/plain": [
       "list"
      ]
     },
     "execution_count": 87,
     "metadata": {},
     "output_type": "execute_result"
    }
   ],
   "source": [
    "type(y)"
   ]
  },
  {
   "cell_type": "markdown",
   "id": "15bc64e0",
   "metadata": {},
   "source": [
    "### List Comprehension"
   ]
  },
  {
   "cell_type": "code",
   "execution_count": 89,
   "id": "e1795c3c",
   "metadata": {},
   "outputs": [
    {
     "data": {
      "text/plain": [
       "[1, 2, 3, 4, 5, 6, 7, 8, 9]"
      ]
     },
     "execution_count": 89,
     "metadata": {},
     "output_type": "execute_result"
    }
   ],
   "source": [
    "[x for x in range(1, 10, 1)]"
   ]
  },
  {
   "cell_type": "markdown",
   "id": "7b7af47d",
   "metadata": {},
   "source": [
    "list 는 값 수정 허용  \n",
    "tuple 은 값 수정 허용 불가"
   ]
  },
  {
   "cell_type": "markdown",
   "id": "54e31487",
   "metadata": {},
   "source": [
    "### Dictionary\n",
    "key-value"
   ]
  },
  {
   "cell_type": "code",
   "execution_count": null,
   "id": "a7f844dd",
   "metadata": {},
   "outputs": [],
   "source": []
  },
  {
   "cell_type": "code",
   "execution_count": 98,
   "id": "0b2dbfa7",
   "metadata": {},
   "outputs": [],
   "source": [
    "import requests\n",
    "\n",
    "url= 'https://www.starbucks.co.kr/store/getStore.do?r=804IUG79N7'"
   ]
  },
  {
   "cell_type": "code",
   "execution_count": 99,
   "id": "098ba810",
   "metadata": {},
   "outputs": [],
   "source": [
    "payload = {\n",
    "    'in_biz_cds' : '0',\n",
    "    'in_scodes' : '0',\n",
    "    'ins_lat' : '37.5627128',\n",
    "    'ins_lng' : '126.93279869999999',\n",
    "    'search_text' : '',\n",
    "    'p_sido_cd' : '01',\n",
    "    'p_gugun_cd' : '',\n",
    "    'in_distance' : '0',\n",
    "    'in_biz_cd' : '',\n",
    "    'isError' : 'true',\n",
    "    'searchType' : 'C',\n",
    "    'set_date' : '',\n",
    "    'all_store' : '0',\n",
    "    'T03' : '0',\n",
    "    'T01' : '0',\n",
    "    'T12' : '0',\n",
    "    'T09' : '0',\n",
    "    'T30' : '0',\n",
    "    'T05' : '0',\n",
    "    'T22' : '0',\n",
    "    'T21' : '0',\n",
    "    'T10' : '0',\n",
    "    'T36' : '0',\n",
    "    'P10' : '0',\n",
    "    'P50' : '0',\n",
    "    'P20' : '0',\n",
    "    'P60' : '0',\n",
    "    'P30' : '0',\n",
    "    'P70' : '0',\n",
    "    'P40' : '0',\n",
    "    'P80' : '0',\n",
    "    'whcroad_yn' : '0',\n",
    "    'P90' : '0',\n",
    "    'new_bool' : '0',\n",
    "    'iend' : '1000',\n",
    "    'rndCod' : 'V8UNZFKU44',}"
   ]
  },
  {
   "cell_type": "markdown",
   "id": "27550131",
   "metadata": {},
   "source": [
    "### 스타벅스 리저브 매장"
   ]
  },
  {
   "cell_type": "code",
   "execution_count": 104,
   "id": "fcffe973",
   "metadata": {
    "scrolled": true
   },
   "outputs": [
    {
     "name": "stdout",
     "output_type": "stream",
     "text": [
      "대치재경빌딩R \t 서울특별시 강남구 대치동 599 대원빌딩입니다.\n",
      "삼성역섬유센터R \t 서울특별시 강남구 대치동 944-31 한국섬유산업연합회입니다.\n",
      "압구정R \t 서울특별시 강남구 신사동 621-1입니다.\n",
      "수서역R \t 서울특별시 강남구 수서동 715 수서빌딩입니다.\n",
      "양재강남빌딩R \t 서울특별시 강남구 도곡동 956 LG전자 강남R&D센터입니다.\n",
      "선릉동신빌딩R \t 서울특별시 강남구 삼성동 141-28 동신빌딩입니다.\n",
      "스타필드코엑스몰R \t 서울특별시 강남구 삼성동 159 코엑스  A106호입니다.\n",
      "강남R \t 서울특별시 강남구 역삼동 825 미진프라자 1층 101호입니다.\n",
      "청담스타R \t 서울특별시 강남구 청담동 89-4입니다.\n",
      "SSG마켓도곡R \t 서울특별시 강남구 도곡동 467-17 타워팰리스Ⅱ F 지하1층입니다.\n",
      "센터필드R \t 서울특별시 강남구 역삼동 676 센터필드입니다.\n",
      "마곡사이언스타워R \t 서울특별시 강서구 마곡동 796-3 마곡사이언스타워입니다.\n",
      "관악서울대입구R \t 서울특별시 관악구 봉천동 856-6 BS타워입니다.\n",
      "보라매공원R \t 서울특별시 동작구 신대방동 395-65 파크스퀘어,보라매현대APT입니다.\n",
      "홍대입구역사거리R \t 서울특별시 마포구 서교동 353-5 경남관광빌딩입니다.\n",
      "합정폴리스R \t 서울특별시 마포구 서교동 490 메세나폴리스 B189~193입니다.\n",
      "이대R \t 서울특별시 서대문구 대현동 54-4입니다.\n",
      "강남교보타워R \t 서울특별시 서초구 서초동 1303-22 교보타워입니다.\n",
      "강남대로논현R \t 서울특별시 서초구 반포동 736-2 대유빌딩입니다.\n",
      "파미에파크R \t 서울특별시 서초구 반포동 118-3 센트럴시티 파미에파크돔 BP4-9호입니다.\n",
      "문정법원로R \t 서울특별시 송파구 문정동 642 송파 테라타워2입니다.\n",
      "잠실대교남단R \t 서울특별시 송파구 신천동 7-30 타워730 1층입니다.\n",
      "타임스퀘어R \t 서울특별시 영등포구 영등포동4가 442 타임스퀘어입니다.\n",
      "여의도IFC몰(L1)R \t 서울특별시 영등포구 여의도동 23 서울 국제금융 센터 지하1층 178호입니다.\n",
      "여의도KBS R \t 서울특별시 영등포구 여의도동 17-9입니다.\n",
      "여의도공원R \t 서울특별시 영등포구 여의도동 12 C.C.M.M빌딩입니다.\n",
      "여의도역R \t 서울특별시 영등포구 여의도동 23-6   1층입니다.\n",
      "더현대서울(B2)R \t 서울특별시 영등포구 여의도동 22 파크원입니다.\n",
      "더종로R \t 서울특별시 종로구 종로2가 6 종로타워입니다.\n",
      "정부서울청사R \t 서울특별시 종로구 적선동 156 광화문플래티넘입니다.\n",
      "대한상공회의소R \t 서울특별시 중구 남대문로4가 45 대한서울상공회의소 1층입니다.\n",
      "을지로내외빌딩R \t 서울특별시 중구 을지로2가 6 내외빌딩입니다.\n",
      "레스케이프호텔R \t 서울특별시 중구 회현동1가 210입니다.\n",
      "한강진역R \t 서울특별시 용산구 한남동 683-139입니다.\n",
      "용산역써밋R \t 서울특별시 용산구 한강로2가 391 용산푸르지오써밋입니다.\n",
      "한남동R \t 서울특별시 용산구 한남동 36-7  1층 ~ 2층입니다.\n"
     ]
    }
   ],
   "source": [
    "r = requests.post(url, data=payload)\n",
    "\n",
    "for x in r.json()['list']:\n",
    "    # f-string 기법\n",
    "    if x['s_name'][-1] == \"R\":\n",
    "        print(f\"{x['s_name']} \\t {x['addr']} 입니다.\" )"
   ]
  },
  {
   "cell_type": "markdown",
   "id": "e38bfcfd",
   "metadata": {},
   "source": [
    "### 스타벅스 DT 매장"
   ]
  },
  {
   "cell_type": "code",
   "execution_count": 194,
   "id": "3206e66b",
   "metadata": {},
   "outputs": [
    {
     "name": "stdout",
     "output_type": "stream",
     "text": [
      "방화DT       \t 서울특별시 강서구 방화동 293-4 입니다.\n",
      "화곡DT       \t 서울특별시 강서구 화곡동 772-67 입니다.\n",
      "김포공항DT     \t 서울특별시 강서구 방화동 645-6 입니다.\n",
      "신림DT       \t 서울특별시 관악구 신림동 564-12 입니다.\n",
      "낙성대DT      \t 서울특별시 관악구 봉천동 1657-3 입니다.\n",
      "구의DT       \t 서울특별시 광진구 구의동 67-36,37,7 입니다.\n",
      "공릉DT       \t 서울특별시 노원구 공릉동 597-34, 597-30, 597-31, 597-32, 597-33 입니다.\n",
      "태릉입구역DT    \t 서울특별시 노원구 공릉동 653-8 입니다.\n",
      "연희DT       \t 서울특별시 서대문구 연희동 87-7 ,87-8 입니다.\n",
      "북가좌DT      \t 서울특별시 서대문구 북가좌동 309-16 입니다.\n",
      "종암DT       \t 서울특별시 성북구 종암동 29-10 입니다.\n",
      "송파나루역DT    \t 서울특별시 송파구 송파동 59-9 송봉주유소 입니다.\n",
      "송파방이DT     \t 서울특별시 송파구 방이동 226-10 입니다.\n",
      "송파마천사거리DT  \t 서울특별시 송파구 마천동 43-1 입니다.\n",
      "신정DT       \t 서울특별시 양천구 신정동 981-15 입니다.\n",
      "신월IC DT    \t 서울특별시 양천구 신월동 205-49 입니다.\n",
      "신월동DT      \t 서울특별시 양천구 신월동 52-14 입니다.\n",
      "진관DT       \t 서울특별시 은평구 진관동 2-8 스타벅스진관DT 입니다.\n",
      "강동구청DT     \t 서울특별시 강동구 성내동 550 입니다.\n",
      "강동암사DT     \t 서울특별시 강동구 암사동 441-12 입니다.\n",
      "구로오류DT     \t 서울특별시 구로구 오류동 271 입니다.\n"
     ]
    }
   ],
   "source": [
    "r = requests.post(url, data=payload)\n",
    "\n",
    "for x in r.json()['list']:\n",
    "    # f-string 기법\n",
    "    if x['s_name'][-2:] in \"DT\":\n",
    "        print(f\"{x['s_name']:10} \\t {x['addr']} 입니다.\" )"
   ]
  },
  {
   "cell_type": "markdown",
   "id": "1e0af5ef",
   "metadata": {},
   "source": [
    "### 금천구 스타벅스 매장"
   ]
  },
  {
   "cell_type": "code",
   "execution_count": 198,
   "id": "4a778c48",
   "metadata": {
    "scrolled": true
   },
   "outputs": [
    {
     "name": "stdout",
     "output_type": "stream",
     "text": [
      "금천구청역      \t 서울특별시 금천구 시흥동 1031 엠메디컬타워 112,113,114,115호 입니다.\n",
      "가산에스케이     \t 서울특별시 금천구 가산동 371-41 가산 에스케이 브이원 센터 입니다.\n",
      "독산사거리      \t 서울특별시 금천구 독산동 159-23 영진빌딩 입니다.\n",
      "금천시흥       \t 서울특별시 금천구 시흥동 904-22 더플레이스 입니다.\n",
      "가산디지털단지역   \t 서울특별시 금천구 가산동 50-3 대륭포스트타워6차 입니다.\n",
      "금천독산       \t 서울특별시 금천구 독산동 291-1 입니다.\n",
      "가산디지털      \t 서울특별시 금천구 가산동 371-28 입니다.\n",
      "W-Mall     \t 서울특별시 금천구 가산동 60-27 W-MALL내 지하1층 입니다.\n",
      "마리오아울렛     \t 서울특별시 금천구 가산동 60-20 ㈜마리오 3관1층 입니다.\n",
      "가산브이타워     \t 서울특별시 금천구 가산동 V-TOWER 371-37 입니다.\n",
      "가산그레이트     \t 서울특별시 금천구 가산동 60-5 갑을그레이트벨리 1층 입니다.\n",
      "독산역        \t 서울특별시 금천구 가산동 673, 107-2, 108, 109호 입니다.\n",
      "가산현대아울렛    \t 서울특별시 금천구 가산동 60-8 현대시티아울렛 가산점, 1층 일부 입니다.\n"
     ]
    }
   ],
   "source": [
    "for x in r.json()['list']:\n",
    "    # f-string 기법\n",
    "#     if x['addr'].split()[1] == \"금천구\":\n",
    "    if x['addr'].find(\"금천구\") > 0:\n",
    "        print(f\"{x['s_name']:10} \\t {x['addr']} 입니다.\" )"
   ]
  },
  {
   "cell_type": "markdown",
   "id": "5974893c",
   "metadata": {},
   "source": [
    "### 오픈한지 가장 오래된 매장"
   ]
  },
  {
   "cell_type": "code",
   "execution_count": 210,
   "id": "29d582fd",
   "metadata": {},
   "outputs": [
    {
     "name": "stdout",
     "output_type": "stream",
     "text": [
      "이대R        \t 19990727   \t 서울특별시 서대문구 대현동 54-4 입니다.\n"
     ]
    }
   ],
   "source": [
    "import operator\n",
    "\n",
    "get_data = []\n",
    "\n",
    "for x in r.json()['list']:\n",
    "    get_data.append([x['s_name'], x['open_dt'], x['addr']])\n",
    "\n",
    "old_sb = sorted(get_data, key=operator.itemgetter(1))[0]\n",
    "\n",
    "print(f\"{old_sb[0]:10} \\t {old_sb[1]:10} \\t {old_sb[2]} 입니다.\" )"
   ]
  },
  {
   "cell_type": "code",
   "execution_count": 183,
   "id": "5a0863d6",
   "metadata": {},
   "outputs": [
    {
     "name": "stdout",
     "output_type": "stream",
     "text": [
      "이대R        \t 19990727   \t 서울특별시 서대문구 대현동 54-4 입니다.\n"
     ]
    }
   ],
   "source": [
    "s_name = \"\"\n",
    "old_dt = 20991231\n",
    "addr = \"\"\n",
    "\n",
    "for x in r.json()['list']:\n",
    "    if int(x['open_dt']) <= int(old_dt):\n",
    "        s_name = x['s_name']\n",
    "        old_dt = x['open_dt']\n",
    "        addr = x['addr']\n",
    "        \n",
    "print(f\"{s_name:10} \\t {old_dt:10} \\t {addr} 입니다.\" )"
   ]
  },
  {
   "cell_type": "code",
   "execution_count": null,
   "id": "ef4b9f53",
   "metadata": {},
   "outputs": [],
   "source": []
  }
 ],
 "metadata": {
  "kernelspec": {
   "display_name": "Python 3",
   "language": "python",
   "name": "python3"
  },
  "language_info": {
   "codemirror_mode": {
    "name": "ipython",
    "version": 3
   },
   "file_extension": ".py",
   "mimetype": "text/x-python",
   "name": "python",
   "nbconvert_exporter": "python",
   "pygments_lexer": "ipython3",
   "version": "3.8.13"
  }
 },
 "nbformat": 4,
 "nbformat_minor": 5
}
