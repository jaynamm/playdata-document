{
 "cells": [
  {
   "cell_type": "code",
   "execution_count": 1,
   "id": "2343cd61",
   "metadata": {},
   "outputs": [],
   "source": [
    "import pandas as pd\n",
    "import numpy as np\n",
    "import seaborn as sns"
   ]
  },
  {
   "cell_type": "code",
   "execution_count": 4,
   "id": "3fcbd1a5",
   "metadata": {},
   "outputs": [
    {
     "name": "stdout",
     "output_type": "stream",
     "text": [
      "이름을 입력하세요 : ghdn\n",
      "숫자1 입력 : 100\n",
      "이름은 ghdn\n",
      "숫자1 은 100\n"
     ]
    }
   ],
   "source": [
    "name = input(\"이름을 입력하세요 : \")\n",
    "n1 = int(input(\"숫자1 입력 : \"))\n",
    "\n",
    "print(\"이름은 {}\".format(name))\n",
    "print(\"숫자1 은 {}\".format(n1))"
   ]
  },
  {
   "cell_type": "code",
   "execution_count": null,
   "id": "023f10d9",
   "metadata": {},
   "outputs": [],
   "source": []
  }
 ],
 "metadata": {
  "kernelspec": {
   "display_name": "playdata_env",
   "language": "python",
   "name": "playdata_env"
  },
  "language_info": {
   "codemirror_mode": {
    "name": "ipython",
    "version": 3
   },
   "file_extension": ".py",
   "mimetype": "text/x-python",
   "name": "python",
   "nbconvert_exporter": "python",
   "pygments_lexer": "ipython3",
   "version": "3.8.13"
  }
 },
 "nbformat": 4,
 "nbformat_minor": 5
}
