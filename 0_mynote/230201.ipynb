{
 "cells": [
  {
   "cell_type": "markdown",
   "id": "b8758423",
   "metadata": {},
   "source": [
    "# ndarray.ndarray"
   ]
  },
  {
   "cell_type": "code",
   "execution_count": 8,
   "id": "423a76e2",
   "metadata": {},
   "outputs": [
    {
     "name": "stdout",
     "output_type": "stream",
     "text": [
      "[1 2 4 5]\n",
      "1\n",
      "(4,)\n",
      "4\n",
      "int64\n"
     ]
    }
   ],
   "source": [
    "import numpy as np\n",
    "\n",
    "num = [1, 2, 4, 5]\n",
    "\n",
    "a = np.array(num)\n",
    "\n",
    "print(a)\n",
    "print(a.ndim)\n",
    "print(a.shape)\n",
    "print(a.size)\n",
    "print(a.dtype)"
   ]
  },
  {
   "cell_type": "code",
   "execution_count": 9,
   "id": "2b0b830b",
   "metadata": {},
   "outputs": [
    {
     "data": {
      "text/plain": [
       "1"
      ]
     },
     "execution_count": 9,
     "metadata": {},
     "output_type": "execute_result"
    }
   ],
   "source": [
    "scalar = 1\n",
    "scalar "
   ]
  },
  {
   "cell_type": "code",
   "execution_count": 10,
   "id": "063b86ed",
   "metadata": {},
   "outputs": [
    {
     "data": {
      "text/plain": [
       "array([1, 4, 5, 6])"
      ]
     },
     "execution_count": 10,
     "metadata": {},
     "output_type": "execute_result"
    }
   ],
   "source": [
    "lst = [1,4,5,6]\n",
    " \n",
    "vector = np.array(lst)\n",
    "vector"
   ]
  },
  {
   "cell_type": "code",
   "execution_count": 11,
   "id": "91783859",
   "metadata": {},
   "outputs": [
    {
     "data": {
      "text/plain": [
       "1"
      ]
     },
     "execution_count": 11,
     "metadata": {},
     "output_type": "execute_result"
    }
   ],
   "source": [
    "vector.ndim"
   ]
  },
  {
   "cell_type": "code",
   "execution_count": 12,
   "id": "fa154426",
   "metadata": {},
   "outputs": [
    {
     "data": {
      "text/plain": [
       "(4,)"
      ]
     },
     "execution_count": 12,
     "metadata": {},
     "output_type": "execute_result"
    }
   ],
   "source": [
    "vector.shape"
   ]
  },
  {
   "cell_type": "code",
   "execution_count": 13,
   "id": "5f108842",
   "metadata": {},
   "outputs": [
    {
     "data": {
      "text/plain": [
       "4"
      ]
     },
     "execution_count": 13,
     "metadata": {},
     "output_type": "execute_result"
    }
   ],
   "source": [
    "vector.size"
   ]
  },
  {
   "cell_type": "code",
   "execution_count": 14,
   "id": "a1325ff2",
   "metadata": {},
   "outputs": [
    {
     "data": {
      "text/plain": [
       "dtype('int64')"
      ]
     },
     "execution_count": 14,
     "metadata": {},
     "output_type": "execute_result"
    }
   ],
   "source": [
    "vector.dtype"
   ]
  },
  {
   "cell_type": "code",
   "execution_count": 17,
   "id": "8de96ec7",
   "metadata": {},
   "outputs": [],
   "source": [
    "rg = np.random.default_rng(1)"
   ]
  },
  {
   "cell_type": "code",
   "execution_count": 29,
   "id": "59c34ff1",
   "metadata": {},
   "outputs": [
    {
     "data": {
      "text/plain": [
       "array([[6., 8.],\n",
       "       [5., 2.]])"
      ]
     },
     "execution_count": 29,
     "metadata": {},
     "output_type": "execute_result"
    }
   ],
   "source": [
    "np.floor(10* rg.random((2,2)))"
   ]
  }
 ],
 "metadata": {
  "kernelspec": {
   "display_name": "Python 3",
   "language": "python",
   "name": "python3"
  },
  "language_info": {
   "codemirror_mode": {
    "name": "ipython",
    "version": 3
   },
   "file_extension": ".py",
   "mimetype": "text/x-python",
   "name": "python",
   "nbconvert_exporter": "python",
   "pygments_lexer": "ipython3",
   "version": "3.8.13"
  }
 },
 "nbformat": 4,
 "nbformat_minor": 5
}
