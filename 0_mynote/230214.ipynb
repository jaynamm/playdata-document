{
 "cells": [
  {
   "cell_type": "code",
   "execution_count": 1,
   "id": "2155a8c1",
   "metadata": {},
   "outputs": [],
   "source": [
    "# 데이터 분석에 사용할 라이브러리\n",
    "import pandas as pd\n",
    "import numpy as np"
   ]
  },
  {
   "cell_type": "code",
   "execution_count": 2,
   "id": "1bc952b5",
   "metadata": {},
   "outputs": [],
   "source": [
    "# 데이터 시각화 라이브러리\n",
    "import matplotlib.pyplot as plt\n",
    "import seaborn as sns"
   ]
  },
  {
   "cell_type": "code",
   "execution_count": 3,
   "id": "cd67763c",
   "metadata": {},
   "outputs": [],
   "source": [
    "DATA_PATH = \"/Users/jaynam/workspace/playdata/titanic/\"\n",
    "\n",
    "df = pd.read_csv(DATA_PATH+\"train.csv\")"
   ]
  },
  {
   "cell_type": "code",
   "execution_count": 4,
   "id": "5df7595d",
   "metadata": {},
   "outputs": [
    {
     "data": {
      "text/plain": [
       "(891, 12)"
      ]
     },
     "execution_count": 4,
     "metadata": {},
     "output_type": "execute_result"
    }
   ],
   "source": [
    "df.shape"
   ]
  },
  {
   "cell_type": "code",
   "execution_count": 5,
   "id": "dd7cc25e",
   "metadata": {},
   "outputs": [
    {
     "data": {
      "text/html": [
       "<div>\n",
       "<style scoped>\n",
       "    .dataframe tbody tr th:only-of-type {\n",
       "        vertical-align: middle;\n",
       "    }\n",
       "\n",
       "    .dataframe tbody tr th {\n",
       "        vertical-align: top;\n",
       "    }\n",
       "\n",
       "    .dataframe thead th {\n",
       "        text-align: right;\n",
       "    }\n",
       "</style>\n",
       "<table border=\"1\" class=\"dataframe\">\n",
       "  <thead>\n",
       "    <tr style=\"text-align: right;\">\n",
       "      <th></th>\n",
       "      <th>PassengerId</th>\n",
       "      <th>Survived</th>\n",
       "      <th>Pclass</th>\n",
       "      <th>Name</th>\n",
       "      <th>Sex</th>\n",
       "      <th>Age</th>\n",
       "      <th>SibSp</th>\n",
       "      <th>Parch</th>\n",
       "      <th>Ticket</th>\n",
       "      <th>Fare</th>\n",
       "      <th>Cabin</th>\n",
       "      <th>Embarked</th>\n",
       "    </tr>\n",
       "  </thead>\n",
       "  <tbody>\n",
       "    <tr>\n",
       "      <th>0</th>\n",
       "      <td>1</td>\n",
       "      <td>0</td>\n",
       "      <td>3</td>\n",
       "      <td>Braund, Mr. Owen Harris</td>\n",
       "      <td>male</td>\n",
       "      <td>22.0</td>\n",
       "      <td>1</td>\n",
       "      <td>0</td>\n",
       "      <td>A/5 21171</td>\n",
       "      <td>7.2500</td>\n",
       "      <td>NaN</td>\n",
       "      <td>S</td>\n",
       "    </tr>\n",
       "    <tr>\n",
       "      <th>1</th>\n",
       "      <td>2</td>\n",
       "      <td>1</td>\n",
       "      <td>1</td>\n",
       "      <td>Cumings, Mrs. John Bradley (Florence Briggs Th...</td>\n",
       "      <td>female</td>\n",
       "      <td>38.0</td>\n",
       "      <td>1</td>\n",
       "      <td>0</td>\n",
       "      <td>PC 17599</td>\n",
       "      <td>71.2833</td>\n",
       "      <td>C85</td>\n",
       "      <td>C</td>\n",
       "    </tr>\n",
       "    <tr>\n",
       "      <th>2</th>\n",
       "      <td>3</td>\n",
       "      <td>1</td>\n",
       "      <td>3</td>\n",
       "      <td>Heikkinen, Miss. Laina</td>\n",
       "      <td>female</td>\n",
       "      <td>26.0</td>\n",
       "      <td>0</td>\n",
       "      <td>0</td>\n",
       "      <td>STON/O2. 3101282</td>\n",
       "      <td>7.9250</td>\n",
       "      <td>NaN</td>\n",
       "      <td>S</td>\n",
       "    </tr>\n",
       "    <tr>\n",
       "      <th>3</th>\n",
       "      <td>4</td>\n",
       "      <td>1</td>\n",
       "      <td>1</td>\n",
       "      <td>Futrelle, Mrs. Jacques Heath (Lily May Peel)</td>\n",
       "      <td>female</td>\n",
       "      <td>35.0</td>\n",
       "      <td>1</td>\n",
       "      <td>0</td>\n",
       "      <td>113803</td>\n",
       "      <td>53.1000</td>\n",
       "      <td>C123</td>\n",
       "      <td>S</td>\n",
       "    </tr>\n",
       "    <tr>\n",
       "      <th>4</th>\n",
       "      <td>5</td>\n",
       "      <td>0</td>\n",
       "      <td>3</td>\n",
       "      <td>Allen, Mr. William Henry</td>\n",
       "      <td>male</td>\n",
       "      <td>35.0</td>\n",
       "      <td>0</td>\n",
       "      <td>0</td>\n",
       "      <td>373450</td>\n",
       "      <td>8.0500</td>\n",
       "      <td>NaN</td>\n",
       "      <td>S</td>\n",
       "    </tr>\n",
       "  </tbody>\n",
       "</table>\n",
       "</div>"
      ],
      "text/plain": [
       "   PassengerId  Survived  Pclass  \\\n",
       "0            1         0       3   \n",
       "1            2         1       1   \n",
       "2            3         1       3   \n",
       "3            4         1       1   \n",
       "4            5         0       3   \n",
       "\n",
       "                                                Name     Sex   Age  SibSp  \\\n",
       "0                            Braund, Mr. Owen Harris    male  22.0      1   \n",
       "1  Cumings, Mrs. John Bradley (Florence Briggs Th...  female  38.0      1   \n",
       "2                             Heikkinen, Miss. Laina  female  26.0      0   \n",
       "3       Futrelle, Mrs. Jacques Heath (Lily May Peel)  female  35.0      1   \n",
       "4                           Allen, Mr. William Henry    male  35.0      0   \n",
       "\n",
       "   Parch            Ticket     Fare Cabin Embarked  \n",
       "0      0         A/5 21171   7.2500   NaN        S  \n",
       "1      0          PC 17599  71.2833   C85        C  \n",
       "2      0  STON/O2. 3101282   7.9250   NaN        S  \n",
       "3      0            113803  53.1000  C123        S  \n",
       "4      0            373450   8.0500   NaN        S  "
      ]
     },
     "execution_count": 5,
     "metadata": {},
     "output_type": "execute_result"
    }
   ],
   "source": [
    "df.head()"
   ]
  },
  {
   "cell_type": "code",
   "execution_count": 6,
   "id": "cf44f758",
   "metadata": {},
   "outputs": [],
   "source": [
    "df.columns = [col.lower() for col in df.columns]"
   ]
  },
  {
   "cell_type": "markdown",
   "id": "2eb7ccbe",
   "metadata": {},
   "source": [
    "# 타겟 데이터 확인"
   ]
  },
  {
   "cell_type": "code",
   "execution_count": 7,
   "id": "5243d655",
   "metadata": {
    "scrolled": false
   },
   "outputs": [
    {
     "data": {
      "text/html": [
       "<div>\n",
       "<style scoped>\n",
       "    .dataframe tbody tr th:only-of-type {\n",
       "        vertical-align: middle;\n",
       "    }\n",
       "\n",
       "    .dataframe tbody tr th {\n",
       "        vertical-align: top;\n",
       "    }\n",
       "\n",
       "    .dataframe thead th {\n",
       "        text-align: right;\n",
       "    }\n",
       "</style>\n",
       "<table border=\"1\" class=\"dataframe\">\n",
       "  <thead>\n",
       "    <tr style=\"text-align: right;\">\n",
       "      <th></th>\n",
       "      <th>counts</th>\n",
       "      <th>freqs</th>\n",
       "    </tr>\n",
       "    <tr>\n",
       "      <th>categories</th>\n",
       "      <th></th>\n",
       "      <th></th>\n",
       "    </tr>\n",
       "  </thead>\n",
       "  <tbody>\n",
       "    <tr>\n",
       "      <th>Died</th>\n",
       "      <td>549</td>\n",
       "      <td>0.616162</td>\n",
       "    </tr>\n",
       "    <tr>\n",
       "      <th>Survived</th>\n",
       "      <td>342</td>\n",
       "      <td>0.383838</td>\n",
       "    </tr>\n",
       "  </tbody>\n",
       "</table>\n",
       "</div>"
      ],
      "text/plain": [
       "            counts     freqs\n",
       "categories                  \n",
       "Died           549  0.616162\n",
       "Survived       342  0.383838"
      ]
     },
     "execution_count": 7,
     "metadata": {},
     "output_type": "execute_result"
    }
   ],
   "source": [
    "new_survived = pd.Categorical(df['survived'])\n",
    "new_survived = new_survived.rename_categories([\"Died\", \"Survived\"])\n",
    "\n",
    "new_survived.describe()"
   ]
  },
  {
   "cell_type": "markdown",
   "id": "85b4fc72",
   "metadata": {},
   "source": [
    "new_survived 는 df 의 survived 의 값을 가져와서 카테고리 타입으로 만든다.  \n",
    "new_survived 의 카테고리 이름을 0, 1 에서 Died, Survived 로 바꿔준다."
   ]
  },
  {
   "cell_type": "code",
   "execution_count": 8,
   "id": "1e7a7ea8",
   "metadata": {
    "scrolled": false
   },
   "outputs": [
    {
     "name": "stdout",
     "output_type": "stream",
     "text": [
      "[0, 1, 1, 1, 0, ..., 0, 1, 0, 1, 0]\n",
      "Length: 891\n",
      "Categories (2, int64): [0, 1]\n"
     ]
    }
   ],
   "source": [
    "# rename 전\n",
    "new_survived = pd.Categorical(df['survived'])\n",
    "print(new_survived)"
   ]
  },
  {
   "cell_type": "code",
   "execution_count": 9,
   "id": "9cd52b03",
   "metadata": {},
   "outputs": [
    {
     "name": "stdout",
     "output_type": "stream",
     "text": [
      "['Died', 'Survived', 'Survived', 'Survived', 'Died', ..., 'Died', 'Survived', 'Died', 'Survived', 'Died']\n",
      "Length: 891\n",
      "Categories (2, object): ['Died', 'Survived']\n"
     ]
    }
   ],
   "source": [
    "# rename 후\n",
    "new_survived = new_survived.rename_categories([\"Died\", \"Survived\"])\n",
    "print(new_survived)"
   ]
  },
  {
   "cell_type": "markdown",
   "id": "e719bab6",
   "metadata": {},
   "source": [
    "# 데이터 분리"
   ]
  },
  {
   "cell_type": "code",
   "execution_count": 10,
   "id": "eb304c47",
   "metadata": {},
   "outputs": [],
   "source": [
    "from sklearn.model_selection import train_test_split"
   ]
  },
  {
   "cell_type": "code",
   "execution_count": 11,
   "id": "d1fd2037",
   "metadata": {},
   "outputs": [],
   "source": [
    "SEED = 42\n",
    "\n",
    "# train -> 0.8 , test -> 0.2 split\n",
    "# 8:2 가 국룰이다.\n",
    "X_train, X_test = train_test_split(df, \n",
    "                                   random_state=SEED, \n",
    "#                                    train_size = 0.6,\n",
    "                                   test_size = 0.2)"
   ]
  },
  {
   "cell_type": "code",
   "execution_count": 12,
   "id": "7356601b",
   "metadata": {
    "scrolled": true
   },
   "outputs": [
    {
     "data": {
      "text/plain": [
       "(712, 12)"
      ]
     },
     "execution_count": 12,
     "metadata": {},
     "output_type": "execute_result"
    }
   ],
   "source": [
    "X_train.shape"
   ]
  },
  {
   "cell_type": "code",
   "execution_count": 13,
   "id": "01d94020",
   "metadata": {},
   "outputs": [
    {
     "data": {
      "text/plain": [
       "(179, 12)"
      ]
     },
     "execution_count": 13,
     "metadata": {},
     "output_type": "execute_result"
    }
   ],
   "source": [
    "X_test.shape"
   ]
  },
  {
   "cell_type": "code",
   "execution_count": 14,
   "id": "8b54d379",
   "metadata": {},
   "outputs": [
    {
     "data": {
      "text/plain": [
       "((712, 12), (179, 12))"
      ]
     },
     "execution_count": 14,
     "metadata": {},
     "output_type": "execute_result"
    }
   ],
   "source": [
    "SEED = 42\n",
    "\n",
    "# train -> 0.8 , test -> 0.2 split\n",
    "X_train, X_test = train_test_split(df, \n",
    "                                   random_state=SEED, \n",
    "                                   test_size = 0.2)\n",
    "\n",
    "# index 를 reset 해준다.\n",
    "# drop = True 로 하게 되면 기존의 인덱스를 drop 하게 된다.\n",
    "# drop = False 는 기존의 인덱스를 열로 만들어 저장한다.\n",
    "\n",
    "# inplace 는 원본 파일을 덮어쓰느냐 안쓰느냐의 여부, True = 원본 덮어씀\n",
    "\n",
    "# X_train = X_train.reset_index(drop=True)\n",
    "X_train.reset_index(drop=True, inplace=True)\n",
    "\n",
    "# X_test = X_test.reset_index(drop=True)\n",
    "X_test.reset_index(drop=True, inplace=True)\n",
    "\n",
    "X_train.shape, X_test.shape"
   ]
  },
  {
   "cell_type": "markdown",
   "id": "f4591f49",
   "metadata": {},
   "source": [
    "원시 데이터를 80% 의 train 데이터로 20% 를 test 데이터로 만든다.  \n",
    "20% 의 test 데이터는 그대로 두고 80% 의 train 데이터만 EDA 를 진행해야 한다.  "
   ]
  },
  {
   "cell_type": "markdown",
   "id": "87df20ff",
   "metadata": {},
   "source": [
    "# Data Cleaning"
   ]
  },
  {
   "cell_type": "code",
   "execution_count": 15,
   "id": "9f355cf5",
   "metadata": {},
   "outputs": [
    {
     "data": {
      "text/plain": [
       "(712, 712)"
      ]
     },
     "execution_count": 15,
     "metadata": {},
     "output_type": "execute_result"
    }
   ],
   "source": [
    "X_train['passengerid'].nunique(), X_train.shape[0]"
   ]
  },
  {
   "cell_type": "code",
   "execution_count": 16,
   "id": "433e5947",
   "metadata": {},
   "outputs": [
    {
     "data": {
      "text/plain": [
       "Index(['survived', 'pclass', 'name', 'sex', 'age', 'sibsp', 'parch', 'ticket',\n",
       "       'fare', 'cabin', 'embarked'],\n",
       "      dtype='object')"
      ]
     },
     "execution_count": 16,
     "metadata": {},
     "output_type": "execute_result"
    }
   ],
   "source": [
    "# passengerid는 전체 데이터가 unique하기 때문에 삭제\n",
    "X_train.drop('passengerid', axis=1, inplace=True)\n",
    "X_test.drop('passengerid', axis=1, inplace=True)\n",
    "\n",
    "X_train.columns"
   ]
  },
  {
   "cell_type": "markdown",
   "id": "34681dc4",
   "metadata": {},
   "source": [
    "# 결측치 제거"
   ]
  },
  {
   "cell_type": "code",
   "execution_count": 17,
   "id": "74d5efab",
   "metadata": {
    "scrolled": true
   },
   "outputs": [
    {
     "data": {
      "text/plain": [
       "survived      0\n",
       "pclass        0\n",
       "name          0\n",
       "sex           0\n",
       "age         140\n",
       "sibsp         0\n",
       "parch         0\n",
       "ticket        0\n",
       "fare          0\n",
       "cabin       553\n",
       "embarked      2\n",
       "dtype: int64"
      ]
     },
     "execution_count": 17,
     "metadata": {},
     "output_type": "execute_result"
    }
   ],
   "source": [
    "X_train.isnull().sum()"
   ]
  },
  {
   "cell_type": "code",
   "execution_count": 18,
   "id": "63d573a0",
   "metadata": {},
   "outputs": [
    {
     "data": {
      "text/plain": [
       "712"
      ]
     },
     "execution_count": 18,
     "metadata": {},
     "output_type": "execute_result"
    }
   ],
   "source": [
    "X_train.shape[0]"
   ]
  },
  {
   "cell_type": "code",
   "execution_count": 19,
   "id": "049bfee0",
   "metadata": {},
   "outputs": [
    {
     "data": {
      "text/plain": [
       "0.19662921348314608"
      ]
     },
     "execution_count": 19,
     "metadata": {},
     "output_type": "execute_result"
    }
   ],
   "source": [
    "140 / 712"
   ]
  },
  {
   "cell_type": "code",
   "execution_count": 20,
   "id": "d7d5c390",
   "metadata": {
    "scrolled": true
   },
   "outputs": [
    {
     "data": {
      "text/plain": [
       "cabin       0.7767\n",
       "age         0.1966\n",
       "embarked    0.0028\n",
       "survived    0.0000\n",
       "pclass      0.0000\n",
       "name        0.0000\n",
       "sex         0.0000\n",
       "sibsp       0.0000\n",
       "parch       0.0000\n",
       "ticket      0.0000\n",
       "fare        0.0000\n",
       "dtype: float64"
      ]
     },
     "execution_count": 20,
     "metadata": {},
     "output_type": "execute_result"
    }
   ],
   "source": [
    "(X_train.isnull().sum() / X_train.shape[0]).round(4).sort_values(ascending=False) # 각 걸럼별 결측치 비율"
   ]
  },
  {
   "cell_type": "code",
   "execution_count": 21,
   "id": "d5f64866",
   "metadata": {},
   "outputs": [
    {
     "name": "stdout",
     "output_type": "stream",
     "text": [
      "before: (712, 11) / isnull().sum(): 695\n",
      "after: (712, 10) / isnull().sum(): 142\n"
     ]
    }
   ],
   "source": [
    "print(f'before: {X_train.shape} / isnull().sum(): {X_train.isnull().sum().sum()}')\n",
    "\n",
    "# 결측치가 있는 행 제거 : X_tr.dropna(axis=0)\n",
    "# train, test 둘다 해줘야 한다. 비교 가능\n",
    "X_train = X_train.drop('cabin', axis=1)\n",
    "X_test = X_test.drop('cabin', axis=1)\n",
    "\n",
    "print(f'after: {X_train.shape} / isnull().sum(): {X_train.isnull().sum().sum()}')"
   ]
  },
  {
   "cell_type": "code",
   "execution_count": 22,
   "id": "94a9d3bc",
   "metadata": {},
   "outputs": [],
   "source": [
    "# age null 값인 부분에 age 의 중간값(median)으로 채운다.\n",
    "X_train['age'] = X_train['age'].fillna(X_train['age'].median())\n",
    "\n",
    "# age null 값인 부분에 age 의 중간값(median)으로 채운다.\n",
    "X_test['age'] = X_test['age'].fillna(X_train['age'].median())"
   ]
  },
  {
   "cell_type": "markdown",
   "id": "7a2883be",
   "metadata": {},
   "source": [
    "test 데이터는 train 데이터의 median 값으로 채워줘야 한다."
   ]
  },
  {
   "cell_type": "code",
   "execution_count": 23,
   "id": "d5a54c9a",
   "metadata": {},
   "outputs": [
    {
     "data": {
      "text/plain": [
       "'S'"
      ]
     },
     "execution_count": 23,
     "metadata": {},
     "output_type": "execute_result"
    }
   ],
   "source": [
    "# embarked 의 최빈값을 구한다.\n",
    "# 최빈값은 빈도가 가장 많은 값을 말한다.\n",
    "embarked_mode = X_train['embarked'].mode().values[0]\n",
    "embarked_mode"
   ]
  },
  {
   "cell_type": "markdown",
   "id": "09f44406",
   "metadata": {},
   "source": [
    "embarked 에서 'S' 가 가장 많기 때문에 null 인 부분을 'S' 로 채운다.  "
   ]
  },
  {
   "cell_type": "code",
   "execution_count": 24,
   "id": "962fb1f6",
   "metadata": {},
   "outputs": [],
   "source": [
    "X_train['embarked'] = X_train['embarked'].fillna(embarked_mode)\n",
    "X_test['embarked'] = X_test['embarked'].fillna(embarked_mode)"
   ]
  },
  {
   "cell_type": "code",
   "execution_count": 25,
   "id": "1bcaa2d8",
   "metadata": {},
   "outputs": [
    {
     "data": {
      "text/plain": [
       "(0, 0)"
      ]
     },
     "execution_count": 25,
     "metadata": {},
     "output_type": "execute_result"
    }
   ],
   "source": [
    "X_train.isnull().sum().sum(), X_test.isnull().sum().sum()"
   ]
  },
  {
   "cell_type": "markdown",
   "id": "d0fc5302",
   "metadata": {},
   "source": [
    "결측치 제거  = Data cleaning 가 완료되었다!"
   ]
  },
  {
   "cell_type": "markdown",
   "id": "e9ac3890",
   "metadata": {},
   "source": [
    "# Feature Extraction\n",
    "> 기존의 feature 에 기반해서 새로운 feature 들을 생성한다."
   ]
  },
  {
   "cell_type": "markdown",
   "id": "4d7fb085",
   "metadata": {},
   "source": [
    "결측치 제거한 이후의 데이터\n",
    "\n",
    "총 712  0~ 711  \n",
    "총 712개  "
   ]
  },
  {
   "cell_type": "code",
   "execution_count": 26,
   "id": "6075b159",
   "metadata": {},
   "outputs": [
    {
     "name": "stdout",
     "output_type": "stream",
     "text": [
      "<class 'pandas.core.frame.DataFrame'>\n",
      "RangeIndex: 712 entries, 0 to 711\n",
      "Data columns (total 10 columns):\n",
      " #   Column    Non-Null Count  Dtype  \n",
      "---  ------    --------------  -----  \n",
      " 0   survived  712 non-null    int64  \n",
      " 1   pclass    712 non-null    int64  \n",
      " 2   name      712 non-null    object \n",
      " 3   sex       712 non-null    object \n",
      " 4   age       712 non-null    float64\n",
      " 5   sibsp     712 non-null    int64  \n",
      " 6   parch     712 non-null    int64  \n",
      " 7   ticket    712 non-null    object \n",
      " 8   fare      712 non-null    float64\n",
      " 9   embarked  712 non-null    object \n",
      "dtypes: float64(2), int64(4), object(4)\n",
      "memory usage: 55.8+ KB\n"
     ]
    }
   ],
   "source": [
    "X_train.info()"
   ]
  },
  {
   "cell_type": "markdown",
   "id": "4958b114",
   "metadata": {},
   "source": [
    "타입이랑 NULL 제거가 되었는지 확인한다."
   ]
  },
  {
   "cell_type": "markdown",
   "id": "dd0052f2",
   "metadata": {},
   "source": [
    "### 수치형 데이터 타입 변환"
   ]
  },
  {
   "cell_type": "code",
   "execution_count": 27,
   "id": "a89d99f2",
   "metadata": {
    "scrolled": true
   },
   "outputs": [
    {
     "name": "stdout",
     "output_type": "stream",
     "text": [
      "<class 'pandas.core.frame.DataFrame'>\n",
      "RangeIndex: 712 entries, 0 to 711\n",
      "Data columns (total 10 columns):\n",
      " #   Column    Non-Null Count  Dtype  \n",
      "---  ------    --------------  -----  \n",
      " 0   survived  712 non-null    int64  \n",
      " 1   pclass    712 non-null    int64  \n",
      " 2   name      712 non-null    object \n",
      " 3   sex       712 non-null    object \n",
      " 4   age       712 non-null    float64\n",
      " 5   sibsp     712 non-null    int64  \n",
      " 6   parch     712 non-null    int64  \n",
      " 7   ticket    712 non-null    object \n",
      " 8   fare      712 non-null    float64\n",
      " 9   embarked  712 non-null    object \n",
      "dtypes: float64(2), int64(4), object(4)\n",
      "memory usage: 55.8+ KB\n"
     ]
    }
   ],
   "source": [
    "X_train.info()"
   ]
  },
  {
   "cell_type": "markdown",
   "id": "089d694c",
   "metadata": {},
   "source": [
    "컬럼 중에서 number 타입인거만 가져온다.  \n",
    "\n",
    "0   survived  712 non-null    int64  \n",
    "1   pclass    712 non-null    int64   \n",
    "4   age       712 non-null    float64  \n",
    "5   sibsp     712 non-null    int64   \n",
    "6   parch     712 non-null    int64   \n",
    "8   fare      712 non-null    float64  "
   ]
  },
  {
   "cell_type": "code",
   "execution_count": 28,
   "id": "d2004ebf",
   "metadata": {},
   "outputs": [
    {
     "data": {
      "text/plain": [
       "Index(['survived', 'pclass', 'age', 'sibsp', 'parch', 'fare'], dtype='object')"
      ]
     },
     "execution_count": 28,
     "metadata": {},
     "output_type": "execute_result"
    }
   ],
   "source": [
    "df_num = X_train.select_dtypes(include=np.number)\n",
    "df_num.columns"
   ]
  },
  {
   "cell_type": "code",
   "execution_count": 29,
   "id": "e778bc0e",
   "metadata": {},
   "outputs": [
    {
     "data": {
      "text/html": [
       "<div>\n",
       "<style scoped>\n",
       "    .dataframe tbody tr th:only-of-type {\n",
       "        vertical-align: middle;\n",
       "    }\n",
       "\n",
       "    .dataframe tbody tr th {\n",
       "        vertical-align: top;\n",
       "    }\n",
       "\n",
       "    .dataframe thead th {\n",
       "        text-align: right;\n",
       "    }\n",
       "</style>\n",
       "<table border=\"1\" class=\"dataframe\">\n",
       "  <thead>\n",
       "    <tr style=\"text-align: right;\">\n",
       "      <th></th>\n",
       "      <th>survived</th>\n",
       "      <th>pclass</th>\n",
       "      <th>age</th>\n",
       "      <th>sibsp</th>\n",
       "      <th>parch</th>\n",
       "      <th>fare</th>\n",
       "    </tr>\n",
       "  </thead>\n",
       "  <tbody>\n",
       "    <tr>\n",
       "      <th>0</th>\n",
       "      <td>0</td>\n",
       "      <td>1</td>\n",
       "      <td>45.5</td>\n",
       "      <td>0</td>\n",
       "      <td>0</td>\n",
       "      <td>28.5000</td>\n",
       "    </tr>\n",
       "    <tr>\n",
       "      <th>1</th>\n",
       "      <td>0</td>\n",
       "      <td>2</td>\n",
       "      <td>23.0</td>\n",
       "      <td>0</td>\n",
       "      <td>0</td>\n",
       "      <td>13.0000</td>\n",
       "    </tr>\n",
       "    <tr>\n",
       "      <th>2</th>\n",
       "      <td>0</td>\n",
       "      <td>3</td>\n",
       "      <td>32.0</td>\n",
       "      <td>0</td>\n",
       "      <td>0</td>\n",
       "      <td>7.9250</td>\n",
       "    </tr>\n",
       "    <tr>\n",
       "      <th>3</th>\n",
       "      <td>0</td>\n",
       "      <td>3</td>\n",
       "      <td>26.0</td>\n",
       "      <td>1</td>\n",
       "      <td>0</td>\n",
       "      <td>7.8542</td>\n",
       "    </tr>\n",
       "    <tr>\n",
       "      <th>4</th>\n",
       "      <td>0</td>\n",
       "      <td>3</td>\n",
       "      <td>6.0</td>\n",
       "      <td>4</td>\n",
       "      <td>2</td>\n",
       "      <td>31.2750</td>\n",
       "    </tr>\n",
       "  </tbody>\n",
       "</table>\n",
       "</div>"
      ],
      "text/plain": [
       "   survived  pclass   age  sibsp  parch     fare\n",
       "0         0       1  45.5      0      0  28.5000\n",
       "1         0       2  23.0      0      0  13.0000\n",
       "2         0       3  32.0      0      0   7.9250\n",
       "3         0       3  26.0      1      0   7.8542\n",
       "4         0       3   6.0      4      2  31.2750"
      ]
     },
     "execution_count": 29,
     "metadata": {},
     "output_type": "execute_result"
    }
   ],
   "source": [
    "df_num.head()"
   ]
  },
  {
   "cell_type": "code",
   "execution_count": 30,
   "id": "3bf9e4a2",
   "metadata": {
    "scrolled": false
   },
   "outputs": [
    {
     "name": "stdout",
     "output_type": "stream",
     "text": [
      "<class 'pandas.core.frame.DataFrame'>\n",
      "RangeIndex: 712 entries, 0 to 711\n",
      "Data columns (total 6 columns):\n",
      " #   Column    Non-Null Count  Dtype  \n",
      "---  ------    --------------  -----  \n",
      " 0   survived  712 non-null    int64  \n",
      " 1   pclass    712 non-null    int64  \n",
      " 2   age       712 non-null    float64\n",
      " 3   sibsp     712 non-null    int64  \n",
      " 4   parch     712 non-null    int64  \n",
      " 5   fare      712 non-null    float64\n",
      "dtypes: float64(2), int64(4)\n",
      "memory usage: 33.5 KB\n"
     ]
    }
   ],
   "source": [
    "df_num.info()"
   ]
  },
  {
   "cell_type": "code",
   "execution_count": 31,
   "id": "d09fe7b7",
   "metadata": {
    "scrolled": true
   },
   "outputs": [
    {
     "data": {
      "text/html": [
       "<div>\n",
       "<style scoped>\n",
       "    .dataframe tbody tr th:only-of-type {\n",
       "        vertical-align: middle;\n",
       "    }\n",
       "\n",
       "    .dataframe tbody tr th {\n",
       "        vertical-align: top;\n",
       "    }\n",
       "\n",
       "    .dataframe thead th {\n",
       "        text-align: right;\n",
       "    }\n",
       "</style>\n",
       "<table border=\"1\" class=\"dataframe\">\n",
       "  <thead>\n",
       "    <tr style=\"text-align: right;\">\n",
       "      <th></th>\n",
       "      <th>survived</th>\n",
       "      <th>pclass</th>\n",
       "      <th>age</th>\n",
       "      <th>sibsp</th>\n",
       "      <th>parch</th>\n",
       "      <th>fare</th>\n",
       "    </tr>\n",
       "  </thead>\n",
       "  <tbody>\n",
       "    <tr>\n",
       "      <th>count</th>\n",
       "      <td>712.000000</td>\n",
       "      <td>712.000000</td>\n",
       "      <td>712.000000</td>\n",
       "      <td>712.000000</td>\n",
       "      <td>712.000000</td>\n",
       "      <td>712.000000</td>\n",
       "    </tr>\n",
       "    <tr>\n",
       "      <th>mean</th>\n",
       "      <td>0.376404</td>\n",
       "      <td>2.330056</td>\n",
       "      <td>29.204129</td>\n",
       "      <td>0.553371</td>\n",
       "      <td>0.379213</td>\n",
       "      <td>32.586276</td>\n",
       "    </tr>\n",
       "    <tr>\n",
       "      <th>std</th>\n",
       "      <td>0.484824</td>\n",
       "      <td>0.824584</td>\n",
       "      <td>13.007971</td>\n",
       "      <td>1.176404</td>\n",
       "      <td>0.791669</td>\n",
       "      <td>51.969529</td>\n",
       "    </tr>\n",
       "    <tr>\n",
       "      <th>min</th>\n",
       "      <td>0.000000</td>\n",
       "      <td>1.000000</td>\n",
       "      <td>0.420000</td>\n",
       "      <td>0.000000</td>\n",
       "      <td>0.000000</td>\n",
       "      <td>0.000000</td>\n",
       "    </tr>\n",
       "    <tr>\n",
       "      <th>25%</th>\n",
       "      <td>0.000000</td>\n",
       "      <td>2.000000</td>\n",
       "      <td>22.000000</td>\n",
       "      <td>0.000000</td>\n",
       "      <td>0.000000</td>\n",
       "      <td>7.925000</td>\n",
       "    </tr>\n",
       "    <tr>\n",
       "      <th>50%</th>\n",
       "      <td>0.000000</td>\n",
       "      <td>3.000000</td>\n",
       "      <td>28.000000</td>\n",
       "      <td>0.000000</td>\n",
       "      <td>0.000000</td>\n",
       "      <td>14.454200</td>\n",
       "    </tr>\n",
       "    <tr>\n",
       "      <th>75%</th>\n",
       "      <td>1.000000</td>\n",
       "      <td>3.000000</td>\n",
       "      <td>35.000000</td>\n",
       "      <td>1.000000</td>\n",
       "      <td>0.000000</td>\n",
       "      <td>30.500000</td>\n",
       "    </tr>\n",
       "    <tr>\n",
       "      <th>max</th>\n",
       "      <td>1.000000</td>\n",
       "      <td>3.000000</td>\n",
       "      <td>80.000000</td>\n",
       "      <td>8.000000</td>\n",
       "      <td>6.000000</td>\n",
       "      <td>512.329200</td>\n",
       "    </tr>\n",
       "  </tbody>\n",
       "</table>\n",
       "</div>"
      ],
      "text/plain": [
       "         survived      pclass         age       sibsp       parch        fare\n",
       "count  712.000000  712.000000  712.000000  712.000000  712.000000  712.000000\n",
       "mean     0.376404    2.330056   29.204129    0.553371    0.379213   32.586276\n",
       "std      0.484824    0.824584   13.007971    1.176404    0.791669   51.969529\n",
       "min      0.000000    1.000000    0.420000    0.000000    0.000000    0.000000\n",
       "25%      0.000000    2.000000   22.000000    0.000000    0.000000    7.925000\n",
       "50%      0.000000    3.000000   28.000000    0.000000    0.000000   14.454200\n",
       "75%      1.000000    3.000000   35.000000    1.000000    0.000000   30.500000\n",
       "max      1.000000    3.000000   80.000000    8.000000    6.000000  512.329200"
      ]
     },
     "execution_count": 31,
     "metadata": {},
     "output_type": "execute_result"
    }
   ],
   "source": [
    "df_num.describe()"
   ]
  },
  {
   "cell_type": "markdown",
   "id": "d5347266",
   "metadata": {},
   "source": [
    "범주형 데이터는 숫자로 표현하기 힘들다.  \n",
    "예를 들어 남자는 1 여자는 0 인 경우 숫자로도 표현이 가능하다.   \n",
    "나이를 20대, 30대 로 구간을 나누어준다면 수치형 데이터가 범주형 데이터로 변환되었다고 보면 된다.  \n",
    "\n",
    "수치형 123, 421, 32, 123, 421, 3213  11 12 13 -> 10대  \n",
    "범주형 남자, 여자 / 1등급, 2등급, 3등급  "
   ]
  },
  {
   "cell_type": "code",
   "execution_count": 32,
   "id": "a44d907a",
   "metadata": {},
   "outputs": [],
   "source": [
    "# survived\n",
    "X_train['survived'] = X_train['survived'].astype(\"int32\")\n",
    "X_test['survived'] = X_test['survived'].astype(\"int32\")"
   ]
  },
  {
   "cell_type": "code",
   "execution_count": 33,
   "id": "9ebd3706",
   "metadata": {},
   "outputs": [
    {
     "data": {
      "text/plain": [
       "array([1, 2, 3])"
      ]
     },
     "execution_count": 33,
     "metadata": {},
     "output_type": "execute_result"
    }
   ],
   "source": [
    "# pclass\n",
    "# number + unique -> 고유한 값인데 -> 수로 나타낸거\n",
    "# nunique -> 고유한 값의 수\n",
    "# 1 1 1 2 2 2 3 3 3 -> 1 2 3\n",
    "X_train['pclass'].unique() # -> 범주형이네?"
   ]
  },
  {
   "cell_type": "code",
   "execution_count": 35,
   "id": "9c87d601",
   "metadata": {},
   "outputs": [],
   "source": [
    "X_train[\"pclass\"] = X_train[\"pclass\"].astype(\"category\")\n",
    "X_test[\"pclass\"] = X_test[\"pclass\"].astype(\"category\")"
   ]
  },
  {
   "cell_type": "code",
   "execution_count": 36,
   "id": "a0b95fa4",
   "metadata": {},
   "outputs": [],
   "source": [
    "# age -> 수치형 데이터\n",
    "# float64 -> int32\n",
    "\n",
    "X_train[\"age\"] = X_train[\"age\"].astype(\"int32\")\n",
    "X_test[\"age\"] = X_test[\"age\"].astype(\"int32\")"
   ]
  },
  {
   "cell_type": "code",
   "execution_count": 37,
   "id": "b25c970c",
   "metadata": {},
   "outputs": [
    {
     "data": {
      "text/plain": [
       "array([0, 1, 4, 3, 2, 8, 5])"
      ]
     },
     "execution_count": 37,
     "metadata": {},
     "output_type": "execute_result"
    }
   ],
   "source": [
    "# sibsp -> 형제나 배우자의 수\n",
    "# 항렬 수평 -> 형제, 배우자\n",
    "# 1 -> 형제 또는 배우자가 1명이 같이 탔다.\n",
    "# 8 -> 형제 또는 배우자가 8명이 같이 탔다.\n",
    "# 0 ~ 8 수치형인데 => 범위 어느정도 고정 -> 범주형\n",
    "X_train['sibsp'].unique()"
   ]
  },
  {
   "cell_type": "code",
   "execution_count": 38,
   "id": "cf705519",
   "metadata": {},
   "outputs": [],
   "source": [
    "X_train['sibsp'] = X_train['sibsp'].astype('category')\n",
    "X_test['sibsp'] = X_test['sibsp'].astype('category')"
   ]
  },
  {
   "cell_type": "code",
   "execution_count": 39,
   "id": "275abf6b",
   "metadata": {},
   "outputs": [
    {
     "data": {
      "text/plain": [
       "array([0, 2, 1, 6, 4, 3, 5])"
      ]
     },
     "execution_count": 39,
     "metadata": {},
     "output_type": "execute_result"
    }
   ],
   "source": [
    "# parch -> 같이 배를 탄 부모나 자식의 수\n",
    "# 항렬이 수직이야 -> 부모, 조부모, 자식\n",
    "\n",
    "X_train['parch'].unique()"
   ]
  },
  {
   "cell_type": "code",
   "execution_count": 40,
   "id": "dbe324c7",
   "metadata": {},
   "outputs": [],
   "source": [
    "X_train['parch'] = X_train['parch'].astype('category')\n",
    "X_test['parch'] = X_test['parch'].astype('category')"
   ]
  },
  {
   "cell_type": "code",
   "execution_count": 41,
   "id": "46bb98c9",
   "metadata": {
    "scrolled": true
   },
   "outputs": [
    {
     "name": "stdout",
     "output_type": "stream",
     "text": [
      "<class 'pandas.core.frame.DataFrame'>\n",
      "RangeIndex: 712 entries, 0 to 711\n",
      "Data columns (total 10 columns):\n",
      " #   Column    Non-Null Count  Dtype   \n",
      "---  ------    --------------  -----   \n",
      " 0   survived  712 non-null    int32   \n",
      " 1   pclass    712 non-null    category\n",
      " 2   name      712 non-null    object  \n",
      " 3   sex       712 non-null    object  \n",
      " 4   age       712 non-null    int32   \n",
      " 5   sibsp     712 non-null    category\n",
      " 6   parch     712 non-null    category\n",
      " 7   ticket    712 non-null    object  \n",
      " 8   fare      712 non-null    float64 \n",
      " 9   embarked  712 non-null    object  \n",
      "dtypes: category(3), float64(1), int32(2), object(4)\n",
      "memory usage: 36.4+ KB\n"
     ]
    }
   ],
   "source": [
    "X_train.info()"
   ]
  },
  {
   "cell_type": "code",
   "execution_count": null,
   "id": "aeb002a3",
   "metadata": {},
   "outputs": [],
   "source": []
  },
  {
   "cell_type": "code",
   "execution_count": 42,
   "id": "c4109538",
   "metadata": {
    "scrolled": true
   },
   "outputs": [
    {
     "data": {
      "text/plain": [
       "array([ 28.5   ,  13.    ,   7.925 ,   7.8542,  31.275 , 247.5208,\n",
       "        26.55  ,  27.7208,   7.8958,  35.5   ,  24.15  ,  12.275 ,\n",
       "         7.0542,   9.5   ,  26.    ,  90.    , 227.525 ,  57.    ,\n",
       "         6.2375,   8.6625,  26.25  ,   9.5875,   7.2292,  22.3583,\n",
       "         9.4833, 120.    ,  14.4583,   8.05  , 211.5   ,   7.25  ,\n",
       "         7.725 ,  25.4667,  21.075 ,  30.    ,  61.3792,  20.2125,\n",
       "        30.5   ,   7.05  ,  14.5   ,   7.5208, 151.55  ,  21.    ,\n",
       "       262.375 ,   7.75  ,   7.775 ,  80.    ,   9.8417,  12.35  ,\n",
       "         0.    ,   7.225 ,   6.4375,  12.475 , 133.65  ,   6.975 ,\n",
       "        77.9583,  10.5   , 106.425 ,  81.8583,  11.1333,  27.75  ,\n",
       "       153.4625,   8.3   ,  15.05  , 110.8833,  15.0458,  39.6875,\n",
       "         7.8792,  23.45  ,   7.65  ,  15.7417,  15.2458,  51.8625,\n",
       "        15.5   ,  41.5792,  14.4542,  10.5167,  20.525 ,  89.1042,\n",
       "        36.75  ,  55.4417,  50.    ,  13.8625,  16.7   ,  13.5   ,\n",
       "        35.    ,  55.9   ,   7.8   ,  34.375 ,  18.    ,  47.1   ,\n",
       "        19.5   ,  20.25  ,  31.3875,   8.1125,   7.8292,  59.4   ,\n",
       "        79.2   ,  56.4958,  57.9792,  46.9   ,  52.5542,  29.125 ,\n",
       "         9.825 ,  61.175 ,  15.1   ,  66.6   ,  83.1583,  37.0042,\n",
       "        16.1   ,  27.9   , 211.3375,   7.7958,  40.125 ,  28.7125,\n",
       "        19.2583,  49.5042,  65.    ,  52.    ,  86.5   ,  16.    ,\n",
       "        53.1   ,   6.8583,  19.9667,  13.7917,   7.7333, 113.275 ,\n",
       "        69.55  ,  30.0708,   8.0292,  55.    ,  39.6   ,  24.    ,\n",
       "        20.575 ,  17.4   ,  22.025 ,  29.7   ,   6.95  ,  25.5875,\n",
       "       263.    ,  11.5   ,  11.2417,  18.7875,  13.4167,  73.5   ,\n",
       "       164.8667,  79.65  ,  71.    ,  69.3   , 108.9   ,  14.4   ,\n",
       "         6.4958,  12.2875, 146.5208,  13.8583,  10.1708,  77.2875,\n",
       "         7.7417,  17.8   ,  15.85  ,  12.65  ,  26.2875,  18.75  ,\n",
       "        42.4   ,   7.3125,  23.    ,   7.1417, 512.3292,  23.25  ,\n",
       "         7.55  ,  33.    ,  21.6792,  25.9292,  34.0208,   9.35  ,\n",
       "        78.85  ,  39.    ,   8.6542,  15.    ,  51.4792,  12.525 ,\n",
       "        15.9   , 135.6333,   6.75  ,   8.4042,   8.85  ,   7.8875,\n",
       "         8.1375,  78.2667,   5.    ,  14.    ,   8.5167,   7.125 ,\n",
       "        76.7292,  33.5   ,   7.4958,  27.    ,   8.6833,   7.7375,\n",
       "         7.6292,  83.475 ,   4.0125,   9.2167,  50.4958,  93.5   ,\n",
       "         9.475 , 134.5   ,  10.4625,  15.75  ,  12.    ,  71.2833,\n",
       "         9.    ,  82.1708,  22.525 ,  75.25  ,   6.45  ,  91.0792,\n",
       "         9.8375,   8.3625,  31.    ,  14.1083])"
      ]
     },
     "execution_count": 42,
     "metadata": {},
     "output_type": "execute_result"
    }
   ],
   "source": [
    "X_train['fare'].unique()"
   ]
  },
  {
   "cell_type": "code",
   "execution_count": 43,
   "id": "c91da2a6",
   "metadata": {},
   "outputs": [],
   "source": [
    "# fare\n",
    "# float64 -> float32\n",
    "\n",
    "X_train[\"fare\"] = X_train[\"fare\"].astype(\"float32\")\n",
    "X_test[\"fare\"] = X_test[\"fare\"].astype(\"float32\")"
   ]
  },
  {
   "cell_type": "code",
   "execution_count": 44,
   "id": "9280c968",
   "metadata": {
    "scrolled": true
   },
   "outputs": [
    {
     "name": "stdout",
     "output_type": "stream",
     "text": [
      "<class 'pandas.core.frame.DataFrame'>\n",
      "RangeIndex: 712 entries, 0 to 711\n",
      "Data columns (total 10 columns):\n",
      " #   Column    Non-Null Count  Dtype   \n",
      "---  ------    --------------  -----   \n",
      " 0   survived  712 non-null    int32   \n",
      " 1   pclass    712 non-null    category\n",
      " 2   name      712 non-null    object  \n",
      " 3   sex       712 non-null    object  \n",
      " 4   age       712 non-null    int32   \n",
      " 5   sibsp     712 non-null    category\n",
      " 6   parch     712 non-null    category\n",
      " 7   ticket    712 non-null    object  \n",
      " 8   fare      712 non-null    float32 \n",
      " 9   embarked  712 non-null    object  \n",
      "dtypes: category(3), float32(1), int32(2), object(4)\n",
      "memory usage: 33.6+ KB\n"
     ]
    }
   ],
   "source": [
    "X_train.info()"
   ]
  },
  {
   "cell_type": "markdown",
   "id": "43630c1e",
   "metadata": {},
   "source": [
    "### 범주형 데이터 타입 변환"
   ]
  },
  {
   "cell_type": "code",
   "execution_count": 406,
   "id": "0abcd817",
   "metadata": {
    "scrolled": true
   },
   "outputs": [
    {
     "name": "stdout",
     "output_type": "stream",
     "text": [
      "<class 'pandas.core.frame.DataFrame'>\n",
      "RangeIndex: 712 entries, 0 to 711\n",
      "Data columns (total 10 columns):\n",
      " #   Column    Non-Null Count  Dtype   \n",
      "---  ------    --------------  -----   \n",
      " 0   survived  712 non-null    int32   \n",
      " 1   pclass    712 non-null    category\n",
      " 2   name      712 non-null    object  \n",
      " 3   sex       712 non-null    object  \n",
      " 4   age       179 non-null    float64 \n",
      " 5   sibsp     712 non-null    category\n",
      " 6   parch     712 non-null    category\n",
      " 7   ticket    712 non-null    object  \n",
      " 8   fare      712 non-null    float32 \n",
      " 9   embarked  712 non-null    object  \n",
      "dtypes: category(3), float32(1), float64(1), int32(1), object(4)\n",
      "memory usage: 36.4+ KB\n"
     ]
    }
   ],
   "source": [
    "X_train.info()"
   ]
  },
  {
   "cell_type": "markdown",
   "id": "18e14f6c",
   "metadata": {},
   "source": [
    "3   name         712 non-null    object   \n",
    " 4   sex          712 non-null    object  \n",
    "    8   ticket       712 non-null    object   \n",
    "    10  embarked     712 non-null    object  "
   ]
  },
  {
   "cell_type": "code",
   "execution_count": 45,
   "id": "d1aa0a96",
   "metadata": {},
   "outputs": [
    {
     "data": {
      "text/plain": [
       "Index(['name', 'sex', 'ticket', 'embarked'], dtype='object')"
      ]
     },
     "execution_count": 45,
     "metadata": {},
     "output_type": "execute_result"
    }
   ],
   "source": [
    "df_obj = X_train.select_dtypes(include='object')\n",
    "df_obj.columns"
   ]
  },
  {
   "cell_type": "code",
   "execution_count": 46,
   "id": "3cd6fba5",
   "metadata": {},
   "outputs": [
    {
     "name": "stdout",
     "output_type": "stream",
     "text": [
      "<class 'pandas.core.frame.DataFrame'>\n",
      "RangeIndex: 712 entries, 0 to 711\n",
      "Data columns (total 4 columns):\n",
      " #   Column    Non-Null Count  Dtype \n",
      "---  ------    --------------  ----- \n",
      " 0   name      712 non-null    object\n",
      " 1   sex       712 non-null    object\n",
      " 2   ticket    712 non-null    object\n",
      " 3   embarked  712 non-null    object\n",
      "dtypes: object(4)\n",
      "memory usage: 22.4+ KB\n"
     ]
    }
   ],
   "source": [
    "df_obj.info()"
   ]
  },
  {
   "cell_type": "code",
   "execution_count": 47,
   "id": "6b14e8fc",
   "metadata": {},
   "outputs": [
    {
     "data": {
      "text/plain": [
       "array(['male', 'female'], dtype=object)"
      ]
     },
     "execution_count": 47,
     "metadata": {},
     "output_type": "execute_result"
    }
   ],
   "source": [
    "X_train['sex'].unique()"
   ]
  },
  {
   "cell_type": "code",
   "execution_count": 48,
   "id": "f2da2f0e",
   "metadata": {},
   "outputs": [],
   "source": [
    "# sex\n",
    "# object -> catogory\n",
    "\n",
    "X_train['sex'] = X_train['sex'].astype('category')\n",
    "X_test['sex'] = X_test['sex'].astype('category')"
   ]
  },
  {
   "cell_type": "code",
   "execution_count": 49,
   "id": "80afa8dd",
   "metadata": {},
   "outputs": [
    {
     "data": {
      "text/plain": [
       "array(['S', 'C', 'Q'], dtype=object)"
      ]
     },
     "execution_count": 49,
     "metadata": {},
     "output_type": "execute_result"
    }
   ],
   "source": [
    "# 범주형\n",
    "X_train['embarked'].unique()"
   ]
  },
  {
   "cell_type": "code",
   "execution_count": 50,
   "id": "5b5df90b",
   "metadata": {},
   "outputs": [],
   "source": [
    "X_train['embarked'] = X_train['embarked'].astype('category')\n",
    "X_test['embarked'] = X_test['embarked'].astype('category')"
   ]
  },
  {
   "cell_type": "code",
   "execution_count": 51,
   "id": "20ae726c",
   "metadata": {
    "scrolled": true
   },
   "outputs": [
    {
     "name": "stdout",
     "output_type": "stream",
     "text": [
      "<class 'pandas.core.frame.DataFrame'>\n",
      "RangeIndex: 712 entries, 0 to 711\n",
      "Data columns (total 10 columns):\n",
      " #   Column    Non-Null Count  Dtype   \n",
      "---  ------    --------------  -----   \n",
      " 0   survived  712 non-null    int32   \n",
      " 1   pclass    712 non-null    category\n",
      " 2   name      712 non-null    object  \n",
      " 3   sex       712 non-null    category\n",
      " 4   age       712 non-null    int32   \n",
      " 5   sibsp     712 non-null    category\n",
      " 6   parch     712 non-null    category\n",
      " 7   ticket    712 non-null    object  \n",
      " 8   fare      712 non-null    float32 \n",
      " 9   embarked  712 non-null    category\n",
      "dtypes: category(5), float32(1), int32(2), object(2)\n",
      "memory usage: 24.1+ KB\n"
     ]
    }
   ],
   "source": [
    "X_train.info()"
   ]
  },
  {
   "cell_type": "code",
   "execution_count": 222,
   "id": "8e91132d",
   "metadata": {},
   "outputs": [
    {
     "data": {
      "text/html": [
       "<div>\n",
       "<style scoped>\n",
       "    .dataframe tbody tr th:only-of-type {\n",
       "        vertical-align: middle;\n",
       "    }\n",
       "\n",
       "    .dataframe tbody tr th {\n",
       "        vertical-align: top;\n",
       "    }\n",
       "\n",
       "    .dataframe thead th {\n",
       "        text-align: right;\n",
       "    }\n",
       "</style>\n",
       "<table border=\"1\" class=\"dataframe\">\n",
       "  <thead>\n",
       "    <tr style=\"text-align: right;\">\n",
       "      <th></th>\n",
       "      <th>name</th>\n",
       "      <th>sex</th>\n",
       "      <th>ticket</th>\n",
       "      <th>embarked</th>\n",
       "    </tr>\n",
       "  </thead>\n",
       "  <tbody>\n",
       "    <tr>\n",
       "      <th>count</th>\n",
       "      <td>712</td>\n",
       "      <td>712</td>\n",
       "      <td>712</td>\n",
       "      <td>712</td>\n",
       "    </tr>\n",
       "    <tr>\n",
       "      <th>unique</th>\n",
       "      <td>712</td>\n",
       "      <td>2</td>\n",
       "      <td>558</td>\n",
       "      <td>3</td>\n",
       "    </tr>\n",
       "    <tr>\n",
       "      <th>top</th>\n",
       "      <td>Partner, Mr. Austen</td>\n",
       "      <td>male</td>\n",
       "      <td>CA. 2343</td>\n",
       "      <td>S</td>\n",
       "    </tr>\n",
       "    <tr>\n",
       "      <th>freq</th>\n",
       "      <td>1</td>\n",
       "      <td>467</td>\n",
       "      <td>7</td>\n",
       "      <td>527</td>\n",
       "    </tr>\n",
       "  </tbody>\n",
       "</table>\n",
       "</div>"
      ],
      "text/plain": [
       "                       name   sex    ticket embarked\n",
       "count                   712   712       712      712\n",
       "unique                  712     2       558        3\n",
       "top     Partner, Mr. Austen  male  CA. 2343        S\n",
       "freq                      1   467         7      527"
      ]
     },
     "execution_count": 222,
     "metadata": {},
     "output_type": "execute_result"
    }
   ],
   "source": [
    "df_obj.describe()"
   ]
  },
  {
   "cell_type": "markdown",
   "id": "6aba7ae9",
   "metadata": {},
   "source": [
    "### 문자열"
   ]
  },
  {
   "cell_type": "code",
   "execution_count": 223,
   "id": "b9e8c25b",
   "metadata": {},
   "outputs": [],
   "source": [
    "df_obj = X_train.select_dtypes(include='object')"
   ]
  },
  {
   "cell_type": "code",
   "execution_count": 224,
   "id": "ba157c31",
   "metadata": {},
   "outputs": [
    {
     "data": {
      "text/plain": [
       "Index(['name', 'ticket'], dtype='object')"
      ]
     },
     "execution_count": 224,
     "metadata": {},
     "output_type": "execute_result"
    }
   ],
   "source": [
    "df_obj.columns"
   ]
  },
  {
   "cell_type": "code",
   "execution_count": 225,
   "id": "5f3d968c",
   "metadata": {},
   "outputs": [
    {
     "data": {
      "text/html": [
       "<div>\n",
       "<style scoped>\n",
       "    .dataframe tbody tr th:only-of-type {\n",
       "        vertical-align: middle;\n",
       "    }\n",
       "\n",
       "    .dataframe tbody tr th {\n",
       "        vertical-align: top;\n",
       "    }\n",
       "\n",
       "    .dataframe thead th {\n",
       "        text-align: right;\n",
       "    }\n",
       "</style>\n",
       "<table border=\"1\" class=\"dataframe\">\n",
       "  <thead>\n",
       "    <tr style=\"text-align: right;\">\n",
       "      <th></th>\n",
       "      <th>name</th>\n",
       "      <th>ticket</th>\n",
       "    </tr>\n",
       "  </thead>\n",
       "  <tbody>\n",
       "    <tr>\n",
       "      <th>0</th>\n",
       "      <td>Partner, Mr. Austen</td>\n",
       "      <td>113043</td>\n",
       "    </tr>\n",
       "    <tr>\n",
       "      <th>1</th>\n",
       "      <td>Berriman, Mr. William John</td>\n",
       "      <td>28425</td>\n",
       "    </tr>\n",
       "    <tr>\n",
       "      <th>2</th>\n",
       "      <td>Tikkanen, Mr. Juho</td>\n",
       "      <td>STON/O 2. 3101293</td>\n",
       "    </tr>\n",
       "    <tr>\n",
       "      <th>3</th>\n",
       "      <td>Hansen, Mr. Henrik Juul</td>\n",
       "      <td>350025</td>\n",
       "    </tr>\n",
       "    <tr>\n",
       "      <th>4</th>\n",
       "      <td>Andersson, Miss. Ebba Iris Alfrida</td>\n",
       "      <td>347082</td>\n",
       "    </tr>\n",
       "  </tbody>\n",
       "</table>\n",
       "</div>"
      ],
      "text/plain": [
       "                                 name             ticket\n",
       "0                 Partner, Mr. Austen             113043\n",
       "1          Berriman, Mr. William John              28425\n",
       "2                  Tikkanen, Mr. Juho  STON/O 2. 3101293\n",
       "3             Hansen, Mr. Henrik Juul             350025\n",
       "4  Andersson, Miss. Ebba Iris Alfrida             347082"
      ]
     },
     "execution_count": 225,
     "metadata": {},
     "output_type": "execute_result"
    }
   ],
   "source": [
    "df_obj.head()"
   ]
  },
  {
   "cell_type": "code",
   "execution_count": 226,
   "id": "4212df6e",
   "metadata": {},
   "outputs": [
    {
     "data": {
      "text/html": [
       "<div>\n",
       "<style scoped>\n",
       "    .dataframe tbody tr th:only-of-type {\n",
       "        vertical-align: middle;\n",
       "    }\n",
       "\n",
       "    .dataframe tbody tr th {\n",
       "        vertical-align: top;\n",
       "    }\n",
       "\n",
       "    .dataframe thead th {\n",
       "        text-align: right;\n",
       "    }\n",
       "</style>\n",
       "<table border=\"1\" class=\"dataframe\">\n",
       "  <thead>\n",
       "    <tr style=\"text-align: right;\">\n",
       "      <th></th>\n",
       "      <th>name</th>\n",
       "      <th>ticket</th>\n",
       "    </tr>\n",
       "  </thead>\n",
       "  <tbody>\n",
       "    <tr>\n",
       "      <th>count</th>\n",
       "      <td>712</td>\n",
       "      <td>712</td>\n",
       "    </tr>\n",
       "    <tr>\n",
       "      <th>unique</th>\n",
       "      <td>712</td>\n",
       "      <td>558</td>\n",
       "    </tr>\n",
       "    <tr>\n",
       "      <th>top</th>\n",
       "      <td>Partner, Mr. Austen</td>\n",
       "      <td>CA. 2343</td>\n",
       "    </tr>\n",
       "    <tr>\n",
       "      <th>freq</th>\n",
       "      <td>1</td>\n",
       "      <td>7</td>\n",
       "    </tr>\n",
       "  </tbody>\n",
       "</table>\n",
       "</div>"
      ],
      "text/plain": [
       "                       name    ticket\n",
       "count                   712       712\n",
       "unique                  712       558\n",
       "top     Partner, Mr. Austen  CA. 2343\n",
       "freq                      1         7"
      ]
     },
     "execution_count": 226,
     "metadata": {},
     "output_type": "execute_result"
    }
   ],
   "source": [
    "df_obj.describe()"
   ]
  },
  {
   "cell_type": "markdown",
   "id": "d5a6ace9",
   "metadata": {},
   "source": [
    "### 공백 제거\n",
    "> 앞 뒤 공백 제거 : strip()"
   ]
  },
  {
   "cell_type": "markdown",
   "id": "f7599259",
   "metadata": {},
   "source": [
    "문자열의 경우 앞 뒤 공백 제거를 기본으로 한다고 생각하면 됨  "
   ]
  },
  {
   "cell_type": "markdown",
   "id": "2c3e06b4",
   "metadata": {},
   "source": [
    "lambda x -> X_train['name'][n] = 0, 1, 2, 3, 4,. ...."
   ]
  },
  {
   "cell_type": "code",
   "execution_count": 52,
   "id": "666d4573",
   "metadata": {},
   "outputs": [],
   "source": [
    "X_train['name'] = X_train['name'].map(lambda x:x.strip())\n",
    "X_train['ticket'] = X_train['ticket'].map(lambda x:x.strip())\n",
    "\n",
    "X_test['name'] = X_test['name'].map(lambda x:x.strip())\n",
    "X_test['ticket'] = X_test['ticket'].map(lambda x:x.strip())"
   ]
  },
  {
   "cell_type": "markdown",
   "id": "5d7d714b",
   "metadata": {},
   "source": [
    "차이는 없지만 앞 뒤의 공백이 사라진 것"
   ]
  },
  {
   "cell_type": "code",
   "execution_count": 62,
   "id": "43bae6d4",
   "metadata": {},
   "outputs": [
    {
     "data": {
      "text/plain": [
       "array(['Mr.', 'Miss.', 'Major.', 'Mrs.', 'Master.', 'Rev.', 'Dr.', 'Col.',\n",
       "       'Mlle.', 'Capt.', 'Mme.', 'Ms.', 'the', 'Lady.'], dtype=object)"
      ]
     },
     "execution_count": 62,
     "metadata": {},
     "output_type": "execute_result"
    }
   ],
   "source": [
    "# X_train['name'].map(lambda x: x.split(',')[0])\n",
    "X_train['name'].map(lambda x: x.split(',')[1].split()[0]).unique()\n",
    "# X_train['name'].map(lambda x: x.split(',')[1].split()[1])"
   ]
  },
  {
   "cell_type": "code",
   "execution_count": 63,
   "id": "d30920e3",
   "metadata": {
    "scrolled": false
   },
   "outputs": [
    {
     "data": {
      "text/html": [
       "<div>\n",
       "<style scoped>\n",
       "    .dataframe tbody tr th:only-of-type {\n",
       "        vertical-align: middle;\n",
       "    }\n",
       "\n",
       "    .dataframe tbody tr th {\n",
       "        vertical-align: top;\n",
       "    }\n",
       "\n",
       "    .dataframe thead th {\n",
       "        text-align: right;\n",
       "    }\n",
       "</style>\n",
       "<table border=\"1\" class=\"dataframe\">\n",
       "  <thead>\n",
       "    <tr style=\"text-align: right;\">\n",
       "      <th></th>\n",
       "      <th>survived</th>\n",
       "      <th>pclass</th>\n",
       "      <th>name</th>\n",
       "      <th>sex</th>\n",
       "      <th>age</th>\n",
       "      <th>sibsp</th>\n",
       "      <th>parch</th>\n",
       "      <th>ticket</th>\n",
       "      <th>fare</th>\n",
       "      <th>embarked</th>\n",
       "      <th>designation</th>\n",
       "    </tr>\n",
       "  </thead>\n",
       "  <tbody>\n",
       "    <tr>\n",
       "      <th>0</th>\n",
       "      <td>0</td>\n",
       "      <td>1</td>\n",
       "      <td>Partner, Mr. Austen</td>\n",
       "      <td>male</td>\n",
       "      <td>45</td>\n",
       "      <td>0</td>\n",
       "      <td>0</td>\n",
       "      <td>113043</td>\n",
       "      <td>28.5000</td>\n",
       "      <td>S</td>\n",
       "      <td>Mr.</td>\n",
       "    </tr>\n",
       "    <tr>\n",
       "      <th>1</th>\n",
       "      <td>0</td>\n",
       "      <td>2</td>\n",
       "      <td>Berriman, Mr. William John</td>\n",
       "      <td>male</td>\n",
       "      <td>23</td>\n",
       "      <td>0</td>\n",
       "      <td>0</td>\n",
       "      <td>28425</td>\n",
       "      <td>13.0000</td>\n",
       "      <td>S</td>\n",
       "      <td>Mr.</td>\n",
       "    </tr>\n",
       "    <tr>\n",
       "      <th>2</th>\n",
       "      <td>0</td>\n",
       "      <td>3</td>\n",
       "      <td>Tikkanen, Mr. Juho</td>\n",
       "      <td>male</td>\n",
       "      <td>32</td>\n",
       "      <td>0</td>\n",
       "      <td>0</td>\n",
       "      <td>STON/O 2. 3101293</td>\n",
       "      <td>7.9250</td>\n",
       "      <td>S</td>\n",
       "      <td>Mr.</td>\n",
       "    </tr>\n",
       "    <tr>\n",
       "      <th>3</th>\n",
       "      <td>0</td>\n",
       "      <td>3</td>\n",
       "      <td>Hansen, Mr. Henrik Juul</td>\n",
       "      <td>male</td>\n",
       "      <td>26</td>\n",
       "      <td>1</td>\n",
       "      <td>0</td>\n",
       "      <td>350025</td>\n",
       "      <td>7.8542</td>\n",
       "      <td>S</td>\n",
       "      <td>Mr.</td>\n",
       "    </tr>\n",
       "    <tr>\n",
       "      <th>4</th>\n",
       "      <td>0</td>\n",
       "      <td>3</td>\n",
       "      <td>Andersson, Miss. Ebba Iris Alfrida</td>\n",
       "      <td>female</td>\n",
       "      <td>6</td>\n",
       "      <td>4</td>\n",
       "      <td>2</td>\n",
       "      <td>347082</td>\n",
       "      <td>31.2750</td>\n",
       "      <td>S</td>\n",
       "      <td>Miss.</td>\n",
       "    </tr>\n",
       "  </tbody>\n",
       "</table>\n",
       "</div>"
      ],
      "text/plain": [
       "   survived pclass                                name     sex  age sibsp  \\\n",
       "0         0      1                 Partner, Mr. Austen    male   45     0   \n",
       "1         0      2          Berriman, Mr. William John    male   23     0   \n",
       "2         0      3                  Tikkanen, Mr. Juho    male   32     0   \n",
       "3         0      3             Hansen, Mr. Henrik Juul    male   26     1   \n",
       "4         0      3  Andersson, Miss. Ebba Iris Alfrida  female    6     4   \n",
       "\n",
       "  parch             ticket     fare embarked designation  \n",
       "0     0             113043  28.5000        S         Mr.  \n",
       "1     0              28425  13.0000        S         Mr.  \n",
       "2     0  STON/O 2. 3101293   7.9250        S         Mr.  \n",
       "3     0             350025   7.8542        S         Mr.  \n",
       "4     2             347082  31.2750        S       Miss.  "
      ]
     },
     "execution_count": 63,
     "metadata": {},
     "output_type": "execute_result"
    }
   ],
   "source": [
    "dict_designation = {\n",
    "    'Mr.': '남성',\n",
    "    'Master.': '남성',\n",
    "    'Sir.': '남성',\n",
    "    'Miss.': '미혼 여성',\n",
    "    'Mrs.': '기혼 여성',\n",
    "    'Ms.': '미혼/기혼 여성',\n",
    "    'Lady.': '숙녀',\n",
    "    'Mlle.': '아가씨',\n",
    "    # 직업\n",
    "    'Dr.': '의사',\n",
    "    'Rev.': '목사',\n",
    "    'Major.': '계급',\n",
    "    'Don.': '교수',\n",
    "    'Col.': '군인',\n",
    "    'Capt.': '군인',\n",
    "    # 귀족\n",
    "    'Mme.': '영부인',\n",
    "    'Countess.': '백작부인',\n",
    "    'Jonkheer.': '귀족'\n",
    "}\n",
    "\n",
    "def add_designation(name): # 호칭 함수\n",
    "    designation = \"unknown\" # 변수 초기화 아무것도 없으면 unknown\n",
    "    for key in dict_designation.keys():\n",
    "        if key in name:\n",
    "            designation = key\n",
    "            break\n",
    "    return designation\n",
    "\n",
    "# 'designation' 새 컬럼 추가\n",
    "X_train['designation'] = X_train['name'].map(lambda x: add_designation(x))\n",
    "X_test['designation'] = X_test['name'].map(lambda x: add_designation(x))\n",
    "\n",
    "X_train.head()"
   ]
  },
  {
   "cell_type": "code",
   "execution_count": 67,
   "id": "c0ae70a0",
   "metadata": {},
   "outputs": [],
   "source": [
    "X_train['Test1'] = 0"
   ]
  },
  {
   "cell_type": "code",
   "execution_count": 68,
   "id": "90e0af68",
   "metadata": {},
   "outputs": [
    {
     "data": {
      "text/html": [
       "<div>\n",
       "<style scoped>\n",
       "    .dataframe tbody tr th:only-of-type {\n",
       "        vertical-align: middle;\n",
       "    }\n",
       "\n",
       "    .dataframe tbody tr th {\n",
       "        vertical-align: top;\n",
       "    }\n",
       "\n",
       "    .dataframe thead th {\n",
       "        text-align: right;\n",
       "    }\n",
       "</style>\n",
       "<table border=\"1\" class=\"dataframe\">\n",
       "  <thead>\n",
       "    <tr style=\"text-align: right;\">\n",
       "      <th></th>\n",
       "      <th>survived</th>\n",
       "      <th>pclass</th>\n",
       "      <th>name</th>\n",
       "      <th>sex</th>\n",
       "      <th>age</th>\n",
       "      <th>sibsp</th>\n",
       "      <th>parch</th>\n",
       "      <th>ticket</th>\n",
       "      <th>fare</th>\n",
       "      <th>embarked</th>\n",
       "      <th>designation</th>\n",
       "      <th>Test</th>\n",
       "      <th>Test1</th>\n",
       "    </tr>\n",
       "  </thead>\n",
       "  <tbody>\n",
       "    <tr>\n",
       "      <th>0</th>\n",
       "      <td>0</td>\n",
       "      <td>1</td>\n",
       "      <td>Partner, Mr. Austen</td>\n",
       "      <td>male</td>\n",
       "      <td>45</td>\n",
       "      <td>0</td>\n",
       "      <td>0</td>\n",
       "      <td>113043</td>\n",
       "      <td>28.5000</td>\n",
       "      <td>S</td>\n",
       "      <td>Mr.</td>\n",
       "      <td>Partner, Mr. Austen</td>\n",
       "      <td>0</td>\n",
       "    </tr>\n",
       "    <tr>\n",
       "      <th>1</th>\n",
       "      <td>0</td>\n",
       "      <td>2</td>\n",
       "      <td>Berriman, Mr. William John</td>\n",
       "      <td>male</td>\n",
       "      <td>23</td>\n",
       "      <td>0</td>\n",
       "      <td>0</td>\n",
       "      <td>28425</td>\n",
       "      <td>13.0000</td>\n",
       "      <td>S</td>\n",
       "      <td>Mr.</td>\n",
       "      <td>Berriman, Mr. William John</td>\n",
       "      <td>0</td>\n",
       "    </tr>\n",
       "    <tr>\n",
       "      <th>2</th>\n",
       "      <td>0</td>\n",
       "      <td>3</td>\n",
       "      <td>Tikkanen, Mr. Juho</td>\n",
       "      <td>male</td>\n",
       "      <td>32</td>\n",
       "      <td>0</td>\n",
       "      <td>0</td>\n",
       "      <td>STON/O 2. 3101293</td>\n",
       "      <td>7.9250</td>\n",
       "      <td>S</td>\n",
       "      <td>Mr.</td>\n",
       "      <td>Tikkanen, Mr. Juho</td>\n",
       "      <td>0</td>\n",
       "    </tr>\n",
       "    <tr>\n",
       "      <th>3</th>\n",
       "      <td>0</td>\n",
       "      <td>3</td>\n",
       "      <td>Hansen, Mr. Henrik Juul</td>\n",
       "      <td>male</td>\n",
       "      <td>26</td>\n",
       "      <td>1</td>\n",
       "      <td>0</td>\n",
       "      <td>350025</td>\n",
       "      <td>7.8542</td>\n",
       "      <td>S</td>\n",
       "      <td>Mr.</td>\n",
       "      <td>Hansen, Mr. Henrik Juul</td>\n",
       "      <td>0</td>\n",
       "    </tr>\n",
       "    <tr>\n",
       "      <th>4</th>\n",
       "      <td>0</td>\n",
       "      <td>3</td>\n",
       "      <td>Andersson, Miss. Ebba Iris Alfrida</td>\n",
       "      <td>female</td>\n",
       "      <td>6</td>\n",
       "      <td>4</td>\n",
       "      <td>2</td>\n",
       "      <td>347082</td>\n",
       "      <td>31.2750</td>\n",
       "      <td>S</td>\n",
       "      <td>Miss.</td>\n",
       "      <td>Andersson, Miss. Ebba Iris Alfrida</td>\n",
       "      <td>0</td>\n",
       "    </tr>\n",
       "  </tbody>\n",
       "</table>\n",
       "</div>"
      ],
      "text/plain": [
       "   survived pclass                                name     sex  age sibsp  \\\n",
       "0         0      1                 Partner, Mr. Austen    male   45     0   \n",
       "1         0      2          Berriman, Mr. William John    male   23     0   \n",
       "2         0      3                  Tikkanen, Mr. Juho    male   32     0   \n",
       "3         0      3             Hansen, Mr. Henrik Juul    male   26     1   \n",
       "4         0      3  Andersson, Miss. Ebba Iris Alfrida  female    6     4   \n",
       "\n",
       "  parch             ticket     fare embarked designation  \\\n",
       "0     0             113043  28.5000        S         Mr.   \n",
       "1     0              28425  13.0000        S         Mr.   \n",
       "2     0  STON/O 2. 3101293   7.9250        S         Mr.   \n",
       "3     0             350025   7.8542        S         Mr.   \n",
       "4     2             347082  31.2750        S       Miss.   \n",
       "\n",
       "                                 Test  Test1  \n",
       "0                 Partner, Mr. Austen      0  \n",
       "1          Berriman, Mr. William John      0  \n",
       "2                  Tikkanen, Mr. Juho      0  \n",
       "3             Hansen, Mr. Henrik Juul      0  \n",
       "4  Andersson, Miss. Ebba Iris Alfrida      0  "
      ]
     },
     "execution_count": 68,
     "metadata": {},
     "output_type": "execute_result"
    }
   ],
   "source": [
    "X_train.head()"
   ]
  },
  {
   "cell_type": "code",
   "execution_count": 69,
   "id": "d1be018b",
   "metadata": {},
   "outputs": [
    {
     "data": {
      "text/html": [
       "<div>\n",
       "<style scoped>\n",
       "    .dataframe tbody tr th:only-of-type {\n",
       "        vertical-align: middle;\n",
       "    }\n",
       "\n",
       "    .dataframe tbody tr th {\n",
       "        vertical-align: top;\n",
       "    }\n",
       "\n",
       "    .dataframe thead th {\n",
       "        text-align: right;\n",
       "    }\n",
       "</style>\n",
       "<table border=\"1\" class=\"dataframe\">\n",
       "  <thead>\n",
       "    <tr style=\"text-align: right;\">\n",
       "      <th></th>\n",
       "      <th>survived</th>\n",
       "      <th>pclass</th>\n",
       "      <th>name</th>\n",
       "      <th>sex</th>\n",
       "      <th>age</th>\n",
       "      <th>sibsp</th>\n",
       "      <th>parch</th>\n",
       "      <th>ticket</th>\n",
       "      <th>fare</th>\n",
       "      <th>embarked</th>\n",
       "      <th>designation</th>\n",
       "      <th>Test</th>\n",
       "      <th>Test1</th>\n",
       "    </tr>\n",
       "  </thead>\n",
       "  <tbody>\n",
       "  </tbody>\n",
       "</table>\n",
       "</div>"
      ],
      "text/plain": [
       "Empty DataFrame\n",
       "Columns: [survived, pclass, name, sex, age, sibsp, parch, ticket, fare, embarked, designation, Test, Test1]\n",
       "Index: []"
      ]
     },
     "execution_count": 69,
     "metadata": {},
     "output_type": "execute_result"
    }
   ],
   "source": [
    "cond = X_train['designation'] == \"unknown\"\n",
    "X_train.loc[cond].head()"
   ]
  },
  {
   "cell_type": "code",
   "execution_count": 70,
   "id": "1e5b4e5d",
   "metadata": {},
   "outputs": [
    {
     "data": {
      "text/html": [
       "<div>\n",
       "<style scoped>\n",
       "    .dataframe tbody tr th:only-of-type {\n",
       "        vertical-align: middle;\n",
       "    }\n",
       "\n",
       "    .dataframe tbody tr th {\n",
       "        vertical-align: top;\n",
       "    }\n",
       "\n",
       "    .dataframe thead th {\n",
       "        text-align: right;\n",
       "    }\n",
       "</style>\n",
       "<table border=\"1\" class=\"dataframe\">\n",
       "  <thead>\n",
       "    <tr style=\"text-align: right;\">\n",
       "      <th></th>\n",
       "      <th>survived</th>\n",
       "      <th>pclass</th>\n",
       "      <th>name</th>\n",
       "      <th>sex</th>\n",
       "      <th>age</th>\n",
       "      <th>sibsp</th>\n",
       "      <th>parch</th>\n",
       "      <th>ticket</th>\n",
       "      <th>fare</th>\n",
       "      <th>embarked</th>\n",
       "      <th>designation</th>\n",
       "    </tr>\n",
       "  </thead>\n",
       "  <tbody>\n",
       "  </tbody>\n",
       "</table>\n",
       "</div>"
      ],
      "text/plain": [
       "Empty DataFrame\n",
       "Columns: [survived, pclass, name, sex, age, sibsp, parch, ticket, fare, embarked, designation]\n",
       "Index: []"
      ]
     },
     "execution_count": 70,
     "metadata": {},
     "output_type": "execute_result"
    }
   ],
   "source": [
    "cond = X_test['designation'] == \"unknown\"\n",
    "X_test.loc[cond].head()"
   ]
  },
  {
   "cell_type": "markdown",
   "id": "37217fde",
   "metadata": {},
   "source": [
    "### 문자열 분리"
   ]
  },
  {
   "cell_type": "code",
   "execution_count": 71,
   "id": "5627cc47",
   "metadata": {},
   "outputs": [
    {
     "data": {
      "text/html": [
       "<div>\n",
       "<style scoped>\n",
       "    .dataframe tbody tr th:only-of-type {\n",
       "        vertical-align: middle;\n",
       "    }\n",
       "\n",
       "    .dataframe tbody tr th {\n",
       "        vertical-align: top;\n",
       "    }\n",
       "\n",
       "    .dataframe thead th {\n",
       "        text-align: right;\n",
       "    }\n",
       "</style>\n",
       "<table border=\"1\" class=\"dataframe\">\n",
       "  <thead>\n",
       "    <tr style=\"text-align: right;\">\n",
       "      <th></th>\n",
       "      <th>survived</th>\n",
       "      <th>pclass</th>\n",
       "      <th>name</th>\n",
       "      <th>sex</th>\n",
       "      <th>age</th>\n",
       "      <th>sibsp</th>\n",
       "      <th>parch</th>\n",
       "      <th>ticket</th>\n",
       "      <th>fare</th>\n",
       "      <th>embarked</th>\n",
       "      <th>designation</th>\n",
       "      <th>Test</th>\n",
       "      <th>Test1</th>\n",
       "      <th>last_name</th>\n",
       "    </tr>\n",
       "  </thead>\n",
       "  <tbody>\n",
       "    <tr>\n",
       "      <th>0</th>\n",
       "      <td>0</td>\n",
       "      <td>1</td>\n",
       "      <td>Partner, Mr. Austen</td>\n",
       "      <td>male</td>\n",
       "      <td>45</td>\n",
       "      <td>0</td>\n",
       "      <td>0</td>\n",
       "      <td>113043</td>\n",
       "      <td>28.5000</td>\n",
       "      <td>S</td>\n",
       "      <td>Mr.</td>\n",
       "      <td>Partner, Mr. Austen</td>\n",
       "      <td>0</td>\n",
       "      <td>Partner</td>\n",
       "    </tr>\n",
       "    <tr>\n",
       "      <th>1</th>\n",
       "      <td>0</td>\n",
       "      <td>2</td>\n",
       "      <td>Berriman, Mr. William John</td>\n",
       "      <td>male</td>\n",
       "      <td>23</td>\n",
       "      <td>0</td>\n",
       "      <td>0</td>\n",
       "      <td>28425</td>\n",
       "      <td>13.0000</td>\n",
       "      <td>S</td>\n",
       "      <td>Mr.</td>\n",
       "      <td>Berriman, Mr. William John</td>\n",
       "      <td>0</td>\n",
       "      <td>Berriman</td>\n",
       "    </tr>\n",
       "    <tr>\n",
       "      <th>2</th>\n",
       "      <td>0</td>\n",
       "      <td>3</td>\n",
       "      <td>Tikkanen, Mr. Juho</td>\n",
       "      <td>male</td>\n",
       "      <td>32</td>\n",
       "      <td>0</td>\n",
       "      <td>0</td>\n",
       "      <td>STON/O 2. 3101293</td>\n",
       "      <td>7.9250</td>\n",
       "      <td>S</td>\n",
       "      <td>Mr.</td>\n",
       "      <td>Tikkanen, Mr. Juho</td>\n",
       "      <td>0</td>\n",
       "      <td>Tikkanen</td>\n",
       "    </tr>\n",
       "    <tr>\n",
       "      <th>3</th>\n",
       "      <td>0</td>\n",
       "      <td>3</td>\n",
       "      <td>Hansen, Mr. Henrik Juul</td>\n",
       "      <td>male</td>\n",
       "      <td>26</td>\n",
       "      <td>1</td>\n",
       "      <td>0</td>\n",
       "      <td>350025</td>\n",
       "      <td>7.8542</td>\n",
       "      <td>S</td>\n",
       "      <td>Mr.</td>\n",
       "      <td>Hansen, Mr. Henrik Juul</td>\n",
       "      <td>0</td>\n",
       "      <td>Hansen</td>\n",
       "    </tr>\n",
       "    <tr>\n",
       "      <th>4</th>\n",
       "      <td>0</td>\n",
       "      <td>3</td>\n",
       "      <td>Andersson, Miss. Ebba Iris Alfrida</td>\n",
       "      <td>female</td>\n",
       "      <td>6</td>\n",
       "      <td>4</td>\n",
       "      <td>2</td>\n",
       "      <td>347082</td>\n",
       "      <td>31.2750</td>\n",
       "      <td>S</td>\n",
       "      <td>Miss.</td>\n",
       "      <td>Andersson, Miss. Ebba Iris Alfrida</td>\n",
       "      <td>0</td>\n",
       "      <td>Andersson</td>\n",
       "    </tr>\n",
       "  </tbody>\n",
       "</table>\n",
       "</div>"
      ],
      "text/plain": [
       "   survived pclass                                name     sex  age sibsp  \\\n",
       "0         0      1                 Partner, Mr. Austen    male   45     0   \n",
       "1         0      2          Berriman, Mr. William John    male   23     0   \n",
       "2         0      3                  Tikkanen, Mr. Juho    male   32     0   \n",
       "3         0      3             Hansen, Mr. Henrik Juul    male   26     1   \n",
       "4         0      3  Andersson, Miss. Ebba Iris Alfrida  female    6     4   \n",
       "\n",
       "  parch             ticket     fare embarked designation  \\\n",
       "0     0             113043  28.5000        S         Mr.   \n",
       "1     0              28425  13.0000        S         Mr.   \n",
       "2     0  STON/O 2. 3101293   7.9250        S         Mr.   \n",
       "3     0             350025   7.8542        S         Mr.   \n",
       "4     2             347082  31.2750        S       Miss.   \n",
       "\n",
       "                                 Test  Test1  last_name  \n",
       "0                 Partner, Mr. Austen      0    Partner  \n",
       "1          Berriman, Mr. William John      0   Berriman  \n",
       "2                  Tikkanen, Mr. Juho      0   Tikkanen  \n",
       "3             Hansen, Mr. Henrik Juul      0     Hansen  \n",
       "4  Andersson, Miss. Ebba Iris Alfrida      0  Andersson  "
      ]
     },
     "execution_count": 71,
     "metadata": {},
     "output_type": "execute_result"
    }
   ],
   "source": [
    "X_train['last_name'] = X_train['name'].map(lambda x: x.split(',')[0])\n",
    "X_test['last_name'] = X_test['name'].map(lambda x: x.split(',')[0])\n",
    "\n",
    "X_train.head()"
   ]
  },
  {
   "cell_type": "code",
   "execution_count": 233,
   "id": "270f560c",
   "metadata": {},
   "outputs": [
    {
     "data": {
      "text/html": [
       "<div>\n",
       "<style scoped>\n",
       "    .dataframe tbody tr th:only-of-type {\n",
       "        vertical-align: middle;\n",
       "    }\n",
       "\n",
       "    .dataframe tbody tr th {\n",
       "        vertical-align: top;\n",
       "    }\n",
       "\n",
       "    .dataframe thead th {\n",
       "        text-align: right;\n",
       "    }\n",
       "</style>\n",
       "<table border=\"1\" class=\"dataframe\">\n",
       "  <thead>\n",
       "    <tr style=\"text-align: right;\">\n",
       "      <th></th>\n",
       "      <th>survived</th>\n",
       "      <th>pclass</th>\n",
       "      <th>name</th>\n",
       "      <th>sex</th>\n",
       "      <th>age</th>\n",
       "      <th>sibsp</th>\n",
       "      <th>parch</th>\n",
       "      <th>ticket</th>\n",
       "      <th>fare</th>\n",
       "      <th>embarked</th>\n",
       "      <th>designation</th>\n",
       "      <th>last_name</th>\n",
       "      <th>ticket_number</th>\n",
       "    </tr>\n",
       "  </thead>\n",
       "  <tbody>\n",
       "    <tr>\n",
       "      <th>0</th>\n",
       "      <td>0</td>\n",
       "      <td>1</td>\n",
       "      <td>Partner, Mr. Austen</td>\n",
       "      <td>male</td>\n",
       "      <td>28.0</td>\n",
       "      <td>0</td>\n",
       "      <td>0</td>\n",
       "      <td>113043</td>\n",
       "      <td>28.5000</td>\n",
       "      <td>S</td>\n",
       "      <td>Mr.</td>\n",
       "      <td>Partner</td>\n",
       "      <td>113043</td>\n",
       "    </tr>\n",
       "    <tr>\n",
       "      <th>1</th>\n",
       "      <td>0</td>\n",
       "      <td>2</td>\n",
       "      <td>Berriman, Mr. William John</td>\n",
       "      <td>male</td>\n",
       "      <td>31.0</td>\n",
       "      <td>0</td>\n",
       "      <td>0</td>\n",
       "      <td>28425</td>\n",
       "      <td>13.0000</td>\n",
       "      <td>S</td>\n",
       "      <td>Mr.</td>\n",
       "      <td>Berriman</td>\n",
       "      <td>28425</td>\n",
       "    </tr>\n",
       "    <tr>\n",
       "      <th>2</th>\n",
       "      <td>0</td>\n",
       "      <td>3</td>\n",
       "      <td>Tikkanen, Mr. Juho</td>\n",
       "      <td>male</td>\n",
       "      <td>20.0</td>\n",
       "      <td>0</td>\n",
       "      <td>0</td>\n",
       "      <td>STON/O 2. 3101293</td>\n",
       "      <td>7.9250</td>\n",
       "      <td>S</td>\n",
       "      <td>Mr.</td>\n",
       "      <td>Tikkanen</td>\n",
       "      <td>3101293</td>\n",
       "    </tr>\n",
       "    <tr>\n",
       "      <th>3</th>\n",
       "      <td>0</td>\n",
       "      <td>3</td>\n",
       "      <td>Hansen, Mr. Henrik Juul</td>\n",
       "      <td>male</td>\n",
       "      <td>6.0</td>\n",
       "      <td>1</td>\n",
       "      <td>0</td>\n",
       "      <td>350025</td>\n",
       "      <td>7.8542</td>\n",
       "      <td>S</td>\n",
       "      <td>Mr.</td>\n",
       "      <td>Hansen</td>\n",
       "      <td>350025</td>\n",
       "    </tr>\n",
       "    <tr>\n",
       "      <th>4</th>\n",
       "      <td>0</td>\n",
       "      <td>3</td>\n",
       "      <td>Andersson, Miss. Ebba Iris Alfrida</td>\n",
       "      <td>female</td>\n",
       "      <td>14.0</td>\n",
       "      <td>4</td>\n",
       "      <td>2</td>\n",
       "      <td>347082</td>\n",
       "      <td>31.2750</td>\n",
       "      <td>S</td>\n",
       "      <td>Miss.</td>\n",
       "      <td>Andersson</td>\n",
       "      <td>347082</td>\n",
       "    </tr>\n",
       "  </tbody>\n",
       "</table>\n",
       "</div>"
      ],
      "text/plain": [
       "   survived pclass                                name     sex   age sibsp  \\\n",
       "0         0      1                 Partner, Mr. Austen    male  28.0     0   \n",
       "1         0      2          Berriman, Mr. William John    male  31.0     0   \n",
       "2         0      3                  Tikkanen, Mr. Juho    male  20.0     0   \n",
       "3         0      3             Hansen, Mr. Henrik Juul    male   6.0     1   \n",
       "4         0      3  Andersson, Miss. Ebba Iris Alfrida  female  14.0     4   \n",
       "\n",
       "  parch             ticket     fare embarked designation  last_name  \\\n",
       "0     0             113043  28.5000        S         Mr.    Partner   \n",
       "1     0              28425  13.0000        S         Mr.   Berriman   \n",
       "2     0  STON/O 2. 3101293   7.9250        S         Mr.   Tikkanen   \n",
       "3     0             350025   7.8542        S         Mr.     Hansen   \n",
       "4     2             347082  31.2750        S       Miss.  Andersson   \n",
       "\n",
       "   ticket_number  \n",
       "0         113043  \n",
       "1          28425  \n",
       "2        3101293  \n",
       "3         350025  \n",
       "4         347082  "
      ]
     },
     "execution_count": 233,
     "metadata": {},
     "output_type": "execute_result"
    }
   ],
   "source": [
    "def add_ticket_number(ticket):\n",
    "    try:\n",
    "        ticket_split = ticket.split(' ') # 공백으로 구분해서 자름\n",
    "        return int(ticket_split[-1]) # 마지막 인덱스\n",
    "    except:\n",
    "        return 0 # ticket이 LINE인 경우\n",
    "\n",
    "X_train['ticket_number'] = X_train['ticket'].map(lambda x: add_ticket_number(x)).astype(\"int32\")\n",
    "X_test['ticket_number'] = X_test['ticket'].map(lambda x: add_ticket_number(x)).astype(\"int32\")\n",
    "\n",
    "X_train.head()"
   ]
  },
  {
   "cell_type": "markdown",
   "id": "c7187a3c",
   "metadata": {},
   "source": [
    "# 집계"
   ]
  },
  {
   "cell_type": "markdown",
   "id": "52882795",
   "metadata": {},
   "source": [
    "### 피봇 테이블"
   ]
  },
  {
   "cell_type": "code",
   "execution_count": 75,
   "id": "5723f0db",
   "metadata": {},
   "outputs": [
    {
     "data": {
      "text/html": [
       "<div>\n",
       "<style scoped>\n",
       "    .dataframe tbody tr th:only-of-type {\n",
       "        vertical-align: middle;\n",
       "    }\n",
       "\n",
       "    .dataframe tbody tr th {\n",
       "        vertical-align: top;\n",
       "    }\n",
       "\n",
       "    .dataframe thead th {\n",
       "        text-align: right;\n",
       "    }\n",
       "</style>\n",
       "<table border=\"1\" class=\"dataframe\">\n",
       "  <thead>\n",
       "    <tr style=\"text-align: right;\">\n",
       "      <th></th>\n",
       "      <th>pclass</th>\n",
       "      <th>fare_mean_by_pclass</th>\n",
       "    </tr>\n",
       "  </thead>\n",
       "  <tbody>\n",
       "    <tr>\n",
       "      <th>0</th>\n",
       "      <td>1</td>\n",
       "      <td>89.253914</td>\n",
       "    </tr>\n",
       "    <tr>\n",
       "      <th>1</th>\n",
       "      <td>2</td>\n",
       "      <td>20.575939</td>\n",
       "    </tr>\n",
       "    <tr>\n",
       "      <th>2</th>\n",
       "      <td>3</td>\n",
       "      <td>13.934861</td>\n",
       "    </tr>\n",
       "  </tbody>\n",
       "</table>\n",
       "</div>"
      ],
      "text/plain": [
       "  pclass  fare_mean_by_pclass\n",
       "0      1            89.253914\n",
       "1      2            20.575939\n",
       "2      3            13.934861"
      ]
     },
     "execution_count": 75,
     "metadata": {},
     "output_type": "execute_result"
    }
   ],
   "source": [
    "# 하나의 Feature\n",
    "# 이런걸 30개\n",
    "\n",
    "df_pivot = pd.pivot_table(X_train, \n",
    "                           index=\"pclass\", # pclass 에 대한\n",
    "                           values=\"fare\",  # fare 출력\n",
    "                           aggfunc=\"mean\" # 평균값으로\n",
    "                         ).reset_index() # 인덱스 초기화, 초기화가 안되겠지?\n",
    "df_pivot.rename(columns = {'fare' : 'fare_mean_by_pclass'}, inplace=True)\n",
    "df_pivot.head()"
   ]
  },
  {
   "cell_type": "markdown",
   "id": "422cf9e2",
   "metadata": {},
   "source": [
    "pclass 를 왜 썼는지"
   ]
  },
  {
   "cell_type": "code",
   "execution_count": 73,
   "id": "738eaa22",
   "metadata": {},
   "outputs": [
    {
     "name": "stdout",
     "output_type": "stream",
     "text": [
      "before: (712, 14)\n",
      "after: (712, 15)\n"
     ]
    },
    {
     "data": {
      "text/html": [
       "<div>\n",
       "<style scoped>\n",
       "    .dataframe tbody tr th:only-of-type {\n",
       "        vertical-align: middle;\n",
       "    }\n",
       "\n",
       "    .dataframe tbody tr th {\n",
       "        vertical-align: top;\n",
       "    }\n",
       "\n",
       "    .dataframe thead th {\n",
       "        text-align: right;\n",
       "    }\n",
       "</style>\n",
       "<table border=\"1\" class=\"dataframe\">\n",
       "  <thead>\n",
       "    <tr style=\"text-align: right;\">\n",
       "      <th></th>\n",
       "      <th>survived</th>\n",
       "      <th>pclass</th>\n",
       "      <th>name</th>\n",
       "      <th>sex</th>\n",
       "      <th>age</th>\n",
       "      <th>sibsp</th>\n",
       "      <th>parch</th>\n",
       "      <th>ticket</th>\n",
       "      <th>fare</th>\n",
       "      <th>embarked</th>\n",
       "      <th>designation</th>\n",
       "      <th>Test</th>\n",
       "      <th>Test1</th>\n",
       "      <th>last_name</th>\n",
       "      <th>fare_mean_by_pclass</th>\n",
       "    </tr>\n",
       "  </thead>\n",
       "  <tbody>\n",
       "    <tr>\n",
       "      <th>0</th>\n",
       "      <td>0</td>\n",
       "      <td>1</td>\n",
       "      <td>Partner, Mr. Austen</td>\n",
       "      <td>male</td>\n",
       "      <td>45</td>\n",
       "      <td>0</td>\n",
       "      <td>0</td>\n",
       "      <td>113043</td>\n",
       "      <td>28.5000</td>\n",
       "      <td>S</td>\n",
       "      <td>Mr.</td>\n",
       "      <td>Partner, Mr. Austen</td>\n",
       "      <td>0</td>\n",
       "      <td>Partner</td>\n",
       "      <td>89.253914</td>\n",
       "    </tr>\n",
       "    <tr>\n",
       "      <th>1</th>\n",
       "      <td>0</td>\n",
       "      <td>2</td>\n",
       "      <td>Berriman, Mr. William John</td>\n",
       "      <td>male</td>\n",
       "      <td>23</td>\n",
       "      <td>0</td>\n",
       "      <td>0</td>\n",
       "      <td>28425</td>\n",
       "      <td>13.0000</td>\n",
       "      <td>S</td>\n",
       "      <td>Mr.</td>\n",
       "      <td>Berriman, Mr. William John</td>\n",
       "      <td>0</td>\n",
       "      <td>Berriman</td>\n",
       "      <td>20.575939</td>\n",
       "    </tr>\n",
       "    <tr>\n",
       "      <th>2</th>\n",
       "      <td>0</td>\n",
       "      <td>3</td>\n",
       "      <td>Tikkanen, Mr. Juho</td>\n",
       "      <td>male</td>\n",
       "      <td>32</td>\n",
       "      <td>0</td>\n",
       "      <td>0</td>\n",
       "      <td>STON/O 2. 3101293</td>\n",
       "      <td>7.9250</td>\n",
       "      <td>S</td>\n",
       "      <td>Mr.</td>\n",
       "      <td>Tikkanen, Mr. Juho</td>\n",
       "      <td>0</td>\n",
       "      <td>Tikkanen</td>\n",
       "      <td>13.934861</td>\n",
       "    </tr>\n",
       "    <tr>\n",
       "      <th>3</th>\n",
       "      <td>0</td>\n",
       "      <td>3</td>\n",
       "      <td>Hansen, Mr. Henrik Juul</td>\n",
       "      <td>male</td>\n",
       "      <td>26</td>\n",
       "      <td>1</td>\n",
       "      <td>0</td>\n",
       "      <td>350025</td>\n",
       "      <td>7.8542</td>\n",
       "      <td>S</td>\n",
       "      <td>Mr.</td>\n",
       "      <td>Hansen, Mr. Henrik Juul</td>\n",
       "      <td>0</td>\n",
       "      <td>Hansen</td>\n",
       "      <td>13.934861</td>\n",
       "    </tr>\n",
       "    <tr>\n",
       "      <th>4</th>\n",
       "      <td>0</td>\n",
       "      <td>3</td>\n",
       "      <td>Andersson, Miss. Ebba Iris Alfrida</td>\n",
       "      <td>female</td>\n",
       "      <td>6</td>\n",
       "      <td>4</td>\n",
       "      <td>2</td>\n",
       "      <td>347082</td>\n",
       "      <td>31.2750</td>\n",
       "      <td>S</td>\n",
       "      <td>Miss.</td>\n",
       "      <td>Andersson, Miss. Ebba Iris Alfrida</td>\n",
       "      <td>0</td>\n",
       "      <td>Andersson</td>\n",
       "      <td>13.934861</td>\n",
       "    </tr>\n",
       "  </tbody>\n",
       "</table>\n",
       "</div>"
      ],
      "text/plain": [
       "   survived pclass                                name     sex  age sibsp  \\\n",
       "0         0      1                 Partner, Mr. Austen    male   45     0   \n",
       "1         0      2          Berriman, Mr. William John    male   23     0   \n",
       "2         0      3                  Tikkanen, Mr. Juho    male   32     0   \n",
       "3         0      3             Hansen, Mr. Henrik Juul    male   26     1   \n",
       "4         0      3  Andersson, Miss. Ebba Iris Alfrida  female    6     4   \n",
       "\n",
       "  parch             ticket     fare embarked designation  \\\n",
       "0     0             113043  28.5000        S         Mr.   \n",
       "1     0              28425  13.0000        S         Mr.   \n",
       "2     0  STON/O 2. 3101293   7.9250        S         Mr.   \n",
       "3     0             350025   7.8542        S         Mr.   \n",
       "4     2             347082  31.2750        S       Miss.   \n",
       "\n",
       "                                 Test  Test1  last_name  fare_mean_by_pclass  \n",
       "0                 Partner, Mr. Austen      0    Partner            89.253914  \n",
       "1          Berriman, Mr. William John      0   Berriman            20.575939  \n",
       "2                  Tikkanen, Mr. Juho      0   Tikkanen            13.934861  \n",
       "3             Hansen, Mr. Henrik Juul      0     Hansen            13.934861  \n",
       "4  Andersson, Miss. Ebba Iris Alfrida      0  Andersson            13.934861  "
      ]
     },
     "execution_count": 73,
     "metadata": {},
     "output_type": "execute_result"
    }
   ],
   "source": [
    "print(f'before: {X_train.shape}')\n",
    "\n",
    "# left = X_train, right = df_pivot\n",
    "# how -> left join\n",
    "# on -> pclass , 어떤 값을 기준으로\n",
    "X_train = pd.merge(X_train, df_pivot, how=\"left\", on=\"pclass\")\n",
    "\n",
    "X_test = pd.merge(X_test, df_pivot, how=\"left\", on=\"pclass\")\n",
    "\n",
    "print(f'after: {X_train.shape}')\n",
    "\n",
    "X_train.head()"
   ]
  },
  {
   "cell_type": "markdown",
   "id": "de91e5d7",
   "metadata": {},
   "source": [
    "### 그룹"
   ]
  },
  {
   "cell_type": "code",
   "execution_count": 79,
   "id": "158ffac1",
   "metadata": {
    "scrolled": true
   },
   "outputs": [
    {
     "data": {
      "text/html": [
       "<div>\n",
       "<style scoped>\n",
       "    .dataframe tbody tr th:only-of-type {\n",
       "        vertical-align: middle;\n",
       "    }\n",
       "\n",
       "    .dataframe tbody tr th {\n",
       "        vertical-align: top;\n",
       "    }\n",
       "\n",
       "    .dataframe thead th {\n",
       "        text-align: right;\n",
       "    }\n",
       "</style>\n",
       "<table border=\"1\" class=\"dataframe\">\n",
       "  <thead>\n",
       "    <tr style=\"text-align: right;\">\n",
       "      <th></th>\n",
       "      <th>pclass</th>\n",
       "      <th>survived_by_pclass</th>\n",
       "      <th>len_sibsp_by_pclass</th>\n",
       "      <th>len_parch_by_pclass</th>\n",
       "    </tr>\n",
       "  </thead>\n",
       "  <tbody>\n",
       "    <tr>\n",
       "      <th>0</th>\n",
       "      <td>1</td>\n",
       "      <td>0.607362</td>\n",
       "      <td>4</td>\n",
       "      <td>4</td>\n",
       "    </tr>\n",
       "    <tr>\n",
       "      <th>1</th>\n",
       "      <td>2</td>\n",
       "      <td>0.483444</td>\n",
       "      <td>4</td>\n",
       "      <td>4</td>\n",
       "    </tr>\n",
       "    <tr>\n",
       "      <th>2</th>\n",
       "      <td>3</td>\n",
       "      <td>0.241206</td>\n",
       "      <td>7</td>\n",
       "      <td>7</td>\n",
       "    </tr>\n",
       "  </tbody>\n",
       "</table>\n",
       "</div>"
      ],
      "text/plain": [
       "  pclass  survived_by_pclass  len_sibsp_by_pclass  len_parch_by_pclass\n",
       "0      1            0.607362                    4                    4\n",
       "1      2            0.483444                    4                    4\n",
       "2      3            0.241206                    7                    7"
      ]
     },
     "execution_count": 79,
     "metadata": {},
     "output_type": "execute_result"
    }
   ],
   "source": [
    "\n",
    "\n",
    "# sibsp = 함께 탑승한 형제 또는 배우자 수\n",
    "# parch = 함께 탑승한 부모 또는 자녀 수\n",
    "\n",
    "# pclass -> 1, 2, 3\n",
    "# 어떤 계산을 하던 pclass 를 기준으로 동작\n",
    "# 평균 -> pclass : 1 group , 2group , 3group \n",
    "# pclass \n",
    "# 1인 값들의 평균, 고유값, 고유값\n",
    "# 2인 값들의 평균, 고유값, 고유값\n",
    "# 3인 값들의 평균, 고유값, 고유값\n",
    "\n",
    "# groupby(\"pclass\") -> 1인 group , 2인 group , 3인 group \n",
    "# 그룹으로 사용해서 만든 내용만 출력이 된다. 출력할 때 pclass (o) / parch (x)\n",
    "\n",
    "# groupby(\"survived\") -> 0, 1 -> 그룹화\n",
    "# survived = 0 (그룹1) -> 이 그룹에 대한 계산 평균, 고유값 \n",
    "# survived = 1 (그룹2) -> 이 그룹에 대한 계산\n",
    "\n",
    "agg_dict = {\"survived\" : \"mean\" , \n",
    "            \"sibsp\" : \"nunique\", \n",
    "            \"parch\" : \"nunique\" }\n",
    "\n",
    "df_groupby = X_train.groupby(\"pclass\").agg(agg_dict).reset_index()\n",
    "\n",
    "df_groupby.rename(columns = {'survived' : 'survived_by_pclass', \n",
    "                             'sibsp' : 'len_sibsp_by_pclass', \n",
    "                             'parch' : 'len_parch_by_pclass'}, inplace = True)\n",
    "\n",
    "df_groupby"
   ]
  },
  {
   "cell_type": "code",
   "execution_count": 237,
   "id": "2ca34207",
   "metadata": {
    "scrolled": true
   },
   "outputs": [
    {
     "name": "stdout",
     "output_type": "stream",
     "text": [
      "before: (712, 14)\n",
      "after: (712, 17)\n"
     ]
    },
    {
     "data": {
      "text/html": [
       "<div>\n",
       "<style scoped>\n",
       "    .dataframe tbody tr th:only-of-type {\n",
       "        vertical-align: middle;\n",
       "    }\n",
       "\n",
       "    .dataframe tbody tr th {\n",
       "        vertical-align: top;\n",
       "    }\n",
       "\n",
       "    .dataframe thead th {\n",
       "        text-align: right;\n",
       "    }\n",
       "</style>\n",
       "<table border=\"1\" class=\"dataframe\">\n",
       "  <thead>\n",
       "    <tr style=\"text-align: right;\">\n",
       "      <th></th>\n",
       "      <th>survived</th>\n",
       "      <th>pclass</th>\n",
       "      <th>name</th>\n",
       "      <th>sex</th>\n",
       "      <th>age</th>\n",
       "      <th>sibsp</th>\n",
       "      <th>parch</th>\n",
       "      <th>ticket</th>\n",
       "      <th>fare</th>\n",
       "      <th>embarked</th>\n",
       "      <th>designation</th>\n",
       "      <th>last_name</th>\n",
       "      <th>ticket_number</th>\n",
       "      <th>fare_mean_by_pclass</th>\n",
       "      <th>survived_by_pclass</th>\n",
       "      <th>len_sibsp_by_pclass</th>\n",
       "      <th>len_parch_by_pclass</th>\n",
       "    </tr>\n",
       "  </thead>\n",
       "  <tbody>\n",
       "    <tr>\n",
       "      <th>0</th>\n",
       "      <td>0</td>\n",
       "      <td>1</td>\n",
       "      <td>Partner, Mr. Austen</td>\n",
       "      <td>male</td>\n",
       "      <td>28.0</td>\n",
       "      <td>0</td>\n",
       "      <td>0</td>\n",
       "      <td>113043</td>\n",
       "      <td>28.5000</td>\n",
       "      <td>S</td>\n",
       "      <td>Mr.</td>\n",
       "      <td>Partner</td>\n",
       "      <td>113043</td>\n",
       "      <td>89.253914</td>\n",
       "      <td>0.607362</td>\n",
       "      <td>4</td>\n",
       "      <td>4</td>\n",
       "    </tr>\n",
       "    <tr>\n",
       "      <th>1</th>\n",
       "      <td>0</td>\n",
       "      <td>2</td>\n",
       "      <td>Berriman, Mr. William John</td>\n",
       "      <td>male</td>\n",
       "      <td>31.0</td>\n",
       "      <td>0</td>\n",
       "      <td>0</td>\n",
       "      <td>28425</td>\n",
       "      <td>13.0000</td>\n",
       "      <td>S</td>\n",
       "      <td>Mr.</td>\n",
       "      <td>Berriman</td>\n",
       "      <td>28425</td>\n",
       "      <td>20.575939</td>\n",
       "      <td>0.483444</td>\n",
       "      <td>4</td>\n",
       "      <td>4</td>\n",
       "    </tr>\n",
       "    <tr>\n",
       "      <th>2</th>\n",
       "      <td>0</td>\n",
       "      <td>3</td>\n",
       "      <td>Tikkanen, Mr. Juho</td>\n",
       "      <td>male</td>\n",
       "      <td>20.0</td>\n",
       "      <td>0</td>\n",
       "      <td>0</td>\n",
       "      <td>STON/O 2. 3101293</td>\n",
       "      <td>7.9250</td>\n",
       "      <td>S</td>\n",
       "      <td>Mr.</td>\n",
       "      <td>Tikkanen</td>\n",
       "      <td>3101293</td>\n",
       "      <td>13.934861</td>\n",
       "      <td>0.241206</td>\n",
       "      <td>7</td>\n",
       "      <td>7</td>\n",
       "    </tr>\n",
       "    <tr>\n",
       "      <th>3</th>\n",
       "      <td>0</td>\n",
       "      <td>3</td>\n",
       "      <td>Hansen, Mr. Henrik Juul</td>\n",
       "      <td>male</td>\n",
       "      <td>6.0</td>\n",
       "      <td>1</td>\n",
       "      <td>0</td>\n",
       "      <td>350025</td>\n",
       "      <td>7.8542</td>\n",
       "      <td>S</td>\n",
       "      <td>Mr.</td>\n",
       "      <td>Hansen</td>\n",
       "      <td>350025</td>\n",
       "      <td>13.934861</td>\n",
       "      <td>0.241206</td>\n",
       "      <td>7</td>\n",
       "      <td>7</td>\n",
       "    </tr>\n",
       "    <tr>\n",
       "      <th>4</th>\n",
       "      <td>0</td>\n",
       "      <td>3</td>\n",
       "      <td>Andersson, Miss. Ebba Iris Alfrida</td>\n",
       "      <td>female</td>\n",
       "      <td>14.0</td>\n",
       "      <td>4</td>\n",
       "      <td>2</td>\n",
       "      <td>347082</td>\n",
       "      <td>31.2750</td>\n",
       "      <td>S</td>\n",
       "      <td>Miss.</td>\n",
       "      <td>Andersson</td>\n",
       "      <td>347082</td>\n",
       "      <td>13.934861</td>\n",
       "      <td>0.241206</td>\n",
       "      <td>7</td>\n",
       "      <td>7</td>\n",
       "    </tr>\n",
       "  </tbody>\n",
       "</table>\n",
       "</div>"
      ],
      "text/plain": [
       "   survived pclass                                name     sex   age sibsp  \\\n",
       "0         0      1                 Partner, Mr. Austen    male  28.0     0   \n",
       "1         0      2          Berriman, Mr. William John    male  31.0     0   \n",
       "2         0      3                  Tikkanen, Mr. Juho    male  20.0     0   \n",
       "3         0      3             Hansen, Mr. Henrik Juul    male   6.0     1   \n",
       "4         0      3  Andersson, Miss. Ebba Iris Alfrida  female  14.0     4   \n",
       "\n",
       "  parch             ticket     fare embarked designation  last_name  \\\n",
       "0     0             113043  28.5000        S         Mr.    Partner   \n",
       "1     0              28425  13.0000        S         Mr.   Berriman   \n",
       "2     0  STON/O 2. 3101293   7.9250        S         Mr.   Tikkanen   \n",
       "3     0             350025   7.8542        S         Mr.     Hansen   \n",
       "4     2             347082  31.2750        S       Miss.  Andersson   \n",
       "\n",
       "   ticket_number  fare_mean_by_pclass  survived_by_pclass  \\\n",
       "0         113043            89.253914            0.607362   \n",
       "1          28425            20.575939            0.483444   \n",
       "2        3101293            13.934861            0.241206   \n",
       "3         350025            13.934861            0.241206   \n",
       "4         347082            13.934861            0.241206   \n",
       "\n",
       "   len_sibsp_by_pclass  len_parch_by_pclass  \n",
       "0                    4                    4  \n",
       "1                    4                    4  \n",
       "2                    7                    7  \n",
       "3                    7                    7  \n",
       "4                    7                    7  "
      ]
     },
     "execution_count": 237,
     "metadata": {},
     "output_type": "execute_result"
    }
   ],
   "source": [
    "print(f'before: {X_train.shape}')\n",
    "\n",
    "X_train = pd.merge(X_train, df_groupby, how=\"left\", on=\"pclass\")\n",
    "X_test = pd.merge(X_test, df_groupby, how=\"left\", on=\"pclass\")\n",
    "\n",
    "print(f'after: {X_train.shape}')\n",
    "\n",
    "X_train.head()"
   ]
  },
  {
   "cell_type": "code",
   "execution_count": 248,
   "id": "30f44bc5",
   "metadata": {},
   "outputs": [
    {
     "data": {
      "text/html": [
       "<style type=\"text/css\">\n",
       "#T_cd05f_row0_col0, #T_cd05f_row1_col1, #T_cd05f_row1_col2 {\n",
       "  background-color: #ffff66;\n",
       "  color: #000000;\n",
       "}\n",
       "#T_cd05f_row0_col1, #T_cd05f_row0_col2, #T_cd05f_row1_col0 {\n",
       "  background-color: #008066;\n",
       "  color: #f1f1f1;\n",
       "}\n",
       "</style>\n",
       "<table id=\"T_cd05f\">\n",
       "  <thead>\n",
       "    <tr>\n",
       "      <th class=\"index_name level0\" >pclass</th>\n",
       "      <th id=\"T_cd05f_level0_col0\" class=\"col_heading level0 col0\" >1</th>\n",
       "      <th id=\"T_cd05f_level0_col1\" class=\"col_heading level0 col1\" >2</th>\n",
       "      <th id=\"T_cd05f_level0_col2\" class=\"col_heading level0 col2\" >3</th>\n",
       "    </tr>\n",
       "    <tr>\n",
       "      <th class=\"index_name level0\" >survived</th>\n",
       "      <th class=\"blank col0\" >&nbsp;</th>\n",
       "      <th class=\"blank col1\" >&nbsp;</th>\n",
       "      <th class=\"blank col2\" >&nbsp;</th>\n",
       "    </tr>\n",
       "  </thead>\n",
       "  <tbody>\n",
       "    <tr>\n",
       "      <th id=\"T_cd05f_level0_row0\" class=\"row_heading level0 row0\" >0</th>\n",
       "      <td id=\"T_cd05f_row0_col0\" class=\"data row0 col0\" >64</td>\n",
       "      <td id=\"T_cd05f_row0_col1\" class=\"data row0 col1\" >78</td>\n",
       "      <td id=\"T_cd05f_row0_col2\" class=\"data row0 col2\" >302</td>\n",
       "    </tr>\n",
       "    <tr>\n",
       "      <th id=\"T_cd05f_level0_row1\" class=\"row_heading level0 row1\" >1</th>\n",
       "      <td id=\"T_cd05f_row1_col0\" class=\"data row1 col0\" >99</td>\n",
       "      <td id=\"T_cd05f_row1_col1\" class=\"data row1 col1\" >73</td>\n",
       "      <td id=\"T_cd05f_row1_col2\" class=\"data row1 col2\" >96</td>\n",
       "    </tr>\n",
       "  </tbody>\n",
       "</table>\n"
      ],
      "text/plain": [
       "<pandas.io.formats.style.Styler at 0x13f07ddf0>"
      ]
     },
     "execution_count": 248,
     "metadata": {},
     "output_type": "execute_result"
    }
   ],
   "source": [
    "pd.crosstab(X_train['survived'],X_train['pclass']).style.background_gradient(cmap='summer_r')"
   ]
  },
  {
   "cell_type": "markdown",
   "id": "07bd72de",
   "metadata": {},
   "source": [
    "1 클래스에 탄 사람이 생존률이 높다."
   ]
  },
  {
   "cell_type": "code",
   "execution_count": 249,
   "id": "11168006",
   "metadata": {},
   "outputs": [
    {
     "data": {
      "text/html": [
       "<style type=\"text/css\">\n",
       "#T_55325_row0_col0, #T_55325_row0_col1, #T_55325_row0_col2 {\n",
       "  background-color: #008066;\n",
       "  color: #f1f1f1;\n",
       "}\n",
       "#T_55325_row1_col0 {\n",
       "  background-color: #78bc66;\n",
       "  color: #f1f1f1;\n",
       "}\n",
       "#T_55325_row1_col1 {\n",
       "  background-color: #83c166;\n",
       "  color: #000000;\n",
       "}\n",
       "#T_55325_row1_col2 {\n",
       "  background-color: #cae466;\n",
       "  color: #000000;\n",
       "}\n",
       "#T_55325_row2_col0, #T_55325_row4_col2 {\n",
       "  background-color: #f5fa66;\n",
       "  color: #000000;\n",
       "}\n",
       "#T_55325_row2_col1 {\n",
       "  background-color: #f0f866;\n",
       "  color: #000000;\n",
       "}\n",
       "#T_55325_row2_col2, #T_55325_row3_col0 {\n",
       "  background-color: #f8fc66;\n",
       "  color: #000000;\n",
       "}\n",
       "#T_55325_row3_col1 {\n",
       "  background-color: #fdfe66;\n",
       "  color: #000000;\n",
       "}\n",
       "#T_55325_row3_col2 {\n",
       "  background-color: #fcfe66;\n",
       "  color: #000000;\n",
       "}\n",
       "#T_55325_row4_col0, #T_55325_row4_col1, #T_55325_row5_col0, #T_55325_row5_col1, #T_55325_row5_col2, #T_55325_row6_col0, #T_55325_row6_col1 {\n",
       "  background-color: #ffff66;\n",
       "  color: #000000;\n",
       "}\n",
       "#T_55325_row6_col2 {\n",
       "  background-color: #fefe66;\n",
       "  color: #000000;\n",
       "}\n",
       "</style>\n",
       "<table id=\"T_55325\">\n",
       "  <thead>\n",
       "    <tr>\n",
       "      <th class=\"index_name level0\" >pclass</th>\n",
       "      <th id=\"T_55325_level0_col0\" class=\"col_heading level0 col0\" >1</th>\n",
       "      <th id=\"T_55325_level0_col1\" class=\"col_heading level0 col1\" >2</th>\n",
       "      <th id=\"T_55325_level0_col2\" class=\"col_heading level0 col2\" >3</th>\n",
       "    </tr>\n",
       "    <tr>\n",
       "      <th class=\"index_name level0\" >sibsp</th>\n",
       "      <th class=\"blank col0\" >&nbsp;</th>\n",
       "      <th class=\"blank col1\" >&nbsp;</th>\n",
       "      <th class=\"blank col2\" >&nbsp;</th>\n",
       "    </tr>\n",
       "  </thead>\n",
       "  <tbody>\n",
       "    <tr>\n",
       "      <th id=\"T_55325_level0_row0\" class=\"row_heading level0 row0\" >0</th>\n",
       "      <td id=\"T_55325_row0_col0\" class=\"data row0 col0\" >102</td>\n",
       "      <td id=\"T_55325_row0_col1\" class=\"data row0 col1\" >97</td>\n",
       "      <td id=\"T_55325_row0_col2\" class=\"data row0 col2\" >285</td>\n",
       "    </tr>\n",
       "    <tr>\n",
       "      <th id=\"T_55325_level0_row1\" class=\"row_heading level0 row1\" >1</th>\n",
       "      <td id=\"T_55325_row1_col0\" class=\"data row1 col0\" >54</td>\n",
       "      <td id=\"T_55325_row1_col1\" class=\"data row1 col1\" >47</td>\n",
       "      <td id=\"T_55325_row1_col2\" class=\"data row1 col2\" >63</td>\n",
       "    </tr>\n",
       "    <tr>\n",
       "      <th id=\"T_55325_level0_row2\" class=\"row_heading level0 row2\" >2</th>\n",
       "      <td id=\"T_55325_row2_col0\" class=\"data row2 col0\" >4</td>\n",
       "      <td id=\"T_55325_row2_col1\" class=\"data row2 col1\" >6</td>\n",
       "      <td id=\"T_55325_row2_col2\" class=\"data row2 col2\" >13</td>\n",
       "    </tr>\n",
       "    <tr>\n",
       "      <th id=\"T_55325_level0_row3\" class=\"row_heading level0 row3\" >3</th>\n",
       "      <td id=\"T_55325_row3_col0\" class=\"data row3 col0\" >3</td>\n",
       "      <td id=\"T_55325_row3_col1\" class=\"data row3 col1\" >1</td>\n",
       "      <td id=\"T_55325_row3_col2\" class=\"data row3 col2\" >9</td>\n",
       "    </tr>\n",
       "    <tr>\n",
       "      <th id=\"T_55325_level0_row4\" class=\"row_heading level0 row4\" >4</th>\n",
       "      <td id=\"T_55325_row4_col0\" class=\"data row4 col0\" >0</td>\n",
       "      <td id=\"T_55325_row4_col1\" class=\"data row4 col1\" >0</td>\n",
       "      <td id=\"T_55325_row4_col2\" class=\"data row4 col2\" >16</td>\n",
       "    </tr>\n",
       "    <tr>\n",
       "      <th id=\"T_55325_level0_row5\" class=\"row_heading level0 row5\" >5</th>\n",
       "      <td id=\"T_55325_row5_col0\" class=\"data row5 col0\" >0</td>\n",
       "      <td id=\"T_55325_row5_col1\" class=\"data row5 col1\" >0</td>\n",
       "      <td id=\"T_55325_row5_col2\" class=\"data row5 col2\" >5</td>\n",
       "    </tr>\n",
       "    <tr>\n",
       "      <th id=\"T_55325_level0_row6\" class=\"row_heading level0 row6\" >8</th>\n",
       "      <td id=\"T_55325_row6_col0\" class=\"data row6 col0\" >0</td>\n",
       "      <td id=\"T_55325_row6_col1\" class=\"data row6 col1\" >0</td>\n",
       "      <td id=\"T_55325_row6_col2\" class=\"data row6 col2\" >7</td>\n",
       "    </tr>\n",
       "  </tbody>\n",
       "</table>\n"
      ],
      "text/plain": [
       "<pandas.io.formats.style.Styler at 0x13f0884c0>"
      ]
     },
     "execution_count": 249,
     "metadata": {},
     "output_type": "execute_result"
    }
   ],
   "source": [
    "pd.crosstab(X_train['sibsp'],X_train['pclass']).style.background_gradient(cmap='summer_r')"
   ]
  },
  {
   "cell_type": "code",
   "execution_count": 250,
   "id": "cb24ca64",
   "metadata": {},
   "outputs": [
    {
     "data": {
      "text/html": [
       "<style type=\"text/css\">\n",
       "#T_79e8e_row0_col0, #T_79e8e_row0_col1, #T_79e8e_row0_col2 {\n",
       "  background-color: #008066;\n",
       "  color: #f1f1f1;\n",
       "}\n",
       "#T_79e8e_row1_col0 {\n",
       "  background-color: #cee666;\n",
       "  color: #000000;\n",
       "}\n",
       "#T_79e8e_row1_col1 {\n",
       "  background-color: #c5e266;\n",
       "  color: #000000;\n",
       "}\n",
       "#T_79e8e_row1_col2 {\n",
       "  background-color: #dbed66;\n",
       "  color: #000000;\n",
       "}\n",
       "#T_79e8e_row2_col0 {\n",
       "  background-color: #e0f066;\n",
       "  color: #000000;\n",
       "}\n",
       "#T_79e8e_row2_col1 {\n",
       "  background-color: #dfef66;\n",
       "  color: #000000;\n",
       "}\n",
       "#T_79e8e_row2_col2 {\n",
       "  background-color: #e1f066;\n",
       "  color: #000000;\n",
       "}\n",
       "#T_79e8e_row3_col0, #T_79e8e_row3_col2, #T_79e8e_row4_col1, #T_79e8e_row4_col2, #T_79e8e_row5_col0, #T_79e8e_row5_col1, #T_79e8e_row6_col0, #T_79e8e_row6_col1, #T_79e8e_row6_col2 {\n",
       "  background-color: #ffff66;\n",
       "  color: #000000;\n",
       "}\n",
       "#T_79e8e_row3_col1 {\n",
       "  background-color: #fbfd66;\n",
       "  color: #000000;\n",
       "}\n",
       "#T_79e8e_row4_col0 {\n",
       "  background-color: #fdfe66;\n",
       "  color: #000000;\n",
       "}\n",
       "#T_79e8e_row5_col2 {\n",
       "  background-color: #fefe66;\n",
       "  color: #000000;\n",
       "}\n",
       "</style>\n",
       "<table id=\"T_79e8e\">\n",
       "  <thead>\n",
       "    <tr>\n",
       "      <th class=\"index_name level0\" >pclass</th>\n",
       "      <th id=\"T_79e8e_level0_col0\" class=\"col_heading level0 col0\" >1</th>\n",
       "      <th id=\"T_79e8e_level0_col1\" class=\"col_heading level0 col1\" >2</th>\n",
       "      <th id=\"T_79e8e_level0_col2\" class=\"col_heading level0 col2\" >3</th>\n",
       "    </tr>\n",
       "    <tr>\n",
       "      <th class=\"index_name level0\" >parch</th>\n",
       "      <th class=\"blank col0\" >&nbsp;</th>\n",
       "      <th class=\"blank col1\" >&nbsp;</th>\n",
       "      <th class=\"blank col2\" >&nbsp;</th>\n",
       "    </tr>\n",
       "  </thead>\n",
       "  <tbody>\n",
       "    <tr>\n",
       "      <th id=\"T_79e8e_level0_row0\" class=\"row_heading level0 row0\" >0</th>\n",
       "      <td id=\"T_79e8e_row0_col0\" class=\"data row0 col0\" >123</td>\n",
       "      <td id=\"T_79e8e_row0_col1\" class=\"data row0 col1\" >110</td>\n",
       "      <td id=\"T_79e8e_row0_col2\" class=\"data row0 col2\" >308</td>\n",
       "    </tr>\n",
       "    <tr>\n",
       "      <th id=\"T_79e8e_level0_row1\" class=\"row_heading level0 row1\" >1</th>\n",
       "      <td id=\"T_79e8e_row1_col0\" class=\"data row1 col0\" >24</td>\n",
       "      <td id=\"T_79e8e_row1_col1\" class=\"data row1 col1\" >25</td>\n",
       "      <td id=\"T_79e8e_row1_col2\" class=\"data row1 col2\" >45</td>\n",
       "    </tr>\n",
       "    <tr>\n",
       "      <th id=\"T_79e8e_level0_row2\" class=\"row_heading level0 row2\" >2</th>\n",
       "      <td id=\"T_79e8e_row2_col0\" class=\"data row2 col0\" >15</td>\n",
       "      <td id=\"T_79e8e_row2_col1\" class=\"data row2 col1\" >14</td>\n",
       "      <td id=\"T_79e8e_row2_col2\" class=\"data row2 col2\" >38</td>\n",
       "    </tr>\n",
       "    <tr>\n",
       "      <th id=\"T_79e8e_level0_row3\" class=\"row_heading level0 row3\" >3</th>\n",
       "      <td id=\"T_79e8e_row3_col0\" class=\"data row3 col0\" >0</td>\n",
       "      <td id=\"T_79e8e_row3_col1\" class=\"data row3 col1\" >2</td>\n",
       "      <td id=\"T_79e8e_row3_col2\" class=\"data row3 col2\" >1</td>\n",
       "    </tr>\n",
       "    <tr>\n",
       "      <th id=\"T_79e8e_level0_row4\" class=\"row_heading level0 row4\" >4</th>\n",
       "      <td id=\"T_79e8e_row4_col0\" class=\"data row4 col0\" >1</td>\n",
       "      <td id=\"T_79e8e_row4_col1\" class=\"data row4 col1\" >0</td>\n",
       "      <td id=\"T_79e8e_row4_col2\" class=\"data row4 col2\" >2</td>\n",
       "    </tr>\n",
       "    <tr>\n",
       "      <th id=\"T_79e8e_level0_row5\" class=\"row_heading level0 row5\" >5</th>\n",
       "      <td id=\"T_79e8e_row5_col0\" class=\"data row5 col0\" >0</td>\n",
       "      <td id=\"T_79e8e_row5_col1\" class=\"data row5 col1\" >0</td>\n",
       "      <td id=\"T_79e8e_row5_col2\" class=\"data row5 col2\" >3</td>\n",
       "    </tr>\n",
       "    <tr>\n",
       "      <th id=\"T_79e8e_level0_row6\" class=\"row_heading level0 row6\" >6</th>\n",
       "      <td id=\"T_79e8e_row6_col0\" class=\"data row6 col0\" >0</td>\n",
       "      <td id=\"T_79e8e_row6_col1\" class=\"data row6 col1\" >0</td>\n",
       "      <td id=\"T_79e8e_row6_col2\" class=\"data row6 col2\" >1</td>\n",
       "    </tr>\n",
       "  </tbody>\n",
       "</table>\n"
      ],
      "text/plain": [
       "<pandas.io.formats.style.Styler at 0x13f071ee0>"
      ]
     },
     "execution_count": 250,
     "metadata": {},
     "output_type": "execute_result"
    }
   ],
   "source": [
    "pd.crosstab(X_train['parch'],X_train['pclass']).style.background_gradient(cmap='summer_r')"
   ]
  },
  {
   "cell_type": "code",
   "execution_count": 256,
   "id": "acb9ea76",
   "metadata": {
    "scrolled": true
   },
   "outputs": [
    {
     "name": "stderr",
     "output_type": "stream",
     "text": [
      "<ipython-input-256-53d84d9c4497>:2: UserWarning: \n",
      "\n",
      "`distplot` is a deprecated function and will be removed in seaborn v0.14.0.\n",
      "\n",
      "Please adapt your code to use either `displot` (a figure-level function with\n",
      "similar flexibility) or `histplot` (an axes-level function for histograms).\n",
      "\n",
      "For a guide to updating your code to use the new functions, please see\n",
      "https://gist.github.com/mwaskom/de44147ed2974457ad6372750bbe5751\n",
      "\n",
      "  sns.distplot(X_train[X_train['pclass']==1].fare,ax=ax[0])\n",
      "<ipython-input-256-53d84d9c4497>:4: UserWarning: \n",
      "\n",
      "`distplot` is a deprecated function and will be removed in seaborn v0.14.0.\n",
      "\n",
      "Please adapt your code to use either `displot` (a figure-level function with\n",
      "similar flexibility) or `histplot` (an axes-level function for histograms).\n",
      "\n",
      "For a guide to updating your code to use the new functions, please see\n",
      "https://gist.github.com/mwaskom/de44147ed2974457ad6372750bbe5751\n",
      "\n",
      "  sns.distplot(X_train[X_train['pclass']==2].fare,ax=ax[1])\n",
      "<ipython-input-256-53d84d9c4497>:6: UserWarning: \n",
      "\n",
      "`distplot` is a deprecated function and will be removed in seaborn v0.14.0.\n",
      "\n",
      "Please adapt your code to use either `displot` (a figure-level function with\n",
      "similar flexibility) or `histplot` (an axes-level function for histograms).\n",
      "\n",
      "For a guide to updating your code to use the new functions, please see\n",
      "https://gist.github.com/mwaskom/de44147ed2974457ad6372750bbe5751\n",
      "\n",
      "  sns.distplot(X_train[X_train['pclass']==3].fare,ax=ax[2])\n"
     ]
    },
    {
     "data": {
      "text/plain": [
       "<function matplotlib.pyplot.show(close=None, block=None)>"
      ]
     },
     "execution_count": 256,
     "metadata": {},
     "output_type": "execute_result"
    },
    {
     "data": {
      "image/png": "[encoded data removed]",
      "text/plain": [
       "<Figure size 1440x576 with 3 Axes>"
      ]
     },
     "metadata": {
      "needs_background": "light"
     },
     "output_type": "display_data"
    }
   ],
   "source": [
    "f,ax=plt.subplots(1,3,figsize=(20,8))\n",
    "sns.distplot(X_train[X_train['pclass']==1].fare,ax=ax[0])\n",
    "ax[0].set_title('Fare in Pclass 1')\n",
    "sns.distplot(X_train[X_train['pclass']==2].fare,ax=ax[1])\n",
    "ax[1].set_title('Fare in Pclass 2')\n",
    "sns.distplot(X_train[X_train['pclass']==3].fare,ax=ax[2])\n",
    "ax[2].set_title('Fare in Pclass 3')\n",
    "plt.show"
   ]
  },
  {
   "cell_type": "markdown",
   "id": "eff25419",
   "metadata": {},
   "source": [
    "### 데이터 변환/조합"
   ]
  },
  {
   "cell_type": "code",
   "execution_count": 242,
   "id": "035174f9",
   "metadata": {},
   "outputs": [
    {
     "data": {
      "text/html": [
       "<div>\n",
       "<style scoped>\n",
       "    .dataframe tbody tr th:only-of-type {\n",
       "        vertical-align: middle;\n",
       "    }\n",
       "\n",
       "    .dataframe tbody tr th {\n",
       "        vertical-align: top;\n",
       "    }\n",
       "\n",
       "    .dataframe thead th {\n",
       "        text-align: right;\n",
       "    }\n",
       "</style>\n",
       "<table border=\"1\" class=\"dataframe\">\n",
       "  <thead>\n",
       "    <tr style=\"text-align: right;\">\n",
       "      <th></th>\n",
       "      <th>survived</th>\n",
       "      <th>pclass</th>\n",
       "      <th>name</th>\n",
       "      <th>sex</th>\n",
       "      <th>age</th>\n",
       "      <th>sibsp</th>\n",
       "      <th>parch</th>\n",
       "      <th>ticket</th>\n",
       "      <th>fare</th>\n",
       "      <th>embarked</th>\n",
       "      <th>designation</th>\n",
       "      <th>last_name</th>\n",
       "      <th>ticket_number</th>\n",
       "      <th>fare_mean_by_pclass</th>\n",
       "      <th>survived_by_pclass</th>\n",
       "      <th>len_sibsp_by_pclass</th>\n",
       "      <th>len_parch_by_pclass</th>\n",
       "      <th>sub_age</th>\n",
       "    </tr>\n",
       "  </thead>\n",
       "  <tbody>\n",
       "    <tr>\n",
       "      <th>0</th>\n",
       "      <td>0</td>\n",
       "      <td>1</td>\n",
       "      <td>Partner, Mr. Austen</td>\n",
       "      <td>male</td>\n",
       "      <td>28.0</td>\n",
       "      <td>0</td>\n",
       "      <td>0</td>\n",
       "      <td>113043</td>\n",
       "      <td>28.5000</td>\n",
       "      <td>S</td>\n",
       "      <td>Mr.</td>\n",
       "      <td>Partner</td>\n",
       "      <td>113043</td>\n",
       "      <td>89.253914</td>\n",
       "      <td>0.607362</td>\n",
       "      <td>4</td>\n",
       "      <td>4</td>\n",
       "      <td>2.0</td>\n",
       "    </tr>\n",
       "    <tr>\n",
       "      <th>1</th>\n",
       "      <td>0</td>\n",
       "      <td>2</td>\n",
       "      <td>Berriman, Mr. William John</td>\n",
       "      <td>male</td>\n",
       "      <td>31.0</td>\n",
       "      <td>0</td>\n",
       "      <td>0</td>\n",
       "      <td>28425</td>\n",
       "      <td>13.0000</td>\n",
       "      <td>S</td>\n",
       "      <td>Mr.</td>\n",
       "      <td>Berriman</td>\n",
       "      <td>28425</td>\n",
       "      <td>20.575939</td>\n",
       "      <td>0.483444</td>\n",
       "      <td>4</td>\n",
       "      <td>4</td>\n",
       "      <td>3.0</td>\n",
       "    </tr>\n",
       "    <tr>\n",
       "      <th>2</th>\n",
       "      <td>0</td>\n",
       "      <td>3</td>\n",
       "      <td>Tikkanen, Mr. Juho</td>\n",
       "      <td>male</td>\n",
       "      <td>20.0</td>\n",
       "      <td>0</td>\n",
       "      <td>0</td>\n",
       "      <td>STON/O 2. 3101293</td>\n",
       "      <td>7.9250</td>\n",
       "      <td>S</td>\n",
       "      <td>Mr.</td>\n",
       "      <td>Tikkanen</td>\n",
       "      <td>3101293</td>\n",
       "      <td>13.934861</td>\n",
       "      <td>0.241206</td>\n",
       "      <td>7</td>\n",
       "      <td>7</td>\n",
       "      <td>2.0</td>\n",
       "    </tr>\n",
       "    <tr>\n",
       "      <th>3</th>\n",
       "      <td>0</td>\n",
       "      <td>3</td>\n",
       "      <td>Hansen, Mr. Henrik Juul</td>\n",
       "      <td>male</td>\n",
       "      <td>6.0</td>\n",
       "      <td>1</td>\n",
       "      <td>0</td>\n",
       "      <td>350025</td>\n",
       "      <td>7.8542</td>\n",
       "      <td>S</td>\n",
       "      <td>Mr.</td>\n",
       "      <td>Hansen</td>\n",
       "      <td>350025</td>\n",
       "      <td>13.934861</td>\n",
       "      <td>0.241206</td>\n",
       "      <td>7</td>\n",
       "      <td>7</td>\n",
       "      <td>0.0</td>\n",
       "    </tr>\n",
       "    <tr>\n",
       "      <th>4</th>\n",
       "      <td>0</td>\n",
       "      <td>3</td>\n",
       "      <td>Andersson, Miss. Ebba Iris Alfrida</td>\n",
       "      <td>female</td>\n",
       "      <td>14.0</td>\n",
       "      <td>4</td>\n",
       "      <td>2</td>\n",
       "      <td>347082</td>\n",
       "      <td>31.2750</td>\n",
       "      <td>S</td>\n",
       "      <td>Miss.</td>\n",
       "      <td>Andersson</td>\n",
       "      <td>347082</td>\n",
       "      <td>13.934861</td>\n",
       "      <td>0.241206</td>\n",
       "      <td>7</td>\n",
       "      <td>7</td>\n",
       "      <td>1.0</td>\n",
       "    </tr>\n",
       "  </tbody>\n",
       "</table>\n",
       "</div>"
      ],
      "text/plain": [
       "   survived pclass                                name     sex   age sibsp  \\\n",
       "0         0      1                 Partner, Mr. Austen    male  28.0     0   \n",
       "1         0      2          Berriman, Mr. William John    male  31.0     0   \n",
       "2         0      3                  Tikkanen, Mr. Juho    male  20.0     0   \n",
       "3         0      3             Hansen, Mr. Henrik Juul    male   6.0     1   \n",
       "4         0      3  Andersson, Miss. Ebba Iris Alfrida  female  14.0     4   \n",
       "\n",
       "  parch             ticket     fare embarked designation  last_name  \\\n",
       "0     0             113043  28.5000        S         Mr.    Partner   \n",
       "1     0              28425  13.0000        S         Mr.   Berriman   \n",
       "2     0  STON/O 2. 3101293   7.9250        S         Mr.   Tikkanen   \n",
       "3     0             350025   7.8542        S         Mr.     Hansen   \n",
       "4     2             347082  31.2750        S       Miss.  Andersson   \n",
       "\n",
       "   ticket_number  fare_mean_by_pclass  survived_by_pclass  \\\n",
       "0         113043            89.253914            0.607362   \n",
       "1          28425            20.575939            0.483444   \n",
       "2        3101293            13.934861            0.241206   \n",
       "3         350025            13.934861            0.241206   \n",
       "4         347082            13.934861            0.241206   \n",
       "\n",
       "   len_sibsp_by_pclass  len_parch_by_pclass  sub_age  \n",
       "0                    4                    4      2.0  \n",
       "1                    4                    4      3.0  \n",
       "2                    7                    7      2.0  \n",
       "3                    7                    7      0.0  \n",
       "4                    7                    7      1.0  "
      ]
     },
     "execution_count": 242,
     "metadata": {},
     "output_type": "execute_result"
    }
   ],
   "source": [
    "def sub_age(age):\n",
    "    return age // 10 # 나이 십의 자리 -> 23 // 10 -> 2 -> 20대..\n",
    "\n",
    "X_train['sub_age'] = X_train['age'].map(lambda x: sub_age(x))\n",
    "X_test['sub_age'] = X_test['age'].map(lambda x: sub_age(x))\n",
    "X_train.head()"
   ]
  },
  {
   "cell_type": "code",
   "execution_count": 243,
   "id": "dbc19793",
   "metadata": {},
   "outputs": [
    {
     "data": {
      "text/html": [
       "<div>\n",
       "<style scoped>\n",
       "    .dataframe tbody tr th:only-of-type {\n",
       "        vertical-align: middle;\n",
       "    }\n",
       "\n",
       "    .dataframe tbody tr th {\n",
       "        vertical-align: top;\n",
       "    }\n",
       "\n",
       "    .dataframe thead th {\n",
       "        text-align: right;\n",
       "    }\n",
       "</style>\n",
       "<table border=\"1\" class=\"dataframe\">\n",
       "  <thead>\n",
       "    <tr style=\"text-align: right;\">\n",
       "      <th></th>\n",
       "      <th>survived</th>\n",
       "      <th>pclass</th>\n",
       "      <th>name</th>\n",
       "      <th>sex</th>\n",
       "      <th>age</th>\n",
       "      <th>sibsp</th>\n",
       "      <th>parch</th>\n",
       "      <th>ticket</th>\n",
       "      <th>fare</th>\n",
       "      <th>embarked</th>\n",
       "      <th>designation</th>\n",
       "      <th>last_name</th>\n",
       "      <th>ticket_number</th>\n",
       "      <th>fare_mean_by_pclass</th>\n",
       "      <th>survived_by_pclass</th>\n",
       "      <th>len_sibsp_by_pclass</th>\n",
       "      <th>len_parch_by_pclass</th>\n",
       "      <th>sub_age</th>\n",
       "      <th>sub_embarked</th>\n",
       "    </tr>\n",
       "  </thead>\n",
       "  <tbody>\n",
       "    <tr>\n",
       "      <th>0</th>\n",
       "      <td>0</td>\n",
       "      <td>1</td>\n",
       "      <td>Partner, Mr. Austen</td>\n",
       "      <td>male</td>\n",
       "      <td>28.0</td>\n",
       "      <td>0</td>\n",
       "      <td>0</td>\n",
       "      <td>113043</td>\n",
       "      <td>28.5000</td>\n",
       "      <td>S</td>\n",
       "      <td>Mr.</td>\n",
       "      <td>Partner</td>\n",
       "      <td>113043</td>\n",
       "      <td>89.253914</td>\n",
       "      <td>0.607362</td>\n",
       "      <td>4</td>\n",
       "      <td>4</td>\n",
       "      <td>2.0</td>\n",
       "      <td>S100</td>\n",
       "    </tr>\n",
       "    <tr>\n",
       "      <th>1</th>\n",
       "      <td>0</td>\n",
       "      <td>2</td>\n",
       "      <td>Berriman, Mr. William John</td>\n",
       "      <td>male</td>\n",
       "      <td>31.0</td>\n",
       "      <td>0</td>\n",
       "      <td>0</td>\n",
       "      <td>28425</td>\n",
       "      <td>13.0000</td>\n",
       "      <td>S</td>\n",
       "      <td>Mr.</td>\n",
       "      <td>Berriman</td>\n",
       "      <td>28425</td>\n",
       "      <td>20.575939</td>\n",
       "      <td>0.483444</td>\n",
       "      <td>4</td>\n",
       "      <td>4</td>\n",
       "      <td>3.0</td>\n",
       "      <td>S200</td>\n",
       "    </tr>\n",
       "    <tr>\n",
       "      <th>2</th>\n",
       "      <td>0</td>\n",
       "      <td>3</td>\n",
       "      <td>Tikkanen, Mr. Juho</td>\n",
       "      <td>male</td>\n",
       "      <td>20.0</td>\n",
       "      <td>0</td>\n",
       "      <td>0</td>\n",
       "      <td>STON/O 2. 3101293</td>\n",
       "      <td>7.9250</td>\n",
       "      <td>S</td>\n",
       "      <td>Mr.</td>\n",
       "      <td>Tikkanen</td>\n",
       "      <td>3101293</td>\n",
       "      <td>13.934861</td>\n",
       "      <td>0.241206</td>\n",
       "      <td>7</td>\n",
       "      <td>7</td>\n",
       "      <td>2.0</td>\n",
       "      <td>S300</td>\n",
       "    </tr>\n",
       "    <tr>\n",
       "      <th>3</th>\n",
       "      <td>0</td>\n",
       "      <td>3</td>\n",
       "      <td>Hansen, Mr. Henrik Juul</td>\n",
       "      <td>male</td>\n",
       "      <td>6.0</td>\n",
       "      <td>1</td>\n",
       "      <td>0</td>\n",
       "      <td>350025</td>\n",
       "      <td>7.8542</td>\n",
       "      <td>S</td>\n",
       "      <td>Mr.</td>\n",
       "      <td>Hansen</td>\n",
       "      <td>350025</td>\n",
       "      <td>13.934861</td>\n",
       "      <td>0.241206</td>\n",
       "      <td>7</td>\n",
       "      <td>7</td>\n",
       "      <td>0.0</td>\n",
       "      <td>S310</td>\n",
       "    </tr>\n",
       "    <tr>\n",
       "      <th>4</th>\n",
       "      <td>0</td>\n",
       "      <td>3</td>\n",
       "      <td>Andersson, Miss. Ebba Iris Alfrida</td>\n",
       "      <td>female</td>\n",
       "      <td>14.0</td>\n",
       "      <td>4</td>\n",
       "      <td>2</td>\n",
       "      <td>347082</td>\n",
       "      <td>31.2750</td>\n",
       "      <td>S</td>\n",
       "      <td>Miss.</td>\n",
       "      <td>Andersson</td>\n",
       "      <td>347082</td>\n",
       "      <td>13.934861</td>\n",
       "      <td>0.241206</td>\n",
       "      <td>7</td>\n",
       "      <td>7</td>\n",
       "      <td>1.0</td>\n",
       "      <td>S342</td>\n",
       "    </tr>\n",
       "  </tbody>\n",
       "</table>\n",
       "</div>"
      ],
      "text/plain": [
       "   survived pclass                                name     sex   age sibsp  \\\n",
       "0         0      1                 Partner, Mr. Austen    male  28.0     0   \n",
       "1         0      2          Berriman, Mr. William John    male  31.0     0   \n",
       "2         0      3                  Tikkanen, Mr. Juho    male  20.0     0   \n",
       "3         0      3             Hansen, Mr. Henrik Juul    male   6.0     1   \n",
       "4         0      3  Andersson, Miss. Ebba Iris Alfrida  female  14.0     4   \n",
       "\n",
       "  parch             ticket     fare embarked designation  last_name  \\\n",
       "0     0             113043  28.5000        S         Mr.    Partner   \n",
       "1     0              28425  13.0000        S         Mr.   Berriman   \n",
       "2     0  STON/O 2. 3101293   7.9250        S         Mr.   Tikkanen   \n",
       "3     0             350025   7.8542        S         Mr.     Hansen   \n",
       "4     2             347082  31.2750        S       Miss.  Andersson   \n",
       "\n",
       "   ticket_number  fare_mean_by_pclass  survived_by_pclass  \\\n",
       "0         113043            89.253914            0.607362   \n",
       "1          28425            20.575939            0.483444   \n",
       "2        3101293            13.934861            0.241206   \n",
       "3         350025            13.934861            0.241206   \n",
       "4         347082            13.934861            0.241206   \n",
       "\n",
       "   len_sibsp_by_pclass  len_parch_by_pclass  sub_age sub_embarked  \n",
       "0                    4                    4      2.0         S100  \n",
       "1                    4                    4      3.0         S200  \n",
       "2                    7                    7      2.0         S300  \n",
       "3                    7                    7      0.0         S310  \n",
       "4                    7                    7      1.0         S342  "
      ]
     },
     "execution_count": 243,
     "metadata": {},
     "output_type": "execute_result"
    }
   ],
   "source": [
    "def add_sub_embarked(row):\n",
    "    return str(row['embarked']) + str(row['pclass']) + str(row['sibsp']) + str(row['parch']) \n",
    "\n",
    "X_train['sub_embarked'] = X_train.apply(lambda row: add_sub_embarked(row), axis=1)\n",
    "X_test['sub_embarked'] = X_test.apply(lambda row: add_sub_embarked(row), axis=1)\n",
    "X_train.head()"
   ]
  },
  {
   "cell_type": "markdown",
   "id": "b51cada2",
   "metadata": {},
   "source": [
    "# 날짜"
   ]
  },
  {
   "cell_type": "code",
   "execution_count": 259,
   "id": "f9851138",
   "metadata": {},
   "outputs": [],
   "source": [
    "DATA_PATH = \"/Users/jaynam/workspace/playdata/\"\n",
    "\n",
    "df_ct = pd.read_csv(DATA_PATH+\"cinemaTicket_Ref.csv\")"
   ]
  },
  {
   "cell_type": "code",
   "execution_count": 261,
   "id": "dbbe7048",
   "metadata": {},
   "outputs": [
    {
     "name": "stdout",
     "output_type": "stream",
     "text": [
      "<class 'pandas.core.frame.DataFrame'>\n",
      "RangeIndex: 142524 entries, 0 to 142523\n",
      "Data columns (total 14 columns):\n",
      " #   Column        Non-Null Count   Dtype  \n",
      "---  ------        --------------   -----  \n",
      " 0   film_code     142524 non-null  int64  \n",
      " 1   cinema_code   142524 non-null  int64  \n",
      " 2   total_sales   142524 non-null  int64  \n",
      " 3   tickets_sold  142524 non-null  int64  \n",
      " 4   tickets_out   142524 non-null  int64  \n",
      " 5   show_time     142524 non-null  int64  \n",
      " 6   occu_perc     142399 non-null  float64\n",
      " 7   ticket_price  142524 non-null  float64\n",
      " 8   ticket_use    142524 non-null  int64  \n",
      " 9   capacity      142399 non-null  float64\n",
      " 10  date          142524 non-null  object \n",
      " 11  month         142524 non-null  int64  \n",
      " 12  quarter       142524 non-null  int64  \n",
      " 13  day           142524 non-null  int64  \n",
      "dtypes: float64(3), int64(10), object(1)\n",
      "memory usage: 15.2+ MB\n"
     ]
    }
   ],
   "source": [
    "df_ct.info()"
   ]
  },
  {
   "cell_type": "code",
   "execution_count": 263,
   "id": "3f1925e3",
   "metadata": {},
   "outputs": [],
   "source": [
    "df_ct['datetime'] = pd.to_datetime(df_ct['date'])"
   ]
  },
  {
   "cell_type": "code",
   "execution_count": 265,
   "id": "a5bbc91d",
   "metadata": {
    "scrolled": false
   },
   "outputs": [
    {
     "name": "stdout",
     "output_type": "stream",
     "text": [
      "<class 'pandas.core.frame.DataFrame'>\n",
      "RangeIndex: 142524 entries, 0 to 142523\n",
      "Data columns (total 15 columns):\n",
      " #   Column        Non-Null Count   Dtype         \n",
      "---  ------        --------------   -----         \n",
      " 0   film_code     142524 non-null  int64         \n",
      " 1   cinema_code   142524 non-null  int64         \n",
      " 2   total_sales   142524 non-null  int64         \n",
      " 3   tickets_sold  142524 non-null  int64         \n",
      " 4   tickets_out   142524 non-null  int64         \n",
      " 5   show_time     142524 non-null  int64         \n",
      " 6   occu_perc     142399 non-null  float64       \n",
      " 7   ticket_price  142524 non-null  float64       \n",
      " 8   ticket_use    142524 non-null  int64         \n",
      " 9   capacity      142399 non-null  float64       \n",
      " 10  date          142524 non-null  object        \n",
      " 11  month         142524 non-null  int64         \n",
      " 12  quarter       142524 non-null  int64         \n",
      " 13  day           142524 non-null  int64         \n",
      " 14  datetime      142524 non-null  datetime64[ns]\n",
      "dtypes: datetime64[ns](1), float64(3), int64(10), object(1)\n",
      "memory usage: 16.3+ MB\n"
     ]
    }
   ],
   "source": [
    "df_ct.info()"
   ]
  },
  {
   "cell_type": "code",
   "execution_count": 267,
   "id": "0a2f51c5",
   "metadata": {},
   "outputs": [
    {
     "data": {
      "text/plain": [
       "0    2018\n",
       "1    2018\n",
       "2    2018\n",
       "3    2018\n",
       "4    2018\n",
       "Name: datetime, dtype: int64"
      ]
     },
     "execution_count": 267,
     "metadata": {},
     "output_type": "execute_result"
    }
   ],
   "source": [
    "df_ct['datetime'].dt.year[:5]"
   ]
  },
  {
   "cell_type": "code",
   "execution_count": 268,
   "id": "4ab729aa",
   "metadata": {},
   "outputs": [
    {
     "data": {
      "text/plain": [
       "0    5\n",
       "1    5\n",
       "2    5\n",
       "3    5\n",
       "4    5\n",
       "Name: datetime, dtype: int64"
      ]
     },
     "execution_count": 268,
     "metadata": {},
     "output_type": "execute_result"
    }
   ],
   "source": [
    "df_ct['datetime'].dt.month[:5]"
   ]
  },
  {
   "cell_type": "code",
   "execution_count": 269,
   "id": "22e95d8a",
   "metadata": {},
   "outputs": [
    {
     "data": {
      "text/plain": [
       "0    5\n",
       "1    5\n",
       "2    5\n",
       "3    5\n",
       "4    5\n",
       "Name: datetime, dtype: int64"
      ]
     },
     "execution_count": 269,
     "metadata": {},
     "output_type": "execute_result"
    }
   ],
   "source": [
    "df_ct['datetime'].dt.day[:5]"
   ]
  },
  {
   "cell_type": "code",
   "execution_count": 271,
   "id": "1327778a",
   "metadata": {},
   "outputs": [
    {
     "data": {
      "text/plain": [
       "0    2\n",
       "1    2\n",
       "2    2\n",
       "3    2\n",
       "4    2\n",
       "Name: datetime, dtype: int64"
      ]
     },
     "execution_count": 271,
     "metadata": {},
     "output_type": "execute_result"
    }
   ],
   "source": [
    "df_ct['datetime'].dt.quarter[:5]"
   ]
  },
  {
   "cell_type": "code",
   "execution_count": 272,
   "id": "1c9b1ea0",
   "metadata": {},
   "outputs": [
    {
     "data": {
      "text/plain": [
       "0    5\n",
       "1    5\n",
       "2    5\n",
       "3    5\n",
       "4    5\n",
       "Name: datetime, dtype: int64"
      ]
     },
     "execution_count": 272,
     "metadata": {},
     "output_type": "execute_result"
    }
   ],
   "source": [
    "df_ct['datetime'].dt.weekday[:5]"
   ]
  },
  {
   "cell_type": "code",
   "execution_count": 273,
   "id": "b674267a",
   "metadata": {},
   "outputs": [
    {
     "data": {
      "text/plain": [
       "0    125\n",
       "1    125\n",
       "2    125\n",
       "3    125\n",
       "4    125\n",
       "Name: datetime, dtype: int64"
      ]
     },
     "execution_count": 273,
     "metadata": {},
     "output_type": "execute_result"
    }
   ],
   "source": [
    "df_ct['datetime'].dt.dayofyear[:5]"
   ]
  },
  {
   "cell_type": "code",
   "execution_count": 275,
   "id": "31edb52b",
   "metadata": {},
   "outputs": [
    {
     "data": {
      "text/html": [
       "<div>\n",
       "<style scoped>\n",
       "    .dataframe tbody tr th:only-of-type {\n",
       "        vertical-align: middle;\n",
       "    }\n",
       "\n",
       "    .dataframe tbody tr th {\n",
       "        vertical-align: top;\n",
       "    }\n",
       "\n",
       "    .dataframe thead th {\n",
       "        text-align: right;\n",
       "    }\n",
       "</style>\n",
       "<table border=\"1\" class=\"dataframe\">\n",
       "  <thead>\n",
       "    <tr style=\"text-align: right;\">\n",
       "      <th></th>\n",
       "      <th>film_code</th>\n",
       "      <th>cinema_code</th>\n",
       "      <th>total_sales</th>\n",
       "      <th>tickets_sold</th>\n",
       "      <th>tickets_out</th>\n",
       "      <th>show_time</th>\n",
       "      <th>occu_perc</th>\n",
       "      <th>ticket_price</th>\n",
       "      <th>ticket_use</th>\n",
       "      <th>capacity</th>\n",
       "      <th>date</th>\n",
       "      <th>month</th>\n",
       "      <th>quarter</th>\n",
       "      <th>day</th>\n",
       "      <th>datetime</th>\n",
       "    </tr>\n",
       "  </thead>\n",
       "  <tbody>\n",
       "    <tr>\n",
       "      <th>0</th>\n",
       "      <td>1492</td>\n",
       "      <td>304</td>\n",
       "      <td>3900000</td>\n",
       "      <td>26</td>\n",
       "      <td>0</td>\n",
       "      <td>4</td>\n",
       "      <td>4.26</td>\n",
       "      <td>150000.0</td>\n",
       "      <td>26</td>\n",
       "      <td>610.328638</td>\n",
       "      <td>2018-05-05</td>\n",
       "      <td>5</td>\n",
       "      <td>2</td>\n",
       "      <td>5</td>\n",
       "      <td>2018-05-05</td>\n",
       "    </tr>\n",
       "    <tr>\n",
       "      <th>1</th>\n",
       "      <td>1492</td>\n",
       "      <td>352</td>\n",
       "      <td>3360000</td>\n",
       "      <td>42</td>\n",
       "      <td>0</td>\n",
       "      <td>5</td>\n",
       "      <td>8.08</td>\n",
       "      <td>80000.0</td>\n",
       "      <td>42</td>\n",
       "      <td>519.801980</td>\n",
       "      <td>2018-05-05</td>\n",
       "      <td>5</td>\n",
       "      <td>2</td>\n",
       "      <td>5</td>\n",
       "      <td>2018-05-05</td>\n",
       "    </tr>\n",
       "    <tr>\n",
       "      <th>2</th>\n",
       "      <td>1492</td>\n",
       "      <td>489</td>\n",
       "      <td>2560000</td>\n",
       "      <td>32</td>\n",
       "      <td>0</td>\n",
       "      <td>4</td>\n",
       "      <td>20.00</td>\n",
       "      <td>80000.0</td>\n",
       "      <td>32</td>\n",
       "      <td>160.000000</td>\n",
       "      <td>2018-05-05</td>\n",
       "      <td>5</td>\n",
       "      <td>2</td>\n",
       "      <td>5</td>\n",
       "      <td>2018-05-05</td>\n",
       "    </tr>\n",
       "    <tr>\n",
       "      <th>3</th>\n",
       "      <td>1492</td>\n",
       "      <td>429</td>\n",
       "      <td>1200000</td>\n",
       "      <td>12</td>\n",
       "      <td>0</td>\n",
       "      <td>1</td>\n",
       "      <td>11.01</td>\n",
       "      <td>100000.0</td>\n",
       "      <td>12</td>\n",
       "      <td>108.991826</td>\n",
       "      <td>2018-05-05</td>\n",
       "      <td>5</td>\n",
       "      <td>2</td>\n",
       "      <td>5</td>\n",
       "      <td>2018-05-05</td>\n",
       "    </tr>\n",
       "    <tr>\n",
       "      <th>4</th>\n",
       "      <td>1492</td>\n",
       "      <td>524</td>\n",
       "      <td>1200000</td>\n",
       "      <td>15</td>\n",
       "      <td>0</td>\n",
       "      <td>3</td>\n",
       "      <td>16.67</td>\n",
       "      <td>80000.0</td>\n",
       "      <td>15</td>\n",
       "      <td>89.982004</td>\n",
       "      <td>2018-05-05</td>\n",
       "      <td>5</td>\n",
       "      <td>2</td>\n",
       "      <td>5</td>\n",
       "      <td>2018-05-05</td>\n",
       "    </tr>\n",
       "  </tbody>\n",
       "</table>\n",
       "</div>"
      ],
      "text/plain": [
       "   film_code  cinema_code  total_sales  tickets_sold  tickets_out  show_time  \\\n",
       "0       1492          304      3900000            26            0          4   \n",
       "1       1492          352      3360000            42            0          5   \n",
       "2       1492          489      2560000            32            0          4   \n",
       "3       1492          429      1200000            12            0          1   \n",
       "4       1492          524      1200000            15            0          3   \n",
       "\n",
       "   occu_perc  ticket_price  ticket_use    capacity        date  month  \\\n",
       "0       4.26      150000.0          26  610.328638  2018-05-05      5   \n",
       "1       8.08       80000.0          42  519.801980  2018-05-05      5   \n",
       "2      20.00       80000.0          32  160.000000  2018-05-05      5   \n",
       "3      11.01      100000.0          12  108.991826  2018-05-05      5   \n",
       "4      16.67       80000.0          15   89.982004  2018-05-05      5   \n",
       "\n",
       "   quarter  day   datetime  \n",
       "0        2    5 2018-05-05  \n",
       "1        2    5 2018-05-05  \n",
       "2        2    5 2018-05-05  \n",
       "3        2    5 2018-05-05  \n",
       "4        2    5 2018-05-05  "
      ]
     },
     "execution_count": 275,
     "metadata": {},
     "output_type": "execute_result"
    }
   ],
   "source": [
    "df_ct.head()"
   ]
  },
  {
   "cell_type": "code",
   "execution_count": 277,
   "id": "6ed6e06d",
   "metadata": {},
   "outputs": [
    {
     "data": {
      "text/plain": [
       "250"
      ]
     },
     "execution_count": 277,
     "metadata": {},
     "output_type": "execute_result"
    }
   ],
   "source": [
    "df_ct.isnull().sum().sum()"
   ]
  },
  {
   "cell_type": "code",
   "execution_count": 279,
   "id": "1ad0ced3",
   "metadata": {},
   "outputs": [
    {
     "data": {
      "text/plain": [
       "film_code       0.000000\n",
       "cinema_code     0.000000\n",
       "total_sales     0.000000\n",
       "tickets_sold    0.000000\n",
       "tickets_out     0.000000\n",
       "show_time       0.000000\n",
       "occu_perc       0.000877\n",
       "ticket_price    0.000000\n",
       "ticket_use      0.000000\n",
       "capacity        0.000877\n",
       "date            0.000000\n",
       "month           0.000000\n",
       "quarter         0.000000\n",
       "day             0.000000\n",
       "datetime        0.000000\n",
       "dtype: float64"
      ]
     },
     "execution_count": 279,
     "metadata": {},
     "output_type": "execute_result"
    }
   ],
   "source": [
    "df_ct.isnull().sum() / df_ct.shape[0]"
   ]
  },
  {
   "cell_type": "code",
   "execution_count": 280,
   "id": "f88cffd4",
   "metadata": {},
   "outputs": [
    {
     "data": {
      "text/html": [
       "<div>\n",
       "<style scoped>\n",
       "    .dataframe tbody tr th:only-of-type {\n",
       "        vertical-align: middle;\n",
       "    }\n",
       "\n",
       "    .dataframe tbody tr th {\n",
       "        vertical-align: top;\n",
       "    }\n",
       "\n",
       "    .dataframe thead th {\n",
       "        text-align: right;\n",
       "    }\n",
       "</style>\n",
       "<table border=\"1\" class=\"dataframe\">\n",
       "  <thead>\n",
       "    <tr style=\"text-align: right;\">\n",
       "      <th></th>\n",
       "      <th>film_code</th>\n",
       "      <th>cinema_code</th>\n",
       "      <th>total_sales</th>\n",
       "      <th>tickets_sold</th>\n",
       "      <th>tickets_out</th>\n",
       "      <th>show_time</th>\n",
       "      <th>occu_perc</th>\n",
       "      <th>ticket_price</th>\n",
       "      <th>ticket_use</th>\n",
       "      <th>capacity</th>\n",
       "      <th>month</th>\n",
       "      <th>quarter</th>\n",
       "      <th>day</th>\n",
       "    </tr>\n",
       "  </thead>\n",
       "  <tbody>\n",
       "    <tr>\n",
       "      <th>count</th>\n",
       "      <td>142524.000000</td>\n",
       "      <td>142524.000000</td>\n",
       "      <td>1.425240e+05</td>\n",
       "      <td>142524.000000</td>\n",
       "      <td>142524.000000</td>\n",
       "      <td>142524.000000</td>\n",
       "      <td>142399.000000</td>\n",
       "      <td>142524.000000</td>\n",
       "      <td>142524.000000</td>\n",
       "      <td>142399.000000</td>\n",
       "      <td>142524.000000</td>\n",
       "      <td>142524.000000</td>\n",
       "      <td>142524.000000</td>\n",
       "    </tr>\n",
       "    <tr>\n",
       "      <th>mean</th>\n",
       "      <td>1518.985111</td>\n",
       "      <td>320.378427</td>\n",
       "      <td>1.234728e+07</td>\n",
       "      <td>140.137570</td>\n",
       "      <td>0.237413</td>\n",
       "      <td>3.932103</td>\n",
       "      <td>19.965986</td>\n",
       "      <td>81234.599886</td>\n",
       "      <td>139.900157</td>\n",
       "      <td>854.723605</td>\n",
       "      <td>6.776852</td>\n",
       "      <td>2.634721</td>\n",
       "      <td>16.112585</td>\n",
       "    </tr>\n",
       "    <tr>\n",
       "      <th>std</th>\n",
       "      <td>36.184450</td>\n",
       "      <td>159.701229</td>\n",
       "      <td>3.065486e+07</td>\n",
       "      <td>279.758733</td>\n",
       "      <td>2.923206</td>\n",
       "      <td>3.056276</td>\n",
       "      <td>22.653445</td>\n",
       "      <td>33236.599278</td>\n",
       "      <td>279.564935</td>\n",
       "      <td>953.118103</td>\n",
       "      <td>2.195843</td>\n",
       "      <td>0.809692</td>\n",
       "      <td>8.949471</td>\n",
       "    </tr>\n",
       "    <tr>\n",
       "      <th>min</th>\n",
       "      <td>1471.000000</td>\n",
       "      <td>32.000000</td>\n",
       "      <td>2.000000e+04</td>\n",
       "      <td>1.000000</td>\n",
       "      <td>0.000000</td>\n",
       "      <td>1.000000</td>\n",
       "      <td>0.000000</td>\n",
       "      <td>483.870968</td>\n",
       "      <td>-219.000000</td>\n",
       "      <td>-2.000000</td>\n",
       "      <td>2.000000</td>\n",
       "      <td>1.000000</td>\n",
       "      <td>1.000000</td>\n",
       "    </tr>\n",
       "    <tr>\n",
       "      <th>25%</th>\n",
       "      <td>1485.000000</td>\n",
       "      <td>181.000000</td>\n",
       "      <td>1.260000e+06</td>\n",
       "      <td>18.000000</td>\n",
       "      <td>0.000000</td>\n",
       "      <td>2.000000</td>\n",
       "      <td>3.750000</td>\n",
       "      <td>60000.000000</td>\n",
       "      <td>18.000000</td>\n",
       "      <td>276.994486</td>\n",
       "      <td>5.000000</td>\n",
       "      <td>2.000000</td>\n",
       "      <td>8.000000</td>\n",
       "    </tr>\n",
       "    <tr>\n",
       "      <th>50%</th>\n",
       "      <td>1498.000000</td>\n",
       "      <td>324.000000</td>\n",
       "      <td>3.720000e+06</td>\n",
       "      <td>50.000000</td>\n",
       "      <td>0.000000</td>\n",
       "      <td>3.000000</td>\n",
       "      <td>10.350000</td>\n",
       "      <td>79454.235185</td>\n",
       "      <td>50.000000</td>\n",
       "      <td>525.714286</td>\n",
       "      <td>7.000000</td>\n",
       "      <td>3.000000</td>\n",
       "      <td>16.000000</td>\n",
       "    </tr>\n",
       "    <tr>\n",
       "      <th>75%</th>\n",
       "      <td>1556.000000</td>\n",
       "      <td>474.000000</td>\n",
       "      <td>1.110000e+07</td>\n",
       "      <td>143.000000</td>\n",
       "      <td>0.000000</td>\n",
       "      <td>5.000000</td>\n",
       "      <td>28.210000</td>\n",
       "      <td>100000.000000</td>\n",
       "      <td>143.000000</td>\n",
       "      <td>1038.961039</td>\n",
       "      <td>9.000000</td>\n",
       "      <td>3.000000</td>\n",
       "      <td>24.000000</td>\n",
       "    </tr>\n",
       "    <tr>\n",
       "      <th>max</th>\n",
       "      <td>1589.000000</td>\n",
       "      <td>637.000000</td>\n",
       "      <td>1.262820e+09</td>\n",
       "      <td>8499.000000</td>\n",
       "      <td>311.000000</td>\n",
       "      <td>60.000000</td>\n",
       "      <td>147.500000</td>\n",
       "      <td>700000.000000</td>\n",
       "      <td>8499.000000</td>\n",
       "      <td>9692.097160</td>\n",
       "      <td>11.000000</td>\n",
       "      <td>4.000000</td>\n",
       "      <td>31.000000</td>\n",
       "    </tr>\n",
       "  </tbody>\n",
       "</table>\n",
       "</div>"
      ],
      "text/plain": [
       "           film_code    cinema_code   total_sales   tickets_sold  \\\n",
       "count  142524.000000  142524.000000  1.425240e+05  142524.000000   \n",
       "mean     1518.985111     320.378427  1.234728e+07     140.137570   \n",
       "std        36.184450     159.701229  3.065486e+07     279.758733   \n",
       "min      1471.000000      32.000000  2.000000e+04       1.000000   \n",
       "25%      1485.000000     181.000000  1.260000e+06      18.000000   \n",
       "50%      1498.000000     324.000000  3.720000e+06      50.000000   \n",
       "75%      1556.000000     474.000000  1.110000e+07     143.000000   \n",
       "max      1589.000000     637.000000  1.262820e+09    8499.000000   \n",
       "\n",
       "         tickets_out      show_time      occu_perc   ticket_price  \\\n",
       "count  142524.000000  142524.000000  142399.000000  142524.000000   \n",
       "mean        0.237413       3.932103      19.965986   81234.599886   \n",
       "std         2.923206       3.056276      22.653445   33236.599278   \n",
       "min         0.000000       1.000000       0.000000     483.870968   \n",
       "25%         0.000000       2.000000       3.750000   60000.000000   \n",
       "50%         0.000000       3.000000      10.350000   79454.235185   \n",
       "75%         0.000000       5.000000      28.210000  100000.000000   \n",
       "max       311.000000      60.000000     147.500000  700000.000000   \n",
       "\n",
       "          ticket_use       capacity          month        quarter  \\\n",
       "count  142524.000000  142399.000000  142524.000000  142524.000000   \n",
       "mean      139.900157     854.723605       6.776852       2.634721   \n",
       "std       279.564935     953.118103       2.195843       0.809692   \n",
       "min      -219.000000      -2.000000       2.000000       1.000000   \n",
       "25%        18.000000     276.994486       5.000000       2.000000   \n",
       "50%        50.000000     525.714286       7.000000       3.000000   \n",
       "75%       143.000000    1038.961039       9.000000       3.000000   \n",
       "max      8499.000000    9692.097160      11.000000       4.000000   \n",
       "\n",
       "                 day  \n",
       "count  142524.000000  \n",
       "mean       16.112585  \n",
       "std         8.949471  \n",
       "min         1.000000  \n",
       "25%         8.000000  \n",
       "50%        16.000000  \n",
       "75%        24.000000  \n",
       "max        31.000000  "
      ]
     },
     "execution_count": 280,
     "metadata": {},
     "output_type": "execute_result"
    }
   ],
   "source": [
    "df_ct.describe()"
   ]
  },
  {
   "cell_type": "code",
   "execution_count": 287,
   "id": "15926179",
   "metadata": {},
   "outputs": [
    {
     "data": {
      "application/vnd.jupyter.widget-view+json": {
       "model_id": "f90dc64122a64b89a572f7ec841d635f",
       "version_major": 2,
       "version_minor": 0
      },
      "text/plain": [
       "  0%|          | 0/10000000 [00:00<?, ?it/s]"
      ]
     },
     "metadata": {},
     "output_type": "display_data"
    }
   ],
   "source": [
    "from tqdm.auto import tqdm\n",
    "import numpy as np\n",
    "\n",
    "i=0\n",
    "for i in tqdm(np.random.rand(10000000)):\n",
    "    i = i**2"
   ]
  },
  {
   "cell_type": "markdown",
   "id": "df3a9133",
   "metadata": {},
   "source": [
    "Feature 를 누가 많이 만드느냐의 싸움"
   ]
  },
  {
   "cell_type": "code",
   "execution_count": null,
   "id": "dc383f1c",
   "metadata": {},
   "outputs": [],
   "source": []
  }
 ],
 "metadata": {
  "kernelspec": {
   "display_name": "Python 3",
   "language": "python",
   "name": "python3"
  },
  "language_info": {
   "codemirror_mode": {
    "name": "ipython",
    "version": 3
   },
   "file_extension": ".py",
   "mimetype": "text/x-python",
   "name": "python",
   "nbconvert_exporter": "python",
   "pygments_lexer": "ipython3",
   "version": "3.8.13"
  }
 },
 "nbformat": 4,
 "nbformat_minor": 5
}
