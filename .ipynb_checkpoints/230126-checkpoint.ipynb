{
 "cells": [
  {
   "cell_type": "markdown",
   "id": "0304ee3c",
   "metadata": {},
   "source": [
    "# 2023-01-26\n",
    "\n",
    "### WEB\n",
    "* Method\n",
    "    * GET\n",
    "    * POST\n",
    "    * UPDATE\n",
    "    * DELETE\n",
    "    \n",
    "### 파이썬 복사\n",
    "* 얉은 복사\n",
    "* 깊은 복사\n"
   ]
  },
  {
   "cell_type": "code",
   "execution_count": 2,
   "id": "bfb7cc17",
   "metadata": {},
   "outputs": [],
   "source": [
    "# 펠린드롬이면 True 아니면 False\n",
    "def solution(text):\n",
    "    if text == text[::-1]:\n",
    "        return True\n",
    "    else:\n",
    "        return False"
   ]
  },
  {
   "cell_type": "code",
   "execution_count": 3,
   "id": "48ed964f",
   "metadata": {},
   "outputs": [
    {
     "data": {
      "text/plain": [
       "True"
      ]
     },
     "execution_count": 3,
     "metadata": {},
     "output_type": "execute_result"
    }
   ],
   "source": [
    "solution(\"우영우\")"
   ]
  },
  {
   "cell_type": "code",
   "execution_count": 5,
   "id": "425688a1",
   "metadata": {},
   "outputs": [],
   "source": [
    "a = [1, 3, 4]\n",
    "\n",
    "a *= 100"
   ]
  },
  {
   "cell_type": "code",
   "execution_count": 6,
   "id": "5420b692",
   "metadata": {
    "scrolled": true
   },
   "outputs": [
    {
     "data": {
      "text/plain": [
       "300"
      ]
     },
     "execution_count": 6,
     "metadata": {},
     "output_type": "execute_result"
    }
   ],
   "source": [
    "len(a)"
   ]
  },
  {
   "cell_type": "code",
   "execution_count": 16,
   "id": "e2b3712c",
   "metadata": {},
   "outputs": [
    {
     "name": "stdout",
     "output_type": "stream",
     "text": [
      "CPU times: user 27 µs, sys: 1e+03 ns, total: 28 µs\n",
      "Wall time: 31 µs\n"
     ]
    },
    {
     "data": {
      "text/plain": [
       "800"
      ]
     },
     "execution_count": 16,
     "metadata": {},
     "output_type": "execute_result"
    }
   ],
   "source": [
    "%%time\n",
    "\n",
    "sum(map(int, a))"
   ]
  },
  {
   "cell_type": "code",
   "execution_count": 17,
   "id": "9556971b",
   "metadata": {
    "scrolled": true
   },
   "outputs": [
    {
     "name": "stdout",
     "output_type": "stream",
     "text": [
      "CPU times: user 51 µs, sys: 0 ns, total: 51 µs\n",
      "Wall time: 55.1 µs\n"
     ]
    },
    {
     "data": {
      "text/plain": [
       "800"
      ]
     },
     "execution_count": 17,
     "metadata": {},
     "output_type": "execute_result"
    }
   ],
   "source": [
    "%%time\n",
    "\n",
    "sum([int(n) for n in a])"
   ]
  },
  {
   "cell_type": "code",
   "execution_count": 19,
   "id": "b48d15e8",
   "metadata": {},
   "outputs": [],
   "source": [
    "import requests\n",
    "from bs4 import BeautifulSoup\n",
    "import numpy as np\n",
    "import pandas as pd"
   ]
  },
  {
   "cell_type": "code",
   "execution_count": 20,
   "id": "2f8e8653",
   "metadata": {},
   "outputs": [
    {
     "data": {
      "text/plain": [
       "200"
      ]
     },
     "execution_count": 20,
     "metadata": {},
     "output_type": "execute_result"
    }
   ],
   "source": [
    "url = \"https://finance.naver.com/item/sise_day.naver?code=005930&page=1\"\n",
    "\n",
    "header = {\n",
    "    \"User-Agent\" : \"Mozilla/5.0 (Macintosh; Intel Mac OS X 10_15_7) AppleWebKit/537.36 (KHTML, like Gecko) Chrome/109.0.0.0 Safari/537.36\"\n",
    "}\n",
    "\n",
    "r = requests.get(url, headers=header)\n",
    "\n",
    "r.status_code"
   ]
  },
  {
   "cell_type": "code",
   "execution_count": 92,
   "id": "49783bbd",
   "metadata": {},
   "outputs": [
    {
     "name": "stdout",
     "output_type": "stream",
     "text": [
      "CPU times: user 16.3 ms, sys: 1.31 ms, total: 17.6 ms\n",
      "Wall time: 16.4 ms\n"
     ]
    },
    {
     "data": {
      "text/plain": [
       "[['2023.01.26', '63,800', '400', '63,800', '63,900', '63,300', '4,763,660'],\n",
       " ['2023.01.25', '63,400', '1,600', '63,500', '63,700', '63,000', '16,822,710'],\n",
       " ['2023.01.20', '61,800', '300', '62,100', '62,300', '61,100', '9,646,327'],\n",
       " ['2023.01.19', '61,500', '1,100', '60,500', '61,500', '60,400', '12,808,490'],\n",
       " ['2023.01.18', '60,400', '600', '60,700', '61,000', '59,900', '11,584,041'],\n",
       " ['2023.01.17', '61,000', '100', '61,200', '61,500', '60,600', '9,831,456'],\n",
       " ['2023.01.16', '61,100', '300', '61,300', '61,600', '60,800', '10,039,972'],\n",
       " ['2023.01.13', '60,800', '300', '60,500', '61,200', '60,400', '12,510,328'],\n",
       " ['2023.01.12', '60,500', '0', '61,100', '61,200', '59,900', '16,102,561'],\n",
       " ['2023.01.11', '60,500', '100', '61,000', '61,200', '60,300', '12,310,751']]"
      ]
     },
     "execution_count": 92,
     "metadata": {},
     "output_type": "execute_result"
    }
   ],
   "source": [
    "bs = BeautifulSoup(r.text).find(\"table\", {'class': 'type2'}).find_all(\"span\", \"tah\")\n",
    "\n",
    "result = []\n",
    "\n",
    "for i in range(0, 64, 7):\n",
    "    day = bs[i:i+7]\n",
    "    result.append([d.text.strip() for d in day])\n",
    "    \n",
    "result"
   ]
  },
  {
   "cell_type": "code",
   "execution_count": 87,
   "id": "35baf9c4",
   "metadata": {
    "scrolled": true
   },
   "outputs": [
    {
     "data": {
      "text/plain": [
       "[<span class=\"tah p10 gray03\">2023.01.26</span>,\n",
       " <span class=\"tah p11\">63,800</span>,\n",
       " <span class=\"tah p11 red02\">\n",
       " \t\t\t\t400\n",
       " \t\t\t\t</span>,\n",
       " <span class=\"tah p11\">63,800</span>,\n",
       " <span class=\"tah p11\">63,900</span>,\n",
       " <span class=\"tah p11\">63,300</span>,\n",
       " <span class=\"tah p11\">4,763,660</span>,\n",
       " <span class=\"tah p10 gray03\">2023.01.25</span>,\n",
       " <span class=\"tah p11\">63,400</span>,\n",
       " <span class=\"tah p11 red02\">\n",
       " \t\t\t\t1,600\n",
       " \t\t\t\t</span>,\n",
       " <span class=\"tah p11\">63,500</span>,\n",
       " <span class=\"tah p11\">63,700</span>,\n",
       " <span class=\"tah p11\">63,000</span>,\n",
       " <span class=\"tah p11\">16,822,710</span>,\n",
       " <span class=\"tah p10 gray03\">2023.01.20</span>,\n",
       " <span class=\"tah p11\">61,800</span>,\n",
       " <span class=\"tah p11 red02\">\n",
       " \t\t\t\t300\n",
       " \t\t\t\t</span>,\n",
       " <span class=\"tah p11\">62,100</span>,\n",
       " <span class=\"tah p11\">62,300</span>,\n",
       " <span class=\"tah p11\">61,100</span>,\n",
       " <span class=\"tah p11\">9,646,327</span>,\n",
       " <span class=\"tah p10 gray03\">2023.01.19</span>,\n",
       " <span class=\"tah p11\">61,500</span>,\n",
       " <span class=\"tah p11 red02\">\n",
       " \t\t\t\t1,100\n",
       " \t\t\t\t</span>,\n",
       " <span class=\"tah p11\">60,500</span>,\n",
       " <span class=\"tah p11\">61,500</span>,\n",
       " <span class=\"tah p11\">60,400</span>,\n",
       " <span class=\"tah p11\">12,808,490</span>,\n",
       " <span class=\"tah p10 gray03\">2023.01.18</span>,\n",
       " <span class=\"tah p11\">60,400</span>,\n",
       " <span class=\"tah p11 nv01\">\n",
       " \t\t\t\t600\n",
       " \t\t\t\t</span>,\n",
       " <span class=\"tah p11\">60,700</span>,\n",
       " <span class=\"tah p11\">61,000</span>,\n",
       " <span class=\"tah p11\">59,900</span>,\n",
       " <span class=\"tah p11\">11,584,041</span>,\n",
       " <span class=\"tah p10 gray03\">2023.01.17</span>,\n",
       " <span class=\"tah p11\">61,000</span>,\n",
       " <span class=\"tah p11 nv01\">\n",
       " \t\t\t\t100\n",
       " \t\t\t\t</span>,\n",
       " <span class=\"tah p11\">61,200</span>,\n",
       " <span class=\"tah p11\">61,500</span>,\n",
       " <span class=\"tah p11\">60,600</span>,\n",
       " <span class=\"tah p11\">9,831,456</span>,\n",
       " <span class=\"tah p10 gray03\">2023.01.16</span>,\n",
       " <span class=\"tah p11\">61,100</span>,\n",
       " <span class=\"tah p11 red02\">\n",
       " \t\t\t\t300\n",
       " \t\t\t\t</span>,\n",
       " <span class=\"tah p11\">61,300</span>,\n",
       " <span class=\"tah p11\">61,600</span>,\n",
       " <span class=\"tah p11\">60,800</span>,\n",
       " <span class=\"tah p11\">10,039,972</span>,\n",
       " <span class=\"tah p10 gray03\">2023.01.13</span>,\n",
       " <span class=\"tah p11\">60,800</span>,\n",
       " <span class=\"tah p11 red02\">\n",
       " \t\t\t\t300\n",
       " \t\t\t\t</span>,\n",
       " <span class=\"tah p11\">60,500</span>,\n",
       " <span class=\"tah p11\">61,200</span>,\n",
       " <span class=\"tah p11\">60,400</span>,\n",
       " <span class=\"tah p11\">12,510,328</span>,\n",
       " <span class=\"tah p10 gray03\">2023.01.12</span>,\n",
       " <span class=\"tah p11\">60,500</span>,\n",
       " <span class=\"tah p11\">0</span>,\n",
       " <span class=\"tah p11\">61,100</span>,\n",
       " <span class=\"tah p11\">61,200</span>,\n",
       " <span class=\"tah p11\">59,900</span>,\n",
       " <span class=\"tah p11\">16,102,561</span>,\n",
       " <span class=\"tah p10 gray03\">2023.01.11</span>,\n",
       " <span class=\"tah p11\">60,500</span>,\n",
       " <span class=\"tah p11 red02\">\n",
       " \t\t\t\t100\n",
       " \t\t\t\t</span>,\n",
       " <span class=\"tah p11\">61,000</span>,\n",
       " <span class=\"tah p11\">61,200</span>,\n",
       " <span class=\"tah p11\">60,300</span>,\n",
       " <span class=\"tah p11\">12,310,751</span>]"
      ]
     },
     "execution_count": 87,
     "metadata": {},
     "output_type": "execute_result"
    }
   ],
   "source": [
    "BeautifulSoup(r.text).find(\"table\", {'class': 'type2'}).find_all(\"span\", \"tah\")"
   ]
  }
 ],
 "metadata": {
  "kernelspec": {
   "display_name": "Python 3",
   "language": "python",
   "name": "python3"
  },
  "language_info": {
   "codemirror_mode": {
    "name": "ipython",
    "version": 3
   },
   "file_extension": ".py",
   "mimetype": "text/x-python",
   "name": "python",
   "nbconvert_exporter": "python",
   "pygments_lexer": "ipython3",
   "version": "3.8.13"
  }
 },
 "nbformat": 4,
 "nbformat_minor": 5
}
