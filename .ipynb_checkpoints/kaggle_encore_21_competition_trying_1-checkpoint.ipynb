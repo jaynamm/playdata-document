{
 "cells": [
  {
   "cell_type": "markdown",
   "id": "adba4cc0",
   "metadata": {},
   "source": [
    "# encore_21_titanic"
   ]
  },
  {
   "cell_type": "markdown",
   "id": "eca3aafa",
   "metadata": {},
   "source": [
    "### Dataset Description  \n",
    "passengerid: 탑승자 아이디  \n",
    "survived:0=사망, 1=생존  \n",
    "pclass: 1=1등석, 2=2등석, 3=3등석  \n",
    "name: 탑승자 이름  \n",
    "gender:male=남성, female=여성  \n",
    "age: 나이  \n",
    "sibsp: 타이타닉 호에 동승한 자매/배우자의 수  \n",
    "parch: 타이타닉 호에 동승한 부모/자식의 수  \n",
    "ticket: 티켓 번호  \n",
    "fare: 승객 요금  \n",
    "cabin: 방 호수  \n",
    "embarked: 탑승지; C=셰르부르, Q=퀴즈타운, S=사우샘프턴  "
   ]
  },
  {
   "cell_type": "markdown",
   "id": "6e6871ab",
   "metadata": {},
   "source": [
    "### Import Library"
   ]
  },
  {
   "cell_type": "code",
   "execution_count": 2,
   "id": "a82b7f08",
   "metadata": {},
   "outputs": [],
   "source": [
    "import pandas as pd\n",
    "import numpy as np\n",
    "\n",
    "import seaborn as sns\n",
    "import matplotlib.pyplot as plt"
   ]
  },
  {
   "cell_type": "markdown",
   "id": "cd3696c5",
   "metadata": {},
   "source": [
    "### Global Variables"
   ]
  },
  {
   "cell_type": "code",
   "execution_count": 10,
   "id": "9197e46d",
   "metadata": {},
   "outputs": [],
   "source": [
    "import easydict\n",
    "import json\n",
    "args = easydict.EasyDict()\n",
    "\n",
    "# path 정보\n",
    "args.default_path = '/Users/jaynam/workspace/playdata/encore21titanic/'\n",
    "args.train_csv = args.default_path+'train.csv'\n",
    "args.test_csv = args.default_path+'test.csv'\n",
    "args.submission_csv = args.default_path+\"submission.csv\"\n",
    "args.submission_csv_2023_t1 = args.default_path+\"submission_2023_t1.csv\"\n",
    "\n",
    "# 데이터 분석을 위한 변수들\n",
    "args.random_state = 21"
   ]
  },
  {
   "cell_type": "markdown",
   "id": "85f0344f",
   "metadata": {},
   "source": [
    "### Get Train and Test Dataset"
   ]
  },
  {
   "cell_type": "code",
   "execution_count": 11,
   "id": "01eeca26",
   "metadata": {},
   "outputs": [
    {
     "name": "stdout",
     "output_type": "stream",
     "text": [
      "org_train shape :  (916, 12)\n",
      "org_test  shape :  (393, 11)\n"
     ]
    }
   ],
   "source": [
    "org_train = pd.read_csv(args.train_csv)\n",
    "org_test = pd.read_csv(args.test_csv)\n",
    "\n",
    "print(\"org_train shape : \", org_train.shape)\n",
    "print(\"org_test  shape : \", org_test.shape)"
   ]
  },
  {
   "cell_type": "markdown",
   "id": "49c10eb9",
   "metadata": {},
   "source": [
    "##### 컬럼이 차이 나는 이유\n",
    "> train 과 test 의 컬럼수가 1개 차이남  \n",
    "> test 에는 survived 컬럼이 없는 것으로 보임"
   ]
  },
  {
   "cell_type": "markdown",
   "id": "99636b1a",
   "metadata": {},
   "source": [
    "### Check Dataset Info"
   ]
  },
  {
   "cell_type": "code",
   "execution_count": 8,
   "id": "a28c1394",
   "metadata": {},
   "outputs": [
    {
     "name": "stdout",
     "output_type": "stream",
     "text": [
      "<class 'pandas.core.frame.DataFrame'>\n",
      "RangeIndex: 916 entries, 0 to 915\n",
      "Data columns (total 12 columns):\n",
      " #   Column       Non-Null Count  Dtype  \n",
      "---  ------       --------------  -----  \n",
      " 0   passengerid  916 non-null    int64  \n",
      " 1   survived     916 non-null    int64  \n",
      " 2   pclass       916 non-null    int64  \n",
      " 3   name         916 non-null    object \n",
      " 4   gender       916 non-null    object \n",
      " 5   age          736 non-null    float64\n",
      " 6   sibsp        916 non-null    int64  \n",
      " 7   parch        916 non-null    int64  \n",
      " 8   ticket       916 non-null    object \n",
      " 9   fare         916 non-null    float64\n",
      " 10  cabin        198 non-null    object \n",
      " 11  embarked     915 non-null    object \n",
      "dtypes: float64(2), int64(5), object(5)\n",
      "memory usage: 86.0+ KB\n"
     ]
    }
   ],
   "source": [
    "org_train.info()"
   ]
  },
  {
   "cell_type": "code",
   "execution_count": 9,
   "id": "ff1aa84a",
   "metadata": {
    "scrolled": true
   },
   "outputs": [
    {
     "name": "stdout",
     "output_type": "stream",
     "text": [
      "<class 'pandas.core.frame.DataFrame'>\n",
      "RangeIndex: 393 entries, 0 to 392\n",
      "Data columns (total 11 columns):\n",
      " #   Column       Non-Null Count  Dtype  \n",
      "---  ------       --------------  -----  \n",
      " 0   passengerid  393 non-null    int64  \n",
      " 1   pclass       393 non-null    int64  \n",
      " 2   name         393 non-null    object \n",
      " 3   gender       393 non-null    object \n",
      " 4   age          310 non-null    float64\n",
      " 5   sibsp        393 non-null    int64  \n",
      " 6   parch        393 non-null    int64  \n",
      " 7   ticket       393 non-null    object \n",
      " 8   fare         392 non-null    float64\n",
      " 9   cabin        97 non-null     object \n",
      " 10  embarked     392 non-null    object \n",
      "dtypes: float64(2), int64(4), object(5)\n",
      "memory usage: 33.9+ KB\n"
     ]
    }
   ],
   "source": [
    "org_test.info()"
   ]
  },
  {
   "cell_type": "markdown",
   "id": "216b7330",
   "metadata": {},
   "source": [
    "### Missing Value Check"
   ]
  },
  {
   "cell_type": "markdown",
   "id": "9b21bb0e",
   "metadata": {},
   "source": [
    "##### org_train heatmap"
   ]
  },
  {
   "cell_type": "code",
   "execution_count": 14,
   "id": "8aeac4f8",
   "metadata": {},
   "outputs": [
    {
     "data": {
      "text/plain": [
       "<AxesSubplot:>"
      ]
     },
     "execution_count": 14,
     "metadata": {},
     "output_type": "execute_result"
    },
    {
     "data": {
      "image/png": "[encoded data removed]",
      "text/plain": [
       "<Figure size 432x288 with 2 Axes>"
      ]
     },
     "metadata": {
      "needs_background": "light"
     },
     "output_type": "display_data"
    }
   ],
   "source": [
    "sns.heatmap(org_train.isnull(), yticklabels=False, cbar=True, cmap=\"PuRd\")"
   ]
  },
  {
   "cell_type": "markdown",
   "id": "18e504af",
   "metadata": {},
   "source": [
    "##### org_test heatmap"
   ]
  },
  {
   "cell_type": "code",
   "execution_count": 15,
   "id": "cd83505c",
   "metadata": {
    "scrolled": true
   },
   "outputs": [
    {
     "data": {
      "text/plain": [
       "<AxesSubplot:>"
      ]
     },
     "execution_count": 15,
     "metadata": {},
     "output_type": "execute_result"
    },
    {
     "data": {
      "image/png": "[encoded data removed]",
      "text/plain": [
       "<Figure size 432x288 with 2 Axes>"
      ]
     },
     "metadata": {
      "needs_background": "light"
     },
     "output_type": "display_data"
    }
   ],
   "source": [
    "sns.heatmap(org_test.isnull(), yticklabels=False, cbar=True, cmap=\"PuRd\")"
   ]
  },
  {
   "cell_type": "markdown",
   "id": "3a05cff7",
   "metadata": {},
   "source": [
    "##### org_train null check"
   ]
  },
  {
   "cell_type": "code",
   "execution_count": 16,
   "id": "69faba71",
   "metadata": {},
   "outputs": [
    {
     "data": {
      "text/plain": [
       "passengerid      0\n",
       "survived         0\n",
       "pclass           0\n",
       "name             0\n",
       "gender           0\n",
       "age            180\n",
       "sibsp            0\n",
       "parch            0\n",
       "ticket           0\n",
       "fare             0\n",
       "cabin          718\n",
       "embarked         1\n",
       "dtype: int64"
      ]
     },
     "execution_count": 16,
     "metadata": {},
     "output_type": "execute_result"
    }
   ],
   "source": [
    "org_train.isnull().sum()"
   ]
  },
  {
   "cell_type": "markdown",
   "id": "6308c223",
   "metadata": {},
   "source": [
    "##### org_test null check"
   ]
  },
  {
   "cell_type": "code",
   "execution_count": 17,
   "id": "4094454a",
   "metadata": {},
   "outputs": [
    {
     "data": {
      "text/plain": [
       "passengerid      0\n",
       "pclass           0\n",
       "name             0\n",
       "gender           0\n",
       "age             83\n",
       "sibsp            0\n",
       "parch            0\n",
       "ticket           0\n",
       "fare             1\n",
       "cabin          296\n",
       "embarked         1\n",
       "dtype: int64"
      ]
     },
     "execution_count": 17,
     "metadata": {},
     "output_type": "execute_result"
    }
   ],
   "source": [
    "org_test.isnull().sum()"
   ]
  },
  {
   "cell_type": "markdown",
   "id": "771cf21a",
   "metadata": {},
   "source": [
    "### Filling Missing Value"
   ]
  },
  {
   "cell_type": "code",
   "execution_count": 87,
   "id": "eb372a66",
   "metadata": {},
   "outputs": [],
   "source": [
    "fill_train = org_train\n",
    "fill_test = org_test"
   ]
  },
  {
   "cell_type": "markdown",
   "id": "35b5e16e",
   "metadata": {},
   "source": [
    "##### drop 'cabin' column"
   ]
  },
  {
   "cell_type": "code",
   "execution_count": 108,
   "id": "eee8248d",
   "metadata": {},
   "outputs": [],
   "source": [
    "fill_train = fill_train.drop(['cabin'], axis =1)\n",
    "fill_test = fill_test.drop(['cabin'], axis =1)"
   ]
  },
  {
   "cell_type": "markdown",
   "id": "6a92f14d",
   "metadata": {},
   "source": [
    "##### Extract Data to fill"
   ]
  },
  {
   "cell_type": "code",
   "execution_count": 103,
   "id": "8fab3f79",
   "metadata": {
    "scrolled": true
   },
   "outputs": [
    {
     "data": {
      "text/plain": [
       "(29.698369565217387, 'S')"
      ]
     },
     "execution_count": 103,
     "metadata": {},
     "output_type": "execute_result"
    }
   ],
   "source": [
    "# age\n",
    "age_mean = fill_train['age'].mean()\n",
    "# embarked\n",
    "embarked_mode = fill_train['embarked'].mode().values[0]\n",
    "\n",
    "age_mean, embarked_mode"
   ]
  },
  {
   "cell_type": "code",
   "execution_count": 104,
   "id": "9c729e53",
   "metadata": {
    "scrolled": true
   },
   "outputs": [
    {
     "data": {
      "text/plain": [
       "(array([83.74561322]), array([20.38803608]), array([13.56636283]))"
      ]
     },
     "execution_count": 104,
     "metadata": {},
     "output_type": "execute_result"
    }
   ],
   "source": [
    "# fare\n",
    "def fare_mean_by_pclass(pclass):\n",
    "    return fill_train.groupby('pclass').agg({\"fare\":\"mean\"}).values[pclass-1]\n",
    "\n",
    "fare_mean_by_pclass(1), fare_mean_by_pclass(2), fare_mean_by_pclass(3)"
   ]
  },
  {
   "cell_type": "markdown",
   "id": "e039bae8",
   "metadata": {},
   "source": [
    "##### Fill with Extracted Data"
   ]
  },
  {
   "cell_type": "code",
   "execution_count": 110,
   "id": "908578e5",
   "metadata": {},
   "outputs": [],
   "source": [
    "# fill age\n",
    "fill_train['age'].fillna(age_mean, inplace=True)\n",
    "fill_test['age'].fillna(age_mean, inplace=True)\n",
    "\n",
    "# fill embarked\n",
    "fill_train['embarked'].fillna(embarked_mode, inplace=True)\n",
    "fill_test['embarked'].fillna(embarked_mode, inplace=True)\n",
    "\n",
    "# fill fare\n",
    "fill_train['fare'].fillna(lambda x:fare_mean_by_pclass(x['pclass']), inplace=True)\n",
    "fill_test['fare'].fillna(lambda x:fare_mean_by_pclass(x['pclass']), inplace=True)"
   ]
  },
  {
   "cell_type": "code",
   "execution_count": 112,
   "id": "90824613",
   "metadata": {
    "scrolled": false
   },
   "outputs": [
    {
     "data": {
      "text/plain": [
       "(0, 0)"
      ]
     },
     "execution_count": 112,
     "metadata": {},
     "output_type": "execute_result"
    }
   ],
   "source": [
    "fill_train.isnull().sum().sum(), fill_test.isnull().sum().sum()"
   ]
  },
  {
   "cell_type": "markdown",
   "id": "bc603e07",
   "metadata": {},
   "source": [
    "### Midterm check\n"
   ]
  },
  {
   "cell_type": "code",
   "execution_count": 114,
   "id": "db848666",
   "metadata": {},
   "outputs": [
    {
     "data": {
      "text/plain": [
       "((916, 11), (393, 10))"
      ]
     },
     "execution_count": 114,
     "metadata": {},
     "output_type": "execute_result"
    }
   ],
   "source": [
    "fill_train.shape, fill_test.shape"
   ]
  },
  {
   "cell_type": "code",
   "execution_count": 115,
   "id": "59e6918f",
   "metadata": {},
   "outputs": [
    {
     "name": "stdout",
     "output_type": "stream",
     "text": [
      "<class 'pandas.core.frame.DataFrame'>\n",
      "RangeIndex: 916 entries, 0 to 915\n",
      "Data columns (total 11 columns):\n",
      " #   Column       Non-Null Count  Dtype  \n",
      "---  ------       --------------  -----  \n",
      " 0   passengerid  916 non-null    int64  \n",
      " 1   survived     916 non-null    int64  \n",
      " 2   pclass       916 non-null    int64  \n",
      " 3   name         916 non-null    object \n",
      " 4   gender       916 non-null    object \n",
      " 5   age          916 non-null    float64\n",
      " 6   sibsp        916 non-null    int64  \n",
      " 7   parch        916 non-null    int64  \n",
      " 8   ticket       916 non-null    object \n",
      " 9   fare         916 non-null    float64\n",
      " 10  embarked     916 non-null    object \n",
      "dtypes: float64(2), int64(5), object(4)\n",
      "memory usage: 78.8+ KB\n",
      "<class 'pandas.core.frame.DataFrame'>\n",
      "RangeIndex: 393 entries, 0 to 392\n",
      "Data columns (total 10 columns):\n",
      " #   Column       Non-Null Count  Dtype  \n",
      "---  ------       --------------  -----  \n",
      " 0   passengerid  393 non-null    int64  \n",
      " 1   pclass       393 non-null    int64  \n",
      " 2   name         393 non-null    object \n",
      " 3   gender       393 non-null    object \n",
      " 4   age          393 non-null    float64\n",
      " 5   sibsp        393 non-null    int64  \n",
      " 6   parch        393 non-null    int64  \n",
      " 7   ticket       393 non-null    object \n",
      " 8   fare         393 non-null    object \n",
      " 9   embarked     393 non-null    object \n",
      "dtypes: float64(1), int64(4), object(5)\n",
      "memory usage: 30.8+ KB\n"
     ]
    },
    {
     "data": {
      "text/plain": [
       "(None, None)"
      ]
     },
     "execution_count": 115,
     "metadata": {},
     "output_type": "execute_result"
    }
   ],
   "source": [
    "fill_train.info(), fill_test.info()"
   ]
  },
  {
   "cell_type": "markdown",
   "id": "748c9688",
   "metadata": {},
   "source": [
    "### EDA - Preprocessing"
   ]
  },
  {
   "cell_type": "code",
   "execution_count": 119,
   "id": "89d7c427",
   "metadata": {},
   "outputs": [],
   "source": [
    "eda_train = fill_train\n",
    "eda_test = fill_test"
   ]
  },
  {
   "cell_type": "markdown",
   "id": "74fc2325",
   "metadata": {},
   "source": [
    "##### Reform 'gender' column"
   ]
  },
  {
   "cell_type": "code",
   "execution_count": 121,
   "id": "0b81c828",
   "metadata": {},
   "outputs": [],
   "source": [
    "gender_mapping = {\n",
    "    'male': 0, \n",
    "    \"female\": 1\n",
    "}\n",
    "\n",
    "eda_train[\"gender\"] = eda_train[\"gender\"].map(gender_mapping)\n",
    "eda_test[\"gender\"] = eda_test[\"gender\"].map(gender_mapping)"
   ]
  },
  {
   "cell_type": "markdown",
   "id": "4ada98c4",
   "metadata": {},
   "source": [
    "##### Add 'designation' column"
   ]
  },
  {
   "cell_type": "code",
   "execution_count": null,
   "id": "ddd93701",
   "metadata": {},
   "outputs": [],
   "source": []
  },
  {
   "cell_type": "code",
   "execution_count": null,
   "id": "e378b21c",
   "metadata": {},
   "outputs": [],
   "source": []
  },
  {
   "cell_type": "code",
   "execution_count": 122,
   "id": "735e9096",
   "metadata": {},
   "outputs": [],
   "source": [
    "dict_designation = {\n",
    "    'Mr.': 11, # '남성'\n",
    "    'Master.': 12, #'남성'\n",
    "    'Sir.': 13, #'남성'\n",
    "    'Miss.': 21, #'미혼 여성'\n",
    "    'Mrs.': 22, #'기혼 여성'\n",
    "    'Ms.': 23, #'미혼/기혼 여성'\n",
    "    'Lady.': 24, # '숙녀'\n",
    "    'Mlle.': 24, # '아가씨'\n",
    "    # 직업\n",
    "    'Dr.': 30, # '의사'\n",
    "    'Rev.': 31, # '목사'\n",
    "    'Major.': 32, # '계급'\n",
    "    'Don.': 33, # '교수'\n",
    "    'Col.': 34, # '군인'\n",
    "    'Capt.': 35, # '군인'\n",
    "    # 귀족\n",
    "    'Mme.': 40, # '영부인'\n",
    "    'Countess.': 41, # '백작부인'\n",
    "    'Jonkheer.': 42 # '귀족'\n",
    "}\n",
    "\n",
    "def add_designation(name): # 호칭 함수\n",
    "    designation = \"unknown\"\n",
    "    for key in dict_designation.keys():\n",
    "        if key in name:\n",
    "            designation = dict_designation[key]\n",
    "            break\n",
    "    return designation\n",
    "\n",
    "eda_train['designation'] = eda_train['name'].map(lambda x: add_designation(x))\n",
    "eda_test['designation'] = eda_test['name'].map(lambda x: add_designation(x))"
   ]
  },
  {
   "cell_type": "code",
   "execution_count": 123,
   "id": "9401332d",
   "metadata": {
    "scrolled": true
   },
   "outputs": [
    {
     "data": {
      "text/html": [
       "<div>\n",
       "<style scoped>\n",
       "    .dataframe tbody tr th:only-of-type {\n",
       "        vertical-align: middle;\n",
       "    }\n",
       "\n",
       "    .dataframe tbody tr th {\n",
       "        vertical-align: top;\n",
       "    }\n",
       "\n",
       "    .dataframe thead th {\n",
       "        text-align: right;\n",
       "    }\n",
       "</style>\n",
       "<table border=\"1\" class=\"dataframe\">\n",
       "  <thead>\n",
       "    <tr style=\"text-align: right;\">\n",
       "      <th></th>\n",
       "      <th>passengerid</th>\n",
       "      <th>survived</th>\n",
       "      <th>pclass</th>\n",
       "      <th>name</th>\n",
       "      <th>gender</th>\n",
       "      <th>age</th>\n",
       "      <th>sibsp</th>\n",
       "      <th>parch</th>\n",
       "      <th>ticket</th>\n",
       "      <th>fare</th>\n",
       "      <th>embarked</th>\n",
       "      <th>designation</th>\n",
       "    </tr>\n",
       "  </thead>\n",
       "  <tbody>\n",
       "    <tr>\n",
       "      <th>0</th>\n",
       "      <td>0</td>\n",
       "      <td>0</td>\n",
       "      <td>2</td>\n",
       "      <td>Wheeler, Mr. Edwin Frederick\"\"</td>\n",
       "      <td>0</td>\n",
       "      <td>29.69837</td>\n",
       "      <td>0</td>\n",
       "      <td>0</td>\n",
       "      <td>SC/PARIS 2159</td>\n",
       "      <td>12.8750</td>\n",
       "      <td>S</td>\n",
       "      <td>11</td>\n",
       "    </tr>\n",
       "    <tr>\n",
       "      <th>1</th>\n",
       "      <td>1</td>\n",
       "      <td>0</td>\n",
       "      <td>3</td>\n",
       "      <td>Henry, Miss. Delia</td>\n",
       "      <td>1</td>\n",
       "      <td>29.69837</td>\n",
       "      <td>0</td>\n",
       "      <td>0</td>\n",
       "      <td>382649</td>\n",
       "      <td>7.7500</td>\n",
       "      <td>Q</td>\n",
       "      <td>21</td>\n",
       "    </tr>\n",
       "    <tr>\n",
       "      <th>2</th>\n",
       "      <td>2</td>\n",
       "      <td>1</td>\n",
       "      <td>1</td>\n",
       "      <td>Hays, Mrs. Charles Melville (Clara Jennings Gr...</td>\n",
       "      <td>1</td>\n",
       "      <td>52.00000</td>\n",
       "      <td>1</td>\n",
       "      <td>1</td>\n",
       "      <td>12749</td>\n",
       "      <td>93.5000</td>\n",
       "      <td>S</td>\n",
       "      <td>22</td>\n",
       "    </tr>\n",
       "    <tr>\n",
       "      <th>3</th>\n",
       "      <td>3</td>\n",
       "      <td>1</td>\n",
       "      <td>3</td>\n",
       "      <td>Andersson, Mr. August Edvard (\"Wennerstrom\")</td>\n",
       "      <td>0</td>\n",
       "      <td>27.00000</td>\n",
       "      <td>0</td>\n",
       "      <td>0</td>\n",
       "      <td>350043</td>\n",
       "      <td>7.7958</td>\n",
       "      <td>S</td>\n",
       "      <td>11</td>\n",
       "    </tr>\n",
       "    <tr>\n",
       "      <th>4</th>\n",
       "      <td>4</td>\n",
       "      <td>0</td>\n",
       "      <td>2</td>\n",
       "      <td>Hold, Mr. Stephen</td>\n",
       "      <td>0</td>\n",
       "      <td>44.00000</td>\n",
       "      <td>1</td>\n",
       "      <td>0</td>\n",
       "      <td>26707</td>\n",
       "      <td>26.0000</td>\n",
       "      <td>S</td>\n",
       "      <td>11</td>\n",
       "    </tr>\n",
       "  </tbody>\n",
       "</table>\n",
       "</div>"
      ],
      "text/plain": [
       "   passengerid  survived  pclass  \\\n",
       "0            0         0       2   \n",
       "1            1         0       3   \n",
       "2            2         1       1   \n",
       "3            3         1       3   \n",
       "4            4         0       2   \n",
       "\n",
       "                                                name  gender       age  sibsp  \\\n",
       "0                     Wheeler, Mr. Edwin Frederick\"\"       0  29.69837      0   \n",
       "1                                 Henry, Miss. Delia       1  29.69837      0   \n",
       "2  Hays, Mrs. Charles Melville (Clara Jennings Gr...       1  52.00000      1   \n",
       "3       Andersson, Mr. August Edvard (\"Wennerstrom\")       0  27.00000      0   \n",
       "4                                  Hold, Mr. Stephen       0  44.00000      1   \n",
       "\n",
       "   parch         ticket     fare embarked  designation  \n",
       "0      0  SC/PARIS 2159  12.8750        S           11  \n",
       "1      0         382649   7.7500        Q           21  \n",
       "2      1          12749  93.5000        S           22  \n",
       "3      0         350043   7.7958        S           11  \n",
       "4      0          26707  26.0000        S           11  "
      ]
     },
     "execution_count": 123,
     "metadata": {},
     "output_type": "execute_result"
    }
   ],
   "source": [
    "eda_train.head()"
   ]
  },
  {
   "cell_type": "code",
   "execution_count": null,
   "id": "b57cc24a",
   "metadata": {},
   "outputs": [],
   "source": []
  }
 ],
 "metadata": {
  "kernelspec": {
   "display_name": "Python 3",
   "language": "python",
   "name": "python3"
  },
  "language_info": {
   "codemirror_mode": {
    "name": "ipython",
    "version": 3
   },
   "file_extension": ".py",
   "mimetype": "text/x-python",
   "name": "python",
   "nbconvert_exporter": "python",
   "pygments_lexer": "ipython3",
   "version": "3.8.13"
  }
 },
 "nbformat": 4,
 "nbformat_minor": 5
}
